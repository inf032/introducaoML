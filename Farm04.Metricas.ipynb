{
  "cells": [
    {
      "cell_type": "markdown",
      "metadata": {
        "id": "view-in-github",
        "colab_type": "text"
      },
      "source": [
        "<a href=\"https://colab.research.google.com/github/inf032/introducaoML/blob/master/Farm04.Metricas.ipynb\" target=\"_parent\"><img src=\"https://colab.research.google.com/assets/colab-badge.svg\" alt=\"Open In Colab\"/></a>"
      ]
    },
    {
      "cell_type": "code",
      "source": [
        "!pip install catboost\n",
        "!pip install xgboost"
      ],
      "metadata": {
        "colab": {
          "base_uri": "https://localhost:8080/"
        },
        "id": "ko_55G2DScyk",
        "outputId": "a66a886d-1de0-442e-90f4-4a15ef706b8a"
      },
      "id": "ko_55G2DScyk",
      "execution_count": 67,
      "outputs": [
        {
          "output_type": "stream",
          "name": "stdout",
          "text": [
            "Looking in indexes: https://pypi.org/simple, https://us-python.pkg.dev/colab-wheels/public/simple/\n",
            "Requirement already satisfied: catboost in /usr/local/lib/python3.8/dist-packages (1.1.1)\n",
            "Requirement already satisfied: numpy>=1.16.0 in /usr/local/lib/python3.8/dist-packages (from catboost) (1.21.6)\n",
            "Requirement already satisfied: pandas>=0.24.0 in /usr/local/lib/python3.8/dist-packages (from catboost) (1.3.5)\n",
            "Requirement already satisfied: six in /usr/local/lib/python3.8/dist-packages (from catboost) (1.15.0)\n",
            "Requirement already satisfied: graphviz in /usr/local/lib/python3.8/dist-packages (from catboost) (0.10.1)\n",
            "Requirement already satisfied: plotly in /usr/local/lib/python3.8/dist-packages (from catboost) (5.5.0)\n",
            "Requirement already satisfied: scipy in /usr/local/lib/python3.8/dist-packages (from catboost) (1.7.3)\n",
            "Requirement already satisfied: matplotlib in /usr/local/lib/python3.8/dist-packages (from catboost) (3.2.2)\n",
            "Requirement already satisfied: python-dateutil>=2.7.3 in /usr/local/lib/python3.8/dist-packages (from pandas>=0.24.0->catboost) (2.8.2)\n",
            "Requirement already satisfied: pytz>=2017.3 in /usr/local/lib/python3.8/dist-packages (from pandas>=0.24.0->catboost) (2022.6)\n",
            "Requirement already satisfied: pyparsing!=2.0.4,!=2.1.2,!=2.1.6,>=2.0.1 in /usr/local/lib/python3.8/dist-packages (from matplotlib->catboost) (3.0.9)\n",
            "Requirement already satisfied: kiwisolver>=1.0.1 in /usr/local/lib/python3.8/dist-packages (from matplotlib->catboost) (1.4.4)\n",
            "Requirement already satisfied: cycler>=0.10 in /usr/local/lib/python3.8/dist-packages (from matplotlib->catboost) (0.11.0)\n",
            "Requirement already satisfied: tenacity>=6.2.0 in /usr/local/lib/python3.8/dist-packages (from plotly->catboost) (8.1.0)\n",
            "Looking in indexes: https://pypi.org/simple, https://us-python.pkg.dev/colab-wheels/public/simple/\n",
            "Requirement already satisfied: xgboost in /usr/local/lib/python3.8/dist-packages (0.90)\n",
            "Requirement already satisfied: scipy in /usr/local/lib/python3.8/dist-packages (from xgboost) (1.7.3)\n",
            "Requirement already satisfied: numpy in /usr/local/lib/python3.8/dist-packages (from xgboost) (1.21.6)\n"
          ]
        }
      ]
    },
    {
      "cell_type": "markdown",
      "source": [
        "**Importação de Bibliotecas**\n"
      ],
      "metadata": {
        "id": "FhJUB6MoDJBa"
      },
      "id": "FhJUB6MoDJBa"
    },
    {
      "cell_type": "code",
      "execution_count": 68,
      "id": "ae43dca8",
      "metadata": {
        "id": "ae43dca8"
      },
      "outputs": [],
      "source": [
        "import numpy as np\n",
        "import pandas as pd\n",
        "import matplotlib.pyplot as plt\n",
        "import seaborn as sns\n",
        "import warnings\n",
        "import plotly.express as px\n",
        "\n",
        "from sklearn.preprocessing import LabelEncoder\n",
        "from sklearn.preprocessing import OrdinalEncoder\n",
        "from sklearn.preprocessing import OneHotEncoder\n",
        "from sklearn.preprocessing import StandardScaler\n",
        "\n",
        "from sklearn.model_selection import train_test_split \n",
        "from sklearn.ensemble import GradientBoostingRegressor\n",
        "from sklearn.metrics  import mean_squared_error\n",
        "from sklearn.dummy import DummyRegressor\n",
        "\n",
        "from sklearn.base import BaseEstimator, TransformerMixin\n",
        "from sklearn.impute import KNNImputer\n",
        "from sklearn.impute._base import _BaseImputer\n",
        "\n",
        "\n"
      ]
    },
    {
      "cell_type": "markdown",
      "source": [
        "**Classe para imputação e coluna de missing**"
      ],
      "metadata": {
        "id": "w4RR-Fw3DPOo"
      },
      "id": "w4RR-Fw3DPOo"
    },
    {
      "cell_type": "code",
      "source": [
        "class ImputerWithMissingMark (BaseEstimator, TransformerMixin):\n",
        "\n",
        "    def transformColunas_IMPUTED(self, X) -> pd.DataFrame :\n",
        "      copia = X.copy()\n",
        "      for col in self.col_name_with_nan :\n",
        "          copia[f'{col}{self.postfix}'] = copia[col].isna().astype(int)\n",
        "      return copia      \n",
        "\n",
        "    def col_with_nan(self, X) -> list:\n",
        "      list_col_with_nan = []\n",
        "      copia = X.copy()\n",
        "      for col in copia.columns :\n",
        "        if(copia[col].isna().sum() > 0) :\n",
        "          list_col_with_nan.append(col)\n",
        "      return list_col_with_nan\n",
        "\n",
        "    def col_num_with_nan(self, X) -> list:\n",
        "      cols = X.shape[1]\n",
        "      list_col_with_nan = []\n",
        "      for col in range(cols):    \n",
        "          if(np.count_nonzero(np.isnan(X[:,col])) > 0) :  \n",
        "              list_col_with_nan.append(col)\n",
        "      return list_col_with_nan        \n",
        "\n",
        "    def __init__(self, imputer=KNNImputer(), postfix = '_IMPUTED'):\n",
        "      self.imputer = imputer\n",
        "      self.col_name = None\n",
        "      self.fitted = False\n",
        "      self.col_name_with_nan = None\n",
        "      self.col_number_with_nan = None\n",
        "      self.postfix = postfix\n",
        "\n",
        "    def fit_DF(self, X):\n",
        "      self.col_name = X.columns.values\n",
        "      self.col_name_with_nan = self.col_with_nan(X)\n",
        "\n",
        "    def fit_NP(self, X):\n",
        "      self.col_number_with_nan = self.col_num_with_nan(X)\n",
        "\n",
        "    def transform_DF(self, X):\n",
        "      copia = self.transformColunas_IMPUTED(X)\n",
        "      transformed = pd.DataFrame(self.imputer.transform(copia[self.col_name]))\n",
        "      transformed.columns = X.columns\n",
        "      transformed.index = X.index\n",
        "      for col in self.col_name_with_nan :\n",
        "        transformed[f'{col}{self.postfix}'] = copia[f'{col}{self.postfix}']\n",
        "      return transformed\n",
        "\n",
        "    def transform_NP(self, X):\n",
        "      transformed = np.copy(X)\n",
        "      vazio = np.zeros(shape=(X.shape[0],0))\n",
        "      for col in self.col_number_with_nan:\n",
        "        a_nan = [1 if np.isnan(x) else 0 for x in transformed[:,col]]\n",
        "        vazio = np.append(vazio, np.c_[a_nan], axis = 1)\n",
        "      transformed = self.imputer.transform(transformed)  \n",
        "      for col in range(vazio.shape[1]) :\n",
        "        transformed = np.append(transformed, np.c_[vazio[:, col]], axis = 1)\n",
        "      return transformed      \n",
        "\n",
        "    def fit(self, X, y=None):\n",
        "      if(self.fitted == False) :\n",
        "        self.fitted = True\n",
        "        if(type(X) == pd.DataFrame) :\n",
        "          self.fit_DF(X)\n",
        "        else :\n",
        "          self.fit_NP(X)  \n",
        "        self.imputer.fit(X)\n",
        "      return self\n",
        "\n",
        "    def transform(self, X, y=None):\n",
        "      if(self.fitted == True) :\n",
        "        if(self.col_name is not None) :\n",
        "          transformed = self.transform_DF(X)    \n",
        "        else :\n",
        "          transformed = self.transform_NP(X)    \n",
        "        return transformed\n",
        "      else :\n",
        "        return X\n",
        "\n",
        "    def get_params(self, deep=True):\n",
        "      # retorna um dicionário com os atributos e seus respectivos valores\n",
        "      return {\"imputer\": self.imputer, \n",
        "              \"postfix\": self.postfix}\n",
        "      \n",
        "    def set_params(self, **parameters):\n",
        "      # iterando pelos elementos passados e definindo-os na classe\n",
        "      for parameter, value in parameters.items():\n",
        "        setattr(self, parameter, value)\n",
        "      return self "
      ],
      "metadata": {
        "id": "_50KC6LolTY_"
      },
      "id": "_50KC6LolTY_",
      "execution_count": 69,
      "outputs": []
    },
    {
      "cell_type": "markdown",
      "source": [
        "**Leitura dos Dados e Holdout**\n"
      ],
      "metadata": {
        "id": "WlFfqtdgtLdj"
      },
      "id": "WlFfqtdgtLdj"
    },
    {
      "cell_type": "code",
      "execution_count": 70,
      "id": "91409b52",
      "metadata": {
        "id": "91409b52"
      },
      "outputs": [],
      "source": [
        "SEED = 10\n",
        "\n",
        "\n",
        "np.random.seed(SEED)\n",
        "warnings.filterwarnings(action='once')\n",
        "\n",
        "df = pd.read_csv('https://raw.githubusercontent.com/inf032/introducaoML/master/data/farmaco.csv')\n",
        "df.columns = ['IDADE', 'SEXO', 'PA', 'COLESTEROL', 'NA_K', 'FARMACO']\n",
        "preditoras = ['IDADE', 'SEXO', 'PA', 'COLESTEROL', 'NA_K']\n",
        "alvo = 'FARMACO'\n",
        "\n",
        "#df.sort_values(by=[alvo], ascending=True, inplace=True)\n",
        "#df.index = range(df.shape[0])\n",
        "\n",
        "#df\n",
        "\n",
        "\n"
      ]
    },
    {
      "cell_type": "code",
      "source": [
        "X = df[preditoras]\n",
        "y = df[alvo]\n",
        "\n",
        "X_train, X_test, y_train, y_test = train_test_split(X, y, test_size=0.30, random_state=SEED)\n",
        "#X_train = df.loc[0:157,preditoras]\n",
        "#y_train = df.loc[0:157,alvo]\n",
        "#X_test = df.loc[158:,preditoras]\n",
        "#y_test = df.loc[158:,alvo]\n",
        "print(f'Holdout: {X_train.shape[0]} individuos em treino. {X_test.shape[0]} individuos em teste.')"
      ],
      "metadata": {
        "id": "NWA1CuaiLZ-u",
        "outputId": "31ae3783-c092-4e7a-eec0-5f119acc21a9",
        "colab": {
          "base_uri": "https://localhost:8080/"
        }
      },
      "id": "NWA1CuaiLZ-u",
      "execution_count": 71,
      "outputs": [
        {
          "output_type": "stream",
          "name": "stdout",
          "text": [
            "Holdout: 157 individuos em treino. 68 individuos em teste.\n"
          ]
        }
      ]
    },
    {
      "cell_type": "code",
      "source": [
        "y_test"
      ],
      "metadata": {
        "id": "-vkMnxzRMvC3",
        "outputId": "3490c77f-fe75-4f55-d2b7-886722a15549",
        "colab": {
          "base_uri": "https://localhost:8080/"
        }
      },
      "id": "-vkMnxzRMvC3",
      "execution_count": 72,
      "outputs": [
        {
          "output_type": "execute_result",
          "data": {
            "text/plain": [
              "87     MEDA\n",
              "26     MEDA\n",
              "76     MEDB\n",
              "68     MEDA\n",
              "78     MEDB\n",
              "       ... \n",
              "7      MEDB\n",
              "224    MEDA\n",
              "39     MEDB\n",
              "171    MEDB\n",
              "172    MEDA\n",
              "Name: FARMACO, Length: 68, dtype: object"
            ]
          },
          "metadata": {},
          "execution_count": 72
        }
      ]
    },
    {
      "cell_type": "markdown",
      "source": [
        "**Criação do Pipeline de Transformação dos Dados de Entrada**"
      ],
      "metadata": {
        "id": "qbCLmjA1MsHQ"
      },
      "id": "qbCLmjA1MsHQ"
    },
    {
      "cell_type": "code",
      "source": [
        "from sklearn.pipeline import Pipeline\n",
        "from sklearn.compose import ColumnTransformer\n",
        "\n",
        "ordinal_transformer = Pipeline(steps=[('ordinal_encoder', OrdinalEncoder(categories=[['LOW', 'NORMAL', 'HIGH'], \n",
        "                                                                                     ['LOW', 'NORMAL', 'HIGH']], \n",
        "                                                                          handle_unknown='use_encoded_value',\n",
        "                                                                          unknown_value=np.nan))\n",
        "                                     ])\n",
        "onehot_transformer = Pipeline(steps=[('one_hot_encoder',  OneHotEncoder(drop='if_binary', sparse=False))])\n",
        "\n",
        "\n",
        "col_transformer = ColumnTransformer(transformers=[('pa_colesterol', ordinal_transformer, ['PA', 'COLESTEROL']),\n",
        "                                                  ('sex', onehot_transformer, ['SEXO'])],\n",
        "                                    remainder='passthrough')\n",
        "\n",
        "transformer = Pipeline(steps=[('step_one', col_transformer), ('ss',  StandardScaler()), \n",
        "                              ('imputer', ImputerWithMissingMark())])"
      ],
      "metadata": {
        "id": "5waYSDlNMrfy"
      },
      "id": "5waYSDlNMrfy",
      "execution_count": 73,
      "outputs": []
    },
    {
      "cell_type": "markdown",
      "source": [
        "**Criação de Tipos diferentes de classificadores, que serão usados na comparação**"
      ],
      "metadata": {
        "id": "Zl_JqbngD2aB"
      },
      "id": "Zl_JqbngD2aB"
    },
    {
      "cell_type": "code",
      "source": [
        "from sklearn.dummy import DummyClassifier\n",
        "from catboost import CatBoostClassifier\n",
        "from xgboost import XGBClassifier\n",
        "from lightgbm import LGBMClassifier\n",
        "from sklearn.ensemble import RandomForestClassifier\n",
        "from sklearn.neural_network import MLPClassifier\n",
        "\n",
        "nomes = ['Dummy', 'CatBoost', 'XGB', 'LightGBM', 'Random Forest', 'Rede Neural', \n",
        "         'Neural Net']\n",
        "\n",
        "classificadores = [DummyClassifier(strategy='stratified'),\n",
        "                   CatBoostClassifier(verbose=0), XGBClassifier(verbosity=0),\n",
        "                   LGBMClassifier(),\n",
        "                   RandomForestClassifier(),\n",
        "                   MLPClassifier(max_iter=1000)]"
      ],
      "metadata": {
        "id": "BZhx89b4t3hb"
      },
      "id": "BZhx89b4t3hb",
      "execution_count": 74,
      "outputs": []
    },
    {
      "cell_type": "markdown",
      "source": [
        "**Função para Cálculo de Métricas**\n",
        "\n",
        "\n"
      ],
      "metadata": {
        "id": "qfR0bsOukB5-"
      },
      "id": "qfR0bsOukB5-"
    },
    {
      "cell_type": "code",
      "source": [
        "from sklearn.metrics import precision_score, accuracy_score, recall_score, f1_score, confusion_matrix\n",
        "\n",
        "def calcular_metricas(model, X_test, y_true) :\n",
        "  y_pred = model.predict(X_test)\n",
        "  acuracia = accuracy_score(y_true, y_pred)\n",
        "  precisao = precision_score(y_true, y_pred, average='micro')\n",
        "  sensibilidade = recall_score(y_true, y_pred, average='micro')\n",
        "  f1 = f1_score(y_true, y_pred, average='micro')\n",
        "  return acuracia, precisao, sensibilidade, f1\n",
        "\n",
        "def print_confusion_matrix(model, X_test, y_true) :\n",
        "  y_pred = model.predict(X_test)\n",
        "  cm = confusion_matrix(y_test, y_true)\n",
        "  print(cm)\n"
      ],
      "metadata": {
        "id": "VgFjZBRlbncX"
      },
      "id": "VgFjZBRlbncX",
      "execution_count": 75,
      "outputs": []
    },
    {
      "cell_type": "markdown",
      "source": [
        "**Avaliação do Desempenho dos Classificadores**\n"
      ],
      "metadata": {
        "id": "pUe0YaxaNCs0"
      },
      "id": "pUe0YaxaNCs0"
    },
    {
      "cell_type": "code",
      "source": [
        "resultados = []\n",
        "\n",
        "for nome, classificador in zip(nomes, classificadores) :\n",
        "    model = Pipeline(steps=[('transformer', transformer),\n",
        "                            ('classificador', classificador)]).fit(X_train, y_train)\n",
        "\n",
        "    acuracia, precisao, sensibilidade, f1 = calcular_metricas(model, X_test, y_test)                       \n",
        "    resultados.append([nome, acuracia, precisao, sensibilidade, f1])\n",
        "    \n",
        "dfResultados = pd.DataFrame(resultados, columns = ['CLASSIFICADOR', 'ACURACIA', 'PRECISAO', 'SENSIBILIDADE', 'F1'])\n",
        "\n",
        "dfResultados\n"
      ],
      "metadata": {
        "id": "-PPHanbrEfDs",
        "colab": {
          "base_uri": "https://localhost:8080/",
          "height": 237
        },
        "outputId": "41a47c70-3cae-4bb8-948c-da962933ad0e"
      },
      "id": "-PPHanbrEfDs",
      "execution_count": 76,
      "outputs": [
        {
          "output_type": "execute_result",
          "data": {
            "text/plain": [
              "   CLASSIFICADOR  ACURACIA  PRECISAO  SENSIBILIDADE        F1\n",
              "0          Dummy  0.441176  0.441176       0.441176  0.441176\n",
              "1       CatBoost  0.970588  0.970588       0.970588  0.970588\n",
              "2            XGB  0.941176  0.941176       0.941176  0.941176\n",
              "3       LightGBM  0.941176  0.941176       0.941176  0.941176\n",
              "4  Random Forest  0.970588  0.970588       0.970588  0.970588\n",
              "5    Rede Neural  0.897059  0.897059       0.897059  0.897059"
            ],
            "text/html": [
              "\n",
              "  <div id=\"df-91f8f1c8-df0d-4224-9ddd-41f37f6be5c8\">\n",
              "    <div class=\"colab-df-container\">\n",
              "      <div>\n",
              "<style scoped>\n",
              "    .dataframe tbody tr th:only-of-type {\n",
              "        vertical-align: middle;\n",
              "    }\n",
              "\n",
              "    .dataframe tbody tr th {\n",
              "        vertical-align: top;\n",
              "    }\n",
              "\n",
              "    .dataframe thead th {\n",
              "        text-align: right;\n",
              "    }\n",
              "</style>\n",
              "<table border=\"1\" class=\"dataframe\">\n",
              "  <thead>\n",
              "    <tr style=\"text-align: right;\">\n",
              "      <th></th>\n",
              "      <th>CLASSIFICADOR</th>\n",
              "      <th>ACURACIA</th>\n",
              "      <th>PRECISAO</th>\n",
              "      <th>SENSIBILIDADE</th>\n",
              "      <th>F1</th>\n",
              "    </tr>\n",
              "  </thead>\n",
              "  <tbody>\n",
              "    <tr>\n",
              "      <th>0</th>\n",
              "      <td>Dummy</td>\n",
              "      <td>0.441176</td>\n",
              "      <td>0.441176</td>\n",
              "      <td>0.441176</td>\n",
              "      <td>0.441176</td>\n",
              "    </tr>\n",
              "    <tr>\n",
              "      <th>1</th>\n",
              "      <td>CatBoost</td>\n",
              "      <td>0.970588</td>\n",
              "      <td>0.970588</td>\n",
              "      <td>0.970588</td>\n",
              "      <td>0.970588</td>\n",
              "    </tr>\n",
              "    <tr>\n",
              "      <th>2</th>\n",
              "      <td>XGB</td>\n",
              "      <td>0.941176</td>\n",
              "      <td>0.941176</td>\n",
              "      <td>0.941176</td>\n",
              "      <td>0.941176</td>\n",
              "    </tr>\n",
              "    <tr>\n",
              "      <th>3</th>\n",
              "      <td>LightGBM</td>\n",
              "      <td>0.941176</td>\n",
              "      <td>0.941176</td>\n",
              "      <td>0.941176</td>\n",
              "      <td>0.941176</td>\n",
              "    </tr>\n",
              "    <tr>\n",
              "      <th>4</th>\n",
              "      <td>Random Forest</td>\n",
              "      <td>0.970588</td>\n",
              "      <td>0.970588</td>\n",
              "      <td>0.970588</td>\n",
              "      <td>0.970588</td>\n",
              "    </tr>\n",
              "    <tr>\n",
              "      <th>5</th>\n",
              "      <td>Rede Neural</td>\n",
              "      <td>0.897059</td>\n",
              "      <td>0.897059</td>\n",
              "      <td>0.897059</td>\n",
              "      <td>0.897059</td>\n",
              "    </tr>\n",
              "  </tbody>\n",
              "</table>\n",
              "</div>\n",
              "      <button class=\"colab-df-convert\" onclick=\"convertToInteractive('df-91f8f1c8-df0d-4224-9ddd-41f37f6be5c8')\"\n",
              "              title=\"Convert this dataframe to an interactive table.\"\n",
              "              style=\"display:none;\">\n",
              "        \n",
              "  <svg xmlns=\"http://www.w3.org/2000/svg\" height=\"24px\"viewBox=\"0 0 24 24\"\n",
              "       width=\"24px\">\n",
              "    <path d=\"M0 0h24v24H0V0z\" fill=\"none\"/>\n",
              "    <path d=\"M18.56 5.44l.94 2.06.94-2.06 2.06-.94-2.06-.94-.94-2.06-.94 2.06-2.06.94zm-11 1L8.5 8.5l.94-2.06 2.06-.94-2.06-.94L8.5 2.5l-.94 2.06-2.06.94zm10 10l.94 2.06.94-2.06 2.06-.94-2.06-.94-.94-2.06-.94 2.06-2.06.94z\"/><path d=\"M17.41 7.96l-1.37-1.37c-.4-.4-.92-.59-1.43-.59-.52 0-1.04.2-1.43.59L10.3 9.45l-7.72 7.72c-.78.78-.78 2.05 0 2.83L4 21.41c.39.39.9.59 1.41.59.51 0 1.02-.2 1.41-.59l7.78-7.78 2.81-2.81c.8-.78.8-2.07 0-2.86zM5.41 20L4 18.59l7.72-7.72 1.47 1.35L5.41 20z\"/>\n",
              "  </svg>\n",
              "      </button>\n",
              "      \n",
              "  <style>\n",
              "    .colab-df-container {\n",
              "      display:flex;\n",
              "      flex-wrap:wrap;\n",
              "      gap: 12px;\n",
              "    }\n",
              "\n",
              "    .colab-df-convert {\n",
              "      background-color: #E8F0FE;\n",
              "      border: none;\n",
              "      border-radius: 50%;\n",
              "      cursor: pointer;\n",
              "      display: none;\n",
              "      fill: #1967D2;\n",
              "      height: 32px;\n",
              "      padding: 0 0 0 0;\n",
              "      width: 32px;\n",
              "    }\n",
              "\n",
              "    .colab-df-convert:hover {\n",
              "      background-color: #E2EBFA;\n",
              "      box-shadow: 0px 1px 2px rgba(60, 64, 67, 0.3), 0px 1px 3px 1px rgba(60, 64, 67, 0.15);\n",
              "      fill: #174EA6;\n",
              "    }\n",
              "\n",
              "    [theme=dark] .colab-df-convert {\n",
              "      background-color: #3B4455;\n",
              "      fill: #D2E3FC;\n",
              "    }\n",
              "\n",
              "    [theme=dark] .colab-df-convert:hover {\n",
              "      background-color: #434B5C;\n",
              "      box-shadow: 0px 1px 3px 1px rgba(0, 0, 0, 0.15);\n",
              "      filter: drop-shadow(0px 1px 2px rgba(0, 0, 0, 0.3));\n",
              "      fill: #FFFFFF;\n",
              "    }\n",
              "  </style>\n",
              "\n",
              "      <script>\n",
              "        const buttonEl =\n",
              "          document.querySelector('#df-91f8f1c8-df0d-4224-9ddd-41f37f6be5c8 button.colab-df-convert');\n",
              "        buttonEl.style.display =\n",
              "          google.colab.kernel.accessAllowed ? 'block' : 'none';\n",
              "\n",
              "        async function convertToInteractive(key) {\n",
              "          const element = document.querySelector('#df-91f8f1c8-df0d-4224-9ddd-41f37f6be5c8');\n",
              "          const dataTable =\n",
              "            await google.colab.kernel.invokeFunction('convertToInteractive',\n",
              "                                                     [key], {});\n",
              "          if (!dataTable) return;\n",
              "\n",
              "          const docLinkHtml = 'Like what you see? Visit the ' +\n",
              "            '<a target=\"_blank\" href=https://colab.research.google.com/notebooks/data_table.ipynb>data table notebook</a>'\n",
              "            + ' to learn more about interactive tables.';\n",
              "          element.innerHTML = '';\n",
              "          dataTable['output_type'] = 'display_data';\n",
              "          await google.colab.output.renderOutput(dataTable, element);\n",
              "          const docLink = document.createElement('div');\n",
              "          docLink.innerHTML = docLinkHtml;\n",
              "          element.appendChild(docLink);\n",
              "        }\n",
              "      </script>\n",
              "    </div>\n",
              "  </div>\n",
              "  "
            ]
          },
          "metadata": {},
          "execution_count": 76
        }
      ]
    },
    {
      "cell_type": "code",
      "source": [
        "lightgbm = Pipeline(steps=[('transformer', transformer),\n",
        "                         ('classificador', LGBMClassifier())]).fit(X_train, y_train)\n",
        "y_pred = lightgbm.predict(X_test)\n",
        "cm = confusion_matrix(y_test, y_pred)\n",
        "print(cm)"
      ],
      "metadata": {
        "id": "WJrZWyWCO9Kf",
        "outputId": "ea9d9de9-1754-420c-df6f-610e66ec5b96",
        "colab": {
          "base_uri": "https://localhost:8080/"
        }
      },
      "id": "WJrZWyWCO9Kf",
      "execution_count": 77,
      "outputs": [
        {
          "output_type": "stream",
          "name": "stdout",
          "text": [
            "[[29  1]\n",
            " [ 3 35]]\n"
          ]
        }
      ]
    },
    {
      "cell_type": "markdown",
      "source": [
        "**Função para Matriz de Confusão**"
      ],
      "metadata": {
        "id": "j7uq7aFxj5DV"
      },
      "id": "j7uq7aFxj5DV"
    },
    {
      "cell_type": "code",
      "source": [
        "def graph_confusion_matrix(model, X_test, y_true) :\n",
        "  y_pred = model.predict(X_test)\n",
        "  cm = confusion_matrix(y_true, y_pred)\n",
        "  sns.heatmap(cm, annot=True, xticklabels=['MEDA - Predição', 'MEDB - Predição'], \n",
        "              yticklabels=['MEDA - Real', 'MEDB - Real'])\n",
        "  \n",
        "\n",
        "def print_confusion_matrix(model, X_test, y_true) :\n",
        "  y_pred = model.predict(X_test)\n",
        "  cm = confusion_matrix(y_true, y_pred)\n",
        "  print(cm)\n"
      ],
      "metadata": {
        "id": "FUIAzpcNjpZM"
      },
      "id": "FUIAzpcNjpZM",
      "execution_count": 78,
      "outputs": []
    },
    {
      "cell_type": "code",
      "source": [
        "graph_confusion_matrix(lightgbm, X_test, y_test)"
      ],
      "metadata": {
        "id": "3Yfrq0FEQCX-",
        "outputId": "99b56da9-4145-45e4-b327-1fd9db59ae05",
        "colab": {
          "base_uri": "https://localhost:8080/",
          "height": 351
        }
      },
      "id": "3Yfrq0FEQCX-",
      "execution_count": 79,
      "outputs": [
        {
          "output_type": "display_data",
          "data": {
            "text/plain": [
              "<Figure size 576x396 with 2 Axes>"
            ],
            "image/png": "[encoded data removed]"
          },
          "metadata": {}
        }
      ]
    },
    {
      "cell_type": "markdown",
      "source": [
        "**Matriz de Confusão do Preditor**"
      ],
      "metadata": {
        "id": "8vU2dCxRwKyF"
      },
      "id": "8vU2dCxRwKyF"
    },
    {
      "cell_type": "code",
      "source": [
        "#classificador = MLPClassifier(max_iter=650)\n",
        "\n",
        "classificador = RandomForestClassifier(random_state=SEED)\n",
        "model = Pipeline(steps=[('transformer', transformer), \n",
        "                        ('classificador', classificador)]).fit(X_train, y_train)\n",
        "\n",
        "print_confusion_matrix(model, X_test, y_test)"
      ],
      "metadata": {
        "id": "E--6NX8_k9zS",
        "colab": {
          "base_uri": "https://localhost:8080/"
        },
        "outputId": "9e9a3342-fb76-4f80-961d-5ea68d21986a"
      },
      "id": "E--6NX8_k9zS",
      "execution_count": 80,
      "outputs": [
        {
          "output_type": "stream",
          "name": "stdout",
          "text": [
            "[[29  1]\n",
            " [ 1 37]]\n"
          ]
        }
      ]
    },
    {
      "cell_type": "code",
      "source": [
        "print_confusion_matrix(model, X_test, y_test)"
      ],
      "metadata": {
        "colab": {
          "base_uri": "https://localhost:8080/"
        },
        "id": "YEDbp-8Exoqp",
        "outputId": "2b86e99e-d3d1-485b-be04-3a603d652057"
      },
      "id": "YEDbp-8Exoqp",
      "execution_count": 81,
      "outputs": [
        {
          "output_type": "stream",
          "name": "stdout",
          "text": [
            "[[29  1]\n",
            " [ 1 37]]\n"
          ]
        }
      ]
    },
    {
      "cell_type": "code",
      "source": [
        "graph_confusion_matrix(model, X_test, y_test)"
      ],
      "metadata": {
        "colab": {
          "base_uri": "https://localhost:8080/",
          "height": 347
        },
        "id": "sj3ARkbxc2CZ",
        "outputId": "b8f20682-800c-454f-928f-2de89d94d56c"
      },
      "id": "sj3ARkbxc2CZ",
      "execution_count": 82,
      "outputs": [
        {
          "output_type": "display_data",
          "data": {
            "text/plain": [
              "<Figure size 576x396 with 2 Axes>"
            ],
            "image/png": "[encoded data removed]"
          },
          "metadata": {}
        }
      ]
    },
    {
      "cell_type": "code",
      "source": [
        "from yellowbrick.classifier import ConfusionMatrix\n",
        "\n",
        "cm = ConfusionMatrix(model, classes=['MEDA', 'MEDB'])\n",
        "cm.fit(X_train, y_train)\n",
        "cm.score(X_test, y_test)\n",
        "cm.show()"
      ],
      "metadata": {
        "colab": {
          "base_uri": "https://localhost:8080/",
          "height": 418
        },
        "id": "pghWZTCEwkEl",
        "outputId": "a5b95b8f-28b9-461b-8096-6857db118ace"
      },
      "id": "pghWZTCEwkEl",
      "execution_count": 83,
      "outputs": [
        {
          "output_type": "display_data",
          "data": {
            "text/plain": [
              "<Figure size 576x396 with 1 Axes>"
            ],
            "image/png": "[encoded data removed]"
          },
          "metadata": {}
        },
        {
          "output_type": "execute_result",
          "data": {
            "text/plain": [
              "<matplotlib.axes._subplots.AxesSubplot at 0x7f74ccfb9370>"
            ]
          },
          "metadata": {},
          "execution_count": 83
        }
      ]
    },
    {
      "cell_type": "markdown",
      "source": [
        "**Relatório de Classificação**"
      ],
      "metadata": {
        "id": "H0uLpM32o1Y9"
      },
      "id": "H0uLpM32o1Y9"
    },
    {
      "cell_type": "code",
      "source": [
        "from sklearn.metrics import classification_report\n",
        "\n",
        "classificador = RandomForestClassifier()\n",
        "transformer.fit(X_train, y_train)\n",
        "y_pred = model.predict(X_test)\n",
        "report = classification_report(y_test, y_pred)\n",
        "print(report)"
      ],
      "metadata": {
        "colab": {
          "base_uri": "https://localhost:8080/"
        },
        "id": "DAmxsSLb_xYw",
        "outputId": "a57efa40-8dcd-4d50-bb93-6947cdc423e1"
      },
      "id": "DAmxsSLb_xYw",
      "execution_count": 84,
      "outputs": [
        {
          "output_type": "stream",
          "name": "stdout",
          "text": [
            "              precision    recall  f1-score   support\n",
            "\n",
            "        MEDA       0.97      0.97      0.97        30\n",
            "        MEDB       0.97      0.97      0.97        38\n",
            "\n",
            "    accuracy                           0.97        68\n",
            "   macro avg       0.97      0.97      0.97        68\n",
            "weighted avg       0.97      0.97      0.97        68\n",
            "\n"
          ]
        }
      ]
    },
    {
      "cell_type": "code",
      "source": [
        "dfReport = pd.DataFrame(classification_report(y_test, y_pred, output_dict=True))\n",
        "dfReport"
      ],
      "metadata": {
        "colab": {
          "base_uri": "https://localhost:8080/",
          "height": 175
        },
        "id": "3wHMKSGNrZhs",
        "outputId": "7deea598-b9a3-49f1-ce49-231c4d08239b"
      },
      "id": "3wHMKSGNrZhs",
      "execution_count": 85,
      "outputs": [
        {
          "output_type": "execute_result",
          "data": {
            "text/plain": [
              "                MEDA       MEDB  accuracy  macro avg  weighted avg\n",
              "precision   0.966667   0.973684  0.970588   0.970175      0.970588\n",
              "recall      0.966667   0.973684  0.970588   0.970175      0.970588\n",
              "f1-score    0.966667   0.973684  0.970588   0.970175      0.970588\n",
              "support    30.000000  38.000000  0.970588  68.000000     68.000000"
            ],
            "text/html": [
              "\n",
              "  <div id=\"df-d6df00ba-a3ee-4a50-a0f2-c0ba216c866d\">\n",
              "    <div class=\"colab-df-container\">\n",
              "      <div>\n",
              "<style scoped>\n",
              "    .dataframe tbody tr th:only-of-type {\n",
              "        vertical-align: middle;\n",
              "    }\n",
              "\n",
              "    .dataframe tbody tr th {\n",
              "        vertical-align: top;\n",
              "    }\n",
              "\n",
              "    .dataframe thead th {\n",
              "        text-align: right;\n",
              "    }\n",
              "</style>\n",
              "<table border=\"1\" class=\"dataframe\">\n",
              "  <thead>\n",
              "    <tr style=\"text-align: right;\">\n",
              "      <th></th>\n",
              "      <th>MEDA</th>\n",
              "      <th>MEDB</th>\n",
              "      <th>accuracy</th>\n",
              "      <th>macro avg</th>\n",
              "      <th>weighted avg</th>\n",
              "    </tr>\n",
              "  </thead>\n",
              "  <tbody>\n",
              "    <tr>\n",
              "      <th>precision</th>\n",
              "      <td>0.966667</td>\n",
              "      <td>0.973684</td>\n",
              "      <td>0.970588</td>\n",
              "      <td>0.970175</td>\n",
              "      <td>0.970588</td>\n",
              "    </tr>\n",
              "    <tr>\n",
              "      <th>recall</th>\n",
              "      <td>0.966667</td>\n",
              "      <td>0.973684</td>\n",
              "      <td>0.970588</td>\n",
              "      <td>0.970175</td>\n",
              "      <td>0.970588</td>\n",
              "    </tr>\n",
              "    <tr>\n",
              "      <th>f1-score</th>\n",
              "      <td>0.966667</td>\n",
              "      <td>0.973684</td>\n",
              "      <td>0.970588</td>\n",
              "      <td>0.970175</td>\n",
              "      <td>0.970588</td>\n",
              "    </tr>\n",
              "    <tr>\n",
              "      <th>support</th>\n",
              "      <td>30.000000</td>\n",
              "      <td>38.000000</td>\n",
              "      <td>0.970588</td>\n",
              "      <td>68.000000</td>\n",
              "      <td>68.000000</td>\n",
              "    </tr>\n",
              "  </tbody>\n",
              "</table>\n",
              "</div>\n",
              "      <button class=\"colab-df-convert\" onclick=\"convertToInteractive('df-d6df00ba-a3ee-4a50-a0f2-c0ba216c866d')\"\n",
              "              title=\"Convert this dataframe to an interactive table.\"\n",
              "              style=\"display:none;\">\n",
              "        \n",
              "  <svg xmlns=\"http://www.w3.org/2000/svg\" height=\"24px\"viewBox=\"0 0 24 24\"\n",
              "       width=\"24px\">\n",
              "    <path d=\"M0 0h24v24H0V0z\" fill=\"none\"/>\n",
              "    <path d=\"M18.56 5.44l.94 2.06.94-2.06 2.06-.94-2.06-.94-.94-2.06-.94 2.06-2.06.94zm-11 1L8.5 8.5l.94-2.06 2.06-.94-2.06-.94L8.5 2.5l-.94 2.06-2.06.94zm10 10l.94 2.06.94-2.06 2.06-.94-2.06-.94-.94-2.06-.94 2.06-2.06.94z\"/><path d=\"M17.41 7.96l-1.37-1.37c-.4-.4-.92-.59-1.43-.59-.52 0-1.04.2-1.43.59L10.3 9.45l-7.72 7.72c-.78.78-.78 2.05 0 2.83L4 21.41c.39.39.9.59 1.41.59.51 0 1.02-.2 1.41-.59l7.78-7.78 2.81-2.81c.8-.78.8-2.07 0-2.86zM5.41 20L4 18.59l7.72-7.72 1.47 1.35L5.41 20z\"/>\n",
              "  </svg>\n",
              "      </button>\n",
              "      \n",
              "  <style>\n",
              "    .colab-df-container {\n",
              "      display:flex;\n",
              "      flex-wrap:wrap;\n",
              "      gap: 12px;\n",
              "    }\n",
              "\n",
              "    .colab-df-convert {\n",
              "      background-color: #E8F0FE;\n",
              "      border: none;\n",
              "      border-radius: 50%;\n",
              "      cursor: pointer;\n",
              "      display: none;\n",
              "      fill: #1967D2;\n",
              "      height: 32px;\n",
              "      padding: 0 0 0 0;\n",
              "      width: 32px;\n",
              "    }\n",
              "\n",
              "    .colab-df-convert:hover {\n",
              "      background-color: #E2EBFA;\n",
              "      box-shadow: 0px 1px 2px rgba(60, 64, 67, 0.3), 0px 1px 3px 1px rgba(60, 64, 67, 0.15);\n",
              "      fill: #174EA6;\n",
              "    }\n",
              "\n",
              "    [theme=dark] .colab-df-convert {\n",
              "      background-color: #3B4455;\n",
              "      fill: #D2E3FC;\n",
              "    }\n",
              "\n",
              "    [theme=dark] .colab-df-convert:hover {\n",
              "      background-color: #434B5C;\n",
              "      box-shadow: 0px 1px 3px 1px rgba(0, 0, 0, 0.15);\n",
              "      filter: drop-shadow(0px 1px 2px rgba(0, 0, 0, 0.3));\n",
              "      fill: #FFFFFF;\n",
              "    }\n",
              "  </style>\n",
              "\n",
              "      <script>\n",
              "        const buttonEl =\n",
              "          document.querySelector('#df-d6df00ba-a3ee-4a50-a0f2-c0ba216c866d button.colab-df-convert');\n",
              "        buttonEl.style.display =\n",
              "          google.colab.kernel.accessAllowed ? 'block' : 'none';\n",
              "\n",
              "        async function convertToInteractive(key) {\n",
              "          const element = document.querySelector('#df-d6df00ba-a3ee-4a50-a0f2-c0ba216c866d');\n",
              "          const dataTable =\n",
              "            await google.colab.kernel.invokeFunction('convertToInteractive',\n",
              "                                                     [key], {});\n",
              "          if (!dataTable) return;\n",
              "\n",
              "          const docLinkHtml = 'Like what you see? Visit the ' +\n",
              "            '<a target=\"_blank\" href=https://colab.research.google.com/notebooks/data_table.ipynb>data table notebook</a>'\n",
              "            + ' to learn more about interactive tables.';\n",
              "          element.innerHTML = '';\n",
              "          dataTable['output_type'] = 'display_data';\n",
              "          await google.colab.output.renderOutput(dataTable, element);\n",
              "          const docLink = document.createElement('div');\n",
              "          docLink.innerHTML = docLinkHtml;\n",
              "          element.appendChild(docLink);\n",
              "        }\n",
              "      </script>\n",
              "    </div>\n",
              "  </div>\n",
              "  "
            ]
          },
          "metadata": {},
          "execution_count": 85
        }
      ]
    },
    {
      "cell_type": "code",
      "source": [
        "from yellowbrick.utils import is_fitted\n",
        "from yellowbrick.classifier import ClassificationReport\n",
        "\n",
        "le = LabelEncoder()\n",
        "y_train_le = pd.Series(le.fit_transform(y_train))\n",
        "\n",
        "cr = ClassificationReport(classificador, \n",
        "                          classes=['MEDA', 'MEDB'], support=True)\n",
        "\n",
        "cr_model = Pipeline(steps=[('transformer', transformer), \n",
        "                           ('cr', cr)]).fit(X_train, y_train_le)\n",
        "\n",
        "cr_model.score(X_test, le.transform(y_test))\n",
        "cr_model['cr'].show()"
      ],
      "metadata": {
        "colab": {
          "base_uri": "https://localhost:8080/",
          "height": 418
        },
        "id": "1HpIrv0dozdt",
        "outputId": "06d87a6b-e2a1-4463-db49-a8338ae91b60"
      },
      "id": "1HpIrv0dozdt",
      "execution_count": 86,
      "outputs": [
        {
          "output_type": "display_data",
          "data": {
            "text/plain": [
              "<Figure size 576x396 with 2 Axes>"
            ],
            "image/png": "[encoded data removed]"
          },
          "metadata": {}
        },
        {
          "output_type": "execute_result",
          "data": {
            "text/plain": [
              "<matplotlib.axes._subplots.AxesSubplot at 0x7f74ccf2b670>"
            ]
          },
          "metadata": {},
          "execution_count": 86
        }
      ]
    },
    {
      "cell_type": "markdown",
      "source": [
        "**Cálculo de Valores da Curva ROC**"
      ],
      "metadata": {
        "id": "Ic6ULIRP7F71"
      },
      "id": "Ic6ULIRP7F71"
    },
    {
      "cell_type": "code",
      "source": [
        "from sklearn.metrics import roc_curve\n",
        "\n",
        "le = LabelEncoder()\n",
        "le.fit(y_train)\n",
        "y_pred = model.predict(X_test)\n",
        "roc_curve(le.transform(y_test), le.transform(y_pred))\n",
        "\n"
      ],
      "metadata": {
        "colab": {
          "base_uri": "https://localhost:8080/"
        },
        "id": "ETC5-uYO2h1Q",
        "outputId": "f1f59cfb-4dde-41a9-f46f-3e4c64dab6a5"
      },
      "id": "ETC5-uYO2h1Q",
      "execution_count": 87,
      "outputs": [
        {
          "output_type": "execute_result",
          "data": {
            "text/plain": [
              "(array([0.        , 0.03333333, 1.        ]),\n",
              " array([0.        , 0.97368421, 1.        ]),\n",
              " array([2, 1, 0]))"
            ]
          },
          "metadata": {},
          "execution_count": 87
        }
      ]
    },
    {
      "cell_type": "code",
      "source": [
        "from sklearn.neighbors import KNeighborsClassifier\n",
        "from yellowbrick.classifier import ROCAUC\n",
        "\n",
        "le = LabelEncoder()\n",
        "le.fit(y_train)\n",
        "\n",
        "classificador = KNeighborsClassifier()\n",
        "new_model = Pipeline(steps=[('transformer', transformer), \n",
        "                            ('classificador', classificador)]).fit(X_train,  le.transform(y_train))\n",
        "                        \n",
        "rocauc = ROCAUC(new_model, pos_label=0, classes=[\"MEDA\", \"MEDB\"])\n",
        "\n",
        "rocauc.fit(X_train, le.transform(y_train))\n",
        "rocauc.score(X_test, le.transform(y_test))\n",
        "rocauc.show()            "
      ],
      "metadata": {
        "colab": {
          "base_uri": "https://localhost:8080/",
          "height": 393
        },
        "id": "qE2vXLqI0te6",
        "outputId": "fd0447f8-1b9c-4b24-a774-bc3eb33c3d0b"
      },
      "id": "qE2vXLqI0te6",
      "execution_count": 88,
      "outputs": [
        {
          "output_type": "display_data",
          "data": {
            "text/plain": [
              "<Figure size 576x396 with 1 Axes>"
            ],
            "image/png": "[encoded data removed]"
          },
          "metadata": {}
        },
        {
          "output_type": "execute_result",
          "data": {
            "text/plain": [
              "<matplotlib.axes._subplots.AxesSubplot at 0x7f74cdc893a0>"
            ]
          },
          "metadata": {},
          "execution_count": 88
        }
      ]
    },
    {
      "cell_type": "markdown",
      "source": [
        "**Gráfico com a comparação dos Valores de Desempenho (Sensibilidade)**\n",
        "\n",
        "\n"
      ],
      "metadata": {
        "id": "AYnXvuxFNRJ-"
      },
      "id": "AYnXvuxFNRJ-"
    },
    {
      "cell_type": "code",
      "source": [
        "import matplotlib.pyplot as plt\n",
        "import plotly.graph_objects as go\n",
        "\n",
        "METRICA = 'precision'\n",
        "DESC_METRICA = 'PRECISAO'\n",
        "\n",
        "def print_metrica(dfResultados, metrica) :\n",
        "  fig = go.Figure()\n",
        "  fig = px.scatter(dfResultados, x='CLASSIFICADOR', y=metrica)\n",
        "  fig.update_layout(\n",
        "      title=f\"{metrica} por Modelo\",\n",
        "      xaxis_title=\"Classificador\",\n",
        "      yaxis_title= metrica,\n",
        "      font=dict(\n",
        "          family=\"Verdana\",\n",
        "          size=16,\n",
        "          color=\"RebeccaPurple\"\n",
        "      )\n",
        "  )\n",
        "  fig.show()\n",
        "\n",
        "print_metrica(dfResultados, DESC_METRICA)  "
      ],
      "metadata": {
        "id": "dsx-aG4CdUvi",
        "colab": {
          "base_uri": "https://localhost:8080/",
          "height": 542
        },
        "outputId": "6ccdf0c7-429b-4e8e-e282-a9bd67129aae"
      },
      "id": "dsx-aG4CdUvi",
      "execution_count": 90,
      "outputs": [
        {
          "output_type": "display_data",
          "data": {
            "text/html": [
              "<html>\n",
              "<head><meta charset=\"utf-8\" /></head>\n",
              "<body>\n",
              "    <div>            <script src=\"https://cdnjs.cloudflare.com/ajax/libs/mathjax/2.7.5/MathJax.js?config=TeX-AMS-MML_SVG\"></script><script type=\"text/javascript\">if (window.MathJax) {MathJax.Hub.Config({SVG: {font: \"STIX-Web\"}});}</script>                <script type=\"text/javascript\">window.PlotlyConfig = {MathJaxConfig: 'local'};</script>\n",
              "        <script src=\"https://cdn.plot.ly/plotly-2.8.3.min.js\"></script>                <div id=\"b0b74f37-4bb4-4d6e-89e1-6e83e9712544\" class=\"plotly-graph-div\" style=\"height:525px; width:100%;\"></div>            <script type=\"text/javascript\">                                    window.PLOTLYENV=window.PLOTLYENV || {};                                    if (document.getElementById(\"b0b74f37-4bb4-4d6e-89e1-6e83e9712544\")) {                    Plotly.newPlot(                        \"b0b74f37-4bb4-4d6e-89e1-6e83e9712544\",                        [{\"hovertemplate\":\"CLASSIFICADOR=%{x}<br>PRECISAO=%{y}<extra></extra>\",\"legendgroup\":\"\",\"marker\":{\"color\":\"#636efa\",\"symbol\":\"circle\"},\"mode\":\"markers\",\"name\":\"\",\"orientation\":\"v\",\"showlegend\":false,\"x\":[\"Dummy\",\"CatBoost\",\"XGB\",\"LightGBM\",\"Random Forest\",\"Rede Neural\"],\"xaxis\":\"x\",\"y\":[0.4411764705882353,0.9705882352941176,0.9411764705882353,0.9411764705882353,0.9705882352941176,0.8970588235294118],\"yaxis\":\"y\",\"type\":\"scatter\"}],                        {\"template\":{\"data\":{\"bar\":[{\"error_x\":{\"color\":\"#2a3f5f\"},\"error_y\":{\"color\":\"#2a3f5f\"},\"marker\":{\"line\":{\"color\":\"#E5ECF6\",\"width\":0.5},\"pattern\":{\"fillmode\":\"overlay\",\"size\":10,\"solidity\":0.2}},\"type\":\"bar\"}],\"barpolar\":[{\"marker\":{\"line\":{\"color\":\"#E5ECF6\",\"width\":0.5},\"pattern\":{\"fillmode\":\"overlay\",\"size\":10,\"solidity\":0.2}},\"type\":\"barpolar\"}],\"carpet\":[{\"aaxis\":{\"endlinecolor\":\"#2a3f5f\",\"gridcolor\":\"white\",\"linecolor\":\"white\",\"minorgridcolor\":\"white\",\"startlinecolor\":\"#2a3f5f\"},\"baxis\":{\"endlinecolor\":\"#2a3f5f\",\"gridcolor\":\"white\",\"linecolor\":\"white\",\"minorgridcolor\":\"white\",\"startlinecolor\":\"#2a3f5f\"},\"type\":\"carpet\"}],\"choropleth\":[{\"colorbar\":{\"outlinewidth\":0,\"ticks\":\"\"},\"type\":\"choropleth\"}],\"contour\":[{\"colorbar\":{\"outlinewidth\":0,\"ticks\":\"\"},\"colorscale\":[[0.0,\"#0d0887\"],[0.1111111111111111,\"#46039f\"],[0.2222222222222222,\"#7201a8\"],[0.3333333333333333,\"#9c179e\"],[0.4444444444444444,\"#bd3786\"],[0.5555555555555556,\"#d8576b\"],[0.6666666666666666,\"#ed7953\"],[0.7777777777777778,\"#fb9f3a\"],[0.8888888888888888,\"#fdca26\"],[1.0,\"#f0f921\"]],\"type\":\"contour\"}],\"contourcarpet\":[{\"colorbar\":{\"outlinewidth\":0,\"ticks\":\"\"},\"type\":\"contourcarpet\"}],\"heatmap\":[{\"colorbar\":{\"outlinewidth\":0,\"ticks\":\"\"},\"colorscale\":[[0.0,\"#0d0887\"],[0.1111111111111111,\"#46039f\"],[0.2222222222222222,\"#7201a8\"],[0.3333333333333333,\"#9c179e\"],[0.4444444444444444,\"#bd3786\"],[0.5555555555555556,\"#d8576b\"],[0.6666666666666666,\"#ed7953\"],[0.7777777777777778,\"#fb9f3a\"],[0.8888888888888888,\"#fdca26\"],[1.0,\"#f0f921\"]],\"type\":\"heatmap\"}],\"heatmapgl\":[{\"colorbar\":{\"outlinewidth\":0,\"ticks\":\"\"},\"colorscale\":[[0.0,\"#0d0887\"],[0.1111111111111111,\"#46039f\"],[0.2222222222222222,\"#7201a8\"],[0.3333333333333333,\"#9c179e\"],[0.4444444444444444,\"#bd3786\"],[0.5555555555555556,\"#d8576b\"],[0.6666666666666666,\"#ed7953\"],[0.7777777777777778,\"#fb9f3a\"],[0.8888888888888888,\"#fdca26\"],[1.0,\"#f0f921\"]],\"type\":\"heatmapgl\"}],\"histogram\":[{\"marker\":{\"pattern\":{\"fillmode\":\"overlay\",\"size\":10,\"solidity\":0.2}},\"type\":\"histogram\"}],\"histogram2d\":[{\"colorbar\":{\"outlinewidth\":0,\"ticks\":\"\"},\"colorscale\":[[0.0,\"#0d0887\"],[0.1111111111111111,\"#46039f\"],[0.2222222222222222,\"#7201a8\"],[0.3333333333333333,\"#9c179e\"],[0.4444444444444444,\"#bd3786\"],[0.5555555555555556,\"#d8576b\"],[0.6666666666666666,\"#ed7953\"],[0.7777777777777778,\"#fb9f3a\"],[0.8888888888888888,\"#fdca26\"],[1.0,\"#f0f921\"]],\"type\":\"histogram2d\"}],\"histogram2dcontour\":[{\"colorbar\":{\"outlinewidth\":0,\"ticks\":\"\"},\"colorscale\":[[0.0,\"#0d0887\"],[0.1111111111111111,\"#46039f\"],[0.2222222222222222,\"#7201a8\"],[0.3333333333333333,\"#9c179e\"],[0.4444444444444444,\"#bd3786\"],[0.5555555555555556,\"#d8576b\"],[0.6666666666666666,\"#ed7953\"],[0.7777777777777778,\"#fb9f3a\"],[0.8888888888888888,\"#fdca26\"],[1.0,\"#f0f921\"]],\"type\":\"histogram2dcontour\"}],\"mesh3d\":[{\"colorbar\":{\"outlinewidth\":0,\"ticks\":\"\"},\"type\":\"mesh3d\"}],\"parcoords\":[{\"line\":{\"colorbar\":{\"outlinewidth\":0,\"ticks\":\"\"}},\"type\":\"parcoords\"}],\"pie\":[{\"automargin\":true,\"type\":\"pie\"}],\"scatter\":[{\"marker\":{\"colorbar\":{\"outlinewidth\":0,\"ticks\":\"\"}},\"type\":\"scatter\"}],\"scatter3d\":[{\"line\":{\"colorbar\":{\"outlinewidth\":0,\"ticks\":\"\"}},\"marker\":{\"colorbar\":{\"outlinewidth\":0,\"ticks\":\"\"}},\"type\":\"scatter3d\"}],\"scattercarpet\":[{\"marker\":{\"colorbar\":{\"outlinewidth\":0,\"ticks\":\"\"}},\"type\":\"scattercarpet\"}],\"scattergeo\":[{\"marker\":{\"colorbar\":{\"outlinewidth\":0,\"ticks\":\"\"}},\"type\":\"scattergeo\"}],\"scattergl\":[{\"marker\":{\"colorbar\":{\"outlinewidth\":0,\"ticks\":\"\"}},\"type\":\"scattergl\"}],\"scattermapbox\":[{\"marker\":{\"colorbar\":{\"outlinewidth\":0,\"ticks\":\"\"}},\"type\":\"scattermapbox\"}],\"scatterpolar\":[{\"marker\":{\"colorbar\":{\"outlinewidth\":0,\"ticks\":\"\"}},\"type\":\"scatterpolar\"}],\"scatterpolargl\":[{\"marker\":{\"colorbar\":{\"outlinewidth\":0,\"ticks\":\"\"}},\"type\":\"scatterpolargl\"}],\"scatterternary\":[{\"marker\":{\"colorbar\":{\"outlinewidth\":0,\"ticks\":\"\"}},\"type\":\"scatterternary\"}],\"surface\":[{\"colorbar\":{\"outlinewidth\":0,\"ticks\":\"\"},\"colorscale\":[[0.0,\"#0d0887\"],[0.1111111111111111,\"#46039f\"],[0.2222222222222222,\"#7201a8\"],[0.3333333333333333,\"#9c179e\"],[0.4444444444444444,\"#bd3786\"],[0.5555555555555556,\"#d8576b\"],[0.6666666666666666,\"#ed7953\"],[0.7777777777777778,\"#fb9f3a\"],[0.8888888888888888,\"#fdca26\"],[1.0,\"#f0f921\"]],\"type\":\"surface\"}],\"table\":[{\"cells\":{\"fill\":{\"color\":\"#EBF0F8\"},\"line\":{\"color\":\"white\"}},\"header\":{\"fill\":{\"color\":\"#C8D4E3\"},\"line\":{\"color\":\"white\"}},\"type\":\"table\"}]},\"layout\":{\"annotationdefaults\":{\"arrowcolor\":\"#2a3f5f\",\"arrowhead\":0,\"arrowwidth\":1},\"autotypenumbers\":\"strict\",\"coloraxis\":{\"colorbar\":{\"outlinewidth\":0,\"ticks\":\"\"}},\"colorscale\":{\"diverging\":[[0,\"#8e0152\"],[0.1,\"#c51b7d\"],[0.2,\"#de77ae\"],[0.3,\"#f1b6da\"],[0.4,\"#fde0ef\"],[0.5,\"#f7f7f7\"],[0.6,\"#e6f5d0\"],[0.7,\"#b8e186\"],[0.8,\"#7fbc41\"],[0.9,\"#4d9221\"],[1,\"#276419\"]],\"sequential\":[[0.0,\"#0d0887\"],[0.1111111111111111,\"#46039f\"],[0.2222222222222222,\"#7201a8\"],[0.3333333333333333,\"#9c179e\"],[0.4444444444444444,\"#bd3786\"],[0.5555555555555556,\"#d8576b\"],[0.6666666666666666,\"#ed7953\"],[0.7777777777777778,\"#fb9f3a\"],[0.8888888888888888,\"#fdca26\"],[1.0,\"#f0f921\"]],\"sequentialminus\":[[0.0,\"#0d0887\"],[0.1111111111111111,\"#46039f\"],[0.2222222222222222,\"#7201a8\"],[0.3333333333333333,\"#9c179e\"],[0.4444444444444444,\"#bd3786\"],[0.5555555555555556,\"#d8576b\"],[0.6666666666666666,\"#ed7953\"],[0.7777777777777778,\"#fb9f3a\"],[0.8888888888888888,\"#fdca26\"],[1.0,\"#f0f921\"]]},\"colorway\":[\"#636efa\",\"#EF553B\",\"#00cc96\",\"#ab63fa\",\"#FFA15A\",\"#19d3f3\",\"#FF6692\",\"#B6E880\",\"#FF97FF\",\"#FECB52\"],\"font\":{\"color\":\"#2a3f5f\"},\"geo\":{\"bgcolor\":\"white\",\"lakecolor\":\"white\",\"landcolor\":\"#E5ECF6\",\"showlakes\":true,\"showland\":true,\"subunitcolor\":\"white\"},\"hoverlabel\":{\"align\":\"left\"},\"hovermode\":\"closest\",\"mapbox\":{\"style\":\"light\"},\"paper_bgcolor\":\"white\",\"plot_bgcolor\":\"#E5ECF6\",\"polar\":{\"angularaxis\":{\"gridcolor\":\"white\",\"linecolor\":\"white\",\"ticks\":\"\"},\"bgcolor\":\"#E5ECF6\",\"radialaxis\":{\"gridcolor\":\"white\",\"linecolor\":\"white\",\"ticks\":\"\"}},\"scene\":{\"xaxis\":{\"backgroundcolor\":\"#E5ECF6\",\"gridcolor\":\"white\",\"gridwidth\":2,\"linecolor\":\"white\",\"showbackground\":true,\"ticks\":\"\",\"zerolinecolor\":\"white\"},\"yaxis\":{\"backgroundcolor\":\"#E5ECF6\",\"gridcolor\":\"white\",\"gridwidth\":2,\"linecolor\":\"white\",\"showbackground\":true,\"ticks\":\"\",\"zerolinecolor\":\"white\"},\"zaxis\":{\"backgroundcolor\":\"#E5ECF6\",\"gridcolor\":\"white\",\"gridwidth\":2,\"linecolor\":\"white\",\"showbackground\":true,\"ticks\":\"\",\"zerolinecolor\":\"white\"}},\"shapedefaults\":{\"line\":{\"color\":\"#2a3f5f\"}},\"ternary\":{\"aaxis\":{\"gridcolor\":\"white\",\"linecolor\":\"white\",\"ticks\":\"\"},\"baxis\":{\"gridcolor\":\"white\",\"linecolor\":\"white\",\"ticks\":\"\"},\"bgcolor\":\"#E5ECF6\",\"caxis\":{\"gridcolor\":\"white\",\"linecolor\":\"white\",\"ticks\":\"\"}},\"title\":{\"x\":0.05},\"xaxis\":{\"automargin\":true,\"gridcolor\":\"white\",\"linecolor\":\"white\",\"ticks\":\"\",\"title\":{\"standoff\":15},\"zerolinecolor\":\"white\",\"zerolinewidth\":2},\"yaxis\":{\"automargin\":true,\"gridcolor\":\"white\",\"linecolor\":\"white\",\"ticks\":\"\",\"title\":{\"standoff\":15},\"zerolinecolor\":\"white\",\"zerolinewidth\":2}}},\"xaxis\":{\"anchor\":\"y\",\"domain\":[0.0,1.0],\"title\":{\"text\":\"Classificador\"}},\"yaxis\":{\"anchor\":\"x\",\"domain\":[0.0,1.0],\"title\":{\"text\":\"PRECISAO\"}},\"legend\":{\"tracegroupgap\":0},\"margin\":{\"t\":60},\"font\":{\"family\":\"Verdana\",\"size\":16,\"color\":\"RebeccaPurple\"},\"title\":{\"text\":\"PRECISAO por Modelo\"}},                        {\"responsive\": true}                    ).then(function(){\n",
              "                            \n",
              "var gd = document.getElementById('b0b74f37-4bb4-4d6e-89e1-6e83e9712544');\n",
              "var x = new MutationObserver(function (mutations, observer) {{\n",
              "        var display = window.getComputedStyle(gd).display;\n",
              "        if (!display || display === 'none') {{\n",
              "            console.log([gd, 'removed!']);\n",
              "            Plotly.purge(gd);\n",
              "            observer.disconnect();\n",
              "        }}\n",
              "}});\n",
              "\n",
              "// Listen for the removal of the full notebook cells\n",
              "var notebookContainer = gd.closest('#notebook-container');\n",
              "if (notebookContainer) {{\n",
              "    x.observe(notebookContainer, {childList: true});\n",
              "}}\n",
              "\n",
              "// Listen for the clearing of the current output cell\n",
              "var outputEl = gd.closest('.output');\n",
              "if (outputEl) {{\n",
              "    x.observe(outputEl, {childList: true});\n",
              "}}\n",
              "\n",
              "                        })                };                            </script>        </div>\n",
              "</body>\n",
              "</html>"
            ]
          },
          "metadata": {}
        }
      ]
    },
    {
      "cell_type": "markdown",
      "source": [
        "**Avaliação do Score dos Classificadores com Validação Cruzada (IC: 95%)**"
      ],
      "metadata": {
        "id": "XjCaEw35Nxup"
      },
      "id": "XjCaEw35Nxup"
    },
    {
      "cell_type": "code",
      "source": [
        "from sklearn.model_selection import cross_validate\n",
        "\n",
        "\n",
        "resultados_cv = []\n",
        "\n",
        "for nome, model in zip(nomes, classificadores) :\n",
        "    modelo = Pipeline(steps=[('transformer', transformer), ('classificador', model)])\n",
        "    resultado_cv = cross_validate(modelo, X_train, le.transform(y_train), cv=5,scoring=METRICA)\n",
        "    resultados_cv.append([nome, np.round(resultado_cv['test_score'].mean()*100,2), np.round(resultado_cv['test_score'].std()*100,2)])\n",
        "    \n",
        "dfResultados_cv = pd.DataFrame(resultados_cv, columns = ['CLASSIFICADOR', f'{DESC_METRICA}_MEDIO', f'{DESC_METRICA}_STD'])\n",
        "\n",
        "dfResultados_cv.sort_values(by=[f'{DESC_METRICA}_MEDIO', f'{DESC_METRICA}_STD'], ascending=[False, False])"
      ],
      "metadata": {
        "id": "JGHrGRENNZ41",
        "colab": {
          "base_uri": "https://localhost:8080/",
          "height": 237
        },
        "outputId": "91ed14a9-2cd1-4627-855b-c749331d70aa"
      },
      "id": "JGHrGRENNZ41",
      "execution_count": 91,
      "outputs": [
        {
          "output_type": "execute_result",
          "data": {
            "text/plain": [
              "   CLASSIFICADOR  PRECISAO_MEDIO  PRECISAO_STD\n",
              "5    Rede Neural           97.03          3.64\n",
              "1       CatBoost           94.48          6.77\n",
              "4  Random Forest           94.48          6.77\n",
              "2            XGB           94.29          7.00\n",
              "3       LightGBM           94.29          7.00\n",
              "0          Dummy           42.34          6.59"
            ],
            "text/html": [
              "\n",
              "  <div id=\"df-3687cf9f-a1e9-47f6-807d-eff0a50d9fd3\">\n",
              "    <div class=\"colab-df-container\">\n",
              "      <div>\n",
              "<style scoped>\n",
              "    .dataframe tbody tr th:only-of-type {\n",
              "        vertical-align: middle;\n",
              "    }\n",
              "\n",
              "    .dataframe tbody tr th {\n",
              "        vertical-align: top;\n",
              "    }\n",
              "\n",
              "    .dataframe thead th {\n",
              "        text-align: right;\n",
              "    }\n",
              "</style>\n",
              "<table border=\"1\" class=\"dataframe\">\n",
              "  <thead>\n",
              "    <tr style=\"text-align: right;\">\n",
              "      <th></th>\n",
              "      <th>CLASSIFICADOR</th>\n",
              "      <th>PRECISAO_MEDIO</th>\n",
              "      <th>PRECISAO_STD</th>\n",
              "    </tr>\n",
              "  </thead>\n",
              "  <tbody>\n",
              "    <tr>\n",
              "      <th>5</th>\n",
              "      <td>Rede Neural</td>\n",
              "      <td>97.03</td>\n",
              "      <td>3.64</td>\n",
              "    </tr>\n",
              "    <tr>\n",
              "      <th>1</th>\n",
              "      <td>CatBoost</td>\n",
              "      <td>94.48</td>\n",
              "      <td>6.77</td>\n",
              "    </tr>\n",
              "    <tr>\n",
              "      <th>4</th>\n",
              "      <td>Random Forest</td>\n",
              "      <td>94.48</td>\n",
              "      <td>6.77</td>\n",
              "    </tr>\n",
              "    <tr>\n",
              "      <th>2</th>\n",
              "      <td>XGB</td>\n",
              "      <td>94.29</td>\n",
              "      <td>7.00</td>\n",
              "    </tr>\n",
              "    <tr>\n",
              "      <th>3</th>\n",
              "      <td>LightGBM</td>\n",
              "      <td>94.29</td>\n",
              "      <td>7.00</td>\n",
              "    </tr>\n",
              "    <tr>\n",
              "      <th>0</th>\n",
              "      <td>Dummy</td>\n",
              "      <td>42.34</td>\n",
              "      <td>6.59</td>\n",
              "    </tr>\n",
              "  </tbody>\n",
              "</table>\n",
              "</div>\n",
              "      <button class=\"colab-df-convert\" onclick=\"convertToInteractive('df-3687cf9f-a1e9-47f6-807d-eff0a50d9fd3')\"\n",
              "              title=\"Convert this dataframe to an interactive table.\"\n",
              "              style=\"display:none;\">\n",
              "        \n",
              "  <svg xmlns=\"http://www.w3.org/2000/svg\" height=\"24px\"viewBox=\"0 0 24 24\"\n",
              "       width=\"24px\">\n",
              "    <path d=\"M0 0h24v24H0V0z\" fill=\"none\"/>\n",
              "    <path d=\"M18.56 5.44l.94 2.06.94-2.06 2.06-.94-2.06-.94-.94-2.06-.94 2.06-2.06.94zm-11 1L8.5 8.5l.94-2.06 2.06-.94-2.06-.94L8.5 2.5l-.94 2.06-2.06.94zm10 10l.94 2.06.94-2.06 2.06-.94-2.06-.94-.94-2.06-.94 2.06-2.06.94z\"/><path d=\"M17.41 7.96l-1.37-1.37c-.4-.4-.92-.59-1.43-.59-.52 0-1.04.2-1.43.59L10.3 9.45l-7.72 7.72c-.78.78-.78 2.05 0 2.83L4 21.41c.39.39.9.59 1.41.59.51 0 1.02-.2 1.41-.59l7.78-7.78 2.81-2.81c.8-.78.8-2.07 0-2.86zM5.41 20L4 18.59l7.72-7.72 1.47 1.35L5.41 20z\"/>\n",
              "  </svg>\n",
              "      </button>\n",
              "      \n",
              "  <style>\n",
              "    .colab-df-container {\n",
              "      display:flex;\n",
              "      flex-wrap:wrap;\n",
              "      gap: 12px;\n",
              "    }\n",
              "\n",
              "    .colab-df-convert {\n",
              "      background-color: #E8F0FE;\n",
              "      border: none;\n",
              "      border-radius: 50%;\n",
              "      cursor: pointer;\n",
              "      display: none;\n",
              "      fill: #1967D2;\n",
              "      height: 32px;\n",
              "      padding: 0 0 0 0;\n",
              "      width: 32px;\n",
              "    }\n",
              "\n",
              "    .colab-df-convert:hover {\n",
              "      background-color: #E2EBFA;\n",
              "      box-shadow: 0px 1px 2px rgba(60, 64, 67, 0.3), 0px 1px 3px 1px rgba(60, 64, 67, 0.15);\n",
              "      fill: #174EA6;\n",
              "    }\n",
              "\n",
              "    [theme=dark] .colab-df-convert {\n",
              "      background-color: #3B4455;\n",
              "      fill: #D2E3FC;\n",
              "    }\n",
              "\n",
              "    [theme=dark] .colab-df-convert:hover {\n",
              "      background-color: #434B5C;\n",
              "      box-shadow: 0px 1px 3px 1px rgba(0, 0, 0, 0.15);\n",
              "      filter: drop-shadow(0px 1px 2px rgba(0, 0, 0, 0.3));\n",
              "      fill: #FFFFFF;\n",
              "    }\n",
              "  </style>\n",
              "\n",
              "      <script>\n",
              "        const buttonEl =\n",
              "          document.querySelector('#df-3687cf9f-a1e9-47f6-807d-eff0a50d9fd3 button.colab-df-convert');\n",
              "        buttonEl.style.display =\n",
              "          google.colab.kernel.accessAllowed ? 'block' : 'none';\n",
              "\n",
              "        async function convertToInteractive(key) {\n",
              "          const element = document.querySelector('#df-3687cf9f-a1e9-47f6-807d-eff0a50d9fd3');\n",
              "          const dataTable =\n",
              "            await google.colab.kernel.invokeFunction('convertToInteractive',\n",
              "                                                     [key], {});\n",
              "          if (!dataTable) return;\n",
              "\n",
              "          const docLinkHtml = 'Like what you see? Visit the ' +\n",
              "            '<a target=\"_blank\" href=https://colab.research.google.com/notebooks/data_table.ipynb>data table notebook</a>'\n",
              "            + ' to learn more about interactive tables.';\n",
              "          element.innerHTML = '';\n",
              "          dataTable['output_type'] = 'display_data';\n",
              "          await google.colab.output.renderOutput(dataTable, element);\n",
              "          const docLink = document.createElement('div');\n",
              "          docLink.innerHTML = docLinkHtml;\n",
              "          element.appendChild(docLink);\n",
              "        }\n",
              "      </script>\n",
              "    </div>\n",
              "  </div>\n",
              "  "
            ]
          },
          "metadata": {},
          "execution_count": 91
        }
      ]
    },
    {
      "cell_type": "markdown",
      "source": [
        "**Otimização do Classificador para uma métrica diferente da padrão**"
      ],
      "metadata": {
        "id": "fSrmJUC3GzdI"
      },
      "id": "fSrmJUC3GzdI"
    },
    {
      "cell_type": "code",
      "source": [
        "from sklearn.model_selection import RandomizedSearchCV\n",
        "from scipy.stats import randint\n",
        "from sklearn.model_selection import KFold\n",
        "\n",
        "espaco_de_parametros = {\n",
        "    'classificador__bootstrap' : [True, False],\n",
        "    'classificador__max_depth' : randint(2,15),\n",
        "    'classificador__min_samples_split': randint(2,15),\n",
        "    'classificador__min_samples_leaf': randint(2,15),\n",
        "    'classificador__n_estimators': randint(50,300),\n",
        "    'classificador__criterion': [\"gini\", \"entropy\"]\n",
        "}\n",
        "\n",
        "cv = KFold(n_splits = 5, shuffle=True, random_state=327)\n",
        "\n",
        "\n",
        "modelo = Pipeline(steps=[('step_one', col_transformer), ('ss',  StandardScaler()), \n",
        "                         ('imputer', ImputerWithMissingMark()), ('classificador', RandomForestClassifier())])\n",
        "\n",
        "search = RandomizedSearchCV(modelo, espaco_de_parametros, \n",
        "                            n_iter = 25,\n",
        "                            cv = cv,\n",
        "                            scoring=METRICA,\n",
        "                            random_state = SEED)\n",
        "\n",
        "search.fit(X_train, le.transform(y_train))\n",
        "resultados = pd.DataFrame(search.cv_results_)\n",
        "resultados.head()"
      ],
      "metadata": {
        "id": "_vRORjhdGwCR",
        "outputId": "fb2927ef-2243-4303-b60d-533d5b778e3b",
        "colab": {
          "base_uri": "https://localhost:8080/",
          "height": 357
        }
      },
      "id": "_vRORjhdGwCR",
      "execution_count": 92,
      "outputs": [
        {
          "output_type": "execute_result",
          "data": {
            "text/plain": [
              "   mean_fit_time  std_fit_time  mean_score_time  std_score_time  \\\n",
              "0       0.126316      0.003630         0.018260        0.000344   \n",
              "1       0.059321      0.003512         0.010374        0.000548   \n",
              "2       0.144689      0.005572         0.022347        0.001308   \n",
              "3       0.095814      0.003844         0.017309        0.002279   \n",
              "4       0.166354      0.002044         0.025238        0.001176   \n",
              "\n",
              "  param_classificador__bootstrap param_classificador__criterion  \\\n",
              "0                          False                        entropy   \n",
              "1                           True                        entropy   \n",
              "2                          False                           gini   \n",
              "3                          False                           gini   \n",
              "4                          False                           gini   \n",
              "\n",
              "  param_classificador__max_depth param_classificador__min_samples_leaf  \\\n",
              "0                              6                                     2   \n",
              "1                              2                                     3   \n",
              "2                             12                                    10   \n",
              "3                              6                                    13   \n",
              "4                              3                                    10   \n",
              "\n",
              "  param_classificador__min_samples_split param_classificador__n_estimators  \\\n",
              "0                                      3                               173   \n",
              "1                                     12                                58   \n",
              "2                                      8                               214   \n",
              "3                                      8                               138   \n",
              "4                                      6                               256   \n",
              "\n",
              "                                              params  split0_test_score  \\\n",
              "0  {'classificador__bootstrap': False, 'classific...                1.0   \n",
              "1  {'classificador__bootstrap': True, 'classifica...                0.9   \n",
              "2  {'classificador__bootstrap': False, 'classific...                0.9   \n",
              "3  {'classificador__bootstrap': False, 'classific...                0.9   \n",
              "4  {'classificador__bootstrap': False, 'classific...                0.9   \n",
              "\n",
              "   split1_test_score  split2_test_score  split3_test_score  split4_test_score  \\\n",
              "0             0.9375           0.923077           0.857143              1.000   \n",
              "1             0.8750           0.857143           0.785714              0.875   \n",
              "2             0.9375           0.800000           0.800000              1.000   \n",
              "3             0.9375           0.800000           0.800000              1.000   \n",
              "4             0.9375           0.857143           0.800000              1.000   \n",
              "\n",
              "   mean_test_score  std_test_score  rank_test_score  \n",
              "0         0.943544        0.053470                1  \n",
              "1         0.858571        0.038901               25  \n",
              "2         0.887500        0.078262               15  \n",
              "3         0.887500        0.078262               15  \n",
              "4         0.898929        0.068172               11  "
            ],
            "text/html": [
              "\n",
              "  <div id=\"df-f45aedfa-5f94-41a8-a7c2-bd919f6871f6\">\n",
              "    <div class=\"colab-df-container\">\n",
              "      <div>\n",
              "<style scoped>\n",
              "    .dataframe tbody tr th:only-of-type {\n",
              "        vertical-align: middle;\n",
              "    }\n",
              "\n",
              "    .dataframe tbody tr th {\n",
              "        vertical-align: top;\n",
              "    }\n",
              "\n",
              "    .dataframe thead th {\n",
              "        text-align: right;\n",
              "    }\n",
              "</style>\n",
              "<table border=\"1\" class=\"dataframe\">\n",
              "  <thead>\n",
              "    <tr style=\"text-align: right;\">\n",
              "      <th></th>\n",
              "      <th>mean_fit_time</th>\n",
              "      <th>std_fit_time</th>\n",
              "      <th>mean_score_time</th>\n",
              "      <th>std_score_time</th>\n",
              "      <th>param_classificador__bootstrap</th>\n",
              "      <th>param_classificador__criterion</th>\n",
              "      <th>param_classificador__max_depth</th>\n",
              "      <th>param_classificador__min_samples_leaf</th>\n",
              "      <th>param_classificador__min_samples_split</th>\n",
              "      <th>param_classificador__n_estimators</th>\n",
              "      <th>params</th>\n",
              "      <th>split0_test_score</th>\n",
              "      <th>split1_test_score</th>\n",
              "      <th>split2_test_score</th>\n",
              "      <th>split3_test_score</th>\n",
              "      <th>split4_test_score</th>\n",
              "      <th>mean_test_score</th>\n",
              "      <th>std_test_score</th>\n",
              "      <th>rank_test_score</th>\n",
              "    </tr>\n",
              "  </thead>\n",
              "  <tbody>\n",
              "    <tr>\n",
              "      <th>0</th>\n",
              "      <td>0.126316</td>\n",
              "      <td>0.003630</td>\n",
              "      <td>0.018260</td>\n",
              "      <td>0.000344</td>\n",
              "      <td>False</td>\n",
              "      <td>entropy</td>\n",
              "      <td>6</td>\n",
              "      <td>2</td>\n",
              "      <td>3</td>\n",
              "      <td>173</td>\n",
              "      <td>{'classificador__bootstrap': False, 'classific...</td>\n",
              "      <td>1.0</td>\n",
              "      <td>0.9375</td>\n",
              "      <td>0.923077</td>\n",
              "      <td>0.857143</td>\n",
              "      <td>1.000</td>\n",
              "      <td>0.943544</td>\n",
              "      <td>0.053470</td>\n",
              "      <td>1</td>\n",
              "    </tr>\n",
              "    <tr>\n",
              "      <th>1</th>\n",
              "      <td>0.059321</td>\n",
              "      <td>0.003512</td>\n",
              "      <td>0.010374</td>\n",
              "      <td>0.000548</td>\n",
              "      <td>True</td>\n",
              "      <td>entropy</td>\n",
              "      <td>2</td>\n",
              "      <td>3</td>\n",
              "      <td>12</td>\n",
              "      <td>58</td>\n",
              "      <td>{'classificador__bootstrap': True, 'classifica...</td>\n",
              "      <td>0.9</td>\n",
              "      <td>0.8750</td>\n",
              "      <td>0.857143</td>\n",
              "      <td>0.785714</td>\n",
              "      <td>0.875</td>\n",
              "      <td>0.858571</td>\n",
              "      <td>0.038901</td>\n",
              "      <td>25</td>\n",
              "    </tr>\n",
              "    <tr>\n",
              "      <th>2</th>\n",
              "      <td>0.144689</td>\n",
              "      <td>0.005572</td>\n",
              "      <td>0.022347</td>\n",
              "      <td>0.001308</td>\n",
              "      <td>False</td>\n",
              "      <td>gini</td>\n",
              "      <td>12</td>\n",
              "      <td>10</td>\n",
              "      <td>8</td>\n",
              "      <td>214</td>\n",
              "      <td>{'classificador__bootstrap': False, 'classific...</td>\n",
              "      <td>0.9</td>\n",
              "      <td>0.9375</td>\n",
              "      <td>0.800000</td>\n",
              "      <td>0.800000</td>\n",
              "      <td>1.000</td>\n",
              "      <td>0.887500</td>\n",
              "      <td>0.078262</td>\n",
              "      <td>15</td>\n",
              "    </tr>\n",
              "    <tr>\n",
              "      <th>3</th>\n",
              "      <td>0.095814</td>\n",
              "      <td>0.003844</td>\n",
              "      <td>0.017309</td>\n",
              "      <td>0.002279</td>\n",
              "      <td>False</td>\n",
              "      <td>gini</td>\n",
              "      <td>6</td>\n",
              "      <td>13</td>\n",
              "      <td>8</td>\n",
              "      <td>138</td>\n",
              "      <td>{'classificador__bootstrap': False, 'classific...</td>\n",
              "      <td>0.9</td>\n",
              "      <td>0.9375</td>\n",
              "      <td>0.800000</td>\n",
              "      <td>0.800000</td>\n",
              "      <td>1.000</td>\n",
              "      <td>0.887500</td>\n",
              "      <td>0.078262</td>\n",
              "      <td>15</td>\n",
              "    </tr>\n",
              "    <tr>\n",
              "      <th>4</th>\n",
              "      <td>0.166354</td>\n",
              "      <td>0.002044</td>\n",
              "      <td>0.025238</td>\n",
              "      <td>0.001176</td>\n",
              "      <td>False</td>\n",
              "      <td>gini</td>\n",
              "      <td>3</td>\n",
              "      <td>10</td>\n",
              "      <td>6</td>\n",
              "      <td>256</td>\n",
              "      <td>{'classificador__bootstrap': False, 'classific...</td>\n",
              "      <td>0.9</td>\n",
              "      <td>0.9375</td>\n",
              "      <td>0.857143</td>\n",
              "      <td>0.800000</td>\n",
              "      <td>1.000</td>\n",
              "      <td>0.898929</td>\n",
              "      <td>0.068172</td>\n",
              "      <td>11</td>\n",
              "    </tr>\n",
              "  </tbody>\n",
              "</table>\n",
              "</div>\n",
              "      <button class=\"colab-df-convert\" onclick=\"convertToInteractive('df-f45aedfa-5f94-41a8-a7c2-bd919f6871f6')\"\n",
              "              title=\"Convert this dataframe to an interactive table.\"\n",
              "              style=\"display:none;\">\n",
              "        \n",
              "  <svg xmlns=\"http://www.w3.org/2000/svg\" height=\"24px\"viewBox=\"0 0 24 24\"\n",
              "       width=\"24px\">\n",
              "    <path d=\"M0 0h24v24H0V0z\" fill=\"none\"/>\n",
              "    <path d=\"M18.56 5.44l.94 2.06.94-2.06 2.06-.94-2.06-.94-.94-2.06-.94 2.06-2.06.94zm-11 1L8.5 8.5l.94-2.06 2.06-.94-2.06-.94L8.5 2.5l-.94 2.06-2.06.94zm10 10l.94 2.06.94-2.06 2.06-.94-2.06-.94-.94-2.06-.94 2.06-2.06.94z\"/><path d=\"M17.41 7.96l-1.37-1.37c-.4-.4-.92-.59-1.43-.59-.52 0-1.04.2-1.43.59L10.3 9.45l-7.72 7.72c-.78.78-.78 2.05 0 2.83L4 21.41c.39.39.9.59 1.41.59.51 0 1.02-.2 1.41-.59l7.78-7.78 2.81-2.81c.8-.78.8-2.07 0-2.86zM5.41 20L4 18.59l7.72-7.72 1.47 1.35L5.41 20z\"/>\n",
              "  </svg>\n",
              "      </button>\n",
              "      \n",
              "  <style>\n",
              "    .colab-df-container {\n",
              "      display:flex;\n",
              "      flex-wrap:wrap;\n",
              "      gap: 12px;\n",
              "    }\n",
              "\n",
              "    .colab-df-convert {\n",
              "      background-color: #E8F0FE;\n",
              "      border: none;\n",
              "      border-radius: 50%;\n",
              "      cursor: pointer;\n",
              "      display: none;\n",
              "      fill: #1967D2;\n",
              "      height: 32px;\n",
              "      padding: 0 0 0 0;\n",
              "      width: 32px;\n",
              "    }\n",
              "\n",
              "    .colab-df-convert:hover {\n",
              "      background-color: #E2EBFA;\n",
              "      box-shadow: 0px 1px 2px rgba(60, 64, 67, 0.3), 0px 1px 3px 1px rgba(60, 64, 67, 0.15);\n",
              "      fill: #174EA6;\n",
              "    }\n",
              "\n",
              "    [theme=dark] .colab-df-convert {\n",
              "      background-color: #3B4455;\n",
              "      fill: #D2E3FC;\n",
              "    }\n",
              "\n",
              "    [theme=dark] .colab-df-convert:hover {\n",
              "      background-color: #434B5C;\n",
              "      box-shadow: 0px 1px 3px 1px rgba(0, 0, 0, 0.15);\n",
              "      filter: drop-shadow(0px 1px 2px rgba(0, 0, 0, 0.3));\n",
              "      fill: #FFFFFF;\n",
              "    }\n",
              "  </style>\n",
              "\n",
              "      <script>\n",
              "        const buttonEl =\n",
              "          document.querySelector('#df-f45aedfa-5f94-41a8-a7c2-bd919f6871f6 button.colab-df-convert');\n",
              "        buttonEl.style.display =\n",
              "          google.colab.kernel.accessAllowed ? 'block' : 'none';\n",
              "\n",
              "        async function convertToInteractive(key) {\n",
              "          const element = document.querySelector('#df-f45aedfa-5f94-41a8-a7c2-bd919f6871f6');\n",
              "          const dataTable =\n",
              "            await google.colab.kernel.invokeFunction('convertToInteractive',\n",
              "                                                     [key], {});\n",
              "          if (!dataTable) return;\n",
              "\n",
              "          const docLinkHtml = 'Like what you see? Visit the ' +\n",
              "            '<a target=\"_blank\" href=https://colab.research.google.com/notebooks/data_table.ipynb>data table notebook</a>'\n",
              "            + ' to learn more about interactive tables.';\n",
              "          element.innerHTML = '';\n",
              "          dataTable['output_type'] = 'display_data';\n",
              "          await google.colab.output.renderOutput(dataTable, element);\n",
              "          const docLink = document.createElement('div');\n",
              "          docLink.innerHTML = docLinkHtml;\n",
              "          element.appendChild(docLink);\n",
              "        }\n",
              "      </script>\n",
              "    </div>\n",
              "  </div>\n",
              "  "
            ]
          },
          "metadata": {},
          "execution_count": 92
        }
      ]
    },
    {
      "cell_type": "code",
      "source": [
        "print(search.best_params_)\n",
        "print(search.best_score_ * 100)"
      ],
      "metadata": {
        "id": "HrzxBctaJfgg",
        "outputId": "5d865e62-4787-4014-8beb-426b0e66d152",
        "colab": {
          "base_uri": "https://localhost:8080/"
        }
      },
      "id": "HrzxBctaJfgg",
      "execution_count": 93,
      "outputs": [
        {
          "output_type": "stream",
          "name": "stdout",
          "text": [
            "{'classificador__bootstrap': False, 'classificador__criterion': 'entropy', 'classificador__max_depth': 6, 'classificador__min_samples_leaf': 2, 'classificador__min_samples_split': 3, 'classificador__n_estimators': 173}\n",
            "94.35439560439562\n"
          ]
        }
      ]
    }
  ],
  "metadata": {
    "kernelspec": {
      "display_name": "Python 3 (ipykernel)",
      "language": "python",
      "name": "python3"
    },
    "language_info": {
      "codemirror_mode": {
        "name": "ipython",
        "version": 3
      },
      "file_extension": ".py",
      "mimetype": "text/x-python",
      "name": "python",
      "nbconvert_exporter": "python",
      "pygments_lexer": "ipython3",
      "version": "3.9.7"
    },
    "colab": {
      "provenance": [],
      "include_colab_link": true
    }
  },
  "nbformat": 4,
  "nbformat_minor": 5
}