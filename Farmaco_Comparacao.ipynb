{
  "cells": [
    {
      "cell_type": "markdown",
      "metadata": {
        "id": "view-in-github",
        "colab_type": "text"
      },
      "source": [
        "<a href=\"https://colab.research.google.com/github/inf032/introducaoML/blob/master/Farmaco_Comparacao.ipynb\" target=\"_parent\"><img src=\"https://colab.research.google.com/assets/colab-badge.svg\" alt=\"Open In Colab\"/></a>"
      ]
    },
    {
      "cell_type": "code",
      "source": [
        "! pip install https://github.com/pandas-profiling/pandas-profiling/archive/master.zip"
      ],
      "metadata": {
        "colab": {
          "base_uri": "https://localhost:8080/"
        },
        "id": "tvEqn2Zz0XMH",
        "outputId": "c46dbda5-6d85-4f48-d553-78d33ecaca69"
      },
      "id": "tvEqn2Zz0XMH",
      "execution_count": 1,
      "outputs": [
        {
          "output_type": "stream",
          "name": "stdout",
          "text": [
            "Looking in indexes: https://pypi.org/simple, https://us-python.pkg.dev/colab-wheels/public/simple/\n",
            "Collecting https://github.com/pandas-profiling/pandas-profiling/archive/master.zip\n",
            "  Using cached https://github.com/pandas-profiling/pandas-profiling/archive/master.zip (22.0 MB)\n",
            "Requirement already satisfied: joblib~=1.2.0 in /usr/local/lib/python3.7/dist-packages (from pandas-profiling==3.3.1) (1.2.0)\n",
            "Requirement already satisfied: scipy<1.10,>=1.4.1 in /usr/local/lib/python3.7/dist-packages (from pandas-profiling==3.3.1) (1.7.3)\n",
            "Requirement already satisfied: pandas!=1.4.0,<1.5,>1.1 in /usr/local/lib/python3.7/dist-packages (from pandas-profiling==3.3.1) (1.3.5)\n",
            "Requirement already satisfied: matplotlib<3.6,>=3.2 in /usr/local/lib/python3.7/dist-packages (from pandas-profiling==3.3.1) (3.2.2)\n",
            "Requirement already satisfied: pydantic<1.10,>=1.8.1 in /usr/local/lib/python3.7/dist-packages (from pandas-profiling==3.3.1) (1.9.2)\n",
            "Requirement already satisfied: PyYAML<6.1,>=5.0.0 in /usr/local/lib/python3.7/dist-packages (from pandas-profiling==3.3.1) (6.0)\n",
            "Requirement already satisfied: jinja2<3.2,>=2.11.1 in /usr/local/lib/python3.7/dist-packages (from pandas-profiling==3.3.1) (2.11.3)\n",
            "Requirement already satisfied: visions[type_image_path]==0.7.5 in /usr/local/lib/python3.7/dist-packages (from pandas-profiling==3.3.1) (0.7.5)\n",
            "Requirement already satisfied: numpy<1.24,>=1.16.0 in /usr/local/lib/python3.7/dist-packages (from pandas-profiling==3.3.1) (1.21.6)\n",
            "Requirement already satisfied: htmlmin==0.1.12 in /usr/local/lib/python3.7/dist-packages (from pandas-profiling==3.3.1) (0.1.12)\n",
            "Requirement already satisfied: missingno<0.6,>=0.4.2 in /usr/local/lib/python3.7/dist-packages (from pandas-profiling==3.3.1) (0.5.1)\n",
            "Requirement already satisfied: phik<0.13,>=0.11.1 in /usr/local/lib/python3.7/dist-packages (from pandas-profiling==3.3.1) (0.12.2)\n",
            "Requirement already satisfied: tangled-up-in-unicode==0.2.0 in /usr/local/lib/python3.7/dist-packages (from pandas-profiling==3.3.1) (0.2.0)\n",
            "Requirement already satisfied: requests<2.29,>=2.24.0 in /usr/local/lib/python3.7/dist-packages (from pandas-profiling==3.3.1) (2.28.1)\n",
            "Requirement already satisfied: tqdm<4.65,>=4.48.2 in /usr/local/lib/python3.7/dist-packages (from pandas-profiling==3.3.1) (4.64.1)\n",
            "Requirement already satisfied: seaborn<0.13,>=0.10.1 in /usr/local/lib/python3.7/dist-packages (from pandas-profiling==3.3.1) (0.11.2)\n",
            "Requirement already satisfied: multimethod<1.9,>=1.4 in /usr/local/lib/python3.7/dist-packages (from pandas-profiling==3.3.1) (1.8)\n",
            "Requirement already satisfied: statsmodels<0.14,>=0.13.2 in /usr/local/lib/python3.7/dist-packages (from pandas-profiling==3.3.1) (0.13.2)\n",
            "Requirement already satisfied: attrs>=19.3.0 in /usr/local/lib/python3.7/dist-packages (from visions[type_image_path]==0.7.5->pandas-profiling==3.3.1) (22.1.0)\n",
            "Requirement already satisfied: networkx>=2.4 in /usr/local/lib/python3.7/dist-packages (from visions[type_image_path]==0.7.5->pandas-profiling==3.3.1) (2.6.3)\n",
            "Requirement already satisfied: Pillow in /usr/local/lib/python3.7/dist-packages (from visions[type_image_path]==0.7.5->pandas-profiling==3.3.1) (7.1.2)\n",
            "Requirement already satisfied: imagehash in /usr/local/lib/python3.7/dist-packages (from visions[type_image_path]==0.7.5->pandas-profiling==3.3.1) (4.3.0)\n",
            "Requirement already satisfied: MarkupSafe>=0.23 in /usr/local/lib/python3.7/dist-packages (from jinja2<3.2,>=2.11.1->pandas-profiling==3.3.1) (2.0.1)\n",
            "Requirement already satisfied: python-dateutil>=2.1 in /usr/local/lib/python3.7/dist-packages (from matplotlib<3.6,>=3.2->pandas-profiling==3.3.1) (2.8.2)\n",
            "Requirement already satisfied: pyparsing!=2.0.4,!=2.1.2,!=2.1.6,>=2.0.1 in /usr/local/lib/python3.7/dist-packages (from matplotlib<3.6,>=3.2->pandas-profiling==3.3.1) (3.0.9)\n",
            "Requirement already satisfied: kiwisolver>=1.0.1 in /usr/local/lib/python3.7/dist-packages (from matplotlib<3.6,>=3.2->pandas-profiling==3.3.1) (1.4.4)\n",
            "Requirement already satisfied: cycler>=0.10 in /usr/local/lib/python3.7/dist-packages (from matplotlib<3.6,>=3.2->pandas-profiling==3.3.1) (0.11.0)\n",
            "Requirement already satisfied: typing-extensions in /usr/local/lib/python3.7/dist-packages (from kiwisolver>=1.0.1->matplotlib<3.6,>=3.2->pandas-profiling==3.3.1) (4.1.1)\n",
            "Requirement already satisfied: pytz>=2017.3 in /usr/local/lib/python3.7/dist-packages (from pandas!=1.4.0,<1.5,>1.1->pandas-profiling==3.3.1) (2022.2.1)\n",
            "Requirement already satisfied: six>=1.5 in /usr/local/lib/python3.7/dist-packages (from python-dateutil>=2.1->matplotlib<3.6,>=3.2->pandas-profiling==3.3.1) (1.15.0)\n",
            "Requirement already satisfied: urllib3<1.27,>=1.21.1 in /usr/local/lib/python3.7/dist-packages (from requests<2.29,>=2.24.0->pandas-profiling==3.3.1) (1.24.3)\n",
            "Requirement already satisfied: certifi>=2017.4.17 in /usr/local/lib/python3.7/dist-packages (from requests<2.29,>=2.24.0->pandas-profiling==3.3.1) (2022.6.15)\n",
            "Requirement already satisfied: idna<4,>=2.5 in /usr/local/lib/python3.7/dist-packages (from requests<2.29,>=2.24.0->pandas-profiling==3.3.1) (2.10)\n",
            "Requirement already satisfied: charset-normalizer<3,>=2 in /usr/local/lib/python3.7/dist-packages (from requests<2.29,>=2.24.0->pandas-profiling==3.3.1) (2.1.1)\n",
            "Requirement already satisfied: patsy>=0.5.2 in /usr/local/lib/python3.7/dist-packages (from statsmodels<0.14,>=0.13.2->pandas-profiling==3.3.1) (0.5.2)\n",
            "Requirement already satisfied: packaging>=21.3 in /usr/local/lib/python3.7/dist-packages (from statsmodels<0.14,>=0.13.2->pandas-profiling==3.3.1) (21.3)\n",
            "Requirement already satisfied: PyWavelets in /usr/local/lib/python3.7/dist-packages (from imagehash->visions[type_image_path]==0.7.5->pandas-profiling==3.3.1) (1.3.0)\n"
          ]
        }
      ]
    },
    {
      "cell_type": "code",
      "execution_count": 2,
      "id": "ae43dca8",
      "metadata": {
        "id": "ae43dca8"
      },
      "outputs": [],
      "source": [
        "import numpy as np\n",
        "import pandas as pd\n",
        "import matplotlib.pyplot as plt\n",
        "import seaborn as sns\n",
        "import warnings\n",
        "import plotly.express as px\n",
        "\n",
        "from pandas_profiling import ProfileReport\n",
        "\n",
        "from sklearn.preprocessing import LabelEncoder\n",
        "from sklearn.preprocessing import OrdinalEncoder\n",
        "from sklearn.preprocessing import OneHotEncoder\n",
        "from sklearn.preprocessing import StandardScaler\n",
        "\n",
        "from sklearn.model_selection import train_test_split \n",
        "from sklearn.ensemble import GradientBoostingRegressor\n",
        "from sklearn.metrics  import mean_squared_error\n",
        "from sklearn.dummy import DummyRegressor\n",
        "\n",
        "from sklearn.base import BaseEstimator, TransformerMixin\n",
        "from sklearn.impute import KNNImputer\n",
        "from sklearn.impute._base import _BaseImputer\n",
        "\n",
        "\n"
      ]
    },
    {
      "cell_type": "code",
      "source": [
        "class ImputerWithMissingMark (BaseEstimator, TransformerMixin):\n",
        "\n",
        "    def transformColunas_IMPUTED(self, X) -> pd.DataFrame :\n",
        "      copia = X.copy()\n",
        "      for col in self.col_name_with_nan :\n",
        "          copia[f'{col}{self.postfix}'] = copia[col].isna().astype(int)\n",
        "      return copia      \n",
        "\n",
        "    def col_with_nan(self, X) -> list:\n",
        "      list_col_with_nan = []\n",
        "      copia = X.copy()\n",
        "      for col in copia.columns :\n",
        "        if(copia[col].isna().sum() > 0) :\n",
        "          list_col_with_nan.append(col)\n",
        "      return list_col_with_nan\n",
        "\n",
        "    def col_num_with_nan(self, X) -> list:\n",
        "      cols = X.shape[1]\n",
        "      list_col_with_nan = []\n",
        "      for col in range(cols):    \n",
        "          if(np.count_nonzero(np.isnan(X[:,col])) > 0) :  \n",
        "              list_col_with_nan.append(col)\n",
        "      return list_col_with_nan        \n",
        "\n",
        "    def __init__(self, imputer=KNNImputer(), postfix = '_IMPUTED'):\n",
        "      self.imputer = imputer\n",
        "      self.col_name = None\n",
        "      self.fitted = False\n",
        "      self.col_name_with_nan = None\n",
        "      self.col_number_with_nan = None\n",
        "      self.postfix = postfix\n",
        "\n",
        "    def fit_DF(self, X):\n",
        "      self.col_name = X.columns.values\n",
        "      self.col_name_with_nan = self.col_with_nan(X)\n",
        "\n",
        "    def fit_NP(self, X):\n",
        "      self.col_number_with_nan = self.col_num_with_nan(X)\n",
        "\n",
        "    def transform_DF(self, X):\n",
        "      copia = self.transformColunas_IMPUTED(X)\n",
        "      transformed = pd.DataFrame(self.imputer.transform(copia[self.col_name]))\n",
        "      transformed.columns = X.columns\n",
        "      transformed.index = X.index\n",
        "      for col in self.col_name_with_nan :\n",
        "        transformed[f'{col}{self.postfix}'] = copia[f'{col}{self.postfix}']\n",
        "      return transformed\n",
        "\n",
        "    def transform_NP(self, X):\n",
        "      transformed = np.copy(X)\n",
        "      vazio = np.zeros(shape=(X.shape[0], len(self.col_number_with_nan)))\n",
        "      for col in self.col_number_with_nan:\n",
        "        a_nan = [1 if np.isnan(x) else 0 for x in transformed[:,col]]\n",
        "        vazio = np.append(vazio, np.c_[a_nan], axis = 1)\n",
        "      transformed = self.imputer.transform(transformed)  \n",
        "      for col in range(vazio.shape[1]) :\n",
        "        transformed = np.append(transformed, np.c_[vazio[:, col]], axis = 1)\n",
        "      return transformed      \n",
        "\n",
        "    def fit(self, X, y=None):\n",
        "      if(self.fitted == False) :\n",
        "        self.fitted = True\n",
        "        if(type(X) == pd.DataFrame) :\n",
        "          self.fit_DF(X)\n",
        "        else :\n",
        "          self.fit_NP(X)  \n",
        "        self.imputer.fit(X)\n",
        "      return self\n",
        "\n",
        "    def transform(self, X, y=None):\n",
        "      if(self.fitted == True) :\n",
        "        if(self.col_name is not None) :\n",
        "          transformed = self.transform_DF(X)    \n",
        "        else :\n",
        "          transformed = self.transform_NP(X)    \n",
        "        return transformed\n",
        "      else :\n",
        "        return X\n",
        "\n",
        "    def get_params(self, deep=True):\n",
        "      # retorna um dicionário com os atributos e seus respectivos valores\n",
        "      return {\"imputer\": self.imputer, \n",
        "              \"postfix\": self.postfix}\n",
        "      \n",
        "    def set_params(self, **parameters):\n",
        "      # iterando pelos elementos passados e definindo-os na classe\n",
        "      for parameter, value in parameters.items():\n",
        "        setattr(self, parameter, value)\n",
        "      return self "
      ],
      "metadata": {
        "id": "_50KC6LolTY_"
      },
      "id": "_50KC6LolTY_",
      "execution_count": 3,
      "outputs": []
    },
    {
      "cell_type": "code",
      "source": [
        "def report_score(title, model, X_train, y_train, X_test, y_test) :\n",
        "  model.fit(X_train, y_train)\n",
        "  print(title, '\\n')\n",
        "  print(f'Acurácia treino: {np.round(model.score(X_train, y_train) *100, 2)}%')\n",
        "  print(f'Acurácia teste: {np.round(model.score(X_test, y_test) *100, 2)}%')"
      ],
      "metadata": {
        "id": "27axfTgb55v6"
      },
      "id": "27axfTgb55v6",
      "execution_count": 4,
      "outputs": []
    },
    {
      "cell_type": "code",
      "source": [
        "from sklearn.neighbors import KNeighborsClassifier\n",
        "from sklearn.svm import SVC\n",
        "from sklearn.naive_bayes import GaussianNB\n",
        "from sklearn.tree import DecisionTreeClassifier\n",
        "from sklearn.neural_network import MLPClassifier\n",
        "from sklearn.dummy import DummyClassifier\n",
        "\n",
        "\n",
        "nomes = ['Dummy', 'KNN', 'SVM', \n",
        "         'Gaussian Naives Bayes', 'Decision Tree', 'Neural Net']\n",
        "\n",
        "classificadores = [DummyClassifier(strategy='stratified'),\n",
        "                   KNeighborsClassifier(),\n",
        "                   SVC(),\n",
        "                   GaussianNB(),\n",
        "                   DecisionTreeClassifier(),\n",
        "                   MLPClassifier()]"
      ],
      "metadata": {
        "id": "BZhx89b4t3hb"
      },
      "id": "BZhx89b4t3hb",
      "execution_count": 5,
      "outputs": []
    },
    {
      "cell_type": "markdown",
      "source": [
        "Leitura dos Dados\n"
      ],
      "metadata": {
        "id": "WlFfqtdgtLdj"
      },
      "id": "WlFfqtdgtLdj"
    },
    {
      "cell_type": "code",
      "execution_count": 6,
      "id": "91409b52",
      "metadata": {
        "id": "91409b52",
        "outputId": "696bb964-afcf-44dd-ef7f-d2842ff28a51",
        "colab": {
          "base_uri": "https://localhost:8080/"
        }
      },
      "outputs": [
        {
          "output_type": "stream",
          "name": "stdout",
          "text": [
            "Holdout: 157 individuos em treino. 68 individuos em teste.\n"
          ]
        }
      ],
      "source": [
        "SEED = 1234\n",
        "np.random.seed(SEED)\n",
        "warnings.filterwarnings(action='once')\n",
        "\n",
        "df = pd.read_csv('https://raw.githubusercontent.com/inf032/introducaoML/master/data/farmaco.csv')\n",
        "df.columns = ['IDADE', 'SEXO', 'PA', 'COLESTEROL', 'NA_K', 'FARMACO']\n",
        "preditoras = ['IDADE', 'SEXO', 'PA', 'COLESTEROL', 'NA_K']\n",
        "alvo = 'FARMACO'\n",
        "\n",
        "X = df[preditoras]\n",
        "y = df[alvo]\n",
        "\n",
        "X_train, X_test, y_train, y_test = train_test_split(X, y, test_size=0.30, stratify=y, random_state=SEED)\n",
        "\n",
        "print(f'Holdout: {X_train.shape[0]} individuos em treino. {X_test.shape[0]} individuos em teste.')"
      ]
    },
    {
      "cell_type": "code",
      "source": [
        "from sklearn.pipeline import Pipeline\n",
        "from sklearn.compose import ColumnTransformer\n",
        "\n",
        "ordinal_transformer = Pipeline(steps=[('ordinal_encoder', OrdinalEncoder(categories=[['LOW', 'NORMAL', 'HIGH'], \n",
        "                                                                                     ['LOW', 'NORMAL', 'HIGH']], \n",
        "                                                                          handle_unknown='use_encoded_value',\n",
        "                                                                          unknown_value=np.nan))\n",
        "                                     ])\n",
        "onehot_transformer = Pipeline(steps=[('one_hot_encoder',  OneHotEncoder(drop='if_binary', sparse=False))])\n",
        "\n",
        "\n",
        "col_transformer = ColumnTransformer(transformers=[('pa_colesterol', ordinal_transformer, ['PA', 'COLESTEROL']),\n",
        "                                                  ('sex', onehot_transformer, ['SEXO'])],\n",
        "                                    remainder='passthrough')\n",
        "\n",
        "\n",
        "\n",
        "resultados = []\n",
        "\n",
        "for nome, model in zip(nomes, classificadores) :\n",
        "    score = Pipeline(steps=[('step_one', col_transformer), ('ss',  StandardScaler()), \n",
        "                           ('imputer', ImputerWithMissingMark()), ('classificador', model)]).fit(X_train, y_train).score(X_test, y_test)\n",
        "    resultados.append([nome, score])\n",
        "    \n",
        "dfResultados = pd.DataFrame(resultados, columns = ['Classificador', 'Score'])\n",
        "\n",
        "dfResultados\n"
      ],
      "metadata": {
        "id": "-PPHanbrEfDs",
        "colab": {
          "base_uri": "https://localhost:8080/",
          "height": 292
        },
        "outputId": "7769d4ed-cd5b-4d0b-afab-858607401cf2"
      },
      "id": "-PPHanbrEfDs",
      "execution_count": 12,
      "outputs": [
        {
          "output_type": "stream",
          "name": "stderr",
          "text": [
            "/usr/local/lib/python3.7/dist-packages/sklearn/neural_network/_multilayer_perceptron.py:696: ConvergenceWarning: Stochastic Optimizer: Maximum iterations (200) reached and the optimization hasn't converged yet.\n",
            "  ConvergenceWarning,\n"
          ]
        },
        {
          "output_type": "execute_result",
          "data": {
            "text/plain": [
              "           Classificador     Score\n",
              "0                  Dummy  0.500000\n",
              "1                    KNN  0.852941\n",
              "2                    SVM  0.955882\n",
              "3  Gaussian Naives Bayes  0.867647\n",
              "4          Decision Tree  0.985294\n",
              "5             Neural Net  0.926471"
            ],
            "text/html": [
              "\n",
              "  <div id=\"df-6316ebdd-2672-4529-bea5-84bddbdb0457\">\n",
              "    <div class=\"colab-df-container\">\n",
              "      <div>\n",
              "<style scoped>\n",
              "    .dataframe tbody tr th:only-of-type {\n",
              "        vertical-align: middle;\n",
              "    }\n",
              "\n",
              "    .dataframe tbody tr th {\n",
              "        vertical-align: top;\n",
              "    }\n",
              "\n",
              "    .dataframe thead th {\n",
              "        text-align: right;\n",
              "    }\n",
              "</style>\n",
              "<table border=\"1\" class=\"dataframe\">\n",
              "  <thead>\n",
              "    <tr style=\"text-align: right;\">\n",
              "      <th></th>\n",
              "      <th>Classificador</th>\n",
              "      <th>Score</th>\n",
              "    </tr>\n",
              "  </thead>\n",
              "  <tbody>\n",
              "    <tr>\n",
              "      <th>0</th>\n",
              "      <td>Dummy</td>\n",
              "      <td>0.500000</td>\n",
              "    </tr>\n",
              "    <tr>\n",
              "      <th>1</th>\n",
              "      <td>KNN</td>\n",
              "      <td>0.852941</td>\n",
              "    </tr>\n",
              "    <tr>\n",
              "      <th>2</th>\n",
              "      <td>SVM</td>\n",
              "      <td>0.955882</td>\n",
              "    </tr>\n",
              "    <tr>\n",
              "      <th>3</th>\n",
              "      <td>Gaussian Naives Bayes</td>\n",
              "      <td>0.867647</td>\n",
              "    </tr>\n",
              "    <tr>\n",
              "      <th>4</th>\n",
              "      <td>Decision Tree</td>\n",
              "      <td>0.985294</td>\n",
              "    </tr>\n",
              "    <tr>\n",
              "      <th>5</th>\n",
              "      <td>Neural Net</td>\n",
              "      <td>0.926471</td>\n",
              "    </tr>\n",
              "  </tbody>\n",
              "</table>\n",
              "</div>\n",
              "      <button class=\"colab-df-convert\" onclick=\"convertToInteractive('df-6316ebdd-2672-4529-bea5-84bddbdb0457')\"\n",
              "              title=\"Convert this dataframe to an interactive table.\"\n",
              "              style=\"display:none;\">\n",
              "        \n",
              "  <svg xmlns=\"http://www.w3.org/2000/svg\" height=\"24px\"viewBox=\"0 0 24 24\"\n",
              "       width=\"24px\">\n",
              "    <path d=\"M0 0h24v24H0V0z\" fill=\"none\"/>\n",
              "    <path d=\"M18.56 5.44l.94 2.06.94-2.06 2.06-.94-2.06-.94-.94-2.06-.94 2.06-2.06.94zm-11 1L8.5 8.5l.94-2.06 2.06-.94-2.06-.94L8.5 2.5l-.94 2.06-2.06.94zm10 10l.94 2.06.94-2.06 2.06-.94-2.06-.94-.94-2.06-.94 2.06-2.06.94z\"/><path d=\"M17.41 7.96l-1.37-1.37c-.4-.4-.92-.59-1.43-.59-.52 0-1.04.2-1.43.59L10.3 9.45l-7.72 7.72c-.78.78-.78 2.05 0 2.83L4 21.41c.39.39.9.59 1.41.59.51 0 1.02-.2 1.41-.59l7.78-7.78 2.81-2.81c.8-.78.8-2.07 0-2.86zM5.41 20L4 18.59l7.72-7.72 1.47 1.35L5.41 20z\"/>\n",
              "  </svg>\n",
              "      </button>\n",
              "      \n",
              "  <style>\n",
              "    .colab-df-container {\n",
              "      display:flex;\n",
              "      flex-wrap:wrap;\n",
              "      gap: 12px;\n",
              "    }\n",
              "\n",
              "    .colab-df-convert {\n",
              "      background-color: #E8F0FE;\n",
              "      border: none;\n",
              "      border-radius: 50%;\n",
              "      cursor: pointer;\n",
              "      display: none;\n",
              "      fill: #1967D2;\n",
              "      height: 32px;\n",
              "      padding: 0 0 0 0;\n",
              "      width: 32px;\n",
              "    }\n",
              "\n",
              "    .colab-df-convert:hover {\n",
              "      background-color: #E2EBFA;\n",
              "      box-shadow: 0px 1px 2px rgba(60, 64, 67, 0.3), 0px 1px 3px 1px rgba(60, 64, 67, 0.15);\n",
              "      fill: #174EA6;\n",
              "    }\n",
              "\n",
              "    [theme=dark] .colab-df-convert {\n",
              "      background-color: #3B4455;\n",
              "      fill: #D2E3FC;\n",
              "    }\n",
              "\n",
              "    [theme=dark] .colab-df-convert:hover {\n",
              "      background-color: #434B5C;\n",
              "      box-shadow: 0px 1px 3px 1px rgba(0, 0, 0, 0.15);\n",
              "      filter: drop-shadow(0px 1px 2px rgba(0, 0, 0, 0.3));\n",
              "      fill: #FFFFFF;\n",
              "    }\n",
              "  </style>\n",
              "\n",
              "      <script>\n",
              "        const buttonEl =\n",
              "          document.querySelector('#df-6316ebdd-2672-4529-bea5-84bddbdb0457 button.colab-df-convert');\n",
              "        buttonEl.style.display =\n",
              "          google.colab.kernel.accessAllowed ? 'block' : 'none';\n",
              "\n",
              "        async function convertToInteractive(key) {\n",
              "          const element = document.querySelector('#df-6316ebdd-2672-4529-bea5-84bddbdb0457');\n",
              "          const dataTable =\n",
              "            await google.colab.kernel.invokeFunction('convertToInteractive',\n",
              "                                                     [key], {});\n",
              "          if (!dataTable) return;\n",
              "\n",
              "          const docLinkHtml = 'Like what you see? Visit the ' +\n",
              "            '<a target=\"_blank\" href=https://colab.research.google.com/notebooks/data_table.ipynb>data table notebook</a>'\n",
              "            + ' to learn more about interactive tables.';\n",
              "          element.innerHTML = '';\n",
              "          dataTable['output_type'] = 'display_data';\n",
              "          await google.colab.output.renderOutput(dataTable, element);\n",
              "          const docLink = document.createElement('div');\n",
              "          docLink.innerHTML = docLinkHtml;\n",
              "          element.appendChild(docLink);\n",
              "        }\n",
              "      </script>\n",
              "    </div>\n",
              "  </div>\n",
              "  "
            ]
          },
          "metadata": {},
          "execution_count": 12
        }
      ]
    },
    {
      "cell_type": "code",
      "source": [
        "sns.relplot(data=dfResultados, x='Classificador', y='Score')\n"
      ],
      "metadata": {
        "id": "dsx-aG4CdUvi",
        "colab": {
          "base_uri": "https://localhost:8080/",
          "height": 386
        },
        "outputId": "c3bb0a26-13c8-4fc2-fb9d-a24f3cac9dbd"
      },
      "id": "dsx-aG4CdUvi",
      "execution_count": 24,
      "outputs": [
        {
          "output_type": "execute_result",
          "data": {
            "text/plain": [
              "<seaborn.axisgrid.FacetGrid at 0x7f56028623d0>"
            ]
          },
          "metadata": {},
          "execution_count": 24
        },
        {
          "output_type": "display_data",
          "data": {
            "text/plain": [
              "<Figure size 360x360 with 1 Axes>"
            ],
            "image/png": "[encoded data removed]"
          },
          "metadata": {
            "needs_background": "light"
          }
        }
      ]
    },
    {
      "cell_type": "code",
      "source": [],
      "metadata": {
        "id": "JGHrGRENNZ41"
      },
      "id": "JGHrGRENNZ41",
      "execution_count": 8,
      "outputs": []
    }
  ],
  "metadata": {
    "kernelspec": {
      "display_name": "Python 3 (ipykernel)",
      "language": "python",
      "name": "python3"
    },
    "language_info": {
      "codemirror_mode": {
        "name": "ipython",
        "version": 3
      },
      "file_extension": ".py",
      "mimetype": "text/x-python",
      "name": "python",
      "nbconvert_exporter": "python",
      "pygments_lexer": "ipython3",
      "version": "3.9.7"
    },
    "colab": {
      "provenance": [],
      "include_colab_link": true
    }
  },
  "nbformat": 4,
  "nbformat_minor": 5
}