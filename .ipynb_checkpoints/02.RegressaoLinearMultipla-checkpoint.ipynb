{
 "cells": [
  {
   "cell_type": "markdown",
   "id": "16c42be7",
   "metadata": {},
   "source": [
    "<h3> Importando as bibliotecas Pandas e SciKit Learn </h3>"
   ]
  },
  {
   "cell_type": "code",
   "execution_count": 1,
   "id": "837c44fc",
   "metadata": {
    "scrolled": true
   },
   "outputs": [],
   "source": [
    "from sklearn.linear_model import LinearRegression\n",
    "import pandas as pd\n",
    "import numpy as np"
   ]
  },
  {
   "cell_type": "markdown",
   "id": "085539bb",
   "metadata": {},
   "source": [
    "<h3>Lendo os dados do modelo - automóveis</h3>"
   ]
  },
  {
   "cell_type": "code",
   "execution_count": 2,
   "id": "b10180a0",
   "metadata": {},
   "outputs": [
    {
     "data": {
      "text/html": [
       "<div>\n",
       "<style scoped>\n",
       "    .dataframe tbody tr th:only-of-type {\n",
       "        vertical-align: middle;\n",
       "    }\n",
       "\n",
       "    .dataframe tbody tr th {\n",
       "        vertical-align: top;\n",
       "    }\n",
       "\n",
       "    .dataframe thead th {\n",
       "        text-align: right;\n",
       "    }\n",
       "</style>\n",
       "<table border=\"1\" class=\"dataframe\">\n",
       "  <thead>\n",
       "    <tr style=\"text-align: right;\">\n",
       "      <th></th>\n",
       "      <th>Id</th>\n",
       "      <th>EngineSize</th>\n",
       "      <th>Cylinders</th>\n",
       "      <th>FuelConsumption</th>\n",
       "      <th>CO2Emissions</th>\n",
       "    </tr>\n",
       "  </thead>\n",
       "  <tbody>\n",
       "    <tr>\n",
       "      <th>0</th>\n",
       "      <td>1</td>\n",
       "      <td>2.0</td>\n",
       "      <td>4</td>\n",
       "      <td>8.5</td>\n",
       "      <td>196</td>\n",
       "    </tr>\n",
       "    <tr>\n",
       "      <th>1</th>\n",
       "      <td>2</td>\n",
       "      <td>2.4</td>\n",
       "      <td>4</td>\n",
       "      <td>9.6</td>\n",
       "      <td>221</td>\n",
       "    </tr>\n",
       "    <tr>\n",
       "      <th>2</th>\n",
       "      <td>3</td>\n",
       "      <td>1.5</td>\n",
       "      <td>4</td>\n",
       "      <td>5.9</td>\n",
       "      <td>136</td>\n",
       "    </tr>\n",
       "    <tr>\n",
       "      <th>3</th>\n",
       "      <td>4</td>\n",
       "      <td>3.5</td>\n",
       "      <td>6</td>\n",
       "      <td>11.1</td>\n",
       "      <td>255</td>\n",
       "    </tr>\n",
       "    <tr>\n",
       "      <th>4</th>\n",
       "      <td>5</td>\n",
       "      <td>3.5</td>\n",
       "      <td>6</td>\n",
       "      <td>10.6</td>\n",
       "      <td>244</td>\n",
       "    </tr>\n",
       "    <tr>\n",
       "      <th>5</th>\n",
       "      <td>6</td>\n",
       "      <td>3.5</td>\n",
       "      <td>6</td>\n",
       "      <td>10.0</td>\n",
       "      <td>230</td>\n",
       "    </tr>\n",
       "    <tr>\n",
       "      <th>6</th>\n",
       "      <td>7</td>\n",
       "      <td>3.5</td>\n",
       "      <td>6</td>\n",
       "      <td>10.1</td>\n",
       "      <td>232</td>\n",
       "    </tr>\n",
       "    <tr>\n",
       "      <th>7</th>\n",
       "      <td>8</td>\n",
       "      <td>3.7</td>\n",
       "      <td>6</td>\n",
       "      <td>11.1</td>\n",
       "      <td>255</td>\n",
       "    </tr>\n",
       "    <tr>\n",
       "      <th>8</th>\n",
       "      <td>9</td>\n",
       "      <td>3.7</td>\n",
       "      <td>6</td>\n",
       "      <td>11.6</td>\n",
       "      <td>267</td>\n",
       "    </tr>\n",
       "  </tbody>\n",
       "</table>\n",
       "</div>"
      ],
      "text/plain": [
       "   Id  EngineSize  Cylinders  FuelConsumption  CO2Emissions\n",
       "0   1         2.0          4              8.5           196\n",
       "1   2         2.4          4              9.6           221\n",
       "2   3         1.5          4              5.9           136\n",
       "3   4         3.5          6             11.1           255\n",
       "4   5         3.5          6             10.6           244\n",
       "5   6         3.5          6             10.0           230\n",
       "6   7         3.5          6             10.1           232\n",
       "7   8         3.7          6             11.1           255\n",
       "8   9         3.7          6             11.6           267"
      ]
     },
     "execution_count": 2,
     "metadata": {},
     "output_type": "execute_result"
    }
   ],
   "source": [
    "dataFrame = pd.read_excel('data/CO2Emissions.xlsx', sheet_name='Carros')\n",
    "dataFrame"
   ]
  },
  {
   "cell_type": "markdown",
   "id": "5feda486",
   "metadata": {},
   "source": [
    "<h3>Excluindo as features que não serão utilizadas</h3>"
   ]
  },
  {
   "cell_type": "code",
   "execution_count": 3,
   "id": "36689b85",
   "metadata": {},
   "outputs": [
    {
     "data": {
      "text/html": [
       "<div>\n",
       "<style scoped>\n",
       "    .dataframe tbody tr th:only-of-type {\n",
       "        vertical-align: middle;\n",
       "    }\n",
       "\n",
       "    .dataframe tbody tr th {\n",
       "        vertical-align: top;\n",
       "    }\n",
       "\n",
       "    .dataframe thead th {\n",
       "        text-align: right;\n",
       "    }\n",
       "</style>\n",
       "<table border=\"1\" class=\"dataframe\">\n",
       "  <thead>\n",
       "    <tr style=\"text-align: right;\">\n",
       "      <th></th>\n",
       "      <th>EngineSize</th>\n",
       "      <th>Cylinders</th>\n",
       "      <th>FuelConsumption</th>\n",
       "      <th>CO2Emissions</th>\n",
       "    </tr>\n",
       "  </thead>\n",
       "  <tbody>\n",
       "    <tr>\n",
       "      <th>0</th>\n",
       "      <td>2.0</td>\n",
       "      <td>4</td>\n",
       "      <td>8.5</td>\n",
       "      <td>196</td>\n",
       "    </tr>\n",
       "    <tr>\n",
       "      <th>1</th>\n",
       "      <td>2.4</td>\n",
       "      <td>4</td>\n",
       "      <td>9.6</td>\n",
       "      <td>221</td>\n",
       "    </tr>\n",
       "    <tr>\n",
       "      <th>2</th>\n",
       "      <td>1.5</td>\n",
       "      <td>4</td>\n",
       "      <td>5.9</td>\n",
       "      <td>136</td>\n",
       "    </tr>\n",
       "    <tr>\n",
       "      <th>3</th>\n",
       "      <td>3.5</td>\n",
       "      <td>6</td>\n",
       "      <td>11.1</td>\n",
       "      <td>255</td>\n",
       "    </tr>\n",
       "    <tr>\n",
       "      <th>4</th>\n",
       "      <td>3.5</td>\n",
       "      <td>6</td>\n",
       "      <td>10.6</td>\n",
       "      <td>244</td>\n",
       "    </tr>\n",
       "    <tr>\n",
       "      <th>5</th>\n",
       "      <td>3.5</td>\n",
       "      <td>6</td>\n",
       "      <td>10.0</td>\n",
       "      <td>230</td>\n",
       "    </tr>\n",
       "    <tr>\n",
       "      <th>6</th>\n",
       "      <td>3.5</td>\n",
       "      <td>6</td>\n",
       "      <td>10.1</td>\n",
       "      <td>232</td>\n",
       "    </tr>\n",
       "    <tr>\n",
       "      <th>7</th>\n",
       "      <td>3.7</td>\n",
       "      <td>6</td>\n",
       "      <td>11.1</td>\n",
       "      <td>255</td>\n",
       "    </tr>\n",
       "    <tr>\n",
       "      <th>8</th>\n",
       "      <td>3.7</td>\n",
       "      <td>6</td>\n",
       "      <td>11.6</td>\n",
       "      <td>267</td>\n",
       "    </tr>\n",
       "  </tbody>\n",
       "</table>\n",
       "</div>"
      ],
      "text/plain": [
       "   EngineSize  Cylinders  FuelConsumption  CO2Emissions\n",
       "0         2.0          4              8.5           196\n",
       "1         2.4          4              9.6           221\n",
       "2         1.5          4              5.9           136\n",
       "3         3.5          6             11.1           255\n",
       "4         3.5          6             10.6           244\n",
       "5         3.5          6             10.0           230\n",
       "6         3.5          6             10.1           232\n",
       "7         3.7          6             11.1           255\n",
       "8         3.7          6             11.6           267"
      ]
     },
     "execution_count": 3,
     "metadata": {},
     "output_type": "execute_result"
    }
   ],
   "source": [
    "dataFrame.drop(columns=['Id'], inplace=True)\n",
    "dataFrame"
   ]
  },
  {
   "cell_type": "markdown",
   "id": "2888f456",
   "metadata": {},
   "source": [
    "<h3>Plotando um scatterplot da variável dependente (CO2Emissions) e da variavel independente(EngineSize)</h3>"
   ]
  },
  {
   "cell_type": "code",
   "execution_count": 4,
   "id": "1834200f",
   "metadata": {},
   "outputs": [
    {
     "data": {
      "text/html": [
       "<div>\n",
       "<style scoped>\n",
       "    .dataframe tbody tr th:only-of-type {\n",
       "        vertical-align: middle;\n",
       "    }\n",
       "\n",
       "    .dataframe tbody tr th {\n",
       "        vertical-align: top;\n",
       "    }\n",
       "\n",
       "    .dataframe thead th {\n",
       "        text-align: right;\n",
       "    }\n",
       "</style>\n",
       "<table border=\"1\" class=\"dataframe\">\n",
       "  <thead>\n",
       "    <tr style=\"text-align: right;\">\n",
       "      <th></th>\n",
       "      <th>EngineSize</th>\n",
       "      <th>Cylinders</th>\n",
       "      <th>FuelConsumption</th>\n",
       "      <th>CO2Emissions</th>\n",
       "    </tr>\n",
       "  </thead>\n",
       "  <tbody>\n",
       "    <tr>\n",
       "      <th>EngineSize</th>\n",
       "      <td>1.000000</td>\n",
       "      <td>0.957895</td>\n",
       "      <td>0.921087</td>\n",
       "      <td>0.919667</td>\n",
       "    </tr>\n",
       "    <tr>\n",
       "      <th>Cylinders</th>\n",
       "      <td>0.957895</td>\n",
       "      <td>1.000000</td>\n",
       "      <td>0.788617</td>\n",
       "      <td>0.786537</td>\n",
       "    </tr>\n",
       "    <tr>\n",
       "      <th>FuelConsumption</th>\n",
       "      <td>0.921087</td>\n",
       "      <td>0.788617</td>\n",
       "      <td>1.000000</td>\n",
       "      <td>0.999980</td>\n",
       "    </tr>\n",
       "    <tr>\n",
       "      <th>CO2Emissions</th>\n",
       "      <td>0.919667</td>\n",
       "      <td>0.786537</td>\n",
       "      <td>0.999980</td>\n",
       "      <td>1.000000</td>\n",
       "    </tr>\n",
       "  </tbody>\n",
       "</table>\n",
       "</div>"
      ],
      "text/plain": [
       "                 EngineSize  Cylinders  FuelConsumption  CO2Emissions\n",
       "EngineSize         1.000000   0.957895         0.921087      0.919667\n",
       "Cylinders          0.957895   1.000000         0.788617      0.786537\n",
       "FuelConsumption    0.921087   0.788617         1.000000      0.999980\n",
       "CO2Emissions       0.919667   0.786537         0.999980      1.000000"
      ]
     },
     "execution_count": 4,
     "metadata": {},
     "output_type": "execute_result"
    }
   ],
   "source": [
    "dataFrame.corr()"
   ]
  },
  {
   "cell_type": "markdown",
   "id": "2457c962",
   "metadata": {},
   "source": [
    "<h3>Verificando a correlação da variável dependente (CO2Emissions) e da variavel independente(EngineSize)</h3>\n"
   ]
  },
  {
   "cell_type": "code",
   "execution_count": 5,
   "id": "f7b23d30",
   "metadata": {},
   "outputs": [
    {
     "data": {
      "text/plain": [
       "Text(0.5, 1.05, 'Mapa de Correlação de Pearson das Variáveis de Motorização')"
      ]
     },
     "execution_count": 5,
     "metadata": {},
     "output_type": "execute_result"
    },
    {
     "data": {
      "image/png": "[encoded data removed]",
      "text/plain": [
       "<Figure size 432x288 with 2 Axes>"
      ]
     },
     "metadata": {
      "needs_background": "light"
     },
     "output_type": "display_data"
    }
   ],
   "source": [
    "import seaborn as sns\n",
    "import matplotlib.pyplot as plt\n",
    "\n",
    "ax = sns.heatmap(dataFrame.corr(), cmap=\"summer_r\", annot=True, square=True, )\n",
    "ax.set_title('Mapa de Correlação de Pearson das Variáveis de Motorização', fontsize=12, y=1.05)\n",
    "\n"
   ]
  },
  {
   "cell_type": "markdown",
   "id": "36192fb8",
   "metadata": {},
   "source": [
    "<h3>Calculando o coefieciente angular da reta de Regressão Linear</h3>"
   ]
  },
  {
   "cell_type": "code",
   "execution_count": 6,
   "id": "894f4756",
   "metadata": {},
   "outputs": [
    {
     "name": "stdout",
     "output_type": "stream",
     "text": [
      "Coeficientes Angulares: [-0.74675325  0.33603896 22.92207792]\n",
      "Coeficiente Linear: 1.312\n"
     ]
    }
   ],
   "source": [
    "from sklearn.linear_model import LinearRegression\n",
    "from sklearn.model_selection import train_test_split\n",
    "from sklearn.metrics import  mean_squared_error, r2_score\n",
    "\n",
    "\n",
    "var_independentes = dataFrame[['EngineSize', 'Cylinders', 'FuelConsumption']]\n",
    "\n",
    "\n",
    "X_train, X_test, y_train, y_test = train_test_split(var_independentes, \n",
    "                                                    dataFrame.CO2Emissions, test_size=0.33, random_state=1234)\n",
    "\n",
    "lr = LinearRegression().fit(X=X_train, y=y_train)\n",
    "print(f'Coeficientes Angulares: {lr.coef_}')\n",
    "print(f'Coeficiente Linear: {lr.intercept_.round(3)}')\n",
    "\n"
   ]
  },
  {
   "cell_type": "markdown",
   "id": "a1c5c807",
   "metadata": {},
   "source": [
    "<h3>Calculando o coefieciente linear da reta de Regressão Linear</h3>"
   ]
  },
  {
   "cell_type": "code",
   "execution_count": 7,
   "id": "577bbadf",
   "metadata": {},
   "outputs": [
    {
     "name": "stdout",
     "output_type": "stream",
     "text": [
      "Coeficiente de Determinação :0.9999.\n",
      "Erro médio quadrático : 0.3.\n",
      "Raiz do Erro médio quadrático : 0.55.\n",
      "Media da emissão de CO2: 208.0\n",
      "Erro percentual do preditor: 0.26%\n"
     ]
    }
   ],
   "source": [
    "co2_pred = lr.predict(X_test)\n",
    "co2_real = y_test\n",
    "\n",
    "\n",
    "print(f'Coeficiente de Determinação :{r2_score(co2_pred, co2_real).round(4)}.')\n",
    "print(f'Erro médio quadrático : {mean_squared_error(co2_pred, co2_real).round(2)}.')\n",
    "print(f'Raiz do Erro médio quadrático : {np.sqrt(mean_squared_error(co2_pred, co2_real)).round(2)}.')\n",
    "print(f'Media da emissão de CO2: {np.round(np.mean(co2_real), 2)}')\n",
    "print(f'Erro percentual do preditor: {np.round(np.sqrt(mean_squared_error(co2_pred, co2_real)) / np.mean(co2_real) * 100, 2)}%')\n",
    "\n"
   ]
  },
  {
   "cell_type": "code",
   "execution_count": 9,
   "id": "8b1068ed",
   "metadata": {},
   "outputs": [
    {
     "data": {
      "text/html": [
       "<div>\n",
       "<style scoped>\n",
       "    .dataframe tbody tr th:only-of-type {\n",
       "        vertical-align: middle;\n",
       "    }\n",
       "\n",
       "    .dataframe tbody tr th {\n",
       "        vertical-align: top;\n",
       "    }\n",
       "\n",
       "    .dataframe thead th {\n",
       "        text-align: right;\n",
       "    }\n",
       "</style>\n",
       "<table border=\"1\" class=\"dataframe\">\n",
       "  <thead>\n",
       "    <tr style=\"text-align: right;\">\n",
       "      <th></th>\n",
       "      <th>EngineSize</th>\n",
       "      <th>Cylinders</th>\n",
       "      <th>FuelConsumption</th>\n",
       "      <th>CO2_Real</th>\n",
       "      <th>CO2_Predict</th>\n",
       "      <th>Error</th>\n",
       "    </tr>\n",
       "  </thead>\n",
       "  <tbody>\n",
       "    <tr>\n",
       "      <th>0</th>\n",
       "      <td>3.7</td>\n",
       "      <td>6</td>\n",
       "      <td>11.6</td>\n",
       "      <td>267</td>\n",
       "      <td>266.461039</td>\n",
       "      <td>0.538961</td>\n",
       "    </tr>\n",
       "    <tr>\n",
       "      <th>1</th>\n",
       "      <td>1.5</td>\n",
       "      <td>4</td>\n",
       "      <td>5.9</td>\n",
       "      <td>136</td>\n",
       "      <td>136.775974</td>\n",
       "      <td>-0.775974</td>\n",
       "    </tr>\n",
       "    <tr>\n",
       "      <th>2</th>\n",
       "      <td>2.4</td>\n",
       "      <td>4</td>\n",
       "      <td>9.6</td>\n",
       "      <td>221</td>\n",
       "      <td>220.915584</td>\n",
       "      <td>0.084416</td>\n",
       "    </tr>\n",
       "  </tbody>\n",
       "</table>\n",
       "</div>"
      ],
      "text/plain": [
       "   EngineSize  Cylinders  FuelConsumption  CO2_Real  CO2_Predict     Error\n",
       "0         3.7          6             11.6       267   266.461039  0.538961\n",
       "1         1.5          4              5.9       136   136.775974 -0.775974\n",
       "2         2.4          4              9.6       221   220.915584  0.084416"
      ]
     },
     "execution_count": 9,
     "metadata": {},
     "output_type": "execute_result"
    }
   ],
   "source": [
    "dataError= pd.DataFrame(X_test)\n",
    "dataError['CO2_Real'] = y_test\n",
    "dataError['CO2_Predict'] = co2_pred\n",
    "\n",
    "dataError['Error'] = dataError['CO2_Real'] - dataError['CO2_Predict']\n",
    "\n",
    "dataError.index = range(dataError.shape[0])\n",
    "\n",
    "dataError"
   ]
  },
  {
   "cell_type": "markdown",
   "id": "2262781b",
   "metadata": {},
   "source": [
    "<h3>Calculando o coeficiente angular da regressão linear</h3>\n"
   ]
  },
  {
   "cell_type": "markdown",
   "id": "9868df26",
   "metadata": {},
   "source": [
    "<h3> Predizendo o valor de Emissão de CO2 para um novo carro com EngineSize igual a 2,4 </h3>"
   ]
  },
  {
   "cell_type": "markdown",
   "id": "1a743e2c",
   "metadata": {},
   "source": [
    "<h3> Criando e utilizando um regressor linear com scikit-learn</h3>"
   ]
  }
 ],
 "metadata": {
  "kernelspec": {
   "display_name": "Python 3 (ipykernel)",
   "language": "python",
   "name": "python3"
  },
  "language_info": {
   "codemirror_mode": {
    "name": "ipython",
    "version": 3
   },
   "file_extension": ".py",
   "mimetype": "text/x-python",
   "name": "python",
   "nbconvert_exporter": "python",
   "pygments_lexer": "ipython3",
   "version": "3.8.12"
  }
 },
 "nbformat": 4,
 "nbformat_minor": 5
}
