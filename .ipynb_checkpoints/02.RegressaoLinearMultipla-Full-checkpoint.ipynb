{
 "cells": [
  {
   "cell_type": "markdown",
   "id": "16c42be7",
   "metadata": {},
   "source": [
    "<h3> Importando as bibliotecas Pandas e SciKit Learn </h3>"
   ]
  },
  {
   "cell_type": "code",
   "execution_count": 1,
   "id": "837c44fc",
   "metadata": {
    "scrolled": true
   },
   "outputs": [],
   "source": [
    "from sklearn.linear_model import LinearRegression\n",
    "import pandas as pd\n",
    "import numpy as np\n",
    "import seaborn as sns\n",
    "from matplotlib.gridspec import GridSpec\n",
    "from sklearn.linear_model import LinearRegression\n",
    "from sklearn.model_selection import train_test_split\n",
    "from sklearn.metrics import  mean_squared_error, r2_score\n",
    "import pickle\n",
    "from sklearn.linear_model import SGDRegressor\n",
    "from sklearn.preprocessing import StandardScaler"
   ]
  },
  {
   "cell_type": "markdown",
   "id": "085539bb",
   "metadata": {},
   "source": [
    "<h3>Lendo os dados do modelo - automóveis</h3>"
   ]
  },
  {
   "cell_type": "code",
   "execution_count": 2,
   "id": "b10180a0",
   "metadata": {},
   "outputs": [
    {
     "data": {
      "text/plain": [
       "Index(['Model Year', 'Make', 'Model', 'Vehicle Class', 'Engine Size (L)',\n",
       "       'Cylinders', 'Transmission', 'Fuel Type',\n",
       "       'Fuel Consumption City (L/100 km)', 'Fuel Consumption Hwy (L/100 km)',\n",
       "       'Fuel Consumption Comb (L/100 km)', 'Fuel Consumption Comb (mpg)',\n",
       "       'CO2 Emissions (g/km)', 'CO2 Rating', 'Smog Rating'],\n",
       "      dtype='object')"
      ]
     },
     "execution_count": 2,
     "metadata": {},
     "output_type": "execute_result"
    }
   ],
   "source": [
    "dataFrame = pd.read_csv('data/FuelConsumption2022.csv')\n",
    "dataFrame.columns"
   ]
  },
  {
   "cell_type": "code",
   "execution_count": 3,
   "id": "642d52f5",
   "metadata": {},
   "outputs": [
    {
     "data": {
      "text/html": [
       "<div>\n",
       "<style scoped>\n",
       "    .dataframe tbody tr th:only-of-type {\n",
       "        vertical-align: middle;\n",
       "    }\n",
       "\n",
       "    .dataframe tbody tr th {\n",
       "        vertical-align: top;\n",
       "    }\n",
       "\n",
       "    .dataframe thead th {\n",
       "        text-align: right;\n",
       "    }\n",
       "</style>\n",
       "<table border=\"1\" class=\"dataframe\">\n",
       "  <thead>\n",
       "    <tr style=\"text-align: right;\">\n",
       "      <th></th>\n",
       "      <th>Model Year</th>\n",
       "      <th>Engine Size (L)</th>\n",
       "      <th>Cylinders</th>\n",
       "      <th>Fuel Consumption City (L/100 km)</th>\n",
       "      <th>Fuel Consumption Hwy (L/100 km)</th>\n",
       "      <th>Fuel Consumption Comb (L/100 km)</th>\n",
       "      <th>Fuel Consumption Comb (mpg)</th>\n",
       "      <th>CO2 Emissions (g/km)</th>\n",
       "      <th>CO2 Rating</th>\n",
       "      <th>Smog Rating</th>\n",
       "    </tr>\n",
       "  </thead>\n",
       "  <tbody>\n",
       "    <tr>\n",
       "      <th>Model Year</th>\n",
       "      <td>NaN</td>\n",
       "      <td>NaN</td>\n",
       "      <td>NaN</td>\n",
       "      <td>NaN</td>\n",
       "      <td>NaN</td>\n",
       "      <td>NaN</td>\n",
       "      <td>NaN</td>\n",
       "      <td>NaN</td>\n",
       "      <td>NaN</td>\n",
       "      <td>NaN</td>\n",
       "    </tr>\n",
       "    <tr>\n",
       "      <th>Engine Size (L)</th>\n",
       "      <td>NaN</td>\n",
       "      <td>1.0000</td>\n",
       "      <td>0.9206</td>\n",
       "      <td>0.8341</td>\n",
       "      <td>0.7461</td>\n",
       "      <td>0.8172</td>\n",
       "      <td>-0.7029</td>\n",
       "      <td>0.8226</td>\n",
       "      <td>-0.7644</td>\n",
       "      <td>-0.4484</td>\n",
       "    </tr>\n",
       "    <tr>\n",
       "      <th>Cylinders</th>\n",
       "      <td>NaN</td>\n",
       "      <td>0.9206</td>\n",
       "      <td>1.0000</td>\n",
       "      <td>0.8454</td>\n",
       "      <td>0.7356</td>\n",
       "      <td>0.8209</td>\n",
       "      <td>-0.6930</td>\n",
       "      <td>0.8324</td>\n",
       "      <td>-0.7611</td>\n",
       "      <td>-0.5022</td>\n",
       "    </tr>\n",
       "    <tr>\n",
       "      <th>Fuel Consumption City (L/100 km)</th>\n",
       "      <td>NaN</td>\n",
       "      <td>0.8341</td>\n",
       "      <td>0.8454</td>\n",
       "      <td>1.0000</td>\n",
       "      <td>0.9219</td>\n",
       "      <td>0.9902</td>\n",
       "      <td>-0.9094</td>\n",
       "      <td>0.9654</td>\n",
       "      <td>-0.9203</td>\n",
       "      <td>-0.5229</td>\n",
       "    </tr>\n",
       "    <tr>\n",
       "      <th>Fuel Consumption Hwy (L/100 km)</th>\n",
       "      <td>NaN</td>\n",
       "      <td>0.7461</td>\n",
       "      <td>0.7356</td>\n",
       "      <td>0.9219</td>\n",
       "      <td>1.0000</td>\n",
       "      <td>0.9668</td>\n",
       "      <td>-0.8770</td>\n",
       "      <td>0.9338</td>\n",
       "      <td>-0.8946</td>\n",
       "      <td>-0.3990</td>\n",
       "    </tr>\n",
       "    <tr>\n",
       "      <th>Fuel Consumption Comb (L/100 km)</th>\n",
       "      <td>NaN</td>\n",
       "      <td>0.8172</td>\n",
       "      <td>0.8209</td>\n",
       "      <td>0.9902</td>\n",
       "      <td>0.9668</td>\n",
       "      <td>1.0000</td>\n",
       "      <td>-0.9143</td>\n",
       "      <td>0.9717</td>\n",
       "      <td>-0.9277</td>\n",
       "      <td>-0.4887</td>\n",
       "    </tr>\n",
       "    <tr>\n",
       "      <th>Fuel Consumption Comb (mpg)</th>\n",
       "      <td>NaN</td>\n",
       "      <td>-0.7029</td>\n",
       "      <td>-0.6930</td>\n",
       "      <td>-0.9094</td>\n",
       "      <td>-0.8770</td>\n",
       "      <td>-0.9143</td>\n",
       "      <td>1.0000</td>\n",
       "      <td>-0.9130</td>\n",
       "      <td>0.9494</td>\n",
       "      <td>0.4721</td>\n",
       "    </tr>\n",
       "    <tr>\n",
       "      <th>CO2 Emissions (g/km)</th>\n",
       "      <td>NaN</td>\n",
       "      <td>0.8226</td>\n",
       "      <td>0.8324</td>\n",
       "      <td>0.9654</td>\n",
       "      <td>0.9338</td>\n",
       "      <td>0.9717</td>\n",
       "      <td>-0.9130</td>\n",
       "      <td>1.0000</td>\n",
       "      <td>-0.9546</td>\n",
       "      <td>-0.5186</td>\n",
       "    </tr>\n",
       "    <tr>\n",
       "      <th>CO2 Rating</th>\n",
       "      <td>NaN</td>\n",
       "      <td>-0.7644</td>\n",
       "      <td>-0.7611</td>\n",
       "      <td>-0.9203</td>\n",
       "      <td>-0.8946</td>\n",
       "      <td>-0.9277</td>\n",
       "      <td>0.9494</td>\n",
       "      <td>-0.9546</td>\n",
       "      <td>1.0000</td>\n",
       "      <td>0.5003</td>\n",
       "    </tr>\n",
       "    <tr>\n",
       "      <th>Smog Rating</th>\n",
       "      <td>NaN</td>\n",
       "      <td>-0.4484</td>\n",
       "      <td>-0.5022</td>\n",
       "      <td>-0.5229</td>\n",
       "      <td>-0.3990</td>\n",
       "      <td>-0.4887</td>\n",
       "      <td>0.4721</td>\n",
       "      <td>-0.5186</td>\n",
       "      <td>0.5003</td>\n",
       "      <td>1.0000</td>\n",
       "    </tr>\n",
       "  </tbody>\n",
       "</table>\n",
       "</div>"
      ],
      "text/plain": [
       "                                  Model Year  Engine Size (L)  Cylinders  \\\n",
       "Model Year                               NaN              NaN        NaN   \n",
       "Engine Size (L)                          NaN           1.0000     0.9206   \n",
       "Cylinders                                NaN           0.9206     1.0000   \n",
       "Fuel Consumption City (L/100 km)         NaN           0.8341     0.8454   \n",
       "Fuel Consumption Hwy (L/100 km)          NaN           0.7461     0.7356   \n",
       "Fuel Consumption Comb (L/100 km)         NaN           0.8172     0.8209   \n",
       "Fuel Consumption Comb (mpg)              NaN          -0.7029    -0.6930   \n",
       "CO2 Emissions (g/km)                     NaN           0.8226     0.8324   \n",
       "CO2 Rating                               NaN          -0.7644    -0.7611   \n",
       "Smog Rating                              NaN          -0.4484    -0.5022   \n",
       "\n",
       "                                  Fuel Consumption City (L/100 km)  \\\n",
       "Model Year                                                     NaN   \n",
       "Engine Size (L)                                             0.8341   \n",
       "Cylinders                                                   0.8454   \n",
       "Fuel Consumption City (L/100 km)                            1.0000   \n",
       "Fuel Consumption Hwy (L/100 km)                             0.9219   \n",
       "Fuel Consumption Comb (L/100 km)                            0.9902   \n",
       "Fuel Consumption Comb (mpg)                                -0.9094   \n",
       "CO2 Emissions (g/km)                                        0.9654   \n",
       "CO2 Rating                                                 -0.9203   \n",
       "Smog Rating                                                -0.5229   \n",
       "\n",
       "                                  Fuel Consumption Hwy (L/100 km)  \\\n",
       "Model Year                                                    NaN   \n",
       "Engine Size (L)                                            0.7461   \n",
       "Cylinders                                                  0.7356   \n",
       "Fuel Consumption City (L/100 km)                           0.9219   \n",
       "Fuel Consumption Hwy (L/100 km)                            1.0000   \n",
       "Fuel Consumption Comb (L/100 km)                           0.9668   \n",
       "Fuel Consumption Comb (mpg)                               -0.8770   \n",
       "CO2 Emissions (g/km)                                       0.9338   \n",
       "CO2 Rating                                                -0.8946   \n",
       "Smog Rating                                               -0.3990   \n",
       "\n",
       "                                  Fuel Consumption Comb (L/100 km)  \\\n",
       "Model Year                                                     NaN   \n",
       "Engine Size (L)                                             0.8172   \n",
       "Cylinders                                                   0.8209   \n",
       "Fuel Consumption City (L/100 km)                            0.9902   \n",
       "Fuel Consumption Hwy (L/100 km)                             0.9668   \n",
       "Fuel Consumption Comb (L/100 km)                            1.0000   \n",
       "Fuel Consumption Comb (mpg)                                -0.9143   \n",
       "CO2 Emissions (g/km)                                        0.9717   \n",
       "CO2 Rating                                                 -0.9277   \n",
       "Smog Rating                                                -0.4887   \n",
       "\n",
       "                                  Fuel Consumption Comb (mpg)  \\\n",
       "Model Year                                                NaN   \n",
       "Engine Size (L)                                       -0.7029   \n",
       "Cylinders                                             -0.6930   \n",
       "Fuel Consumption City (L/100 km)                      -0.9094   \n",
       "Fuel Consumption Hwy (L/100 km)                       -0.8770   \n",
       "Fuel Consumption Comb (L/100 km)                      -0.9143   \n",
       "Fuel Consumption Comb (mpg)                            1.0000   \n",
       "CO2 Emissions (g/km)                                  -0.9130   \n",
       "CO2 Rating                                             0.9494   \n",
       "Smog Rating                                            0.4721   \n",
       "\n",
       "                                  CO2 Emissions (g/km)  CO2 Rating  \\\n",
       "Model Year                                         NaN         NaN   \n",
       "Engine Size (L)                                 0.8226     -0.7644   \n",
       "Cylinders                                       0.8324     -0.7611   \n",
       "Fuel Consumption City (L/100 km)                0.9654     -0.9203   \n",
       "Fuel Consumption Hwy (L/100 km)                 0.9338     -0.8946   \n",
       "Fuel Consumption Comb (L/100 km)                0.9717     -0.9277   \n",
       "Fuel Consumption Comb (mpg)                    -0.9130      0.9494   \n",
       "CO2 Emissions (g/km)                            1.0000     -0.9546   \n",
       "CO2 Rating                                     -0.9546      1.0000   \n",
       "Smog Rating                                    -0.5186      0.5003   \n",
       "\n",
       "                                  Smog Rating  \n",
       "Model Year                                NaN  \n",
       "Engine Size (L)                       -0.4484  \n",
       "Cylinders                             -0.5022  \n",
       "Fuel Consumption City (L/100 km)      -0.5229  \n",
       "Fuel Consumption Hwy (L/100 km)       -0.3990  \n",
       "Fuel Consumption Comb (L/100 km)      -0.4887  \n",
       "Fuel Consumption Comb (mpg)            0.4721  \n",
       "CO2 Emissions (g/km)                  -0.5186  \n",
       "CO2 Rating                             0.5003  \n",
       "Smog Rating                            1.0000  "
      ]
     },
     "execution_count": 3,
     "metadata": {},
     "output_type": "execute_result"
    }
   ],
   "source": [
    "dataFrame.corr().round(4)"
   ]
  },
  {
   "cell_type": "markdown",
   "id": "5feda486",
   "metadata": {},
   "source": [
    "<h3>Excluindo as features que não serão utilizadas</h3>"
   ]
  },
  {
   "cell_type": "code",
   "execution_count": 4,
   "id": "36689b85",
   "metadata": {},
   "outputs": [
    {
     "data": {
      "text/html": [
       "<div>\n",
       "<style scoped>\n",
       "    .dataframe tbody tr th:only-of-type {\n",
       "        vertical-align: middle;\n",
       "    }\n",
       "\n",
       "    .dataframe tbody tr th {\n",
       "        vertical-align: top;\n",
       "    }\n",
       "\n",
       "    .dataframe thead th {\n",
       "        text-align: right;\n",
       "    }\n",
       "</style>\n",
       "<table border=\"1\" class=\"dataframe\">\n",
       "  <thead>\n",
       "    <tr style=\"text-align: right;\">\n",
       "      <th></th>\n",
       "      <th>EngineSize</th>\n",
       "      <th>Cylinders</th>\n",
       "      <th>FuelConsumption</th>\n",
       "      <th>CO2Emissions</th>\n",
       "    </tr>\n",
       "  </thead>\n",
       "  <tbody>\n",
       "    <tr>\n",
       "      <th>0</th>\n",
       "      <td>2.4</td>\n",
       "      <td>4</td>\n",
       "      <td>8.6</td>\n",
       "      <td>200</td>\n",
       "    </tr>\n",
       "    <tr>\n",
       "      <th>1</th>\n",
       "      <td>3.5</td>\n",
       "      <td>6</td>\n",
       "      <td>11.2</td>\n",
       "      <td>263</td>\n",
       "    </tr>\n",
       "    <tr>\n",
       "      <th>2</th>\n",
       "      <td>2.0</td>\n",
       "      <td>4</td>\n",
       "      <td>9.9</td>\n",
       "      <td>232</td>\n",
       "    </tr>\n",
       "    <tr>\n",
       "      <th>3</th>\n",
       "      <td>2.0</td>\n",
       "      <td>4</td>\n",
       "      <td>10.3</td>\n",
       "      <td>242</td>\n",
       "    </tr>\n",
       "    <tr>\n",
       "      <th>4</th>\n",
       "      <td>2.0</td>\n",
       "      <td>4</td>\n",
       "      <td>9.8</td>\n",
       "      <td>230</td>\n",
       "    </tr>\n",
       "  </tbody>\n",
       "</table>\n",
       "</div>"
      ],
      "text/plain": [
       "   EngineSize  Cylinders  FuelConsumption  CO2Emissions\n",
       "0         2.4          4              8.6           200\n",
       "1         3.5          6             11.2           263\n",
       "2         2.0          4              9.9           232\n",
       "3         2.0          4             10.3           242\n",
       "4         2.0          4              9.8           230"
      ]
     },
     "execution_count": 4,
     "metadata": {},
     "output_type": "execute_result"
    }
   ],
   "source": [
    "dataFrame.drop(columns=['Model Year', 'Make', 'Model', 'Vehicle Class', 'Transmission', 'Fuel Type', \n",
    "                        'Fuel Consumption City (L/100 km)', \n",
    "                        'Fuel Consumption Hwy (L/100 km)', \n",
    "                        'Fuel Consumption Comb (mpg)',\n",
    "                        'CO2 Rating', 'Smog Rating'], inplace=True)\n",
    "\n",
    "dataFrame.columns=['EngineSize', 'Cylinders', 'FuelConsumption', 'CO2Emissions']\n",
    "dataFrame.head()"
   ]
  },
  {
   "cell_type": "code",
   "execution_count": 5,
   "id": "85159cd6",
   "metadata": {},
   "outputs": [
    {
     "data": {
      "text/plain": [
       "Text(0.5, 1.02, 'Correlação entre as Variáveis de Motorização')"
      ]
     },
     "execution_count": 5,
     "metadata": {},
     "output_type": "execute_result"
    },
    {
     "data": {
      "image/png": "[encoded data removed]",
      "text/plain": [
       "<Figure size 720x720 with 20 Axes>"
      ]
     },
     "metadata": {
      "needs_background": "light"
     },
     "output_type": "display_data"
    }
   ],
   "source": [
    "sns.set_palette('summer')\n",
    "ax = sns.pairplot(data=dataFrame)\n",
    "ax.fig.suptitle('Correlação entre as Variáveis de Motorização', y=1.02, fontsize=20)"
   ]
  },
  {
   "cell_type": "markdown",
   "id": "2888f456",
   "metadata": {},
   "source": [
    "<h3>Verificando a correlação de Pearson das variáveis numéricas</h3>"
   ]
  },
  {
   "cell_type": "code",
   "execution_count": 6,
   "id": "1834200f",
   "metadata": {},
   "outputs": [
    {
     "data": {
      "text/html": [
       "<div>\n",
       "<style scoped>\n",
       "    .dataframe tbody tr th:only-of-type {\n",
       "        vertical-align: middle;\n",
       "    }\n",
       "\n",
       "    .dataframe tbody tr th {\n",
       "        vertical-align: top;\n",
       "    }\n",
       "\n",
       "    .dataframe thead th {\n",
       "        text-align: right;\n",
       "    }\n",
       "</style>\n",
       "<table border=\"1\" class=\"dataframe\">\n",
       "  <thead>\n",
       "    <tr style=\"text-align: right;\">\n",
       "      <th></th>\n",
       "      <th>EngineSize</th>\n",
       "      <th>Cylinders</th>\n",
       "      <th>FuelConsumption</th>\n",
       "      <th>CO2Emissions</th>\n",
       "    </tr>\n",
       "  </thead>\n",
       "  <tbody>\n",
       "    <tr>\n",
       "      <th>EngineSize</th>\n",
       "      <td>1.0000</td>\n",
       "      <td>0.9206</td>\n",
       "      <td>0.8172</td>\n",
       "      <td>0.8226</td>\n",
       "    </tr>\n",
       "    <tr>\n",
       "      <th>Cylinders</th>\n",
       "      <td>0.9206</td>\n",
       "      <td>1.0000</td>\n",
       "      <td>0.8209</td>\n",
       "      <td>0.8324</td>\n",
       "    </tr>\n",
       "    <tr>\n",
       "      <th>FuelConsumption</th>\n",
       "      <td>0.8172</td>\n",
       "      <td>0.8209</td>\n",
       "      <td>1.0000</td>\n",
       "      <td>0.9717</td>\n",
       "    </tr>\n",
       "    <tr>\n",
       "      <th>CO2Emissions</th>\n",
       "      <td>0.8226</td>\n",
       "      <td>0.8324</td>\n",
       "      <td>0.9717</td>\n",
       "      <td>1.0000</td>\n",
       "    </tr>\n",
       "  </tbody>\n",
       "</table>\n",
       "</div>"
      ],
      "text/plain": [
       "                 EngineSize  Cylinders  FuelConsumption  CO2Emissions\n",
       "EngineSize           1.0000     0.9206           0.8172        0.8226\n",
       "Cylinders            0.9206     1.0000           0.8209        0.8324\n",
       "FuelConsumption      0.8172     0.8209           1.0000        0.9717\n",
       "CO2Emissions         0.8226     0.8324           0.9717        1.0000"
      ]
     },
     "execution_count": 6,
     "metadata": {},
     "output_type": "execute_result"
    }
   ],
   "source": [
    "dataFrame.corr().round(4)"
   ]
  },
  {
   "cell_type": "markdown",
   "id": "2457c962",
   "metadata": {},
   "source": [
    "<h3>Plotando um heatmap da correlação de pearson das variáveis numéricas</h3>\n"
   ]
  },
  {
   "cell_type": "code",
   "execution_count": 7,
   "id": "f7b23d30",
   "metadata": {},
   "outputs": [
    {
     "data": {
      "text/plain": [
       "Text(0.5, 1.05, 'Mapa de Correlação de Pearson das Variáveis de Motorização')"
      ]
     },
     "execution_count": 7,
     "metadata": {},
     "output_type": "execute_result"
    },
    {
     "data": {
      "image/png": "[encoded data removed]",
      "text/plain": [
       "<Figure size 432x288 with 2 Axes>"
      ]
     },
     "metadata": {
      "needs_background": "light"
     },
     "output_type": "display_data"
    }
   ],
   "source": [
    "import seaborn as sns\n",
    "import matplotlib.pyplot as plt\n",
    "\n",
    "ax = sns.heatmap(dataFrame.corr(), cmap=\"summer_r\", annot=True, square=True, )\n",
    "ax.set_title('Mapa de Correlação de Pearson das Variáveis de Motorização', fontsize=12, y=1.05)\n",
    "\n"
   ]
  },
  {
   "cell_type": "markdown",
   "id": "36192fb8",
   "metadata": {},
   "source": [
    "<h3>Criando um regressor linear com múltiplas variáveis</h3>"
   ]
  },
  {
   "cell_type": "code",
   "execution_count": 8,
   "id": "894f4756",
   "metadata": {},
   "outputs": [
    {
     "name": "stdout",
     "output_type": "stream",
     "text": [
      "Coeficientes Angulares: [ 0.5760032   2.81931782 19.95773286]\n",
      "Coeficiente Linear: 19.759\n"
     ]
    }
   ],
   "source": [
    "var_independentes = dataFrame[['EngineSize', 'Cylinders', 'FuelConsumption']]\n",
    "\n",
    "X_train, X_test, y_train, y_test = train_test_split(var_independentes, \n",
    "                                                   dataFrame.CO2Emissions, test_size=0.3, random_state=1234)\n",
    "lr = LinearRegression().fit(X=X_train, y=y_train)\n",
    "print(f'Coeficientes Angulares: {lr.coef_}')\n",
    "print(f'Coeficiente Linear: {lr.intercept_.round(3)}')"
   ]
  },
  {
   "cell_type": "code",
   "execution_count": 9,
   "id": "ec4c7528",
   "metadata": {},
   "outputs": [],
   "source": [
    "def metricas(real : list, predict : list):\n",
    "    r2 = r2_score(real, predict).round(2)\n",
    "    mse = mean_squared_error(real, predict).round(2)\n",
    "    rmse = np.sqrt(mse).round(2)\n",
    "    erro_pct = np.round(rmse / np.mean(predict) * 100, 2)   \n",
    "    return r2, mse, rmse, erro_pct"
   ]
  },
  {
   "cell_type": "markdown",
   "id": "a1c5c807",
   "metadata": {},
   "source": [
    "<h3>Avaliando o Regressor Linear</h3>"
   ]
  },
  {
   "cell_type": "code",
   "execution_count": 10,
   "id": "860116a0",
   "metadata": {},
   "outputs": [
    {
     "name": "stdout",
     "output_type": "stream",
     "text": [
      "Coeficiente de Determinação :0.95.\n",
      "Erro médio quadrático : 203.03.\n",
      "Raiz do Erro médio quadrático : 14.25.\n",
      "Erro percentual do preditor: 5.54%\n"
     ]
    }
   ],
   "source": [
    "rl_train_r2, rl_train_mse, rl_train_rmse, rl_train_erro_pct_pred = metricas(y_train, lr.predict(X_train))\n",
    "\n",
    "print(f'Coeficiente de Determinação :{rl_train_r2}.')\n",
    "print(f'Erro médio quadrático : {rl_train_mse}.')\n",
    "print(f'Raiz do Erro médio quadrático : {rl_train_rmse}.')\n",
    "print(f'Erro percentual do preditor: {rl_train_erro_pct_pred}%')"
   ]
  },
  {
   "cell_type": "code",
   "execution_count": 11,
   "id": "577bbadf",
   "metadata": {},
   "outputs": [
    {
     "name": "stdout",
     "output_type": "stream",
     "text": [
      "Coeficiente de Determinação :0.95.\n",
      "Erro médio quadrático : 248.88.\n",
      "Raiz do Erro médio quadrático : 15.78.\n",
      "Erro percentual do preditor: 5.99%\n"
     ]
    },
    {
     "data": {
      "text/html": [
       "<div>\n",
       "<style scoped>\n",
       "    .dataframe tbody tr th:only-of-type {\n",
       "        vertical-align: middle;\n",
       "    }\n",
       "\n",
       "    .dataframe tbody tr th {\n",
       "        vertical-align: top;\n",
       "    }\n",
       "\n",
       "    .dataframe thead th {\n",
       "        text-align: right;\n",
       "    }\n",
       "</style>\n",
       "<table border=\"1\" class=\"dataframe\">\n",
       "  <thead>\n",
       "    <tr style=\"text-align: right;\">\n",
       "      <th></th>\n",
       "      <th>R2</th>\n",
       "      <th>MSE</th>\n",
       "      <th>RMSE</th>\n",
       "      <th>Erro %</th>\n",
       "    </tr>\n",
       "  </thead>\n",
       "  <tbody>\n",
       "    <tr>\n",
       "      <th>Linear Regression</th>\n",
       "      <td>0.95</td>\n",
       "      <td>248.88</td>\n",
       "      <td>15.78</td>\n",
       "      <td>5.99</td>\n",
       "    </tr>\n",
       "  </tbody>\n",
       "</table>\n",
       "</div>"
      ],
      "text/plain": [
       "                     R2     MSE   RMSE  Erro %\n",
       "Linear Regression  0.95  248.88  15.78    5.99"
      ]
     },
     "execution_count": 11,
     "metadata": {},
     "output_type": "execute_result"
    }
   ],
   "source": [
    "rl_r2, rl_mse, rl_rmse, rl_erro_pct_pred = metricas(y_test, lr.predict(X_test))\n",
    "\n",
    "print(f'Coeficiente de Determinação :{rl_r2}.')\n",
    "print(f'Erro médio quadrático : {rl_mse}.')\n",
    "print(f'Raiz do Erro médio quadrático : {rl_rmse}.')\n",
    "print(f'Erro percentual do preditor: {rl_erro_pct_pred}%')\n",
    "\n",
    "dataAval = pd.DataFrame({'Linear Regression' : [rl_r2, rl_mse, rl_rmse, rl_erro_pct_pred]}).T\n",
    "dataAval.columns = ['R2', 'MSE', 'RMSE', 'Erro %']\n",
    "dataAval"
   ]
  },
  {
   "cell_type": "markdown",
   "id": "c7723e67",
   "metadata": {},
   "source": [
    "<h3> Analisando os erros </h3>"
   ]
  },
  {
   "cell_type": "code",
   "execution_count": 12,
   "id": "beaba6d3",
   "metadata": {},
   "outputs": [
    {
     "data": {
      "image/png": "[encoded data removed]",
      "text/plain": [
       "<Figure size 720x720 with 1 Axes>"
      ]
     },
     "metadata": {
      "needs_background": "light"
     },
     "output_type": "display_data"
    }
   ],
   "source": [
    "f, ax0 = plt.subplots(figsize=(10, 10))\n",
    "\n",
    "ax0.set_title('Real x Predição', fontsize=12)\n",
    "ax0.set_xlabel('Real', loc='right', fontsize=10)\n",
    "ax0.set_ylabel('Previsto', loc='center', fontsize=10)\n",
    "ax0.set_ylim(ymin=0, ymax=600)\n",
    "ax0.set_xlim(xmin=0, xmax=600)\n",
    "\n",
    "ax0 = sns.scatterplot(x=y_test, y=lr.predict(X_test), ax=ax0)"
   ]
  },
  {
   "cell_type": "code",
   "execution_count": 13,
   "id": "64345abb",
   "metadata": {},
   "outputs": [
    {
     "data": {
      "text/html": [
       "<div>\n",
       "<style scoped>\n",
       "    .dataframe tbody tr th:only-of-type {\n",
       "        vertical-align: middle;\n",
       "    }\n",
       "\n",
       "    .dataframe tbody tr th {\n",
       "        vertical-align: top;\n",
       "    }\n",
       "\n",
       "    .dataframe thead th {\n",
       "        text-align: right;\n",
       "    }\n",
       "</style>\n",
       "<table border=\"1\" class=\"dataframe\">\n",
       "  <thead>\n",
       "    <tr style=\"text-align: right;\">\n",
       "      <th></th>\n",
       "      <th>EngineSize</th>\n",
       "      <th>Cylinders</th>\n",
       "      <th>FuelConsumption</th>\n",
       "      <th>CO2_Real</th>\n",
       "      <th>CO2_Predict</th>\n",
       "      <th>Error</th>\n",
       "    </tr>\n",
       "  </thead>\n",
       "  <tbody>\n",
       "    <tr>\n",
       "      <th>0</th>\n",
       "      <td>5.3</td>\n",
       "      <td>8</td>\n",
       "      <td>14.0</td>\n",
       "      <td>329</td>\n",
       "      <td>324.775067</td>\n",
       "      <td>4.224933</td>\n",
       "    </tr>\n",
       "    <tr>\n",
       "      <th>1</th>\n",
       "      <td>1.6</td>\n",
       "      <td>4</td>\n",
       "      <td>8.2</td>\n",
       "      <td>195</td>\n",
       "      <td>195.611733</td>\n",
       "      <td>-0.611733</td>\n",
       "    </tr>\n",
       "    <tr>\n",
       "      <th>2</th>\n",
       "      <td>2.0</td>\n",
       "      <td>4</td>\n",
       "      <td>9.1</td>\n",
       "      <td>212</td>\n",
       "      <td>213.804094</td>\n",
       "      <td>-1.804094</td>\n",
       "    </tr>\n",
       "    <tr>\n",
       "      <th>3</th>\n",
       "      <td>1.4</td>\n",
       "      <td>4</td>\n",
       "      <td>9.1</td>\n",
       "      <td>214</td>\n",
       "      <td>213.458492</td>\n",
       "      <td>0.541508</td>\n",
       "    </tr>\n",
       "    <tr>\n",
       "      <th>4</th>\n",
       "      <td>4.4</td>\n",
       "      <td>8</td>\n",
       "      <td>12.7</td>\n",
       "      <td>302</td>\n",
       "      <td>298.311611</td>\n",
       "      <td>3.688389</td>\n",
       "    </tr>\n",
       "  </tbody>\n",
       "</table>\n",
       "</div>"
      ],
      "text/plain": [
       "   EngineSize  Cylinders  FuelConsumption  CO2_Real  CO2_Predict     Error\n",
       "0         5.3          8             14.0       329   324.775067  4.224933\n",
       "1         1.6          4              8.2       195   195.611733 -0.611733\n",
       "2         2.0          4              9.1       212   213.804094 -1.804094\n",
       "3         1.4          4              9.1       214   213.458492  0.541508\n",
       "4         4.4          8             12.7       302   298.311611  3.688389"
      ]
     },
     "execution_count": 13,
     "metadata": {},
     "output_type": "execute_result"
    }
   ],
   "source": [
    "dataError = pd.DataFrame()\n",
    "dataError['EngineSize'] = X_test['EngineSize']\n",
    "dataError['Cylinders'] = X_test['Cylinders']\n",
    "dataError['FuelConsumption'] = X_test['FuelConsumption']\n",
    "dataError['CO2_Real'] = y_test\n",
    "dataError['CO2_Predict'] = lr.predict(X_test)\n",
    "dataError['Error'] = dataError['CO2_Real'] - dataError['CO2_Predict']\n",
    "dataError.index = range(dataError.shape[0])\n",
    "\n",
    "dataError.head()"
   ]
  },
  {
   "cell_type": "code",
   "execution_count": 14,
   "id": "91df5981",
   "metadata": {},
   "outputs": [
    {
     "data": {
      "image/png": "[encoded data removed]",
      "text/plain": [
       "<Figure size 720x360 with 2 Axes>"
      ]
     },
     "metadata": {
      "needs_background": "light"
     },
     "output_type": "display_data"
    }
   ],
   "source": [
    "fig = plt.figure(constrained_layout=True)\n",
    "gs = GridSpec(1, 2, figure=fig)\n",
    "fig.set_size_inches(10,5)\n",
    "\n",
    "ax0 = fig.add_subplot(gs[0, 0])\n",
    "ax1 = fig.add_subplot(gs[0, 1])\n",
    "\n",
    "ax0.set_title('Erro de Predição x CO2_Real', fontsize=12)\n",
    "ax0.set_xlabel('Engine Size', loc='right', fontsize=10)\n",
    "ax0.set_ylabel('Erro (Real - Previsto)', loc='center', fontsize=10)\n",
    "ax0.set_ylim(ymin=-150, ymax=150)\n",
    "ax0.tick_params(labelsize=8)\n",
    "\n",
    "ax0 = sns.scatterplot(x=dataError.CO2_Real, y= dataError.Error, ax=ax0)\n",
    "ax0.axhline(0)\n",
    "\n",
    "\n",
    "ax1.set_title('Distribuição do Erro de Predição', fontsize=12)\n",
    "ax1.set_xlabel('Erro', loc='right', fontsize=10)\n",
    "ax1.set_ylabel('Quantidade', loc='center', fontsize=10)\n",
    "ax1.set_xlim(xmin=-150, xmax=150)\n",
    "ax1.tick_params(labelsize=8)\n",
    "\n",
    "sns.histplot(data=dataError, x=\"Error\", bins=30, ax=ax1)\n",
    "\n",
    "plt.show()"
   ]
  },
  {
   "cell_type": "markdown",
   "id": "cd1aad66",
   "metadata": {},
   "source": [
    "<h3>Predizendo a emissão de CO2 de um novo automóvel</h3>\n",
    "<li>EngineSize:  4.2</li>\n",
    "<li>Cylinders:  8</li>\n",
    "<li>FuelConsumption:  13.25</li>"
   ]
  },
  {
   "cell_type": "code",
   "execution_count": 15,
   "id": "91a343d5",
   "metadata": {},
   "outputs": [
    {
     "name": "stdout",
     "output_type": "stream",
     "text": [
      "Emissão de CO2 do carro projetado: 309.17 (g/km)\n"
     ]
    },
    {
     "name": "stderr",
     "output_type": "stream",
     "text": [
      "C:\\Desenvolvedor\\Py\\Anaconda3\\lib\\site-packages\\sklearn\\base.py:445: UserWarning: X does not have valid feature names, but LinearRegression was fitted with feature names\n",
      "  warnings.warn(\n"
     ]
    }
   ],
   "source": [
    "engine_size = 4.2\n",
    "cylinders = 8\n",
    "fuel_consumption = 13.25\n",
    "dados_carro_novo = [[engine_size, cylinders, fuel_consumption]]\n",
    "print(f'Emissão de CO2 do carro projetado: {lr.predict(dados_carro_novo)[0].round(2)} (g/km)')\n",
    "\n",
    "\n"
   ]
  },
  {
   "cell_type": "code",
   "execution_count": 16,
   "id": "841729cd",
   "metadata": {},
   "outputs": [
    {
     "name": "stdout",
     "output_type": "stream",
     "text": [
      "Emissão de CO2 do carro projetado: 309.17 (g/km)\n"
     ]
    }
   ],
   "source": [
    "dados_carro_novo = {'EngineSize' : 4.2,  'Cylinders' : 8, 'FuelConsumption': 13.25}\n",
    "dfDadosCarroNovo = pd.DataFrame.from_dict(data = dados_carro_novo, orient='index').T\n",
    "co2_predict = lr.predict(dfDadosCarroNovo[['EngineSize', 'Cylinders', 'FuelConsumption']])[0].round(2)\n",
    "print(f'Emissão de CO2 do carro projetado: {co2_predict} (g/km)')\n",
    "\n",
    "\n"
   ]
  },
  {
   "cell_type": "markdown",
   "id": "2a3e47d7",
   "metadata": {},
   "source": [
    "<h3> Interpretando os coeficientes estimados </h3>"
   ]
  },
  {
   "cell_type": "code",
   "execution_count": 17,
   "id": "b9a3e6cc",
   "metadata": {},
   "outputs": [
    {
     "data": {
      "text/html": [
       "<div>\n",
       "<style scoped>\n",
       "    .dataframe tbody tr th:only-of-type {\n",
       "        vertical-align: middle;\n",
       "    }\n",
       "\n",
       "    .dataframe tbody tr th {\n",
       "        vertical-align: top;\n",
       "    }\n",
       "\n",
       "    .dataframe thead th {\n",
       "        text-align: right;\n",
       "    }\n",
       "</style>\n",
       "<table border=\"1\" class=\"dataframe\">\n",
       "  <thead>\n",
       "    <tr style=\"text-align: right;\">\n",
       "      <th></th>\n",
       "      <th>Parâmetros</th>\n",
       "    </tr>\n",
       "  </thead>\n",
       "  <tbody>\n",
       "    <tr>\n",
       "      <th>Intercepto</th>\n",
       "      <td>19.759447</td>\n",
       "    </tr>\n",
       "    <tr>\n",
       "      <th>Engine Size (L)</th>\n",
       "      <td>0.576003</td>\n",
       "    </tr>\n",
       "    <tr>\n",
       "      <th>Cylinders (un)</th>\n",
       "      <td>2.819318</td>\n",
       "    </tr>\n",
       "    <tr>\n",
       "      <th>Fuel Consumption Comb (L/100 km)</th>\n",
       "      <td>19.957733</td>\n",
       "    </tr>\n",
       "  </tbody>\n",
       "</table>\n",
       "</div>"
      ],
      "text/plain": [
       "                                  Parâmetros\n",
       "Intercepto                         19.759447\n",
       "Engine Size (L)                     0.576003\n",
       "Cylinders (un)                      2.819318\n",
       "Fuel Consumption Comb (L/100 km)   19.957733"
      ]
     },
     "execution_count": 17,
     "metadata": {},
     "output_type": "execute_result"
    }
   ],
   "source": [
    "indices = ['Intercepto', 'Engine Size (L)', 'Cylinders (un)', 'Fuel Consumption Comb (L/100 km)']\n",
    "parametros = pd.DataFrame(data=np.append(lr.intercept_, lr.coef_), index=indices, columns=['Parâmetros'])\n",
    "parametros"
   ]
  },
  {
   "cell_type": "markdown",
   "id": "fe8656d5",
   "metadata": {},
   "source": [
    "<h3> Salvando e Recuperando o Preditor</h3>"
   ]
  },
  {
   "cell_type": "code",
   "execution_count": 18,
   "id": "491b8647",
   "metadata": {},
   "outputs": [],
   "source": [
    "out_model = open('./model/preditor_co2.bin', 'wb')\n",
    "pickle.dump(lr, out_model)\n",
    "out_model.close()"
   ]
  },
  {
   "cell_type": "code",
   "execution_count": 19,
   "id": "25c2b23a",
   "metadata": {},
   "outputs": [
    {
     "name": "stdout",
     "output_type": "stream",
     "text": [
      "Emissão de CO2 do carro projetado: 309.17 (g/km)\n"
     ]
    }
   ],
   "source": [
    "in_model = open('./model/preditor_co2.bin','rb')\n",
    "co2_pred = pickle.load(in_model)\n",
    "value_predict = co2_pred.predict(dfDadosCarroNovo[['EngineSize', 'Cylinders', 'FuelConsumption']])[0].round(2)\n",
    "print(f'Emissão de CO2 do carro projetado: {co2_predict} (g/km)')"
   ]
  },
  {
   "cell_type": "markdown",
   "id": "22319765",
   "metadata": {},
   "source": [
    "<h3>Predição por Regressão Multipla usando Gradiente Descedente Estocástico</h3>"
   ]
  },
  {
   "cell_type": "code",
   "execution_count": 20,
   "id": "2d6a5e14",
   "metadata": {},
   "outputs": [
    {
     "data": {
      "text/html": [
       "<div>\n",
       "<style scoped>\n",
       "    .dataframe tbody tr th:only-of-type {\n",
       "        vertical-align: middle;\n",
       "    }\n",
       "\n",
       "    .dataframe tbody tr th {\n",
       "        vertical-align: top;\n",
       "    }\n",
       "\n",
       "    .dataframe thead th {\n",
       "        text-align: right;\n",
       "    }\n",
       "</style>\n",
       "<table border=\"1\" class=\"dataframe\">\n",
       "  <thead>\n",
       "    <tr style=\"text-align: right;\">\n",
       "      <th></th>\n",
       "      <th>R2</th>\n",
       "      <th>MSE</th>\n",
       "      <th>RMSE</th>\n",
       "      <th>Erro %</th>\n",
       "    </tr>\n",
       "  </thead>\n",
       "  <tbody>\n",
       "    <tr>\n",
       "      <th>Stochastic Gradient Descent Regressor (0.0005)</th>\n",
       "      <td>0.94</td>\n",
       "      <td>216.55</td>\n",
       "      <td>14.72</td>\n",
       "      <td>5.70</td>\n",
       "    </tr>\n",
       "    <tr>\n",
       "      <th>Stochastic Gradient Descent Regressor (0.001)</th>\n",
       "      <td>0.95</td>\n",
       "      <td>213.03</td>\n",
       "      <td>14.60</td>\n",
       "      <td>5.66</td>\n",
       "    </tr>\n",
       "    <tr>\n",
       "      <th>Stochastic Gradient Descent Regressor (0.005)</th>\n",
       "      <td>0.95</td>\n",
       "      <td>207.73</td>\n",
       "      <td>14.41</td>\n",
       "      <td>5.63</td>\n",
       "    </tr>\n",
       "    <tr>\n",
       "      <th>Stochastic Gradient Descent Regressor (0.01)</th>\n",
       "      <td>0.65</td>\n",
       "      <td>1373.24</td>\n",
       "      <td>37.06</td>\n",
       "      <td>16.02</td>\n",
       "    </tr>\n",
       "  </tbody>\n",
       "</table>\n",
       "</div>"
      ],
      "text/plain": [
       "                                                  R2      MSE   RMSE  Erro %\n",
       "Stochastic Gradient Descent Regressor (0.0005)  0.94   216.55  14.72    5.70\n",
       "Stochastic Gradient Descent Regressor (0.001)   0.95   213.03  14.60    5.66\n",
       "Stochastic Gradient Descent Regressor (0.005)   0.95   207.73  14.41    5.63\n",
       "Stochastic Gradient Descent Regressor (0.01)    0.65  1373.24  37.06   16.02"
      ]
     },
     "execution_count": 20,
     "metadata": {},
     "output_type": "execute_result"
    }
   ],
   "source": [
    "dataAval_sgdr_train = pd.DataFrame(columns = ['R2', 'MSE', 'RMSE', 'Erro %'])\n",
    "\n",
    "etas = [0.0005, 0.001, 0.005, 0.01]\n",
    "\n",
    "for eta in etas :\n",
    "    sgdr = SGDRegressor(learning_rate= 'constant', eta0=eta).fit(X=X_train, y=y_train)\n",
    "    r2, mse, rmse, erro_pct_pred = metricas(y_train, sgdr.predict(X_train))\n",
    "    column_name = 'Stochastic Gradient Descent Regressor ('+ str(eta) + ')'\n",
    "    dataAval_sgdr = pd.DataFrame({column_name : [r2, mse, rmse, erro_pct_pred]}).T\n",
    "    dataAval_sgdr.columns = ['R2', 'MSE', 'RMSE', 'Erro %']\n",
    "    dataAval_sgdr_train = dataAval_sgdr_train.append(dataAval_sgdr)\n",
    "    \n",
    "\n",
    "dataAval_sgdr_train"
   ]
  },
  {
   "cell_type": "code",
   "execution_count": 21,
   "id": "65874aa0",
   "metadata": {},
   "outputs": [
    {
     "name": "stdout",
     "output_type": "stream",
     "text": [
      "Intercepto: [8.79318229]\n",
      "Intercepto: [-1.42203968  3.73851114 20.98410609]\n"
     ]
    }
   ],
   "source": [
    "sgdr = SGDRegressor(learning_rate= 'constant', eta0=0.001).fit(X=X_train, y=y_train)\n",
    "\n",
    "print(f\"Intercepto: {sgdr.intercept_}\")\n",
    "print(f\"Intercepto: {sgdr.coef_}\")"
   ]
  },
  {
   "cell_type": "code",
   "execution_count": 22,
   "id": "ea718556",
   "metadata": {},
   "outputs": [
    {
     "data": {
      "text/html": [
       "<div>\n",
       "<style scoped>\n",
       "    .dataframe tbody tr th:only-of-type {\n",
       "        vertical-align: middle;\n",
       "    }\n",
       "\n",
       "    .dataframe tbody tr th {\n",
       "        vertical-align: top;\n",
       "    }\n",
       "\n",
       "    .dataframe thead th {\n",
       "        text-align: right;\n",
       "    }\n",
       "</style>\n",
       "<table border=\"1\" class=\"dataframe\">\n",
       "  <thead>\n",
       "    <tr style=\"text-align: right;\">\n",
       "      <th></th>\n",
       "      <th>R2</th>\n",
       "      <th>MSE</th>\n",
       "      <th>RMSE</th>\n",
       "      <th>Erro %</th>\n",
       "    </tr>\n",
       "  </thead>\n",
       "  <tbody>\n",
       "    <tr>\n",
       "      <th>Stochastic Gradient Descent Regressor (0.0005)</th>\n",
       "      <td>0.94</td>\n",
       "      <td>216.55</td>\n",
       "      <td>14.72</td>\n",
       "      <td>5.70</td>\n",
       "    </tr>\n",
       "    <tr>\n",
       "      <th>Stochastic Gradient Descent Regressor (0.001)</th>\n",
       "      <td>0.95</td>\n",
       "      <td>213.03</td>\n",
       "      <td>14.60</td>\n",
       "      <td>5.66</td>\n",
       "    </tr>\n",
       "    <tr>\n",
       "      <th>Stochastic Gradient Descent Regressor (0.005)</th>\n",
       "      <td>0.95</td>\n",
       "      <td>207.73</td>\n",
       "      <td>14.41</td>\n",
       "      <td>5.63</td>\n",
       "    </tr>\n",
       "    <tr>\n",
       "      <th>Stochastic Gradient Descent Regressor (0.01)</th>\n",
       "      <td>0.65</td>\n",
       "      <td>1373.24</td>\n",
       "      <td>37.06</td>\n",
       "      <td>16.02</td>\n",
       "    </tr>\n",
       "    <tr>\n",
       "      <th>StdScaler - Stochastic Gradient Descent Regressor (0.0005)</th>\n",
       "      <td>0.95</td>\n",
       "      <td>203.12</td>\n",
       "      <td>14.25</td>\n",
       "      <td>5.54</td>\n",
       "    </tr>\n",
       "    <tr>\n",
       "      <th>StdScaler - Stochastic Gradient Descent Regressor (0.001)</th>\n",
       "      <td>0.95</td>\n",
       "      <td>203.07</td>\n",
       "      <td>14.25</td>\n",
       "      <td>5.54</td>\n",
       "    </tr>\n",
       "    <tr>\n",
       "      <th>StdScaler - Stochastic Gradient Descent Regressor (0.005)</th>\n",
       "      <td>0.95</td>\n",
       "      <td>203.39</td>\n",
       "      <td>14.26</td>\n",
       "      <td>5.54</td>\n",
       "    </tr>\n",
       "    <tr>\n",
       "      <th>StdScaler - Stochastic Gradient Descent Regressor (0.01)</th>\n",
       "      <td>0.95</td>\n",
       "      <td>212.05</td>\n",
       "      <td>14.56</td>\n",
       "      <td>5.67</td>\n",
       "    </tr>\n",
       "  </tbody>\n",
       "</table>\n",
       "</div>"
      ],
      "text/plain": [
       "                                                      R2      MSE   RMSE  \\\n",
       "Stochastic Gradient Descent Regressor (0.0005)      0.94   216.55  14.72   \n",
       "Stochastic Gradient Descent Regressor (0.001)       0.95   213.03  14.60   \n",
       "Stochastic Gradient Descent Regressor (0.005)       0.95   207.73  14.41   \n",
       "Stochastic Gradient Descent Regressor (0.01)        0.65  1373.24  37.06   \n",
       "StdScaler - Stochastic Gradient Descent Regress...  0.95   203.12  14.25   \n",
       "StdScaler - Stochastic Gradient Descent Regress...  0.95   203.07  14.25   \n",
       "StdScaler - Stochastic Gradient Descent Regress...  0.95   203.39  14.26   \n",
       "StdScaler - Stochastic Gradient Descent Regress...  0.95   212.05  14.56   \n",
       "\n",
       "                                                    Erro %  \n",
       "Stochastic Gradient Descent Regressor (0.0005)        5.70  \n",
       "Stochastic Gradient Descent Regressor (0.001)         5.66  \n",
       "Stochastic Gradient Descent Regressor (0.005)         5.63  \n",
       "Stochastic Gradient Descent Regressor (0.01)         16.02  \n",
       "StdScaler - Stochastic Gradient Descent Regress...    5.54  \n",
       "StdScaler - Stochastic Gradient Descent Regress...    5.54  \n",
       "StdScaler - Stochastic Gradient Descent Regress...    5.54  \n",
       "StdScaler - Stochastic Gradient Descent Regress...    5.67  "
      ]
     },
     "execution_count": 22,
     "metadata": {},
     "output_type": "execute_result"
    }
   ],
   "source": [
    "etas = [0.0005, 0.001, 0.005, 0.01]\n",
    "\n",
    "ss = StandardScaler().fit(X=X_train)\n",
    "X_std = ss.transform(X=X_train)\n",
    "\n",
    "for eta in etas :\n",
    "    sgdr_std = SGDRegressor(learning_rate= 'constant', eta0=eta).fit(X=X_std, y=y_train)\n",
    "    r2, mse, rmse, erro_pct_pred = metricas(y_train, sgdr_std.predict(X_std))\n",
    "    column_name = 'StdScaler - Stochastic Gradient Descent Regressor ('+ str(eta) + ')'\n",
    "    dataAval_sgdr = pd.DataFrame({column_name : [r2, mse, rmse, erro_pct_pred]}).T\n",
    "    dataAval_sgdr.columns = ['R2', 'MSE', 'RMSE', 'Erro %']\n",
    "    dataAval_sgdr_train = dataAval_sgdr_train.append(dataAval_sgdr)\n",
    "    \n",
    "dataAval_sgdr_train\n"
   ]
  },
  {
   "cell_type": "code",
   "execution_count": 23,
   "id": "5bd5a88f",
   "metadata": {},
   "outputs": [
    {
     "data": {
      "text/html": [
       "<div>\n",
       "<style scoped>\n",
       "    .dataframe tbody tr th:only-of-type {\n",
       "        vertical-align: middle;\n",
       "    }\n",
       "\n",
       "    .dataframe tbody tr th {\n",
       "        vertical-align: top;\n",
       "    }\n",
       "\n",
       "    .dataframe thead th {\n",
       "        text-align: right;\n",
       "    }\n",
       "</style>\n",
       "<table border=\"1\" class=\"dataframe\">\n",
       "  <thead>\n",
       "    <tr style=\"text-align: right;\">\n",
       "      <th></th>\n",
       "      <th>R2</th>\n",
       "      <th>MSE</th>\n",
       "      <th>RMSE</th>\n",
       "      <th>Erro %</th>\n",
       "    </tr>\n",
       "  </thead>\n",
       "  <tbody>\n",
       "    <tr>\n",
       "      <th>Linear Regression</th>\n",
       "      <td>0.95</td>\n",
       "      <td>248.88</td>\n",
       "      <td>15.78</td>\n",
       "      <td>5.99</td>\n",
       "    </tr>\n",
       "    <tr>\n",
       "      <th>SGDR (Dados Standardizados)</th>\n",
       "      <td>0.95</td>\n",
       "      <td>248.49</td>\n",
       "      <td>15.76</td>\n",
       "      <td>5.98</td>\n",
       "    </tr>\n",
       "  </tbody>\n",
       "</table>\n",
       "</div>"
      ],
      "text/plain": [
       "                               R2     MSE   RMSE  Erro %\n",
       "Linear Regression            0.95  248.88  15.78    5.99\n",
       "SGDR (Dados Standardizados)  0.95  248.49  15.76    5.98"
      ]
     },
     "execution_count": 23,
     "metadata": {},
     "output_type": "execute_result"
    }
   ],
   "source": [
    "eta = 0.0005\n",
    "sgdr_std = SGDRegressor(learning_rate= 'constant', eta0=eta).fit(X=X_std, y=y_train)\n",
    "\n",
    "X_test_std = ss.transform(X_test)\n",
    "\n",
    "sgdr_std_r2, sgdr_std_mse, sgdr_std_rmse, sgdr_std_erro_pct_pred = metricas(y_test, sgdr_std.predict(X_test_std))\n",
    "\n",
    "dataAval_ss = pd.DataFrame({'SGDR (Dados Standardizados)' : [sgdr_std_r2, sgdr_std_mse, sgdr_std_rmse, sgdr_std_erro_pct_pred]}).T\n",
    "dataAval_ss.columns = ['R2', 'MSE', 'RMSE', 'Erro %']\n",
    "dataAval = dataAval.append(dataAval_ss)\n",
    "dataAval"
   ]
  },
  {
   "cell_type": "code",
   "execution_count": 24,
   "id": "87439788",
   "metadata": {},
   "outputs": [
    {
     "name": "stdout",
     "output_type": "stream",
     "text": [
      "Intercepto: [257.29654809]\n",
      "Intercepto: [ 1.35599868  5.16846186 55.29602376]\n"
     ]
    }
   ],
   "source": [
    "print(f\"Intercepto: {sgdr_std.intercept_}\")\n",
    "print(f\"Intercepto: {sgdr_std.coef_}\")"
   ]
  },
  {
   "cell_type": "code",
   "execution_count": 25,
   "id": "40107a5f",
   "metadata": {},
   "outputs": [
    {
     "name": "stdout",
     "output_type": "stream",
     "text": [
      "Emissão de CO2 do carro projetado: 309.11 (g/km)\n"
     ]
    }
   ],
   "source": [
    "std_dados_carro_novo = ss.transform(dfDadosCarroNovo)\n",
    "co2_predict = sgdr_std.predict(std_dados_carro_novo)[0].round(2)\n",
    "print(f'Emissão de CO2 do carro projetado: {co2_predict} (g/km)')"
   ]
  }
 ],
 "metadata": {
  "kernelspec": {
   "display_name": "Python 3 (ipykernel)",
   "language": "python",
   "name": "python3"
  },
  "language_info": {
   "codemirror_mode": {
    "name": "ipython",
    "version": 3
   },
   "file_extension": ".py",
   "mimetype": "text/x-python",
   "name": "python",
   "nbconvert_exporter": "python",
   "pygments_lexer": "ipython3",
   "version": "3.8.12"
  }
 },
 "nbformat": 4,
 "nbformat_minor": 5
}
