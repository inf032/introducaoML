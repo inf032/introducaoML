{
  "cells": [
    {
      "cell_type": "markdown",
      "metadata": {
        "id": "view-in-github",
        "colab_type": "text"
      },
      "source": [
        "<a href=\"https://colab.research.google.com/github/inf032/introducaoML/blob/master/Farm04.Selecao_Preditoras.ipynb\" target=\"_parent\"><img src=\"https://colab.research.google.com/assets/colab-badge.svg\" alt=\"Open In Colab\"/></a>"
      ]
    },
    {
      "cell_type": "code",
      "source": [
        "!pip install Boruta # Run this if you do not have Boruta installed"
      ],
      "metadata": {
        "id": "v-rYnzxYSCCK",
        "colab": {
          "base_uri": "https://localhost:8080/"
        },
        "outputId": "09c2b5da-84c7-45ca-a029-89e8da77f5e5"
      },
      "id": "v-rYnzxYSCCK",
      "execution_count": 1,
      "outputs": [
        {
          "output_type": "stream",
          "name": "stdout",
          "text": [
            "Looking in indexes: https://pypi.org/simple, https://us-python.pkg.dev/colab-wheels/public/simple/\n",
            "Requirement already satisfied: Boruta in /usr/local/lib/python3.7/dist-packages (0.3)\n",
            "Requirement already satisfied: numpy>=1.10.4 in /usr/local/lib/python3.7/dist-packages (from Boruta) (1.21.6)\n",
            "Requirement already satisfied: scipy>=0.17.0 in /usr/local/lib/python3.7/dist-packages (from Boruta) (1.7.3)\n",
            "Requirement already satisfied: scikit-learn>=0.17.1 in /usr/local/lib/python3.7/dist-packages (from Boruta) (1.0.2)\n",
            "Requirement already satisfied: joblib>=0.11 in /usr/local/lib/python3.7/dist-packages (from scikit-learn>=0.17.1->Boruta) (1.2.0)\n",
            "Requirement already satisfied: threadpoolctl>=2.0.0 in /usr/local/lib/python3.7/dist-packages (from scikit-learn>=0.17.1->Boruta) (3.1.0)\n"
          ]
        }
      ]
    },
    {
      "cell_type": "markdown",
      "source": [
        "**Importação de Bibliotecas**\n"
      ],
      "metadata": {
        "id": "irPgDKyBYigh"
      },
      "id": "irPgDKyBYigh"
    },
    {
      "cell_type": "code",
      "execution_count": 2,
      "id": "ae43dca8",
      "metadata": {
        "id": "ae43dca8"
      },
      "outputs": [],
      "source": [
        "import numpy as np\n",
        "import pandas as pd\n",
        "import matplotlib.pyplot as plt\n",
        "import seaborn as sns\n",
        "import warnings\n",
        "import plotly.express as px\n",
        "\n",
        "from sklearn.preprocessing import LabelEncoder\n",
        "from sklearn.preprocessing import OrdinalEncoder\n",
        "from sklearn.preprocessing import OneHotEncoder\n",
        "from sklearn.preprocessing import StandardScaler\n",
        "from sklearn.pipeline import Pipeline\n",
        "from sklearn.compose import ColumnTransformer\n",
        "\n",
        "\n",
        "from sklearn.model_selection import train_test_split \n",
        "from sklearn.ensemble import GradientBoostingRegressor\n",
        "from sklearn.metrics  import mean_squared_error\n",
        "from sklearn.dummy import DummyRegressor\n",
        "\n",
        "from sklearn.base import BaseEstimator, TransformerMixin\n",
        "from sklearn.impute import KNNImputer\n",
        "from sklearn.impute._base import _BaseImputer\n",
        "\n",
        "from sklearn.tree import DecisionTreeClassifier\n",
        "\n",
        "\n",
        "warnings.filterwarnings('once')"
      ]
    },
    {
      "cell_type": "markdown",
      "source": [
        "**Classe para imputação e coluna de missing**"
      ],
      "metadata": {
        "id": "KlGVJJ7fZ2Cq"
      },
      "id": "KlGVJJ7fZ2Cq"
    },
    {
      "cell_type": "code",
      "source": [
        "class ImputerWithMissingMark (BaseEstimator, TransformerMixin):\n",
        "\n",
        "    def transformColunas_IMPUTED(self, X) -> pd.DataFrame :\n",
        "      copia = X.copy()\n",
        "      for col in self.col_name_with_nan :\n",
        "          copia[f'{col}{self.postfix}'] = copia[col].isna().astype(int)\n",
        "      return copia      \n",
        "\n",
        "    def col_with_nan(self, X) -> list:\n",
        "      list_col_with_nan = []\n",
        "      copia = X.copy()\n",
        "      for col in copia.columns :\n",
        "        if(copia[col].isna().sum() > 0) :\n",
        "          list_col_with_nan.append(col)\n",
        "      return list_col_with_nan\n",
        "\n",
        "    def col_num_with_nan(self, X) -> list:\n",
        "      cols = X.shape[1]\n",
        "      list_col_with_nan = []\n",
        "      for col in range(cols):    \n",
        "          if(np.count_nonzero(np.isnan(X[:,col])) > 0) :  \n",
        "              list_col_with_nan.append(col)\n",
        "      return list_col_with_nan        \n",
        "\n",
        "    def __init__(self, imputer=KNNImputer(), postfix = '_IMPUTED'):\n",
        "      self.imputer = imputer\n",
        "      self.col_name = None\n",
        "      self.fitted = False\n",
        "      self.col_name_with_nan = None\n",
        "      self.col_number_with_nan = None\n",
        "      self.postfix = postfix\n",
        "\n",
        "    def fit_DF(self, X):\n",
        "      self.col_name = X.columns.values\n",
        "      self.col_name_with_nan = self.col_with_nan(X)\n",
        "\n",
        "    def fit_NP(self, X):\n",
        "      self.col_number_with_nan = self.col_num_with_nan(X)\n",
        "\n",
        "    def transform_DF(self, X):\n",
        "      copia = self.transformColunas_IMPUTED(X)\n",
        "      transformed = pd.DataFrame(self.imputer.transform(copia[self.col_name]))\n",
        "      transformed.columns = X.columns\n",
        "      transformed.index = X.index\n",
        "      for col in self.col_name_with_nan :\n",
        "        transformed[f'{col}{self.postfix}'] = copia[f'{col}{self.postfix}']\n",
        "      return transformed\n",
        "\n",
        "    def transform_NP(self, X):\n",
        "      transformed = np.copy(X)\n",
        "      vazio = np.zeros(shape=(X.shape[0], 0))\n",
        "      for col in self.col_number_with_nan:\n",
        "        a_nan = [1 if np.isnan(x) else 0 for x in transformed[:,col]]\n",
        "        vazio = np.append(vazio, np.c_[a_nan], axis = 1)\n",
        "      transformed = self.imputer.transform(transformed)  \n",
        "      for col in range(vazio.shape[1]) :\n",
        "        transformed = np.append(transformed, np.c_[vazio[:, col]], axis = 1)\n",
        "      return transformed      \n",
        "\n",
        "    def fit(self, X, y=None):\n",
        "      if(self.fitted == False) :\n",
        "        self.fitted = True\n",
        "        if(type(X) == pd.DataFrame) :\n",
        "          self.fit_DF(X)\n",
        "        else :\n",
        "          self.fit_NP(X)  \n",
        "        self.imputer.fit(X)\n",
        "      return self\n",
        "\n",
        "    def transform(self, X, y=None):\n",
        "      if(self.fitted == True) :\n",
        "        if(self.col_name is not None) :\n",
        "          transformed = self.transform_DF(X)    \n",
        "        else :\n",
        "          transformed = self.transform_NP(X)    \n",
        "        return transformed\n",
        "      else :\n",
        "        return X\n",
        "\n",
        "    def get_params(self, deep=True):\n",
        "      # retorna um dicionário com os atributos e seus respectivos valores\n",
        "      return {\"imputer\": self.imputer, \n",
        "              \"postfix\": self.postfix}\n",
        "      \n",
        "    def set_params(self, **parameters):\n",
        "      # iterando pelos elementos passados e definindo-os na classe\n",
        "      for parameter, value in parameters.items():\n",
        "        setattr(self, parameter, value)\n",
        "      return self "
      ],
      "metadata": {
        "id": "_50KC6LolTY_"
      },
      "id": "_50KC6LolTY_",
      "execution_count": 3,
      "outputs": []
    },
    {
      "cell_type": "markdown",
      "source": [
        "**Leitura dos Dados**\n"
      ],
      "metadata": {
        "id": "WlFfqtdgtLdj"
      },
      "id": "WlFfqtdgtLdj"
    },
    {
      "cell_type": "code",
      "execution_count": 4,
      "id": "91409b52",
      "metadata": {
        "id": "91409b52",
        "outputId": "54eccb27-8e5a-4296-d63e-f400ce88e832",
        "colab": {
          "base_uri": "https://localhost:8080/"
        }
      },
      "outputs": [
        {
          "output_type": "stream",
          "name": "stdout",
          "text": [
            "Holdout: 168 individuos em treino. 57 individuos em teste.\n"
          ]
        }
      ],
      "source": [
        "SEED = 48\n",
        "np.random.seed(SEED)\n",
        "warnings.filterwarnings(action='once')\n",
        "\n",
        "\n",
        "resultados = []\n",
        "\n",
        "df = pd.read_csv('https://raw.githubusercontent.com/inf032/introducaoML/master/data/farmaco.csv')\n",
        "df.columns = ['IDADE', 'SEXO', 'PA', 'COLESTEROL', 'NA_K', 'FARMACO']\n",
        "preditoras = ['IDADE', 'SEXO', 'PA', 'COLESTEROL', 'NA_K']\n",
        "alvo = 'FARMACO'\n",
        "\n",
        "X = df[preditoras]\n",
        "y = df[alvo]\n",
        "\n",
        "X_train, X_test, y_train, y_test = train_test_split(X, y, test_size=0.25, stratify=y, random_state=SEED)\n",
        "\n",
        "print(f'Holdout: {X_train.shape[0]} individuos em treino. {X_test.shape[0]} individuos em teste.')"
      ]
    },
    {
      "cell_type": "markdown",
      "source": [
        "**Definindo pré-processamento e transformadores**"
      ],
      "metadata": {
        "id": "yTPevsLLamw3"
      },
      "id": "yTPevsLLamw3"
    },
    {
      "cell_type": "code",
      "source": [
        "feature_list = ['PA', 'COLESTEROL', 'SEXO', 'IDADE', 'NA_K', 'IDADE_IMPUTED', 'PA_IMPUTED', 'COLESTEROL_IMPUTED', 'NA_K_IMPUTED']\n",
        "\n",
        "ordinal_transformer = Pipeline(steps=[('ordinal_encoder', OrdinalEncoder(categories=[['LOW', 'NORMAL', 'HIGH'], \n",
        "                                                                                     ['LOW', 'NORMAL', 'HIGH']], \n",
        "                                                                          handle_unknown='use_encoded_value',\n",
        "                                                                          unknown_value=np.nan))\n",
        "                                     ])\n",
        "onehot_transformer = Pipeline(steps=[('one_hot_encoder',  OneHotEncoder(drop='if_binary', sparse=False))])\n",
        "\n",
        "col_transformer = ColumnTransformer(transformers=[('pa_colesterol', ordinal_transformer, ['PA', 'COLESTEROL']),\n",
        "                                                  ('sex', onehot_transformer, ['SEXO'])],\n",
        "                                    remainder='passthrough')\n",
        "\n",
        "transformer = Pipeline(steps=[('step_one', col_transformer), ('ss',  StandardScaler()),\n",
        "                              ('imputer', ImputerWithMissingMark())])\n",
        "\n",
        "le = LabelEncoder()"
      ],
      "metadata": {
        "id": "-PPHanbrEfDs"
      },
      "id": "-PPHanbrEfDs",
      "execution_count": 5,
      "outputs": []
    },
    {
      "cell_type": "markdown",
      "source": [
        "**Ajustando pré-processadores**"
      ],
      "metadata": {
        "id": "kh_1Zr76sKNc"
      },
      "id": "kh_1Zr76sKNc"
    },
    {
      "cell_type": "code",
      "source": [
        "le.fit(y_train)\n",
        "\n",
        "tree = DecisionTreeClassifier(criterion='gini', max_depth=10, \n",
        "                              min_samples_leaf = 2, min_samples_split = 3, \n",
        "                              random_state=SEED)\n",
        "\n",
        "\n",
        "modelo = Pipeline(steps=[('transformer', transformer),\n",
        "                         ('classificador',  tree)])  "
      ],
      "metadata": {
        "id": "5xQXte4xfvzD"
      },
      "id": "5xQXte4xfvzD",
      "execution_count": 6,
      "outputs": []
    },
    {
      "cell_type": "markdown",
      "source": [
        "**Calculando o score do modelo original (com todas as features**)"
      ],
      "metadata": {
        "id": "8QCsH5k_ryOk"
      },
      "id": "8QCsH5k_ryOk"
    },
    {
      "cell_type": "code",
      "source": [
        "def score_modelo(X_train, y_train, X_test, y_test) :\n",
        "  tree = DecisionTreeClassifier(criterion='gini', max_depth=10, \n",
        "                                min_samples_leaf = 2, min_samples_split = 3, \n",
        "                                random_state=SEED)\n",
        "  le = LabelEncoder()\n",
        "  le.fit(y_train)\n",
        "  tree.fit(X_train, le.transform(y_train))\n",
        "  score_original = tree.score(X_test, le.transform(y_test))\n",
        "  return X_train.shape[1], score_original"
      ],
      "metadata": {
        "id": "Go1P4ifQt3BS"
      },
      "id": "Go1P4ifQt3BS",
      "execution_count": 7,
      "outputs": []
    },
    {
      "cell_type": "code",
      "source": [
        "X_train_transformed = transformer.fit_transform(X_train)\n",
        "X_test_transformed = transformer.transform(X_test)\n",
        "qtde_var_original, score_original = score_modelo(X_train_transformed, y_train, X_test_transformed, y_test)\n",
        "resultados.append(['original', qtde_var_original, score_original])\n",
        "print(f'Score do modelo com {qtde_var_original} entradas: {np.round(score_original * 100, 5)}%')"
      ],
      "metadata": {
        "id": "JXpLhtsbrvoZ",
        "outputId": "f81b3429-42c1-4700-e0de-77a05b270a8d",
        "colab": {
          "base_uri": "https://localhost:8080/"
        }
      },
      "id": "JXpLhtsbrvoZ",
      "execution_count": 8,
      "outputs": [
        {
          "output_type": "stream",
          "name": "stdout",
          "text": [
            "Score do modelo com 9 entradas: 96.49123%\n"
          ]
        }
      ]
    },
    {
      "cell_type": "markdown",
      "source": [
        "**Utilizando o PCA para reduzir as dimensões dos dados.**"
      ],
      "metadata": {
        "id": "YPUslUB1bqLp"
      },
      "id": "YPUslUB1bqLp"
    },
    {
      "cell_type": "code",
      "source": [
        "modelo.fit(X_train, le.transform(y_train))\n",
        "X_train_transformed = modelo['transformer'].transform(X_train)\n",
        "dados_corr = pd.DataFrame(data=X_train_transformed, columns=feature_list).corr()\n",
        "dados_corr\n"
      ],
      "metadata": {
        "colab": {
          "base_uri": "https://localhost:8080/",
          "height": 332
        },
        "id": "FcPKVGGlb1Fm",
        "outputId": "ada01202-175b-4777-b01c-4eeb7c2a997e"
      },
      "id": "FcPKVGGlb1Fm",
      "execution_count": 9,
      "outputs": [
        {
          "output_type": "execute_result",
          "data": {
            "text/plain": [
              "                          PA  COLESTEROL      SEXO     IDADE      NA_K  \\\n",
              "PA                  1.000000    0.016277  0.020112 -0.012874  0.021938   \n",
              "COLESTEROL          0.016277    1.000000 -0.052433 -0.023870  0.029538   \n",
              "SEXO                0.020112   -0.052433  1.000000 -0.034154 -0.098681   \n",
              "IDADE              -0.012874   -0.023870 -0.034154  1.000000 -0.034278   \n",
              "NA_K                0.021938    0.029538 -0.098681 -0.034278  1.000000   \n",
              "IDADE_IMPUTED      -0.039317   -0.195438 -0.018412 -0.053335 -0.098392   \n",
              "PA_IMPUTED         -0.085148   -0.021908  0.018432  0.039097 -0.012485   \n",
              "COLESTEROL_IMPUTED -0.099207    0.045444 -0.085139 -0.006342  0.007638   \n",
              "NA_K_IMPUTED       -0.004225   -0.091921 -0.010501 -0.086901 -0.016346   \n",
              "\n",
              "                    IDADE_IMPUTED  PA_IMPUTED  COLESTEROL_IMPUTED  \\\n",
              "PA                      -0.039317   -0.085148           -0.099207   \n",
              "COLESTEROL              -0.195438   -0.021908            0.045444   \n",
              "SEXO                    -0.018412    0.018432           -0.085139   \n",
              "IDADE                   -0.053335    0.039097           -0.006342   \n",
              "NA_K                    -0.098392   -0.012485            0.007638   \n",
              "IDADE_IMPUTED            1.000000    0.155048           -0.014892   \n",
              "PA_IMPUTED               0.155048    1.000000            0.441825   \n",
              "COLESTEROL_IMPUTED      -0.014892    0.441825            1.000000   \n",
              "NA_K_IMPUTED            -0.021124   -0.019224           -0.008494   \n",
              "\n",
              "                    NA_K_IMPUTED  \n",
              "PA                     -0.004225  \n",
              "COLESTEROL             -0.091921  \n",
              "SEXO                   -0.010501  \n",
              "IDADE                  -0.086901  \n",
              "NA_K                   -0.016346  \n",
              "IDADE_IMPUTED          -0.021124  \n",
              "PA_IMPUTED             -0.019224  \n",
              "COLESTEROL_IMPUTED     -0.008494  \n",
              "NA_K_IMPUTED            1.000000  "
            ],
            "text/html": [
              "\n",
              "  <div id=\"df-59a80663-4279-44f4-b6ef-779f4f84be9e\">\n",
              "    <div class=\"colab-df-container\">\n",
              "      <div>\n",
              "<style scoped>\n",
              "    .dataframe tbody tr th:only-of-type {\n",
              "        vertical-align: middle;\n",
              "    }\n",
              "\n",
              "    .dataframe tbody tr th {\n",
              "        vertical-align: top;\n",
              "    }\n",
              "\n",
              "    .dataframe thead th {\n",
              "        text-align: right;\n",
              "    }\n",
              "</style>\n",
              "<table border=\"1\" class=\"dataframe\">\n",
              "  <thead>\n",
              "    <tr style=\"text-align: right;\">\n",
              "      <th></th>\n",
              "      <th>PA</th>\n",
              "      <th>COLESTEROL</th>\n",
              "      <th>SEXO</th>\n",
              "      <th>IDADE</th>\n",
              "      <th>NA_K</th>\n",
              "      <th>IDADE_IMPUTED</th>\n",
              "      <th>PA_IMPUTED</th>\n",
              "      <th>COLESTEROL_IMPUTED</th>\n",
              "      <th>NA_K_IMPUTED</th>\n",
              "    </tr>\n",
              "  </thead>\n",
              "  <tbody>\n",
              "    <tr>\n",
              "      <th>PA</th>\n",
              "      <td>1.000000</td>\n",
              "      <td>0.016277</td>\n",
              "      <td>0.020112</td>\n",
              "      <td>-0.012874</td>\n",
              "      <td>0.021938</td>\n",
              "      <td>-0.039317</td>\n",
              "      <td>-0.085148</td>\n",
              "      <td>-0.099207</td>\n",
              "      <td>-0.004225</td>\n",
              "    </tr>\n",
              "    <tr>\n",
              "      <th>COLESTEROL</th>\n",
              "      <td>0.016277</td>\n",
              "      <td>1.000000</td>\n",
              "      <td>-0.052433</td>\n",
              "      <td>-0.023870</td>\n",
              "      <td>0.029538</td>\n",
              "      <td>-0.195438</td>\n",
              "      <td>-0.021908</td>\n",
              "      <td>0.045444</td>\n",
              "      <td>-0.091921</td>\n",
              "    </tr>\n",
              "    <tr>\n",
              "      <th>SEXO</th>\n",
              "      <td>0.020112</td>\n",
              "      <td>-0.052433</td>\n",
              "      <td>1.000000</td>\n",
              "      <td>-0.034154</td>\n",
              "      <td>-0.098681</td>\n",
              "      <td>-0.018412</td>\n",
              "      <td>0.018432</td>\n",
              "      <td>-0.085139</td>\n",
              "      <td>-0.010501</td>\n",
              "    </tr>\n",
              "    <tr>\n",
              "      <th>IDADE</th>\n",
              "      <td>-0.012874</td>\n",
              "      <td>-0.023870</td>\n",
              "      <td>-0.034154</td>\n",
              "      <td>1.000000</td>\n",
              "      <td>-0.034278</td>\n",
              "      <td>-0.053335</td>\n",
              "      <td>0.039097</td>\n",
              "      <td>-0.006342</td>\n",
              "      <td>-0.086901</td>\n",
              "    </tr>\n",
              "    <tr>\n",
              "      <th>NA_K</th>\n",
              "      <td>0.021938</td>\n",
              "      <td>0.029538</td>\n",
              "      <td>-0.098681</td>\n",
              "      <td>-0.034278</td>\n",
              "      <td>1.000000</td>\n",
              "      <td>-0.098392</td>\n",
              "      <td>-0.012485</td>\n",
              "      <td>0.007638</td>\n",
              "      <td>-0.016346</td>\n",
              "    </tr>\n",
              "    <tr>\n",
              "      <th>IDADE_IMPUTED</th>\n",
              "      <td>-0.039317</td>\n",
              "      <td>-0.195438</td>\n",
              "      <td>-0.018412</td>\n",
              "      <td>-0.053335</td>\n",
              "      <td>-0.098392</td>\n",
              "      <td>1.000000</td>\n",
              "      <td>0.155048</td>\n",
              "      <td>-0.014892</td>\n",
              "      <td>-0.021124</td>\n",
              "    </tr>\n",
              "    <tr>\n",
              "      <th>PA_IMPUTED</th>\n",
              "      <td>-0.085148</td>\n",
              "      <td>-0.021908</td>\n",
              "      <td>0.018432</td>\n",
              "      <td>0.039097</td>\n",
              "      <td>-0.012485</td>\n",
              "      <td>0.155048</td>\n",
              "      <td>1.000000</td>\n",
              "      <td>0.441825</td>\n",
              "      <td>-0.019224</td>\n",
              "    </tr>\n",
              "    <tr>\n",
              "      <th>COLESTEROL_IMPUTED</th>\n",
              "      <td>-0.099207</td>\n",
              "      <td>0.045444</td>\n",
              "      <td>-0.085139</td>\n",
              "      <td>-0.006342</td>\n",
              "      <td>0.007638</td>\n",
              "      <td>-0.014892</td>\n",
              "      <td>0.441825</td>\n",
              "      <td>1.000000</td>\n",
              "      <td>-0.008494</td>\n",
              "    </tr>\n",
              "    <tr>\n",
              "      <th>NA_K_IMPUTED</th>\n",
              "      <td>-0.004225</td>\n",
              "      <td>-0.091921</td>\n",
              "      <td>-0.010501</td>\n",
              "      <td>-0.086901</td>\n",
              "      <td>-0.016346</td>\n",
              "      <td>-0.021124</td>\n",
              "      <td>-0.019224</td>\n",
              "      <td>-0.008494</td>\n",
              "      <td>1.000000</td>\n",
              "    </tr>\n",
              "  </tbody>\n",
              "</table>\n",
              "</div>\n",
              "      <button class=\"colab-df-convert\" onclick=\"convertToInteractive('df-59a80663-4279-44f4-b6ef-779f4f84be9e')\"\n",
              "              title=\"Convert this dataframe to an interactive table.\"\n",
              "              style=\"display:none;\">\n",
              "        \n",
              "  <svg xmlns=\"http://www.w3.org/2000/svg\" height=\"24px\"viewBox=\"0 0 24 24\"\n",
              "       width=\"24px\">\n",
              "    <path d=\"M0 0h24v24H0V0z\" fill=\"none\"/>\n",
              "    <path d=\"M18.56 5.44l.94 2.06.94-2.06 2.06-.94-2.06-.94-.94-2.06-.94 2.06-2.06.94zm-11 1L8.5 8.5l.94-2.06 2.06-.94-2.06-.94L8.5 2.5l-.94 2.06-2.06.94zm10 10l.94 2.06.94-2.06 2.06-.94-2.06-.94-.94-2.06-.94 2.06-2.06.94z\"/><path d=\"M17.41 7.96l-1.37-1.37c-.4-.4-.92-.59-1.43-.59-.52 0-1.04.2-1.43.59L10.3 9.45l-7.72 7.72c-.78.78-.78 2.05 0 2.83L4 21.41c.39.39.9.59 1.41.59.51 0 1.02-.2 1.41-.59l7.78-7.78 2.81-2.81c.8-.78.8-2.07 0-2.86zM5.41 20L4 18.59l7.72-7.72 1.47 1.35L5.41 20z\"/>\n",
              "  </svg>\n",
              "      </button>\n",
              "      \n",
              "  <style>\n",
              "    .colab-df-container {\n",
              "      display:flex;\n",
              "      flex-wrap:wrap;\n",
              "      gap: 12px;\n",
              "    }\n",
              "\n",
              "    .colab-df-convert {\n",
              "      background-color: #E8F0FE;\n",
              "      border: none;\n",
              "      border-radius: 50%;\n",
              "      cursor: pointer;\n",
              "      display: none;\n",
              "      fill: #1967D2;\n",
              "      height: 32px;\n",
              "      padding: 0 0 0 0;\n",
              "      width: 32px;\n",
              "    }\n",
              "\n",
              "    .colab-df-convert:hover {\n",
              "      background-color: #E2EBFA;\n",
              "      box-shadow: 0px 1px 2px rgba(60, 64, 67, 0.3), 0px 1px 3px 1px rgba(60, 64, 67, 0.15);\n",
              "      fill: #174EA6;\n",
              "    }\n",
              "\n",
              "    [theme=dark] .colab-df-convert {\n",
              "      background-color: #3B4455;\n",
              "      fill: #D2E3FC;\n",
              "    }\n",
              "\n",
              "    [theme=dark] .colab-df-convert:hover {\n",
              "      background-color: #434B5C;\n",
              "      box-shadow: 0px 1px 3px 1px rgba(0, 0, 0, 0.15);\n",
              "      filter: drop-shadow(0px 1px 2px rgba(0, 0, 0, 0.3));\n",
              "      fill: #FFFFFF;\n",
              "    }\n",
              "  </style>\n",
              "\n",
              "      <script>\n",
              "        const buttonEl =\n",
              "          document.querySelector('#df-59a80663-4279-44f4-b6ef-779f4f84be9e button.colab-df-convert');\n",
              "        buttonEl.style.display =\n",
              "          google.colab.kernel.accessAllowed ? 'block' : 'none';\n",
              "\n",
              "        async function convertToInteractive(key) {\n",
              "          const element = document.querySelector('#df-59a80663-4279-44f4-b6ef-779f4f84be9e');\n",
              "          const dataTable =\n",
              "            await google.colab.kernel.invokeFunction('convertToInteractive',\n",
              "                                                     [key], {});\n",
              "          if (!dataTable) return;\n",
              "\n",
              "          const docLinkHtml = 'Like what you see? Visit the ' +\n",
              "            '<a target=\"_blank\" href=https://colab.research.google.com/notebooks/data_table.ipynb>data table notebook</a>'\n",
              "            + ' to learn more about interactive tables.';\n",
              "          element.innerHTML = '';\n",
              "          dataTable['output_type'] = 'display_data';\n",
              "          await google.colab.output.renderOutput(dataTable, element);\n",
              "          const docLink = document.createElement('div');\n",
              "          docLink.innerHTML = docLinkHtml;\n",
              "          element.appendChild(docLink);\n",
              "        }\n",
              "      </script>\n",
              "    </div>\n",
              "  </div>\n",
              "  "
            ]
          },
          "metadata": {},
          "execution_count": 9
        }
      ]
    },
    {
      "cell_type": "code",
      "source": [
        "sns.heatmap(dados_corr)"
      ],
      "metadata": {
        "colab": {
          "base_uri": "https://localhost:8080/",
          "height": 391
        },
        "id": "khrNnvTbpRfH",
        "outputId": "afe9fdba-909c-4edc-ce1b-b06d8dde0738"
      },
      "id": "khrNnvTbpRfH",
      "execution_count": 10,
      "outputs": [
        {
          "output_type": "execute_result",
          "data": {
            "text/plain": [
              "<matplotlib.axes._subplots.AxesSubplot at 0x7f685b506c50>"
            ]
          },
          "metadata": {},
          "execution_count": 10
        },
        {
          "output_type": "display_data",
          "data": {
            "text/plain": [
              "<Figure size 432x288 with 2 Axes>"
            ],
            "image/png": "[encoded data removed]"
          },
          "metadata": {
            "needs_background": "light"
          }
        }
      ]
    },
    {
      "cell_type": "code",
      "source": [
        "from sklearn.decomposition import PCA\n",
        "pca = PCA()\n",
        "pca.fit_transform(transformer.transform(X_train))\n",
        "variancia_explicada = pca.explained_variance_\n",
        "print(variancia_explicada)"
      ],
      "metadata": {
        "id": "bIFWjSL8rG51",
        "outputId": "733b4ddf-4b19-4c0a-fe5d-bbbbad83dd82",
        "colab": {
          "base_uri": "https://localhost:8080/"
        }
      },
      "id": "bIFWjSL8rG51",
      "execution_count": 11,
      "outputs": [
        {
          "output_type": "stream",
          "name": "stdout",
          "text": [
            "[1.12452815 1.03506426 0.97287438 0.96026222 0.87078314 0.03625483\n",
            " 0.02669761 0.01158509 0.00442762]\n"
          ]
        }
      ]
    },
    {
      "cell_type": "code",
      "source": [
        "pct_variancia_explicada = np.round((pca.explained_variance_ratio_) * 100, 2)\n",
        "print(pct_variancia_explicada)"
      ],
      "metadata": {
        "id": "oXYYNAoks-uw",
        "outputId": "15fed690-3c91-4616-ee5e-23053346b9ae",
        "colab": {
          "base_uri": "https://localhost:8080/"
        }
      },
      "id": "oXYYNAoks-uw",
      "execution_count": 12,
      "outputs": [
        {
          "output_type": "stream",
          "name": "stdout",
          "text": [
            "[22.3  20.53 19.29 19.04 17.27  0.72  0.53  0.23  0.09]\n"
          ]
        }
      ]
    },
    {
      "cell_type": "code",
      "source": [
        "pca = PCA(n_components=4)\n",
        "X_train_pca = pca.fit_transform(transformer.transform(X_train))\n",
        "X_test_pca =  pca.transform(transformer.transform(X_test))\n",
        "qtde_var_pca, score_pca = score_modelo(X_train_pca, y_train, X_test_pca, y_test)\n",
        "resultados.append(['pca', qtde_var_pca, score_pca])\n",
        "print(f'Score do modelo com {qtde_var_pca} entradas: {np.round(score_pca * 100, 5)}%')"
      ],
      "metadata": {
        "id": "dYJXeQx1tSqQ",
        "outputId": "e56d0fbf-c7f0-4efc-92ad-e4326fe6642d",
        "colab": {
          "base_uri": "https://localhost:8080/"
        }
      },
      "id": "dYJXeQx1tSqQ",
      "execution_count": 13,
      "outputs": [
        {
          "output_type": "stream",
          "name": "stdout",
          "text": [
            "Score do modelo com 4 entradas: 87.7193%\n"
          ]
        }
      ]
    },
    {
      "cell_type": "code",
      "source": [
        "pct_variancia_explicada = np.round((pca.explained_variance_ratio_) * 100, 2)\n",
        "print(pct_variancia_explicada)"
      ],
      "metadata": {
        "id": "HiybGNXu3mnq",
        "outputId": "027e18f4-36eb-4120-f8f3-6023a387d75e",
        "colab": {
          "base_uri": "https://localhost:8080/"
        }
      },
      "id": "HiybGNXu3mnq",
      "execution_count": 14,
      "outputs": [
        {
          "output_type": "stream",
          "name": "stdout",
          "text": [
            "[22.3  20.53 19.29 19.04]\n"
          ]
        }
      ]
    },
    {
      "cell_type": "markdown",
      "source": [
        "**Utilizando o SelectKBest para reduzir a dimensão dos dados**"
      ],
      "metadata": {
        "id": "jaObtVJf-Trh"
      },
      "id": "jaObtVJf-Trh"
    },
    {
      "cell_type": "code",
      "source": [
        "from sklearn.feature_selection import SelectKBest\n",
        "from sklearn.preprocessing import MinMaxScaler\n",
        "from sklearn.feature_selection import chi2\n",
        "\n",
        "\n",
        "transformer_kbest = Pipeline(steps=[('step_one', col_transformer), \n",
        "                                    ('min_max', MinMaxScaler(feature_range=(0, 2))),\n",
        "                                    ('imputer', ImputerWithMissingMark())])\n",
        "\n",
        "\n",
        "selectKBest = SelectKBest(chi2, k=4)"
      ],
      "metadata": {
        "id": "O-xSWvqi-S8A"
      },
      "id": "O-xSWvqi-S8A",
      "execution_count": 15,
      "outputs": []
    },
    {
      "cell_type": "code",
      "source": [
        "X_train_kbest = selectKBest.fit_transform(transformer_kbest.fit_transform(X_train), le.transform(y_train))\n",
        "X_test_kbest =  selectKBest.transform(transformer_kbest.transform(X_test))\n",
        "qtde_var_k_best, score_k_best = score_modelo(X_train_kbest, y_train, X_test_kbest, y_test)\n",
        "resultados.append(['k_best', qtde_var_k_best, score_k_best])\n",
        "print(f'Score do modelo com {qtde_var_k_best} entradas: {np.round(score_k_best * 100, 5)}%')"
      ],
      "metadata": {
        "id": "7Hm0T1d0A61T",
        "outputId": "d438ec93-f54f-4305-ea22-0ffddb4c6571",
        "colab": {
          "base_uri": "https://localhost:8080/"
        }
      },
      "id": "7Hm0T1d0A61T",
      "execution_count": 16,
      "outputs": [
        {
          "output_type": "stream",
          "name": "stdout",
          "text": [
            "Score do modelo com 4 entradas: 87.7193%\n"
          ]
        }
      ]
    },
    {
      "cell_type": "markdown",
      "source": [
        "**Utilizando a Eliminação Recursiva de Atributos para reduzir a dimensão dos dados**"
      ],
      "metadata": {
        "id": "IaGEPrT3mggF"
      },
      "id": "IaGEPrT3mggF"
    },
    {
      "cell_type": "code",
      "source": [
        "from sklearn.feature_selection import RFE\n",
        "\n",
        "\n",
        "rfe = RFE(estimator=tree, n_features_to_select=3, step=1)\n",
        "rfe.fit(X_train_transformed, le.transform(y_train))\n",
        "rfe.support_\n",
        "\n",
        "cols_selected = rfe.support_.tolist()\n",
        "for selected, feature_name in zip(cols_selected, feature_list) :\n",
        "  if(selected) :\n",
        "    print(feature_name)\n"
      ],
      "metadata": {
        "colab": {
          "base_uri": "https://localhost:8080/"
        },
        "id": "_6qvhtqtl8qL",
        "outputId": "9fff5566-3445-4bc4-b5e1-af3ee3c3d6d5"
      },
      "id": "_6qvhtqtl8qL",
      "execution_count": 17,
      "outputs": [
        {
          "output_type": "stream",
          "name": "stdout",
          "text": [
            "PA\n",
            "IDADE\n",
            "NA_K\n"
          ]
        }
      ]
    },
    {
      "cell_type": "code",
      "source": [
        "rank = rfe.ranking_\n",
        "for pos, feature_name in zip(rank, feature_list) :\n",
        "  print(pos, feature_name)"
      ],
      "metadata": {
        "colab": {
          "base_uri": "https://localhost:8080/"
        },
        "id": "aKS107Ggo9Es",
        "outputId": "dd76013c-0c15-4355-fede-11fc0ca908e5"
      },
      "id": "aKS107Ggo9Es",
      "execution_count": 18,
      "outputs": [
        {
          "output_type": "stream",
          "name": "stdout",
          "text": [
            "1 PA\n",
            "5 COLESTEROL\n",
            "7 SEXO\n",
            "1 IDADE\n",
            "1 NA_K\n",
            "6 IDADE_IMPUTED\n",
            "4 PA_IMPUTED\n",
            "3 COLESTEROL_IMPUTED\n",
            "2 NA_K_IMPUTED\n"
          ]
        }
      ]
    },
    {
      "cell_type": "markdown",
      "source": [
        "**Usando RFECV para a identificação da quantidade ideal de Features**"
      ],
      "metadata": {
        "id": "nwGR3AcLyqs-"
      },
      "id": "nwGR3AcLyqs-"
    },
    {
      "cell_type": "code",
      "source": [
        "from sklearn.feature_selection import RFECV\n",
        "\n",
        "rfecv = RFECV(estimator = tree, cv = 5, scoring = \"accuracy\", step = 1)\n",
        "rfecv.fit(X_train_transformed, le.transform(y_train))\n",
        "X_train_rfecv = rfecv.transform(X_train_transformed)\n",
        "X_test_rfecv = rfecv.transform(X_test_transformed)\n",
        "tree.fit(X_train_rfecv, le.transform(y_train))\n",
        "\n",
        "print(f'Score: {np.round(tree.score(X_test_rfecv, le.transform(y_test)) * 100, 4)}%')\n",
        "print(f'Número de Features: {tree.n_features_in_}')"
      ],
      "metadata": {
        "id": "RjY2eQwtyqX0",
        "outputId": "180411e4-7e5d-4d22-ebc2-6460668f89a7",
        "colab": {
          "base_uri": "https://localhost:8080/"
        }
      },
      "id": "RjY2eQwtyqX0",
      "execution_count": 19,
      "outputs": [
        {
          "output_type": "stream",
          "name": "stdout",
          "text": [
            "Score: 94.7368%\n",
            "Número de Features: 3\n"
          ]
        }
      ]
    },
    {
      "cell_type": "code",
      "source": [
        "cols_selected = rfecv.support_.tolist()\n",
        "for selected, feature_name in zip(cols_selected, feature_list) :\n",
        "  if(selected) :\n",
        "    print(feature_name)"
      ],
      "metadata": {
        "id": "2Vz8TWwIy05M",
        "outputId": "62183366-cb9a-4882-ea20-caae27226e8f",
        "colab": {
          "base_uri": "https://localhost:8080/"
        }
      },
      "id": "2Vz8TWwIy05M",
      "execution_count": 20,
      "outputs": [
        {
          "output_type": "stream",
          "name": "stdout",
          "text": [
            "PA\n",
            "IDADE\n",
            "NA_K\n"
          ]
        }
      ]
    },
    {
      "cell_type": "code",
      "source": [
        "rank = rfecv.ranking_\n",
        "for pos, feature_name in zip(rank, feature_list) :\n",
        "  print(pos, feature_name)"
      ],
      "metadata": {
        "id": "kxCAGRRGzk3V",
        "outputId": "590c9bf0-4d53-4696-eecd-cf029474da5b",
        "colab": {
          "base_uri": "https://localhost:8080/"
        }
      },
      "id": "kxCAGRRGzk3V",
      "execution_count": 21,
      "outputs": [
        {
          "output_type": "stream",
          "name": "stdout",
          "text": [
            "1 PA\n",
            "5 COLESTEROL\n",
            "7 SEXO\n",
            "1 IDADE\n",
            "1 NA_K\n",
            "6 IDADE_IMPUTED\n",
            "4 PA_IMPUTED\n",
            "3 COLESTEROL_IMPUTED\n",
            "2 NA_K_IMPUTED\n"
          ]
        }
      ]
    },
    {
      "cell_type": "markdown",
      "source": [
        "**Utilizando o Boruta para reduzir a dimensão dos dados**"
      ],
      "metadata": {
        "id": "b6yqHfuu3xGD"
      },
      "id": "b6yqHfuu3xGD"
    },
    {
      "cell_type": "code",
      "source": [
        "from boruta import BorutaPy\n",
        "from sklearn.ensemble import RandomForestRegressor\n",
        "rf = RandomForestRegressor()\n",
        "boruta = BorutaPy(rf, verbose=0, max_iter=20, random_state=SEED).fit(transformer.fit_transform(X_train), le.transform(y_train))"
      ],
      "metadata": {
        "colab": {
          "base_uri": "https://localhost:8080/"
        },
        "id": "2sj25bxvRwW5",
        "outputId": "23eccede-4248-4f02-92e7-c42e7a0568ae"
      },
      "id": "2sj25bxvRwW5",
      "execution_count": 19,
      "outputs": [
        {
          "output_type": "stream",
          "name": "stderr",
          "text": [
            "/usr/local/lib/python3.7/dist-packages/boruta/boruta_py.py:260: DeprecationWarning: `np.int` is a deprecated alias for the builtin `int`. To silence this warning, use `int` by itself. Doing this will not modify any behavior and is safe. When replacing `np.int`, you may wish to use e.g. `np.int64` or `np.int32` to specify the precision. If you wish to review your current use, check the release note link for additional information.\n",
            "Deprecated in NumPy 1.20; for more details and guidance: https://numpy.org/devdocs/release/1.20.0-notes.html#deprecations\n",
            "  dec_reg = np.zeros(n_feat, dtype=np.int)\n",
            "/usr/local/lib/python3.7/dist-packages/boruta/boruta_py.py:265: DeprecationWarning: `np.float` is a deprecated alias for the builtin `float`. To silence this warning, use `float` by itself. Doing this will not modify any behavior and is safe. If you specifically wanted the numpy scalar type, use `np.float64` here.\n",
            "Deprecated in NumPy 1.20; for more details and guidance: https://numpy.org/devdocs/release/1.20.0-notes.html#deprecations\n",
            "  imp_history = np.zeros(n_feat, dtype=np.float)\n",
            "/usr/local/lib/python3.7/dist-packages/boruta/boruta_py.py:319: DeprecationWarning: `np.bool` is a deprecated alias for the builtin `bool`. To silence this warning, use `bool` by itself. Doing this will not modify any behavior and is safe. If you specifically wanted the numpy scalar type, use `np.bool_` here.\n",
            "Deprecated in NumPy 1.20; for more details and guidance: https://numpy.org/devdocs/release/1.20.0-notes.html#deprecations\n",
            "  self.support_ = np.zeros(n_feat, dtype=np.bool)\n",
            "/usr/local/lib/python3.7/dist-packages/boruta/boruta_py.py:325: DeprecationWarning: `np.int` is a deprecated alias for the builtin `int`. To silence this warning, use `int` by itself. Doing this will not modify any behavior and is safe. When replacing `np.int`, you may wish to use e.g. `np.int64` or `np.int32` to specify the precision. If you wish to review your current use, check the release note link for additional information.\n",
            "Deprecated in NumPy 1.20; for more details and guidance: https://numpy.org/devdocs/release/1.20.0-notes.html#deprecations\n",
            "  self.ranking_ = np.ones(n_feat, dtype=np.int)\n"
          ]
        }
      ]
    },
    {
      "cell_type": "code",
      "source": [
        "cols_selected = boruta.support_.tolist()\n",
        "for selected, feature_name in zip(cols_selected, feature_list) :\n",
        "  if(selected) :\n",
        "    print(feature_name)"
      ],
      "metadata": {
        "colab": {
          "base_uri": "https://localhost:8080/"
        },
        "id": "w-yiwHQcZR0S",
        "outputId": "6be7b7af-5398-4811-9c19-e84385ef3b8e"
      },
      "id": "w-yiwHQcZR0S",
      "execution_count": 20,
      "outputs": [
        {
          "output_type": "stream",
          "name": "stdout",
          "text": [
            "PA\n",
            "IDADE\n",
            "NA_K\n"
          ]
        }
      ]
    },
    {
      "cell_type": "code",
      "source": [
        "cols_weak = boruta.support_weak_.tolist()\n",
        "for selected, feature_name in zip(cols_weak, feature_list) :\n",
        "  if(selected) :\n",
        "    print(feature_name)"
      ],
      "metadata": {
        "id": "Il8fkO1l4yVE"
      },
      "id": "Il8fkO1l4yVE",
      "execution_count": 21,
      "outputs": []
    },
    {
      "cell_type": "code",
      "source": [
        "rank = boruta.ranking_\n",
        "for pos, feature_name in zip(rank, feature_list) :\n",
        "  print(pos, feature_name)"
      ],
      "metadata": {
        "colab": {
          "base_uri": "https://localhost:8080/"
        },
        "id": "NPUAN_kYbFuO",
        "outputId": "2e96a16c-25b6-4b1f-d0e6-f8d8100ed6ea"
      },
      "id": "NPUAN_kYbFuO",
      "execution_count": 22,
      "outputs": [
        {
          "output_type": "stream",
          "name": "stdout",
          "text": [
            "1 PA\n",
            "2 COLESTEROL\n",
            "3 SEXO\n",
            "1 IDADE\n",
            "1 NA_K\n",
            "4 IDADE_IMPUTED\n",
            "5 PA_IMPUTED\n",
            "6 COLESTEROL_IMPUTED\n",
            "6 NA_K_IMPUTED\n"
          ]
        }
      ]
    },
    {
      "cell_type": "code",
      "source": [
        "from sklearn.impute import SimpleImputer\n",
        "\n",
        "SEED = 48\n",
        "\n",
        "sel_preditoras = ['IDADE', 'PA', 'NA_K']\n",
        "sel_alvo = 'FARMACO'\n",
        "\n",
        "sel_X = df[sel_preditoras]\n",
        "sel_y = df[sel_alvo]\n",
        "\n",
        "sel_X_train, sel_X_test, sel_y_train, sel_y_test = train_test_split(sel_X, sel_y, test_size=0.25, stratify=sel_y, random_state=SEED)\n",
        "\n",
        "tree = DecisionTreeClassifier(criterion='gini', max_depth=10, \n",
        "                               min_samples_leaf = 2, min_samples_split = 3)\n",
        "\n",
        "sel_le = LabelEncoder()\n",
        "sel_y_train_le = pd.Series(sel_le.fit_transform(sel_y_train))\n",
        "\n",
        "\n",
        "sel_ordinal_transformer = Pipeline(steps=[('ordinal_encoder', OrdinalEncoder(categories=[['LOW', 'NORMAL', 'HIGH']], \n",
        "                                                                             handle_unknown='use_encoded_value',\n",
        "                                                                             unknown_value=np.nan))\n",
        "                                     ])\n",
        "\n",
        "sel_col_transformer = ColumnTransformer(transformers=[('pa', sel_ordinal_transformer, ['PA'])],\n",
        "                                    remainder='passthrough')\n",
        "\n",
        "sel_transformer = Pipeline(steps=[('step_one', sel_col_transformer), ('ss',  StandardScaler()), \n",
        "                                  ('imputer', SimpleImputer(strategy='median'))])\n",
        "\n",
        "sel_modelo = Pipeline(steps=[('transformer', sel_transformer), ('classificador',  tree)]).fit(sel_X_train, sel_y_train_le)\n",
        "\n",
        "\n",
        "score_var_boruta = sel_modelo.score(sel_X_test, le.transform(sel_y_test))\n"
      ],
      "metadata": {
        "id": "hW-kJpOfEITy"
      },
      "id": "hW-kJpOfEITy",
      "execution_count": 23,
      "outputs": []
    },
    {
      "cell_type": "code",
      "source": [
        "resultados.append(['boruta', sel_X_test.shape[1], score_var_boruta])\n",
        "print(f'Score do modelo com {sel_X_test.shape[1]} entradas: {np.round(score_var_boruta * 100, 5)}%')"
      ],
      "metadata": {
        "id": "bu1cm22n6wH1",
        "outputId": "96cd6f63-e0c0-4d9a-e35e-06405fbf942a",
        "colab": {
          "base_uri": "https://localhost:8080/"
        }
      },
      "id": "bu1cm22n6wH1",
      "execution_count": 24,
      "outputs": [
        {
          "output_type": "stream",
          "name": "stdout",
          "text": [
            "Score do modelo com 3 entradas: 96.49123%\n"
          ]
        }
      ]
    },
    {
      "cell_type": "code",
      "source": [
        "resultados.append(['RFE', sel_X_test.shape[1], score_var_boruta])"
      ],
      "metadata": {
        "id": "2u_odUAepU09"
      },
      "id": "2u_odUAepU09",
      "execution_count": 25,
      "outputs": []
    },
    {
      "cell_type": "markdown",
      "source": [
        "**Resultados das Seleções**"
      ],
      "metadata": {
        "id": "kuRlG5Hx0lvV"
      },
      "id": "kuRlG5Hx0lvV"
    },
    {
      "cell_type": "code",
      "source": [
        "dfResultados = pd.DataFrame(data = resultados, columns=['METODO', 'DIMENSOES', 'SCORE'])\n",
        "dfResultados.SCORE = np.round(dfResultados.SCORE * 100, 4)\n",
        "dfResultados"
      ],
      "metadata": {
        "colab": {
          "base_uri": "https://localhost:8080/",
          "height": 206
        },
        "id": "UngGmiHQY7AG",
        "outputId": "73c9afa6-a061-4cc4-910c-f287f2dbff33"
      },
      "id": "UngGmiHQY7AG",
      "execution_count": 27,
      "outputs": [
        {
          "output_type": "execute_result",
          "data": {
            "text/plain": [
              "     METODO  DIMENSOES    SCORE\n",
              "0  original          9  96.4912\n",
              "1       pca          4  87.7193\n",
              "2    k_best          4  87.7193\n",
              "3    boruta          3  96.4912\n",
              "4       RFE          3  96.4912"
            ],
            "text/html": [
              "\n",
              "  <div id=\"df-b7d77687-332e-452f-b534-83cd9ee5c561\">\n",
              "    <div class=\"colab-df-container\">\n",
              "      <div>\n",
              "<style scoped>\n",
              "    .dataframe tbody tr th:only-of-type {\n",
              "        vertical-align: middle;\n",
              "    }\n",
              "\n",
              "    .dataframe tbody tr th {\n",
              "        vertical-align: top;\n",
              "    }\n",
              "\n",
              "    .dataframe thead th {\n",
              "        text-align: right;\n",
              "    }\n",
              "</style>\n",
              "<table border=\"1\" class=\"dataframe\">\n",
              "  <thead>\n",
              "    <tr style=\"text-align: right;\">\n",
              "      <th></th>\n",
              "      <th>METODO</th>\n",
              "      <th>DIMENSOES</th>\n",
              "      <th>SCORE</th>\n",
              "    </tr>\n",
              "  </thead>\n",
              "  <tbody>\n",
              "    <tr>\n",
              "      <th>0</th>\n",
              "      <td>original</td>\n",
              "      <td>9</td>\n",
              "      <td>96.4912</td>\n",
              "    </tr>\n",
              "    <tr>\n",
              "      <th>1</th>\n",
              "      <td>pca</td>\n",
              "      <td>4</td>\n",
              "      <td>87.7193</td>\n",
              "    </tr>\n",
              "    <tr>\n",
              "      <th>2</th>\n",
              "      <td>k_best</td>\n",
              "      <td>4</td>\n",
              "      <td>87.7193</td>\n",
              "    </tr>\n",
              "    <tr>\n",
              "      <th>3</th>\n",
              "      <td>boruta</td>\n",
              "      <td>3</td>\n",
              "      <td>96.4912</td>\n",
              "    </tr>\n",
              "    <tr>\n",
              "      <th>4</th>\n",
              "      <td>RFE</td>\n",
              "      <td>3</td>\n",
              "      <td>96.4912</td>\n",
              "    </tr>\n",
              "  </tbody>\n",
              "</table>\n",
              "</div>\n",
              "      <button class=\"colab-df-convert\" onclick=\"convertToInteractive('df-b7d77687-332e-452f-b534-83cd9ee5c561')\"\n",
              "              title=\"Convert this dataframe to an interactive table.\"\n",
              "              style=\"display:none;\">\n",
              "        \n",
              "  <svg xmlns=\"http://www.w3.org/2000/svg\" height=\"24px\"viewBox=\"0 0 24 24\"\n",
              "       width=\"24px\">\n",
              "    <path d=\"M0 0h24v24H0V0z\" fill=\"none\"/>\n",
              "    <path d=\"M18.56 5.44l.94 2.06.94-2.06 2.06-.94-2.06-.94-.94-2.06-.94 2.06-2.06.94zm-11 1L8.5 8.5l.94-2.06 2.06-.94-2.06-.94L8.5 2.5l-.94 2.06-2.06.94zm10 10l.94 2.06.94-2.06 2.06-.94-2.06-.94-.94-2.06-.94 2.06-2.06.94z\"/><path d=\"M17.41 7.96l-1.37-1.37c-.4-.4-.92-.59-1.43-.59-.52 0-1.04.2-1.43.59L10.3 9.45l-7.72 7.72c-.78.78-.78 2.05 0 2.83L4 21.41c.39.39.9.59 1.41.59.51 0 1.02-.2 1.41-.59l7.78-7.78 2.81-2.81c.8-.78.8-2.07 0-2.86zM5.41 20L4 18.59l7.72-7.72 1.47 1.35L5.41 20z\"/>\n",
              "  </svg>\n",
              "      </button>\n",
              "      \n",
              "  <style>\n",
              "    .colab-df-container {\n",
              "      display:flex;\n",
              "      flex-wrap:wrap;\n",
              "      gap: 12px;\n",
              "    }\n",
              "\n",
              "    .colab-df-convert {\n",
              "      background-color: #E8F0FE;\n",
              "      border: none;\n",
              "      border-radius: 50%;\n",
              "      cursor: pointer;\n",
              "      display: none;\n",
              "      fill: #1967D2;\n",
              "      height: 32px;\n",
              "      padding: 0 0 0 0;\n",
              "      width: 32px;\n",
              "    }\n",
              "\n",
              "    .colab-df-convert:hover {\n",
              "      background-color: #E2EBFA;\n",
              "      box-shadow: 0px 1px 2px rgba(60, 64, 67, 0.3), 0px 1px 3px 1px rgba(60, 64, 67, 0.15);\n",
              "      fill: #174EA6;\n",
              "    }\n",
              "\n",
              "    [theme=dark] .colab-df-convert {\n",
              "      background-color: #3B4455;\n",
              "      fill: #D2E3FC;\n",
              "    }\n",
              "\n",
              "    [theme=dark] .colab-df-convert:hover {\n",
              "      background-color: #434B5C;\n",
              "      box-shadow: 0px 1px 3px 1px rgba(0, 0, 0, 0.15);\n",
              "      filter: drop-shadow(0px 1px 2px rgba(0, 0, 0, 0.3));\n",
              "      fill: #FFFFFF;\n",
              "    }\n",
              "  </style>\n",
              "\n",
              "      <script>\n",
              "        const buttonEl =\n",
              "          document.querySelector('#df-b7d77687-332e-452f-b534-83cd9ee5c561 button.colab-df-convert');\n",
              "        buttonEl.style.display =\n",
              "          google.colab.kernel.accessAllowed ? 'block' : 'none';\n",
              "\n",
              "        async function convertToInteractive(key) {\n",
              "          const element = document.querySelector('#df-b7d77687-332e-452f-b534-83cd9ee5c561');\n",
              "          const dataTable =\n",
              "            await google.colab.kernel.invokeFunction('convertToInteractive',\n",
              "                                                     [key], {});\n",
              "          if (!dataTable) return;\n",
              "\n",
              "          const docLinkHtml = 'Like what you see? Visit the ' +\n",
              "            '<a target=\"_blank\" href=https://colab.research.google.com/notebooks/data_table.ipynb>data table notebook</a>'\n",
              "            + ' to learn more about interactive tables.';\n",
              "          element.innerHTML = '';\n",
              "          dataTable['output_type'] = 'display_data';\n",
              "          await google.colab.output.renderOutput(dataTable, element);\n",
              "          const docLink = document.createElement('div');\n",
              "          docLink.innerHTML = docLinkHtml;\n",
              "          element.appendChild(docLink);\n",
              "        }\n",
              "      </script>\n",
              "    </div>\n",
              "  </div>\n",
              "  "
            ]
          },
          "metadata": {},
          "execution_count": 27
        }
      ]
    },
    {
      "cell_type": "markdown",
      "source": [
        "**DataViz - Visualização dos Dados**"
      ],
      "metadata": {
        "id": "xtwA5cOT2rXW"
      },
      "id": "xtwA5cOT2rXW"
    },
    {
      "cell_type": "code",
      "source": [
        "import plotly.express as px\n",
        "fig = px.scatter_3d(df, x='IDADE', y='PA', z='NA_K',\n",
        "                    color='FARMACO')\n",
        "fig.show()"
      ],
      "metadata": {
        "id": "l13ps3OkCYNL",
        "outputId": "480c7abb-5ee6-49fc-cbad-b91323057c90",
        "colab": {
          "base_uri": "https://localhost:8080/",
          "height": 542
        }
      },
      "id": "l13ps3OkCYNL",
      "execution_count": 26,
      "outputs": [
        {
          "output_type": "display_data",
          "data": {
            "text/html": [
              "<html>\n",
              "<head><meta charset=\"utf-8\" /></head>\n",
              "<body>\n",
              "    <div>            <script src=\"https://cdnjs.cloudflare.com/ajax/libs/mathjax/2.7.5/MathJax.js?config=TeX-AMS-MML_SVG\"></script><script type=\"text/javascript\">if (window.MathJax) {MathJax.Hub.Config({SVG: {font: \"STIX-Web\"}});}</script>                <script type=\"text/javascript\">window.PlotlyConfig = {MathJaxConfig: 'local'};</script>\n",
              "        <script src=\"https://cdn.plot.ly/plotly-2.8.3.min.js\"></script>                <div id=\"925524f5-ce07-4f2e-be61-6725f74b6343\" class=\"plotly-graph-div\" style=\"height:525px; width:100%;\"></div>            <script type=\"text/javascript\">                                    window.PLOTLYENV=window.PLOTLYENV || {};                                    if (document.getElementById(\"925524f5-ce07-4f2e-be61-6725f74b6343\")) {                    Plotly.newPlot(                        \"925524f5-ce07-4f2e-be61-6725f74b6343\",                        [{\"hovertemplate\":\"FARMACO=MEDA<br>IDADE=%{x}<br>PA=%{y}<br>NA_K=%{z}<extra></extra>\",\"legendgroup\":\"MEDA\",\"marker\":{\"color\":\"#636efa\",\"symbol\":\"circle\"},\"mode\":\"markers\",\"name\":\"MEDA\",\"scene\":\"scene\",\"showlegend\":true,\"x\":[23.0,61.0,49.0,60.0,43.0,34.0,43.0,74.0,16.0,32.0,57.0,63.0,47.0,48.0,33.0,28.0,31.0,39.0,45.0,74.0,65.0,73.0,58.0,50.0,23.0,28.0,58.0,62.0,24.0,68.0,65.0,40.0,34.0,38.0,67.0,60.0,68.0,54.0,18.0,70.0,28.0,41.0,31.0,26.0,26.0,60.0,59.0,69.0,37.0,50.0,62.0,41.0,29.0,42.0,56.0,58.0,56.0,20.0,15.0,22.0,42.0,72.0,23.0,51.0,61.0,28.0,15.0,34.0,36.0,53.0,19.0,66.0,47.0,70.0,52.0,24.0,42.0,55.0,51.0,64.0,60.0,74.0,68.0,37.0,53.0,57.0,21.0,16.0,38.0,58.0,51.0,39.0,41.0,73.0,25.0,39.0,67.0,22.0,36.0,18.0,57.0,70.0,65.0,64.0,58.0,72.0,46.0,18.0,14.0,85.0,56.0,56.0,27.0,33.0,70.0,null,50.0,333.0,23.0,60.0,48.0,32.0,20.0,55.0],\"y\":[\"HIGH\",\"LOW\",\"NORMAL\",\"NORMAL\",\"LOW\",\"HIGH\",\"LOW\",\"LOW\",\"HIGH\",\"HIGH\",\"LOW\",\"NORMAL\",\"LOW\",\"LOW\",\"LOW\",\"HIGH\",\"HIGH\",\"LOW\",\"LOW\",\"HIGH\",\"HIGH\",\"NORMAL\",\"HIGH\",\"NORMAL\",\"NORMAL\",\"LOW\",\"HIGH\",\"LOW\",\"HIGH\",\"HIGH\",\"HIGH\",\"HIGH\",\"HIGH\",\"LOW\",\"LOW\",\"HIGH\",\"NORMAL\",\"NORMAL\",\"HIGH\",\"HIGH\",\"NORMAL\",\"NORMAL\",\"HIGH\",\"LOW\",\"HIGH\",\"HIGH\",\"HIGH\",\"LOW\",\"HIGH\",\"NORMAL\",\"NORMAL\",\"HIGH\",\"HIGH\",\"LOW\",\"LOW\",\"LOW\",\"HIGH\",\"HIGH\",\"HIGH\",\"HIGH\",\"LOW\",\"HIGH\",\"NORMAL\",\"HIGH\",\"HIGH\",\"NORMAL\",\"HIGH\",\"NORMAL\",\"NORMAL\",\"HIGH\",\"HIGH\",\"HIGH\",\"LOW\",\"NORMAL\",\"LOW\",\"NORMAL\",\"HIGH\",\"HIGH\",\"HIGH\",\"LOW\",\"HIGH\",\"HIGH\",\"HIGH\",\"LOW\",\"LOW\",\"HIGH\",\"HIGH\",\"HIGH\",\"LOW\",\"LOW\",\"LOW\",\"NORMAL\",\"LOW\",\"HIGH\",\"NORMAL\",\"NORMAL\",\"NORMAL\",\"HIGH\",\"HIGH\",\"HIGH\",\"NORMAL\",\"HIGH\",\"HIGH\",\"HIGH\",\"HIGH\",\"LOW\",\"HIGH\",\"LOW\",null,null,\"LOW\",null,\"HIGH\",null,\"LOW\",\"LOW\",\"LOW\",\"HIGH\",\"LOW\",\"HIGH\",\"HIGH\",\"HIGH\",null,\"NORMAL\"],\"z\":[25.355,18.043,16.275,15.171,19.368,19.199,15.376,20.942,15.516,25.974,19.128,25.917,30.568,15.036,33.486,18.809,30.366,22.697,17.951,9.567,31.876,19.221,14.239,15.79,31.686,19.796,19.416,27.183,18.457,10.189,11.34,27.826,18.703,29.875,20.693,13.303,27.05,24.658,24.276,13.967,19.675,22.905,17.069,20.909,19.161,13.934,13.935,15.478,23.091,17.211,16.594,15.156,29.45,29.271,15.015,38.247,25.395,35.639,16.725,28.294,20.013,9.677,16.85,18.295,25.475,27.064,17.206,22.456,16.753,12.495,25.969,16.347,33.542,20.489,32.922,25.786,21.036,10.977,11.343,25.741,8.621,15.436,11.009,16.724,22.963,9.945,28.632,19.007,18.295,26.645,23.003,17.225,18.739,18.348,19.011,15.969,15.891,22.818,15.49,37.188,25.893,9.849,34.997,20.932,18.991,16.31,34.686,null,null,8.9,19.9,20.9,20.9,40.9,20.9,17.23,null,15.87,12.9,32.71,41.27,null,18.14,33.14],\"type\":\"scatter3d\"},{\"hovertemplate\":\"FARMACO=MEDB<br>IDADE=%{x}<br>PA=%{y}<br>NA_K=%{z}<extra></extra>\",\"legendgroup\":\"MEDB\",\"marker\":{\"color\":\"#EF553B\",\"symbol\":\"circle\"},\"mode\":\"markers\",\"name\":\"MEDB\",\"scene\":\"scene\",\"showlegend\":true,\"x\":[47.0,47.0,28.0,22.0,41.0,47.0,50.0,69.0,43.0,23.0,49.0,18.0,49.0,53.0,46.0,32.0,39.0,39.0,15.0,23.0,50.0,66.0,37.0,68.0,67.0,26.0,60.0,24.0,45.0,29.0,17.0,24.0,36.0,19.0,32.0,64.0,32.0,38.0,47.0,51.0,36.0,31.0,45.0,28.0,56.0,37.0,22.0,50.0,47.0,35.0,65.0,20.0,67.0,40.0,32.0,35.0,32.0,49.0,74.0,35.0,69.0,49.0,39.0,61.0,37.0,26.0,61.0,22.0,49.0,55.0,72.0,49.0,31.0,59.0,34.0,30.0,43.0,57.0,20.0,28.0,45.0,42.0,48.0,59.0,20.0,47.0,23.0,72.0,56.0,16.0,52.0,23.0,48.0,62.0,20.0,null,37.0,50.0,98.0,16.0,13.0],\"y\":[\"LOW\",\"LOW\",\"NORMAL\",\"NORMAL\",\"LOW\",\"LOW\",\"NORMAL\",\"LOW\",\"HIGH\",\"LOW\",\"NORMAL\",\"NORMAL\",\"LOW\",\"NORMAL\",\"NORMAL\",\"HIGH\",\"LOW\",\"NORMAL\",\"NORMAL\",\"NORMAL\",\"NORMAL\",\"NORMAL\",\"HIGH\",\"LOW\",\"NORMAL\",\"LOW\",\"NORMAL\",\"HIGH\",\"LOW\",\"HIGH\",\"NORMAL\",\"NORMAL\",\"HIGH\",\"HIGH\",\"LOW\",\"NORMAL\",\"LOW\",\"HIGH\",\"LOW\",\"NORMAL\",\"LOW\",\"HIGH\",\"HIGH\",\"LOW\",\"NORMAL\",\"LOW\",\"NORMAL\",\"HIGH\",\"NORMAL\",\"LOW\",\"LOW\",\"NORMAL\",\"NORMAL\",\"NORMAL\",\"HIGH\",\"NORMAL\",\"NORMAL\",\"LOW\",\"LOW\",\"HIGH\",\"NORMAL\",\"HIGH\",\"HIGH\",\"NORMAL\",\"LOW\",\"HIGH\",\"LOW\",\"LOW\",\"HIGH\",\"NORMAL\",\"LOW\",\"LOW\",\"HIGH\",\"LOW\",\"LOW\",\"NORMAL\",\"NORMAL\",\"NORMAL\",\"HIGH\",\"NORMAL\",\"LOW\",\"HIGH\",\"HIGH\",\"NORMAL\",\"LOW\",\"HIGH\",\"HIGH\",\"LOW\",\"LOW\",\"LOW\",\"NORMAL\",null,\"HIGH\",\"NORMAL\",\"NORMAL\",\"HIGH\",null,\"LOW\",\"NORMAL\",null,null],\"z\":[13.093,10.114,7.798,8.607,11.037,11.767,12.703,11.455,13.972,7.298,9.381,8.75,11.014,14.133,7.285,9.445,13.938,9.709,9.084,12.26,12.295,8.107,13.091,10.291,10.898,14.16,10.091,9.475,8.37,12.856,10.832,10.605,11.198,13.313,10.84,7.761,9.712,11.326,10.067,13.597,11.424,11.871,12.854,13.127,8.966,8.968,11.953,7.49,6.683,9.17,13.769,9.281,9.514,10.103,10.292,7.845,7.477,13.598,11.939,12.894,10.065,6.269,9.664,9.443,12.006,12.307,7.34,8.151,8.7,7.261,14.642,10.537,11.227,10.444,12.923,10.443,12.859,14.216,11.262,12.879,10.017,12.766,10.446,13.884,11.686,10.403,8.011,6.769,11.567,12.006,9.894,14.02,null,8.9,8.9,5.9,5.9,5.9,5.17,7.23,3.87],\"type\":\"scatter3d\"}],                        {\"template\":{\"data\":{\"bar\":[{\"error_x\":{\"color\":\"#2a3f5f\"},\"error_y\":{\"color\":\"#2a3f5f\"},\"marker\":{\"line\":{\"color\":\"#E5ECF6\",\"width\":0.5},\"pattern\":{\"fillmode\":\"overlay\",\"size\":10,\"solidity\":0.2}},\"type\":\"bar\"}],\"barpolar\":[{\"marker\":{\"line\":{\"color\":\"#E5ECF6\",\"width\":0.5},\"pattern\":{\"fillmode\":\"overlay\",\"size\":10,\"solidity\":0.2}},\"type\":\"barpolar\"}],\"carpet\":[{\"aaxis\":{\"endlinecolor\":\"#2a3f5f\",\"gridcolor\":\"white\",\"linecolor\":\"white\",\"minorgridcolor\":\"white\",\"startlinecolor\":\"#2a3f5f\"},\"baxis\":{\"endlinecolor\":\"#2a3f5f\",\"gridcolor\":\"white\",\"linecolor\":\"white\",\"minorgridcolor\":\"white\",\"startlinecolor\":\"#2a3f5f\"},\"type\":\"carpet\"}],\"choropleth\":[{\"colorbar\":{\"outlinewidth\":0,\"ticks\":\"\"},\"type\":\"choropleth\"}],\"contour\":[{\"colorbar\":{\"outlinewidth\":0,\"ticks\":\"\"},\"colorscale\":[[0.0,\"#0d0887\"],[0.1111111111111111,\"#46039f\"],[0.2222222222222222,\"#7201a8\"],[0.3333333333333333,\"#9c179e\"],[0.4444444444444444,\"#bd3786\"],[0.5555555555555556,\"#d8576b\"],[0.6666666666666666,\"#ed7953\"],[0.7777777777777778,\"#fb9f3a\"],[0.8888888888888888,\"#fdca26\"],[1.0,\"#f0f921\"]],\"type\":\"contour\"}],\"contourcarpet\":[{\"colorbar\":{\"outlinewidth\":0,\"ticks\":\"\"},\"type\":\"contourcarpet\"}],\"heatmap\":[{\"colorbar\":{\"outlinewidth\":0,\"ticks\":\"\"},\"colorscale\":[[0.0,\"#0d0887\"],[0.1111111111111111,\"#46039f\"],[0.2222222222222222,\"#7201a8\"],[0.3333333333333333,\"#9c179e\"],[0.4444444444444444,\"#bd3786\"],[0.5555555555555556,\"#d8576b\"],[0.6666666666666666,\"#ed7953\"],[0.7777777777777778,\"#fb9f3a\"],[0.8888888888888888,\"#fdca26\"],[1.0,\"#f0f921\"]],\"type\":\"heatmap\"}],\"heatmapgl\":[{\"colorbar\":{\"outlinewidth\":0,\"ticks\":\"\"},\"colorscale\":[[0.0,\"#0d0887\"],[0.1111111111111111,\"#46039f\"],[0.2222222222222222,\"#7201a8\"],[0.3333333333333333,\"#9c179e\"],[0.4444444444444444,\"#bd3786\"],[0.5555555555555556,\"#d8576b\"],[0.6666666666666666,\"#ed7953\"],[0.7777777777777778,\"#fb9f3a\"],[0.8888888888888888,\"#fdca26\"],[1.0,\"#f0f921\"]],\"type\":\"heatmapgl\"}],\"histogram\":[{\"marker\":{\"pattern\":{\"fillmode\":\"overlay\",\"size\":10,\"solidity\":0.2}},\"type\":\"histogram\"}],\"histogram2d\":[{\"colorbar\":{\"outlinewidth\":0,\"ticks\":\"\"},\"colorscale\":[[0.0,\"#0d0887\"],[0.1111111111111111,\"#46039f\"],[0.2222222222222222,\"#7201a8\"],[0.3333333333333333,\"#9c179e\"],[0.4444444444444444,\"#bd3786\"],[0.5555555555555556,\"#d8576b\"],[0.6666666666666666,\"#ed7953\"],[0.7777777777777778,\"#fb9f3a\"],[0.8888888888888888,\"#fdca26\"],[1.0,\"#f0f921\"]],\"type\":\"histogram2d\"}],\"histogram2dcontour\":[{\"colorbar\":{\"outlinewidth\":0,\"ticks\":\"\"},\"colorscale\":[[0.0,\"#0d0887\"],[0.1111111111111111,\"#46039f\"],[0.2222222222222222,\"#7201a8\"],[0.3333333333333333,\"#9c179e\"],[0.4444444444444444,\"#bd3786\"],[0.5555555555555556,\"#d8576b\"],[0.6666666666666666,\"#ed7953\"],[0.7777777777777778,\"#fb9f3a\"],[0.8888888888888888,\"#fdca26\"],[1.0,\"#f0f921\"]],\"type\":\"histogram2dcontour\"}],\"mesh3d\":[{\"colorbar\":{\"outlinewidth\":0,\"ticks\":\"\"},\"type\":\"mesh3d\"}],\"parcoords\":[{\"line\":{\"colorbar\":{\"outlinewidth\":0,\"ticks\":\"\"}},\"type\":\"parcoords\"}],\"pie\":[{\"automargin\":true,\"type\":\"pie\"}],\"scatter\":[{\"marker\":{\"colorbar\":{\"outlinewidth\":0,\"ticks\":\"\"}},\"type\":\"scatter\"}],\"scatter3d\":[{\"line\":{\"colorbar\":{\"outlinewidth\":0,\"ticks\":\"\"}},\"marker\":{\"colorbar\":{\"outlinewidth\":0,\"ticks\":\"\"}},\"type\":\"scatter3d\"}],\"scattercarpet\":[{\"marker\":{\"colorbar\":{\"outlinewidth\":0,\"ticks\":\"\"}},\"type\":\"scattercarpet\"}],\"scattergeo\":[{\"marker\":{\"colorbar\":{\"outlinewidth\":0,\"ticks\":\"\"}},\"type\":\"scattergeo\"}],\"scattergl\":[{\"marker\":{\"colorbar\":{\"outlinewidth\":0,\"ticks\":\"\"}},\"type\":\"scattergl\"}],\"scattermapbox\":[{\"marker\":{\"colorbar\":{\"outlinewidth\":0,\"ticks\":\"\"}},\"type\":\"scattermapbox\"}],\"scatterpolar\":[{\"marker\":{\"colorbar\":{\"outlinewidth\":0,\"ticks\":\"\"}},\"type\":\"scatterpolar\"}],\"scatterpolargl\":[{\"marker\":{\"colorbar\":{\"outlinewidth\":0,\"ticks\":\"\"}},\"type\":\"scatterpolargl\"}],\"scatterternary\":[{\"marker\":{\"colorbar\":{\"outlinewidth\":0,\"ticks\":\"\"}},\"type\":\"scatterternary\"}],\"surface\":[{\"colorbar\":{\"outlinewidth\":0,\"ticks\":\"\"},\"colorscale\":[[0.0,\"#0d0887\"],[0.1111111111111111,\"#46039f\"],[0.2222222222222222,\"#7201a8\"],[0.3333333333333333,\"#9c179e\"],[0.4444444444444444,\"#bd3786\"],[0.5555555555555556,\"#d8576b\"],[0.6666666666666666,\"#ed7953\"],[0.7777777777777778,\"#fb9f3a\"],[0.8888888888888888,\"#fdca26\"],[1.0,\"#f0f921\"]],\"type\":\"surface\"}],\"table\":[{\"cells\":{\"fill\":{\"color\":\"#EBF0F8\"},\"line\":{\"color\":\"white\"}},\"header\":{\"fill\":{\"color\":\"#C8D4E3\"},\"line\":{\"color\":\"white\"}},\"type\":\"table\"}]},\"layout\":{\"annotationdefaults\":{\"arrowcolor\":\"#2a3f5f\",\"arrowhead\":0,\"arrowwidth\":1},\"autotypenumbers\":\"strict\",\"coloraxis\":{\"colorbar\":{\"outlinewidth\":0,\"ticks\":\"\"}},\"colorscale\":{\"diverging\":[[0,\"#8e0152\"],[0.1,\"#c51b7d\"],[0.2,\"#de77ae\"],[0.3,\"#f1b6da\"],[0.4,\"#fde0ef\"],[0.5,\"#f7f7f7\"],[0.6,\"#e6f5d0\"],[0.7,\"#b8e186\"],[0.8,\"#7fbc41\"],[0.9,\"#4d9221\"],[1,\"#276419\"]],\"sequential\":[[0.0,\"#0d0887\"],[0.1111111111111111,\"#46039f\"],[0.2222222222222222,\"#7201a8\"],[0.3333333333333333,\"#9c179e\"],[0.4444444444444444,\"#bd3786\"],[0.5555555555555556,\"#d8576b\"],[0.6666666666666666,\"#ed7953\"],[0.7777777777777778,\"#fb9f3a\"],[0.8888888888888888,\"#fdca26\"],[1.0,\"#f0f921\"]],\"sequentialminus\":[[0.0,\"#0d0887\"],[0.1111111111111111,\"#46039f\"],[0.2222222222222222,\"#7201a8\"],[0.3333333333333333,\"#9c179e\"],[0.4444444444444444,\"#bd3786\"],[0.5555555555555556,\"#d8576b\"],[0.6666666666666666,\"#ed7953\"],[0.7777777777777778,\"#fb9f3a\"],[0.8888888888888888,\"#fdca26\"],[1.0,\"#f0f921\"]]},\"colorway\":[\"#636efa\",\"#EF553B\",\"#00cc96\",\"#ab63fa\",\"#FFA15A\",\"#19d3f3\",\"#FF6692\",\"#B6E880\",\"#FF97FF\",\"#FECB52\"],\"font\":{\"color\":\"#2a3f5f\"},\"geo\":{\"bgcolor\":\"white\",\"lakecolor\":\"white\",\"landcolor\":\"#E5ECF6\",\"showlakes\":true,\"showland\":true,\"subunitcolor\":\"white\"},\"hoverlabel\":{\"align\":\"left\"},\"hovermode\":\"closest\",\"mapbox\":{\"style\":\"light\"},\"paper_bgcolor\":\"white\",\"plot_bgcolor\":\"#E5ECF6\",\"polar\":{\"angularaxis\":{\"gridcolor\":\"white\",\"linecolor\":\"white\",\"ticks\":\"\"},\"bgcolor\":\"#E5ECF6\",\"radialaxis\":{\"gridcolor\":\"white\",\"linecolor\":\"white\",\"ticks\":\"\"}},\"scene\":{\"xaxis\":{\"backgroundcolor\":\"#E5ECF6\",\"gridcolor\":\"white\",\"gridwidth\":2,\"linecolor\":\"white\",\"showbackground\":true,\"ticks\":\"\",\"zerolinecolor\":\"white\"},\"yaxis\":{\"backgroundcolor\":\"#E5ECF6\",\"gridcolor\":\"white\",\"gridwidth\":2,\"linecolor\":\"white\",\"showbackground\":true,\"ticks\":\"\",\"zerolinecolor\":\"white\"},\"zaxis\":{\"backgroundcolor\":\"#E5ECF6\",\"gridcolor\":\"white\",\"gridwidth\":2,\"linecolor\":\"white\",\"showbackground\":true,\"ticks\":\"\",\"zerolinecolor\":\"white\"}},\"shapedefaults\":{\"line\":{\"color\":\"#2a3f5f\"}},\"ternary\":{\"aaxis\":{\"gridcolor\":\"white\",\"linecolor\":\"white\",\"ticks\":\"\"},\"baxis\":{\"gridcolor\":\"white\",\"linecolor\":\"white\",\"ticks\":\"\"},\"bgcolor\":\"#E5ECF6\",\"caxis\":{\"gridcolor\":\"white\",\"linecolor\":\"white\",\"ticks\":\"\"}},\"title\":{\"x\":0.05},\"xaxis\":{\"automargin\":true,\"gridcolor\":\"white\",\"linecolor\":\"white\",\"ticks\":\"\",\"title\":{\"standoff\":15},\"zerolinecolor\":\"white\",\"zerolinewidth\":2},\"yaxis\":{\"automargin\":true,\"gridcolor\":\"white\",\"linecolor\":\"white\",\"ticks\":\"\",\"title\":{\"standoff\":15},\"zerolinecolor\":\"white\",\"zerolinewidth\":2}}},\"scene\":{\"domain\":{\"x\":[0.0,1.0],\"y\":[0.0,1.0]},\"xaxis\":{\"title\":{\"text\":\"IDADE\"}},\"yaxis\":{\"title\":{\"text\":\"PA\"}},\"zaxis\":{\"title\":{\"text\":\"NA_K\"}}},\"legend\":{\"title\":{\"text\":\"FARMACO\"},\"tracegroupgap\":0},\"margin\":{\"t\":60}},                        {\"responsive\": true}                    ).then(function(){\n",
              "                            \n",
              "var gd = document.getElementById('925524f5-ce07-4f2e-be61-6725f74b6343');\n",
              "var x = new MutationObserver(function (mutations, observer) {{\n",
              "        var display = window.getComputedStyle(gd).display;\n",
              "        if (!display || display === 'none') {{\n",
              "            console.log([gd, 'removed!']);\n",
              "            Plotly.purge(gd);\n",
              "            observer.disconnect();\n",
              "        }}\n",
              "}});\n",
              "\n",
              "// Listen for the removal of the full notebook cells\n",
              "var notebookContainer = gd.closest('#notebook-container');\n",
              "if (notebookContainer) {{\n",
              "    x.observe(notebookContainer, {childList: true});\n",
              "}}\n",
              "\n",
              "// Listen for the clearing of the current output cell\n",
              "var outputEl = gd.closest('.output');\n",
              "if (outputEl) {{\n",
              "    x.observe(outputEl, {childList: true});\n",
              "}}\n",
              "\n",
              "                        })                };                            </script>        </div>\n",
              "</body>\n",
              "</html>"
            ]
          },
          "metadata": {}
        }
      ]
    },
    {
      "cell_type": "code",
      "source": [
        "from sklearn.decomposition import PCA\n",
        "\n",
        "pca = PCA(n_components = 2)\n",
        "X_train_pca = pca.fit_transform(transformer.transform(X_train))\n",
        "\n",
        "plt.figure(figsize=(14, 8))\n",
        "sns.scatterplot(x =X_train_pca[:,0], y = X_train_pca[:,1], hue = y_train)"
      ],
      "metadata": {
        "id": "sHBDetm_2Q0a",
        "outputId": "127b0faf-7052-494d-cf86-0715cd530367",
        "colab": {
          "base_uri": "https://localhost:8080/",
          "height": 500
        }
      },
      "id": "sHBDetm_2Q0a",
      "execution_count": 24,
      "outputs": [
        {
          "output_type": "execute_result",
          "data": {
            "text/plain": [
              "<matplotlib.axes._subplots.AxesSubplot at 0x7f68584c5e50>"
            ]
          },
          "metadata": {},
          "execution_count": 24
        },
        {
          "output_type": "display_data",
          "data": {
            "text/plain": [
              "<Figure size 1008x576 with 1 Axes>"
            ],
            "image/png": "[encoded data removed]"
          },
          "metadata": {
            "needs_background": "light"
          }
        }
      ]
    },
    {
      "cell_type": "code",
      "source": [
        "from sklearn.manifold import TSNE\n",
        "\n",
        "tsne = TSNE(n_components = 2)\n",
        "X_train_tnse = tsne.fit_transform(transformer.transform(X_train))\n",
        "\n",
        "plt.figure(figsize=(14, 8))\n",
        "sns.scatterplot(x = X_train_tnse[:,0], y = X_train_tnse[:,1], hue = y_train)"
      ],
      "metadata": {
        "id": "vOAPYel-BXdz",
        "outputId": "2017ea40-e9b6-4624-a3db-7738671b4fd4",
        "colab": {
          "base_uri": "https://localhost:8080/",
          "height": 570
        }
      },
      "id": "vOAPYel-BXdz",
      "execution_count": 25,
      "outputs": [
        {
          "output_type": "stream",
          "name": "stderr",
          "text": [
            "/usr/local/lib/python3.7/dist-packages/sklearn/manifold/_t_sne.py:783: FutureWarning: The default initialization in TSNE will change from 'random' to 'pca' in 1.2.\n",
            "  FutureWarning,\n",
            "/usr/local/lib/python3.7/dist-packages/sklearn/manifold/_t_sne.py:793: FutureWarning: The default learning rate in TSNE will change from 200.0 to 'auto' in 1.2.\n",
            "  FutureWarning,\n"
          ]
        },
        {
          "output_type": "execute_result",
          "data": {
            "text/plain": [
              "<matplotlib.axes._subplots.AxesSubplot at 0x7f6858410850>"
            ]
          },
          "metadata": {},
          "execution_count": 25
        },
        {
          "output_type": "display_data",
          "data": {
            "text/plain": [
              "<Figure size 1008x576 with 1 Axes>"
            ],
            "image/png": "[encoded data removed]"
          },
          "metadata": {
            "needs_background": "light"
          }
        }
      ]
    }
  ],
  "metadata": {
    "kernelspec": {
      "display_name": "Python 3 (ipykernel)",
      "language": "python",
      "name": "python3"
    },
    "language_info": {
      "codemirror_mode": {
        "name": "ipython",
        "version": 3
      },
      "file_extension": ".py",
      "mimetype": "text/x-python",
      "name": "python",
      "nbconvert_exporter": "python",
      "pygments_lexer": "ipython3",
      "version": "3.9.7"
    },
    "colab": {
      "provenance": [],
      "include_colab_link": true
    }
  },
  "nbformat": 4,
  "nbformat_minor": 5
}