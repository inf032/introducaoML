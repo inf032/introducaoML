{
  "nbformat": 4,
  "nbformat_minor": 0,
  "metadata": {
    "colab": {
      "name": "99.Draft.ipynb",
      "provenance": [],
      "authorship_tag": "ABX9TyNULTgUadRdQx6aHujOFmvh",
      "include_colab_link": true
    },
    "kernelspec": {
      "name": "python3",
      "display_name": "Python 3"
    },
    "language_info": {
      "name": "python"
    }
  },
  "cells": [
    {
      "cell_type": "markdown",
      "metadata": {
        "id": "view-in-github",
        "colab_type": "text"
      },
      "source": [
        "<a href=\"https://colab.research.google.com/github/inf032/introducaoML/blob/master/99.Draft.ipynb\" target=\"_parent\"><img src=\"https://colab.research.google.com/assets/colab-badge.svg\" alt=\"Open In Colab\"/></a>"
      ]
    },
    {
      "cell_type": "code",
      "source": [
        "import numpy as np\n",
        "import pandas as pd\n",
        "from sklearn.model_selection import train_test_split \n",
        "from sklearn.ensemble import GradientBoostingRegressor\n",
        "from sklearn.metrics  import mean_squared_error\n",
        "from sklearn.dummy import DummyRegressor\n",
        "\n",
        "\n",
        "dataFrame = pd.read_csv('https://raw.githubusercontent.com/inf032/introducaoML/master/data/FuelConsumption2022.csv')\n",
        "\n",
        "preditoras = ['Make', 'Vehicle Class', 'Engine Size (L)', 'Cylinders', 'Transmission', 'Fuel Type']\n",
        "dependente = 'Fuel Consumption Comb (L/100 km)'\n",
        "\n",
        "X = dataFrame[preditoras] \n",
        "y = dataFrame[dependente] \n",
        "\n",
        "X = pd.get_dummies(X, drop_first=True)\n",
        "\n",
        "X_train, X_test, y_train, y_test = train_test_split(X, y, test_size=0.33, random_state=42)\n",
        "X_train = pd.get_dummies(X_train, drop_first=True)\n",
        "\n",
        "gbr = GradientBoostingRegressor().fit(X_train, y_train)\n",
        "dr = DummyRegressor(strategy='median').fit(X_train, y_train)\n",
        "\n",
        "rmse = np.sqrt(mean_squared_error(gbr.predict(X_test), y_test))\n",
        "rmse_dummy = np.sqrt(mean_squared_error(dr.predict(X_test), y_test))\n",
        "\n",
        "print(rmse, rmse / y_test.mean() * 100)\n",
        "print(rmse_dummy, rmse_dummy / y_test.mean() * 100)\n",
        "\n"
      ],
      "metadata": {
        "colab": {
          "base_uri": "https://localhost:8080/"
        },
        "id": "le7SR1_bq-Fq",
        "outputId": "05f7b5e5-ac19-4600-ca51-8c828d72d7dd"
      },
      "execution_count": 54,
      "outputs": [
        {
          "output_type": "stream",
          "name": "stdout",
          "text": [
            "1.0286479131825879 9.374288728618046\n",
            "2.9277956177792155 26.681628483091345\n"
          ]
        }
      ]
    },
    {
      "cell_type": "code",
      "source": [
        "import seaborn as sns\n",
        "\n",
        "dataError = pd.DataFrame()\n",
        "dataError['REAL'] = y_test\n",
        "dataError['PREDICAO'] = gbr.predict(X_test)\n",
        "dataError\n",
        "\n",
        "\n",
        "\n",
        "sns.scatterplot(data=dataError, x=\"REAL\", y=\"PREDICAO\")"
      ],
      "metadata": {
        "colab": {
          "base_uri": "https://localhost:8080/",
          "height": 296
        },
        "id": "cajPAij23tEM",
        "outputId": "c8237538-7da7-4ff7-c022-dd14af15bd7b"
      },
      "execution_count": 55,
      "outputs": [
        {
          "output_type": "execute_result",
          "data": {
            "text/plain": [
              "<matplotlib.axes._subplots.AxesSubplot at 0x7f2f2d96cfd0>"
            ]
          },
          "metadata": {},
          "execution_count": 55
        },
        {
          "output_type": "display_data",
          "data": {
            "text/plain": [
              "<Figure size 432x288 with 1 Axes>"
            ],
            "image/png": "[encoded data removed]"
          },
          "metadata": {
            "needs_background": "light"
          }
        }
      ]
    }
  ]
}