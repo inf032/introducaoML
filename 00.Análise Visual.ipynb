{
  "cells": [
    {
      "cell_type": "markdown",
      "id": "333b693f",
      "metadata": {
        "id": "333b693f"
      },
      "source": [
        "<h1>Inspecionando o dataframe</h1>"
      ]
    },
    {
      "cell_type": "markdown",
      "id": "cee6851c",
      "metadata": {
        "id": "cee6851c"
      },
      "source": [
        "<h3> Importando as bibliotecas Pandas e SciKit Learn </h3>"
      ]
    },
    {
      "cell_type": "code",
      "execution_count": 1,
      "id": "90cf3123",
      "metadata": {
        "id": "90cf3123"
      },
      "outputs": [],
      "source": [
        "import pandas as pd\n",
        "import numpy as np"
      ]
    },
    {
      "cell_type": "markdown",
      "id": "b0a7adf8",
      "metadata": {
        "id": "b0a7adf8"
      },
      "source": [
        "**Exploração Inicial**\n",
        "\n",
        "Os dados serão carregados em um dataframe.\n",
        "\n",
        "Um dataframe é a estrutura fundamental do Pandas.\n",
        "\n",
        "É uma estrutura bidimensional homogênea. As linhas representam os indivíduos da minha amostra ou população. As colunas são os atributos destes indivíduos\n",
        "\n",
        "Para explorar os métodos e atributos dos dataframes: https://pandas.pydata.org/pandas-docs/stable/reference/frame.html"
      ]
    },
    {
      "cell_type": "markdown",
      "id": "9f424cee",
      "metadata": {
        "id": "9f424cee"
      },
      "source": [
        "<h3>Lendo a base de dados com pandas</h3>\n"
      ]
    },
    {
      "cell_type": "code",
      "execution_count": 2,
      "id": "6f1697e3",
      "metadata": {
        "id": "6f1697e3",
        "outputId": "ccc98129-0da4-4cb4-9def-eb0c73e28bdd",
        "colab": {
          "base_uri": "https://localhost:8080/",
          "height": 441
        }
      },
      "outputs": [
        {
          "output_type": "execute_result",
          "data": {
            "text/plain": [
              "   Model Year   Make              Model Vehicle Class  Engine Size (L)  \\\n",
              "0        2022  Acura                ILX       Compact              2.4   \n",
              "1        2022  Acura         MDX SH-AWD    SUV: Small              3.5   \n",
              "2        2022  Acura         RDX SH-AWD    SUV: Small              2.0   \n",
              "3        2022  Acura  RDX SH-AWD A-SPEC    SUV: Small              2.0   \n",
              "4        2022  Acura         TLX SH-AWD       Compact              2.0   \n",
              "\n",
              "   Cylinders Transmission Fuel Type  Fuel Consumption City (L/100 km)  \\\n",
              "0          4          AM8         Z                               9.9   \n",
              "1          6         AS10         Z                              12.6   \n",
              "2          4         AS10         Z                              11.0   \n",
              "3          4         AS10         Z                              11.3   \n",
              "4          4         AS10         Z                              11.2   \n",
              "\n",
              "   Fuel Consumption Hwy (L/100 km)  Fuel Consumption Comb (L/100 km)  \\\n",
              "0                              7.0                               8.6   \n",
              "1                              9.4                              11.2   \n",
              "2                              8.6                               9.9   \n",
              "3                              9.1                              10.3   \n",
              "4                              8.0                               9.8   \n",
              "\n",
              "   Fuel Consumption Comb (mpg)  CO2 Emissions (g/km)  CO2 Rating  Smog Rating  \n",
              "0                           33                   200           6            3  \n",
              "1                           25                   263           4            5  \n",
              "2                           29                   232           5            6  \n",
              "3                           27                   242           5            6  \n",
              "4                           29                   230           5            7  "
            ],
            "text/html": [
              "\n",
              "  <div id=\"df-c42983fa-ba3e-45e0-b27f-3f411f1eaa12\">\n",
              "    <div class=\"colab-df-container\">\n",
              "      <div>\n",
              "<style scoped>\n",
              "    .dataframe tbody tr th:only-of-type {\n",
              "        vertical-align: middle;\n",
              "    }\n",
              "\n",
              "    .dataframe tbody tr th {\n",
              "        vertical-align: top;\n",
              "    }\n",
              "\n",
              "    .dataframe thead th {\n",
              "        text-align: right;\n",
              "    }\n",
              "</style>\n",
              "<table border=\"1\" class=\"dataframe\">\n",
              "  <thead>\n",
              "    <tr style=\"text-align: right;\">\n",
              "      <th></th>\n",
              "      <th>Model Year</th>\n",
              "      <th>Make</th>\n",
              "      <th>Model</th>\n",
              "      <th>Vehicle Class</th>\n",
              "      <th>Engine Size (L)</th>\n",
              "      <th>Cylinders</th>\n",
              "      <th>Transmission</th>\n",
              "      <th>Fuel Type</th>\n",
              "      <th>Fuel Consumption City (L/100 km)</th>\n",
              "      <th>Fuel Consumption Hwy (L/100 km)</th>\n",
              "      <th>Fuel Consumption Comb (L/100 km)</th>\n",
              "      <th>Fuel Consumption Comb (mpg)</th>\n",
              "      <th>CO2 Emissions (g/km)</th>\n",
              "      <th>CO2 Rating</th>\n",
              "      <th>Smog Rating</th>\n",
              "    </tr>\n",
              "  </thead>\n",
              "  <tbody>\n",
              "    <tr>\n",
              "      <th>0</th>\n",
              "      <td>2022</td>\n",
              "      <td>Acura</td>\n",
              "      <td>ILX</td>\n",
              "      <td>Compact</td>\n",
              "      <td>2.4</td>\n",
              "      <td>4</td>\n",
              "      <td>AM8</td>\n",
              "      <td>Z</td>\n",
              "      <td>9.9</td>\n",
              "      <td>7.0</td>\n",
              "      <td>8.6</td>\n",
              "      <td>33</td>\n",
              "      <td>200</td>\n",
              "      <td>6</td>\n",
              "      <td>3</td>\n",
              "    </tr>\n",
              "    <tr>\n",
              "      <th>1</th>\n",
              "      <td>2022</td>\n",
              "      <td>Acura</td>\n",
              "      <td>MDX SH-AWD</td>\n",
              "      <td>SUV: Small</td>\n",
              "      <td>3.5</td>\n",
              "      <td>6</td>\n",
              "      <td>AS10</td>\n",
              "      <td>Z</td>\n",
              "      <td>12.6</td>\n",
              "      <td>9.4</td>\n",
              "      <td>11.2</td>\n",
              "      <td>25</td>\n",
              "      <td>263</td>\n",
              "      <td>4</td>\n",
              "      <td>5</td>\n",
              "    </tr>\n",
              "    <tr>\n",
              "      <th>2</th>\n",
              "      <td>2022</td>\n",
              "      <td>Acura</td>\n",
              "      <td>RDX SH-AWD</td>\n",
              "      <td>SUV: Small</td>\n",
              "      <td>2.0</td>\n",
              "      <td>4</td>\n",
              "      <td>AS10</td>\n",
              "      <td>Z</td>\n",
              "      <td>11.0</td>\n",
              "      <td>8.6</td>\n",
              "      <td>9.9</td>\n",
              "      <td>29</td>\n",
              "      <td>232</td>\n",
              "      <td>5</td>\n",
              "      <td>6</td>\n",
              "    </tr>\n",
              "    <tr>\n",
              "      <th>3</th>\n",
              "      <td>2022</td>\n",
              "      <td>Acura</td>\n",
              "      <td>RDX SH-AWD A-SPEC</td>\n",
              "      <td>SUV: Small</td>\n",
              "      <td>2.0</td>\n",
              "      <td>4</td>\n",
              "      <td>AS10</td>\n",
              "      <td>Z</td>\n",
              "      <td>11.3</td>\n",
              "      <td>9.1</td>\n",
              "      <td>10.3</td>\n",
              "      <td>27</td>\n",
              "      <td>242</td>\n",
              "      <td>5</td>\n",
              "      <td>6</td>\n",
              "    </tr>\n",
              "    <tr>\n",
              "      <th>4</th>\n",
              "      <td>2022</td>\n",
              "      <td>Acura</td>\n",
              "      <td>TLX SH-AWD</td>\n",
              "      <td>Compact</td>\n",
              "      <td>2.0</td>\n",
              "      <td>4</td>\n",
              "      <td>AS10</td>\n",
              "      <td>Z</td>\n",
              "      <td>11.2</td>\n",
              "      <td>8.0</td>\n",
              "      <td>9.8</td>\n",
              "      <td>29</td>\n",
              "      <td>230</td>\n",
              "      <td>5</td>\n",
              "      <td>7</td>\n",
              "    </tr>\n",
              "  </tbody>\n",
              "</table>\n",
              "</div>\n",
              "      <button class=\"colab-df-convert\" onclick=\"convertToInteractive('df-c42983fa-ba3e-45e0-b27f-3f411f1eaa12')\"\n",
              "              title=\"Convert this dataframe to an interactive table.\"\n",
              "              style=\"display:none;\">\n",
              "        \n",
              "  <svg xmlns=\"http://www.w3.org/2000/svg\" height=\"24px\"viewBox=\"0 0 24 24\"\n",
              "       width=\"24px\">\n",
              "    <path d=\"M0 0h24v24H0V0z\" fill=\"none\"/>\n",
              "    <path d=\"M18.56 5.44l.94 2.06.94-2.06 2.06-.94-2.06-.94-.94-2.06-.94 2.06-2.06.94zm-11 1L8.5 8.5l.94-2.06 2.06-.94-2.06-.94L8.5 2.5l-.94 2.06-2.06.94zm10 10l.94 2.06.94-2.06 2.06-.94-2.06-.94-.94-2.06-.94 2.06-2.06.94z\"/><path d=\"M17.41 7.96l-1.37-1.37c-.4-.4-.92-.59-1.43-.59-.52 0-1.04.2-1.43.59L10.3 9.45l-7.72 7.72c-.78.78-.78 2.05 0 2.83L4 21.41c.39.39.9.59 1.41.59.51 0 1.02-.2 1.41-.59l7.78-7.78 2.81-2.81c.8-.78.8-2.07 0-2.86zM5.41 20L4 18.59l7.72-7.72 1.47 1.35L5.41 20z\"/>\n",
              "  </svg>\n",
              "      </button>\n",
              "      \n",
              "  <style>\n",
              "    .colab-df-container {\n",
              "      display:flex;\n",
              "      flex-wrap:wrap;\n",
              "      gap: 12px;\n",
              "    }\n",
              "\n",
              "    .colab-df-convert {\n",
              "      background-color: #E8F0FE;\n",
              "      border: none;\n",
              "      border-radius: 50%;\n",
              "      cursor: pointer;\n",
              "      display: none;\n",
              "      fill: #1967D2;\n",
              "      height: 32px;\n",
              "      padding: 0 0 0 0;\n",
              "      width: 32px;\n",
              "    }\n",
              "\n",
              "    .colab-df-convert:hover {\n",
              "      background-color: #E2EBFA;\n",
              "      box-shadow: 0px 1px 2px rgba(60, 64, 67, 0.3), 0px 1px 3px 1px rgba(60, 64, 67, 0.15);\n",
              "      fill: #174EA6;\n",
              "    }\n",
              "\n",
              "    [theme=dark] .colab-df-convert {\n",
              "      background-color: #3B4455;\n",
              "      fill: #D2E3FC;\n",
              "    }\n",
              "\n",
              "    [theme=dark] .colab-df-convert:hover {\n",
              "      background-color: #434B5C;\n",
              "      box-shadow: 0px 1px 3px 1px rgba(0, 0, 0, 0.15);\n",
              "      filter: drop-shadow(0px 1px 2px rgba(0, 0, 0, 0.3));\n",
              "      fill: #FFFFFF;\n",
              "    }\n",
              "  </style>\n",
              "\n",
              "      <script>\n",
              "        const buttonEl =\n",
              "          document.querySelector('#df-c42983fa-ba3e-45e0-b27f-3f411f1eaa12 button.colab-df-convert');\n",
              "        buttonEl.style.display =\n",
              "          google.colab.kernel.accessAllowed ? 'block' : 'none';\n",
              "\n",
              "        async function convertToInteractive(key) {\n",
              "          const element = document.querySelector('#df-c42983fa-ba3e-45e0-b27f-3f411f1eaa12');\n",
              "          const dataTable =\n",
              "            await google.colab.kernel.invokeFunction('convertToInteractive',\n",
              "                                                     [key], {});\n",
              "          if (!dataTable) return;\n",
              "\n",
              "          const docLinkHtml = 'Like what you see? Visit the ' +\n",
              "            '<a target=\"_blank\" href=https://colab.research.google.com/notebooks/data_table.ipynb>data table notebook</a>'\n",
              "            + ' to learn more about interactive tables.';\n",
              "          element.innerHTML = '';\n",
              "          dataTable['output_type'] = 'display_data';\n",
              "          await google.colab.output.renderOutput(dataTable, element);\n",
              "          const docLink = document.createElement('div');\n",
              "          docLink.innerHTML = docLinkHtml;\n",
              "          element.appendChild(docLink);\n",
              "        }\n",
              "      </script>\n",
              "    </div>\n",
              "  </div>\n",
              "  "
            ]
          },
          "metadata": {},
          "execution_count": 2
        }
      ],
      "source": [
        "dataFrame = pd.read_csv('https://raw.githubusercontent.com/inf032/introducaoML/master/data/FuelConsumption2022.csv')\n",
        "dataFrame.head()"
      ]
    },
    {
      "cell_type": "markdown",
      "id": "7249c28c",
      "metadata": {
        "id": "7249c28c"
      },
      "source": [
        "<h3>Observando as dimensões do dataframe - linhas e colunas</h3>\n"
      ]
    },
    {
      "cell_type": "code",
      "execution_count": 3,
      "id": "13f50f7d",
      "metadata": {
        "id": "13f50f7d",
        "outputId": "2a2845e1-a07c-4cac-d648-481e64f8dd9d",
        "colab": {
          "base_uri": "https://localhost:8080/"
        }
      },
      "outputs": [
        {
          "output_type": "execute_result",
          "data": {
            "text/plain": [
              "(945, 15)"
            ]
          },
          "metadata": {},
          "execution_count": 3
        }
      ],
      "source": [
        "dataFrame.shape"
      ]
    },
    {
      "cell_type": "markdown",
      "id": "09a89a71",
      "metadata": {
        "id": "09a89a71"
      },
      "source": [
        "<h3>Verificando o nome das colunas</h3>"
      ]
    },
    {
      "cell_type": "code",
      "execution_count": 4,
      "id": "09b81fe8",
      "metadata": {
        "id": "09b81fe8",
        "outputId": "c9a34305-0104-4880-9ca1-8aaa7a36a002",
        "colab": {
          "base_uri": "https://localhost:8080/"
        }
      },
      "outputs": [
        {
          "output_type": "execute_result",
          "data": {
            "text/plain": [
              "array(['Model Year', 'Make', 'Model', 'Vehicle Class', 'Engine Size (L)',\n",
              "       'Cylinders', 'Transmission', 'Fuel Type',\n",
              "       'Fuel Consumption City (L/100 km)',\n",
              "       'Fuel Consumption Hwy (L/100 km)',\n",
              "       'Fuel Consumption Comb (L/100 km)', 'Fuel Consumption Comb (mpg)',\n",
              "       'CO2 Emissions (g/km)', 'CO2 Rating', 'Smog Rating'], dtype=object)"
            ]
          },
          "metadata": {},
          "execution_count": 4
        }
      ],
      "source": [
        "dataFrame.columns.values"
      ]
    },
    {
      "cell_type": "markdown",
      "id": "296f39fa",
      "metadata": {
        "id": "296f39fa"
      },
      "source": [
        "<h3>Verificando o tipo das colunas</h3>"
      ]
    },
    {
      "cell_type": "code",
      "execution_count": 5,
      "id": "d750ce94",
      "metadata": {
        "id": "d750ce94",
        "outputId": "eebcb639-542e-4c34-80f5-6230dc8a3d1e",
        "colab": {
          "base_uri": "https://localhost:8080/"
        }
      },
      "outputs": [
        {
          "output_type": "execute_result",
          "data": {
            "text/plain": [
              "Model Year                            int64\n",
              "Make                                 object\n",
              "Model                                object\n",
              "Vehicle Class                        object\n",
              "Engine Size (L)                     float64\n",
              "Cylinders                             int64\n",
              "Transmission                         object\n",
              "Fuel Type                            object\n",
              "Fuel Consumption City (L/100 km)    float64\n",
              "Fuel Consumption Hwy (L/100 km)     float64\n",
              "Fuel Consumption Comb (L/100 km)    float64\n",
              "Fuel Consumption Comb (mpg)           int64\n",
              "CO2 Emissions (g/km)                  int64\n",
              "CO2 Rating                            int64\n",
              "Smog Rating                           int64\n",
              "dtype: object"
            ]
          },
          "metadata": {},
          "execution_count": 5
        }
      ],
      "source": [
        "dataFrame.dtypes"
      ]
    },
    {
      "cell_type": "markdown",
      "id": "734854ba",
      "metadata": {
        "id": "734854ba"
      },
      "source": [
        "<h3>Verificando um resumo das informações do Dataframe</h3>"
      ]
    },
    {
      "cell_type": "code",
      "execution_count": 6,
      "id": "a507caec",
      "metadata": {
        "id": "a507caec",
        "outputId": "904bff04-1474-4ce2-b59c-ba36cfe8e7f4",
        "colab": {
          "base_uri": "https://localhost:8080/"
        }
      },
      "outputs": [
        {
          "output_type": "stream",
          "name": "stdout",
          "text": [
            "<class 'pandas.core.frame.DataFrame'>\n",
            "RangeIndex: 945 entries, 0 to 944\n",
            "Data columns (total 15 columns):\n",
            " #   Column                            Non-Null Count  Dtype  \n",
            "---  ------                            --------------  -----  \n",
            " 0   Model Year                        945 non-null    int64  \n",
            " 1   Make                              945 non-null    object \n",
            " 2   Model                             945 non-null    object \n",
            " 3   Vehicle Class                     945 non-null    object \n",
            " 4   Engine Size (L)                   945 non-null    float64\n",
            " 5   Cylinders                         945 non-null    int64  \n",
            " 6   Transmission                      945 non-null    object \n",
            " 7   Fuel Type                         945 non-null    object \n",
            " 8   Fuel Consumption City (L/100 km)  945 non-null    float64\n",
            " 9   Fuel Consumption Hwy (L/100 km)   945 non-null    float64\n",
            " 10  Fuel Consumption Comb (L/100 km)  945 non-null    float64\n",
            " 11  Fuel Consumption Comb (mpg)       945 non-null    int64  \n",
            " 12  CO2 Emissions (g/km)              945 non-null    int64  \n",
            " 13  CO2 Rating                        945 non-null    int64  \n",
            " 14  Smog Rating                       945 non-null    int64  \n",
            "dtypes: float64(4), int64(6), object(5)\n",
            "memory usage: 110.9+ KB\n"
          ]
        }
      ],
      "source": [
        "dataFrame.info()"
      ]
    },
    {
      "cell_type": "markdown",
      "id": "3de8f456",
      "metadata": {
        "id": "3de8f456"
      },
      "source": [
        "<h3>Analisando as informações através de um sumário de estatísticas descritivas</h3>"
      ]
    },
    {
      "cell_type": "code",
      "execution_count": 7,
      "id": "3875004c",
      "metadata": {
        "id": "3875004c",
        "outputId": "01db0040-4464-4f2d-ddc5-9bc399757c02",
        "colab": {
          "base_uri": "https://localhost:8080/",
          "height": 362
        }
      },
      "outputs": [
        {
          "output_type": "execute_result",
          "data": {
            "text/plain": [
              "       Model Year  Engine Size (L)   Cylinders  \\\n",
              "count       945.0       945.000000  945.000000   \n",
              "mean       2022.0         3.201058    5.670899   \n",
              "std           0.0         1.374256    1.932837   \n",
              "min        2022.0         1.200000    3.000000   \n",
              "25%        2022.0         2.000000    4.000000   \n",
              "50%        2022.0         3.000000    6.000000   \n",
              "75%        2022.0         3.800000    6.000000   \n",
              "max        2022.0         8.000000   16.000000   \n",
              "\n",
              "       Fuel Consumption City (L/100 km)  Fuel Consumption Hwy (L/100 km)  \\\n",
              "count                        945.000000                       945.000000   \n",
              "mean                          12.515767                         9.374603   \n",
              "std                            3.452369                         2.290217   \n",
              "min                            4.000000                         3.900000   \n",
              "25%                           10.200000                         7.700000   \n",
              "50%                           12.200000                         9.200000   \n",
              "75%                           14.700000                        10.700000   \n",
              "max                           30.300000                        20.900000   \n",
              "\n",
              "       Fuel Consumption Comb (L/100 km)  Fuel Consumption Comb (mpg)  \\\n",
              "count                        945.000000                   945.000000   \n",
              "mean                          11.102222                    27.222222   \n",
              "std                            2.878074                     7.684409   \n",
              "min                            4.000000                    11.000000   \n",
              "25%                            9.100000                    22.000000   \n",
              "50%                           10.800000                    26.000000   \n",
              "75%                           12.900000                    31.000000   \n",
              "max                           26.100000                    71.000000   \n",
              "\n",
              "       CO2 Emissions (g/km)  CO2 Rating  Smog Rating  \n",
              "count            945.000000  945.000000   945.000000  \n",
              "mean             259.410582    4.533333     4.951323  \n",
              "std               64.486225    1.472632     1.678554  \n",
              "min               94.000000    1.000000     1.000000  \n",
              "25%              214.000000    3.000000     3.000000  \n",
              "50%              258.000000    4.000000     5.000000  \n",
              "75%              301.000000    5.000000     6.000000  \n",
              "max              608.000000   10.000000     7.000000  "
            ],
            "text/html": [
              "\n",
              "  <div id=\"df-1cb8ca04-706c-498b-a78e-e76842d07d0c\">\n",
              "    <div class=\"colab-df-container\">\n",
              "      <div>\n",
              "<style scoped>\n",
              "    .dataframe tbody tr th:only-of-type {\n",
              "        vertical-align: middle;\n",
              "    }\n",
              "\n",
              "    .dataframe tbody tr th {\n",
              "        vertical-align: top;\n",
              "    }\n",
              "\n",
              "    .dataframe thead th {\n",
              "        text-align: right;\n",
              "    }\n",
              "</style>\n",
              "<table border=\"1\" class=\"dataframe\">\n",
              "  <thead>\n",
              "    <tr style=\"text-align: right;\">\n",
              "      <th></th>\n",
              "      <th>Model Year</th>\n",
              "      <th>Engine Size (L)</th>\n",
              "      <th>Cylinders</th>\n",
              "      <th>Fuel Consumption City (L/100 km)</th>\n",
              "      <th>Fuel Consumption Hwy (L/100 km)</th>\n",
              "      <th>Fuel Consumption Comb (L/100 km)</th>\n",
              "      <th>Fuel Consumption Comb (mpg)</th>\n",
              "      <th>CO2 Emissions (g/km)</th>\n",
              "      <th>CO2 Rating</th>\n",
              "      <th>Smog Rating</th>\n",
              "    </tr>\n",
              "  </thead>\n",
              "  <tbody>\n",
              "    <tr>\n",
              "      <th>count</th>\n",
              "      <td>945.0</td>\n",
              "      <td>945.000000</td>\n",
              "      <td>945.000000</td>\n",
              "      <td>945.000000</td>\n",
              "      <td>945.000000</td>\n",
              "      <td>945.000000</td>\n",
              "      <td>945.000000</td>\n",
              "      <td>945.000000</td>\n",
              "      <td>945.000000</td>\n",
              "      <td>945.000000</td>\n",
              "    </tr>\n",
              "    <tr>\n",
              "      <th>mean</th>\n",
              "      <td>2022.0</td>\n",
              "      <td>3.201058</td>\n",
              "      <td>5.670899</td>\n",
              "      <td>12.515767</td>\n",
              "      <td>9.374603</td>\n",
              "      <td>11.102222</td>\n",
              "      <td>27.222222</td>\n",
              "      <td>259.410582</td>\n",
              "      <td>4.533333</td>\n",
              "      <td>4.951323</td>\n",
              "    </tr>\n",
              "    <tr>\n",
              "      <th>std</th>\n",
              "      <td>0.0</td>\n",
              "      <td>1.374256</td>\n",
              "      <td>1.932837</td>\n",
              "      <td>3.452369</td>\n",
              "      <td>2.290217</td>\n",
              "      <td>2.878074</td>\n",
              "      <td>7.684409</td>\n",
              "      <td>64.486225</td>\n",
              "      <td>1.472632</td>\n",
              "      <td>1.678554</td>\n",
              "    </tr>\n",
              "    <tr>\n",
              "      <th>min</th>\n",
              "      <td>2022.0</td>\n",
              "      <td>1.200000</td>\n",
              "      <td>3.000000</td>\n",
              "      <td>4.000000</td>\n",
              "      <td>3.900000</td>\n",
              "      <td>4.000000</td>\n",
              "      <td>11.000000</td>\n",
              "      <td>94.000000</td>\n",
              "      <td>1.000000</td>\n",
              "      <td>1.000000</td>\n",
              "    </tr>\n",
              "    <tr>\n",
              "      <th>25%</th>\n",
              "      <td>2022.0</td>\n",
              "      <td>2.000000</td>\n",
              "      <td>4.000000</td>\n",
              "      <td>10.200000</td>\n",
              "      <td>7.700000</td>\n",
              "      <td>9.100000</td>\n",
              "      <td>22.000000</td>\n",
              "      <td>214.000000</td>\n",
              "      <td>3.000000</td>\n",
              "      <td>3.000000</td>\n",
              "    </tr>\n",
              "    <tr>\n",
              "      <th>50%</th>\n",
              "      <td>2022.0</td>\n",
              "      <td>3.000000</td>\n",
              "      <td>6.000000</td>\n",
              "      <td>12.200000</td>\n",
              "      <td>9.200000</td>\n",
              "      <td>10.800000</td>\n",
              "      <td>26.000000</td>\n",
              "      <td>258.000000</td>\n",
              "      <td>4.000000</td>\n",
              "      <td>5.000000</td>\n",
              "    </tr>\n",
              "    <tr>\n",
              "      <th>75%</th>\n",
              "      <td>2022.0</td>\n",
              "      <td>3.800000</td>\n",
              "      <td>6.000000</td>\n",
              "      <td>14.700000</td>\n",
              "      <td>10.700000</td>\n",
              "      <td>12.900000</td>\n",
              "      <td>31.000000</td>\n",
              "      <td>301.000000</td>\n",
              "      <td>5.000000</td>\n",
              "      <td>6.000000</td>\n",
              "    </tr>\n",
              "    <tr>\n",
              "      <th>max</th>\n",
              "      <td>2022.0</td>\n",
              "      <td>8.000000</td>\n",
              "      <td>16.000000</td>\n",
              "      <td>30.300000</td>\n",
              "      <td>20.900000</td>\n",
              "      <td>26.100000</td>\n",
              "      <td>71.000000</td>\n",
              "      <td>608.000000</td>\n",
              "      <td>10.000000</td>\n",
              "      <td>7.000000</td>\n",
              "    </tr>\n",
              "  </tbody>\n",
              "</table>\n",
              "</div>\n",
              "      <button class=\"colab-df-convert\" onclick=\"convertToInteractive('df-1cb8ca04-706c-498b-a78e-e76842d07d0c')\"\n",
              "              title=\"Convert this dataframe to an interactive table.\"\n",
              "              style=\"display:none;\">\n",
              "        \n",
              "  <svg xmlns=\"http://www.w3.org/2000/svg\" height=\"24px\"viewBox=\"0 0 24 24\"\n",
              "       width=\"24px\">\n",
              "    <path d=\"M0 0h24v24H0V0z\" fill=\"none\"/>\n",
              "    <path d=\"M18.56 5.44l.94 2.06.94-2.06 2.06-.94-2.06-.94-.94-2.06-.94 2.06-2.06.94zm-11 1L8.5 8.5l.94-2.06 2.06-.94-2.06-.94L8.5 2.5l-.94 2.06-2.06.94zm10 10l.94 2.06.94-2.06 2.06-.94-2.06-.94-.94-2.06-.94 2.06-2.06.94z\"/><path d=\"M17.41 7.96l-1.37-1.37c-.4-.4-.92-.59-1.43-.59-.52 0-1.04.2-1.43.59L10.3 9.45l-7.72 7.72c-.78.78-.78 2.05 0 2.83L4 21.41c.39.39.9.59 1.41.59.51 0 1.02-.2 1.41-.59l7.78-7.78 2.81-2.81c.8-.78.8-2.07 0-2.86zM5.41 20L4 18.59l7.72-7.72 1.47 1.35L5.41 20z\"/>\n",
              "  </svg>\n",
              "      </button>\n",
              "      \n",
              "  <style>\n",
              "    .colab-df-container {\n",
              "      display:flex;\n",
              "      flex-wrap:wrap;\n",
              "      gap: 12px;\n",
              "    }\n",
              "\n",
              "    .colab-df-convert {\n",
              "      background-color: #E8F0FE;\n",
              "      border: none;\n",
              "      border-radius: 50%;\n",
              "      cursor: pointer;\n",
              "      display: none;\n",
              "      fill: #1967D2;\n",
              "      height: 32px;\n",
              "      padding: 0 0 0 0;\n",
              "      width: 32px;\n",
              "    }\n",
              "\n",
              "    .colab-df-convert:hover {\n",
              "      background-color: #E2EBFA;\n",
              "      box-shadow: 0px 1px 2px rgba(60, 64, 67, 0.3), 0px 1px 3px 1px rgba(60, 64, 67, 0.15);\n",
              "      fill: #174EA6;\n",
              "    }\n",
              "\n",
              "    [theme=dark] .colab-df-convert {\n",
              "      background-color: #3B4455;\n",
              "      fill: #D2E3FC;\n",
              "    }\n",
              "\n",
              "    [theme=dark] .colab-df-convert:hover {\n",
              "      background-color: #434B5C;\n",
              "      box-shadow: 0px 1px 3px 1px rgba(0, 0, 0, 0.15);\n",
              "      filter: drop-shadow(0px 1px 2px rgba(0, 0, 0, 0.3));\n",
              "      fill: #FFFFFF;\n",
              "    }\n",
              "  </style>\n",
              "\n",
              "      <script>\n",
              "        const buttonEl =\n",
              "          document.querySelector('#df-1cb8ca04-706c-498b-a78e-e76842d07d0c button.colab-df-convert');\n",
              "        buttonEl.style.display =\n",
              "          google.colab.kernel.accessAllowed ? 'block' : 'none';\n",
              "\n",
              "        async function convertToInteractive(key) {\n",
              "          const element = document.querySelector('#df-1cb8ca04-706c-498b-a78e-e76842d07d0c');\n",
              "          const dataTable =\n",
              "            await google.colab.kernel.invokeFunction('convertToInteractive',\n",
              "                                                     [key], {});\n",
              "          if (!dataTable) return;\n",
              "\n",
              "          const docLinkHtml = 'Like what you see? Visit the ' +\n",
              "            '<a target=\"_blank\" href=https://colab.research.google.com/notebooks/data_table.ipynb>data table notebook</a>'\n",
              "            + ' to learn more about interactive tables.';\n",
              "          element.innerHTML = '';\n",
              "          dataTable['output_type'] = 'display_data';\n",
              "          await google.colab.output.renderOutput(dataTable, element);\n",
              "          const docLink = document.createElement('div');\n",
              "          docLink.innerHTML = docLinkHtml;\n",
              "          element.appendChild(docLink);\n",
              "        }\n",
              "      </script>\n",
              "    </div>\n",
              "  </div>\n",
              "  "
            ]
          },
          "metadata": {},
          "execution_count": 7
        }
      ],
      "source": [
        "dataFrame.describe()"
      ]
    },
    {
      "cell_type": "markdown",
      "id": "a195a6c0",
      "metadata": {
        "id": "a195a6c0"
      },
      "source": [
        "## Categorize os seus dados"
      ]
    },
    {
      "cell_type": "markdown",
      "id": "20a407fe",
      "metadata": {
        "id": "20a407fe"
      },
      "source": [
        "Os nossos atributos podem assumir diversos valores e por isso são chamados de variáveis.\n",
        "\n",
        "As variáveis podem ser classificadas entre:\n",
        "\n",
        "variáveis qualitativas:  qualidade\n",
        "\n",
        "    ordinal - pode-se estabelecer uma ordem entre as categorias: Transmission\n",
        "    \n",
        "    nominal - não é possível hierarquizar as categorias: Make\n",
        "    \n",
        "variáveis quantitativas: contagens e medidas\n",
        "\n",
        "    discretos - contagem discreta formada por inteiros: Cylinders\n",
        "    \n",
        "    contínuos - contagem contínua formada por inteiros: Fuel Consumption Comb (L/100 km)"
      ]
    },
    {
      "cell_type": "markdown",
      "id": "e20e388d",
      "metadata": {
        "id": "e20e388d"
      },
      "source": [
        "<img src='https://github.com/inf032/introducaoML/blob/master/img/variaveis.png?raw=1' width='70%'>"
      ]
    },
    {
      "cell_type": "markdown",
      "id": "9a7a2e7e",
      "metadata": {
        "id": "9a7a2e7e"
      },
      "source": [
        "<h3>Seleção de Subconjuntos</h3>"
      ]
    },
    {
      "cell_type": "code",
      "execution_count": 8,
      "id": "aa8e2186",
      "metadata": {
        "id": "aa8e2186",
        "outputId": "31b9bd10-1b12-40f8-f9a2-8a8eae2fd194",
        "colab": {
          "base_uri": "https://localhost:8080/"
        }
      },
      "outputs": [
        {
          "output_type": "execute_result",
          "data": {
            "text/plain": [
              "0      Acura\n",
              "1      Acura\n",
              "2      Acura\n",
              "3      Acura\n",
              "4      Acura\n",
              "       ...  \n",
              "940    Volvo\n",
              "941    Volvo\n",
              "942    Volvo\n",
              "943    Volvo\n",
              "944    Volvo\n",
              "Name: Make, Length: 945, dtype: object"
            ]
          },
          "metadata": {},
          "execution_count": 8
        }
      ],
      "source": [
        "dataFrame.Make"
      ]
    },
    {
      "cell_type": "code",
      "execution_count": 9,
      "id": "955e7b3a",
      "metadata": {
        "id": "955e7b3a",
        "outputId": "ed3cd54b-886e-44fb-d8a4-b3e720fae4d3",
        "colab": {
          "base_uri": "https://localhost:8080/",
          "height": 424
        }
      },
      "outputs": [
        {
          "output_type": "execute_result",
          "data": {
            "text/plain": [
              "      Make Fuel Type\n",
              "0    Acura         Z\n",
              "1    Acura         Z\n",
              "2    Acura         Z\n",
              "3    Acura         Z\n",
              "4    Acura         Z\n",
              "..     ...       ...\n",
              "940  Volvo         Z\n",
              "941  Volvo         Z\n",
              "942  Volvo         Z\n",
              "943  Volvo         Z\n",
              "944  Volvo         Z\n",
              "\n",
              "[945 rows x 2 columns]"
            ],
            "text/html": [
              "\n",
              "  <div id=\"df-8e8859c0-dbcf-4ff5-9fc3-2e1ad97b4409\">\n",
              "    <div class=\"colab-df-container\">\n",
              "      <div>\n",
              "<style scoped>\n",
              "    .dataframe tbody tr th:only-of-type {\n",
              "        vertical-align: middle;\n",
              "    }\n",
              "\n",
              "    .dataframe tbody tr th {\n",
              "        vertical-align: top;\n",
              "    }\n",
              "\n",
              "    .dataframe thead th {\n",
              "        text-align: right;\n",
              "    }\n",
              "</style>\n",
              "<table border=\"1\" class=\"dataframe\">\n",
              "  <thead>\n",
              "    <tr style=\"text-align: right;\">\n",
              "      <th></th>\n",
              "      <th>Make</th>\n",
              "      <th>Fuel Type</th>\n",
              "    </tr>\n",
              "  </thead>\n",
              "  <tbody>\n",
              "    <tr>\n",
              "      <th>0</th>\n",
              "      <td>Acura</td>\n",
              "      <td>Z</td>\n",
              "    </tr>\n",
              "    <tr>\n",
              "      <th>1</th>\n",
              "      <td>Acura</td>\n",
              "      <td>Z</td>\n",
              "    </tr>\n",
              "    <tr>\n",
              "      <th>2</th>\n",
              "      <td>Acura</td>\n",
              "      <td>Z</td>\n",
              "    </tr>\n",
              "    <tr>\n",
              "      <th>3</th>\n",
              "      <td>Acura</td>\n",
              "      <td>Z</td>\n",
              "    </tr>\n",
              "    <tr>\n",
              "      <th>4</th>\n",
              "      <td>Acura</td>\n",
              "      <td>Z</td>\n",
              "    </tr>\n",
              "    <tr>\n",
              "      <th>...</th>\n",
              "      <td>...</td>\n",
              "      <td>...</td>\n",
              "    </tr>\n",
              "    <tr>\n",
              "      <th>940</th>\n",
              "      <td>Volvo</td>\n",
              "      <td>Z</td>\n",
              "    </tr>\n",
              "    <tr>\n",
              "      <th>941</th>\n",
              "      <td>Volvo</td>\n",
              "      <td>Z</td>\n",
              "    </tr>\n",
              "    <tr>\n",
              "      <th>942</th>\n",
              "      <td>Volvo</td>\n",
              "      <td>Z</td>\n",
              "    </tr>\n",
              "    <tr>\n",
              "      <th>943</th>\n",
              "      <td>Volvo</td>\n",
              "      <td>Z</td>\n",
              "    </tr>\n",
              "    <tr>\n",
              "      <th>944</th>\n",
              "      <td>Volvo</td>\n",
              "      <td>Z</td>\n",
              "    </tr>\n",
              "  </tbody>\n",
              "</table>\n",
              "<p>945 rows × 2 columns</p>\n",
              "</div>\n",
              "      <button class=\"colab-df-convert\" onclick=\"convertToInteractive('df-8e8859c0-dbcf-4ff5-9fc3-2e1ad97b4409')\"\n",
              "              title=\"Convert this dataframe to an interactive table.\"\n",
              "              style=\"display:none;\">\n",
              "        \n",
              "  <svg xmlns=\"http://www.w3.org/2000/svg\" height=\"24px\"viewBox=\"0 0 24 24\"\n",
              "       width=\"24px\">\n",
              "    <path d=\"M0 0h24v24H0V0z\" fill=\"none\"/>\n",
              "    <path d=\"M18.56 5.44l.94 2.06.94-2.06 2.06-.94-2.06-.94-.94-2.06-.94 2.06-2.06.94zm-11 1L8.5 8.5l.94-2.06 2.06-.94-2.06-.94L8.5 2.5l-.94 2.06-2.06.94zm10 10l.94 2.06.94-2.06 2.06-.94-2.06-.94-.94-2.06-.94 2.06-2.06.94z\"/><path d=\"M17.41 7.96l-1.37-1.37c-.4-.4-.92-.59-1.43-.59-.52 0-1.04.2-1.43.59L10.3 9.45l-7.72 7.72c-.78.78-.78 2.05 0 2.83L4 21.41c.39.39.9.59 1.41.59.51 0 1.02-.2 1.41-.59l7.78-7.78 2.81-2.81c.8-.78.8-2.07 0-2.86zM5.41 20L4 18.59l7.72-7.72 1.47 1.35L5.41 20z\"/>\n",
              "  </svg>\n",
              "      </button>\n",
              "      \n",
              "  <style>\n",
              "    .colab-df-container {\n",
              "      display:flex;\n",
              "      flex-wrap:wrap;\n",
              "      gap: 12px;\n",
              "    }\n",
              "\n",
              "    .colab-df-convert {\n",
              "      background-color: #E8F0FE;\n",
              "      border: none;\n",
              "      border-radius: 50%;\n",
              "      cursor: pointer;\n",
              "      display: none;\n",
              "      fill: #1967D2;\n",
              "      height: 32px;\n",
              "      padding: 0 0 0 0;\n",
              "      width: 32px;\n",
              "    }\n",
              "\n",
              "    .colab-df-convert:hover {\n",
              "      background-color: #E2EBFA;\n",
              "      box-shadow: 0px 1px 2px rgba(60, 64, 67, 0.3), 0px 1px 3px 1px rgba(60, 64, 67, 0.15);\n",
              "      fill: #174EA6;\n",
              "    }\n",
              "\n",
              "    [theme=dark] .colab-df-convert {\n",
              "      background-color: #3B4455;\n",
              "      fill: #D2E3FC;\n",
              "    }\n",
              "\n",
              "    [theme=dark] .colab-df-convert:hover {\n",
              "      background-color: #434B5C;\n",
              "      box-shadow: 0px 1px 3px 1px rgba(0, 0, 0, 0.15);\n",
              "      filter: drop-shadow(0px 1px 2px rgba(0, 0, 0, 0.3));\n",
              "      fill: #FFFFFF;\n",
              "    }\n",
              "  </style>\n",
              "\n",
              "      <script>\n",
              "        const buttonEl =\n",
              "          document.querySelector('#df-8e8859c0-dbcf-4ff5-9fc3-2e1ad97b4409 button.colab-df-convert');\n",
              "        buttonEl.style.display =\n",
              "          google.colab.kernel.accessAllowed ? 'block' : 'none';\n",
              "\n",
              "        async function convertToInteractive(key) {\n",
              "          const element = document.querySelector('#df-8e8859c0-dbcf-4ff5-9fc3-2e1ad97b4409');\n",
              "          const dataTable =\n",
              "            await google.colab.kernel.invokeFunction('convertToInteractive',\n",
              "                                                     [key], {});\n",
              "          if (!dataTable) return;\n",
              "\n",
              "          const docLinkHtml = 'Like what you see? Visit the ' +\n",
              "            '<a target=\"_blank\" href=https://colab.research.google.com/notebooks/data_table.ipynb>data table notebook</a>'\n",
              "            + ' to learn more about interactive tables.';\n",
              "          element.innerHTML = '';\n",
              "          dataTable['output_type'] = 'display_data';\n",
              "          await google.colab.output.renderOutput(dataTable, element);\n",
              "          const docLink = document.createElement('div');\n",
              "          docLink.innerHTML = docLinkHtml;\n",
              "          element.appendChild(docLink);\n",
              "        }\n",
              "      </script>\n",
              "    </div>\n",
              "  </div>\n",
              "  "
            ]
          },
          "metadata": {},
          "execution_count": 9
        }
      ],
      "source": [
        "dataFrame[['Make', 'Fuel Type']]"
      ]
    },
    {
      "cell_type": "code",
      "execution_count": 10,
      "id": "25259ac7",
      "metadata": {
        "id": "25259ac7",
        "outputId": "ee253a95-18ec-4f24-e18a-d796828b7a6d",
        "colab": {
          "base_uri": "https://localhost:8080/",
          "height": 389
        }
      },
      "outputs": [
        {
          "output_type": "execute_result",
          "data": {
            "text/plain": [
              "     Model Year Make                      Model Vehicle Class  \\\n",
              "100        2022  BMW   M8 Cabriolet Competition    Subcompact   \n",
              "101        2022  BMW                   M8 Coupe    Subcompact   \n",
              "102        2022  BMW       M8 Coupe Competition    Subcompact   \n",
              "103        2022  BMW              M8 Gran Coupe      Mid-size   \n",
              "104        2022  BMW  M8 Gran Coupe Competition      Mid-size   \n",
              "\n",
              "     Engine Size (L)  Cylinders Transmission Fuel Type  \\\n",
              "100              4.4          8          AS8         Z   \n",
              "101              4.4          8          AS8         Z   \n",
              "102              4.4          8          AS8         Z   \n",
              "103              4.4          8          AS8         Z   \n",
              "104              4.4          8          AS8         Z   \n",
              "\n",
              "     Fuel Consumption City (L/100 km)  Fuel Consumption Hwy (L/100 km)  \\\n",
              "100                              16.1                             11.0   \n",
              "101                              16.1                             11.0   \n",
              "102                              16.1                             11.0   \n",
              "103                              16.1                             11.0   \n",
              "104                              16.1                             11.0   \n",
              "\n",
              "     Fuel Consumption Comb (L/100 km)  Fuel Consumption Comb (mpg)  \\\n",
              "100                              13.8                           20   \n",
              "101                              13.8                           20   \n",
              "102                              13.8                           20   \n",
              "103                              13.8                           20   \n",
              "104                              13.8                           20   \n",
              "\n",
              "     CO2 Emissions (g/km)  CO2 Rating  Smog Rating  \n",
              "100                   322           3            3  \n",
              "101                   322           3            3  \n",
              "102                   322           3            3  \n",
              "103                   322           3            3  \n",
              "104                   322           3            3  "
            ],
            "text/html": [
              "\n",
              "  <div id=\"df-e617b001-a572-402a-851d-c9fdb443976d\">\n",
              "    <div class=\"colab-df-container\">\n",
              "      <div>\n",
              "<style scoped>\n",
              "    .dataframe tbody tr th:only-of-type {\n",
              "        vertical-align: middle;\n",
              "    }\n",
              "\n",
              "    .dataframe tbody tr th {\n",
              "        vertical-align: top;\n",
              "    }\n",
              "\n",
              "    .dataframe thead th {\n",
              "        text-align: right;\n",
              "    }\n",
              "</style>\n",
              "<table border=\"1\" class=\"dataframe\">\n",
              "  <thead>\n",
              "    <tr style=\"text-align: right;\">\n",
              "      <th></th>\n",
              "      <th>Model Year</th>\n",
              "      <th>Make</th>\n",
              "      <th>Model</th>\n",
              "      <th>Vehicle Class</th>\n",
              "      <th>Engine Size (L)</th>\n",
              "      <th>Cylinders</th>\n",
              "      <th>Transmission</th>\n",
              "      <th>Fuel Type</th>\n",
              "      <th>Fuel Consumption City (L/100 km)</th>\n",
              "      <th>Fuel Consumption Hwy (L/100 km)</th>\n",
              "      <th>Fuel Consumption Comb (L/100 km)</th>\n",
              "      <th>Fuel Consumption Comb (mpg)</th>\n",
              "      <th>CO2 Emissions (g/km)</th>\n",
              "      <th>CO2 Rating</th>\n",
              "      <th>Smog Rating</th>\n",
              "    </tr>\n",
              "  </thead>\n",
              "  <tbody>\n",
              "    <tr>\n",
              "      <th>100</th>\n",
              "      <td>2022</td>\n",
              "      <td>BMW</td>\n",
              "      <td>M8 Cabriolet Competition</td>\n",
              "      <td>Subcompact</td>\n",
              "      <td>4.4</td>\n",
              "      <td>8</td>\n",
              "      <td>AS8</td>\n",
              "      <td>Z</td>\n",
              "      <td>16.1</td>\n",
              "      <td>11.0</td>\n",
              "      <td>13.8</td>\n",
              "      <td>20</td>\n",
              "      <td>322</td>\n",
              "      <td>3</td>\n",
              "      <td>3</td>\n",
              "    </tr>\n",
              "    <tr>\n",
              "      <th>101</th>\n",
              "      <td>2022</td>\n",
              "      <td>BMW</td>\n",
              "      <td>M8 Coupe</td>\n",
              "      <td>Subcompact</td>\n",
              "      <td>4.4</td>\n",
              "      <td>8</td>\n",
              "      <td>AS8</td>\n",
              "      <td>Z</td>\n",
              "      <td>16.1</td>\n",
              "      <td>11.0</td>\n",
              "      <td>13.8</td>\n",
              "      <td>20</td>\n",
              "      <td>322</td>\n",
              "      <td>3</td>\n",
              "      <td>3</td>\n",
              "    </tr>\n",
              "    <tr>\n",
              "      <th>102</th>\n",
              "      <td>2022</td>\n",
              "      <td>BMW</td>\n",
              "      <td>M8 Coupe Competition</td>\n",
              "      <td>Subcompact</td>\n",
              "      <td>4.4</td>\n",
              "      <td>8</td>\n",
              "      <td>AS8</td>\n",
              "      <td>Z</td>\n",
              "      <td>16.1</td>\n",
              "      <td>11.0</td>\n",
              "      <td>13.8</td>\n",
              "      <td>20</td>\n",
              "      <td>322</td>\n",
              "      <td>3</td>\n",
              "      <td>3</td>\n",
              "    </tr>\n",
              "    <tr>\n",
              "      <th>103</th>\n",
              "      <td>2022</td>\n",
              "      <td>BMW</td>\n",
              "      <td>M8 Gran Coupe</td>\n",
              "      <td>Mid-size</td>\n",
              "      <td>4.4</td>\n",
              "      <td>8</td>\n",
              "      <td>AS8</td>\n",
              "      <td>Z</td>\n",
              "      <td>16.1</td>\n",
              "      <td>11.0</td>\n",
              "      <td>13.8</td>\n",
              "      <td>20</td>\n",
              "      <td>322</td>\n",
              "      <td>3</td>\n",
              "      <td>3</td>\n",
              "    </tr>\n",
              "    <tr>\n",
              "      <th>104</th>\n",
              "      <td>2022</td>\n",
              "      <td>BMW</td>\n",
              "      <td>M8 Gran Coupe Competition</td>\n",
              "      <td>Mid-size</td>\n",
              "      <td>4.4</td>\n",
              "      <td>8</td>\n",
              "      <td>AS8</td>\n",
              "      <td>Z</td>\n",
              "      <td>16.1</td>\n",
              "      <td>11.0</td>\n",
              "      <td>13.8</td>\n",
              "      <td>20</td>\n",
              "      <td>322</td>\n",
              "      <td>3</td>\n",
              "      <td>3</td>\n",
              "    </tr>\n",
              "  </tbody>\n",
              "</table>\n",
              "</div>\n",
              "      <button class=\"colab-df-convert\" onclick=\"convertToInteractive('df-e617b001-a572-402a-851d-c9fdb443976d')\"\n",
              "              title=\"Convert this dataframe to an interactive table.\"\n",
              "              style=\"display:none;\">\n",
              "        \n",
              "  <svg xmlns=\"http://www.w3.org/2000/svg\" height=\"24px\"viewBox=\"0 0 24 24\"\n",
              "       width=\"24px\">\n",
              "    <path d=\"M0 0h24v24H0V0z\" fill=\"none\"/>\n",
              "    <path d=\"M18.56 5.44l.94 2.06.94-2.06 2.06-.94-2.06-.94-.94-2.06-.94 2.06-2.06.94zm-11 1L8.5 8.5l.94-2.06 2.06-.94-2.06-.94L8.5 2.5l-.94 2.06-2.06.94zm10 10l.94 2.06.94-2.06 2.06-.94-2.06-.94-.94-2.06-.94 2.06-2.06.94z\"/><path d=\"M17.41 7.96l-1.37-1.37c-.4-.4-.92-.59-1.43-.59-.52 0-1.04.2-1.43.59L10.3 9.45l-7.72 7.72c-.78.78-.78 2.05 0 2.83L4 21.41c.39.39.9.59 1.41.59.51 0 1.02-.2 1.41-.59l7.78-7.78 2.81-2.81c.8-.78.8-2.07 0-2.86zM5.41 20L4 18.59l7.72-7.72 1.47 1.35L5.41 20z\"/>\n",
              "  </svg>\n",
              "      </button>\n",
              "      \n",
              "  <style>\n",
              "    .colab-df-container {\n",
              "      display:flex;\n",
              "      flex-wrap:wrap;\n",
              "      gap: 12px;\n",
              "    }\n",
              "\n",
              "    .colab-df-convert {\n",
              "      background-color: #E8F0FE;\n",
              "      border: none;\n",
              "      border-radius: 50%;\n",
              "      cursor: pointer;\n",
              "      display: none;\n",
              "      fill: #1967D2;\n",
              "      height: 32px;\n",
              "      padding: 0 0 0 0;\n",
              "      width: 32px;\n",
              "    }\n",
              "\n",
              "    .colab-df-convert:hover {\n",
              "      background-color: #E2EBFA;\n",
              "      box-shadow: 0px 1px 2px rgba(60, 64, 67, 0.3), 0px 1px 3px 1px rgba(60, 64, 67, 0.15);\n",
              "      fill: #174EA6;\n",
              "    }\n",
              "\n",
              "    [theme=dark] .colab-df-convert {\n",
              "      background-color: #3B4455;\n",
              "      fill: #D2E3FC;\n",
              "    }\n",
              "\n",
              "    [theme=dark] .colab-df-convert:hover {\n",
              "      background-color: #434B5C;\n",
              "      box-shadow: 0px 1px 3px 1px rgba(0, 0, 0, 0.15);\n",
              "      filter: drop-shadow(0px 1px 2px rgba(0, 0, 0, 0.3));\n",
              "      fill: #FFFFFF;\n",
              "    }\n",
              "  </style>\n",
              "\n",
              "      <script>\n",
              "        const buttonEl =\n",
              "          document.querySelector('#df-e617b001-a572-402a-851d-c9fdb443976d button.colab-df-convert');\n",
              "        buttonEl.style.display =\n",
              "          google.colab.kernel.accessAllowed ? 'block' : 'none';\n",
              "\n",
              "        async function convertToInteractive(key) {\n",
              "          const element = document.querySelector('#df-e617b001-a572-402a-851d-c9fdb443976d');\n",
              "          const dataTable =\n",
              "            await google.colab.kernel.invokeFunction('convertToInteractive',\n",
              "                                                     [key], {});\n",
              "          if (!dataTable) return;\n",
              "\n",
              "          const docLinkHtml = 'Like what you see? Visit the ' +\n",
              "            '<a target=\"_blank\" href=https://colab.research.google.com/notebooks/data_table.ipynb>data table notebook</a>'\n",
              "            + ' to learn more about interactive tables.';\n",
              "          element.innerHTML = '';\n",
              "          dataTable['output_type'] = 'display_data';\n",
              "          await google.colab.output.renderOutput(dataTable, element);\n",
              "          const docLink = document.createElement('div');\n",
              "          docLink.innerHTML = docLinkHtml;\n",
              "          element.appendChild(docLink);\n",
              "        }\n",
              "      </script>\n",
              "    </div>\n",
              "  </div>\n",
              "  "
            ]
          },
          "metadata": {},
          "execution_count": 10
        }
      ],
      "source": [
        "dataFrame[100:105]"
      ]
    },
    {
      "cell_type": "code",
      "execution_count": 11,
      "id": "bb470e0e",
      "metadata": {
        "id": "bb470e0e",
        "outputId": "dfbe4be1-5a66-43c6-9396-329b7fd46c41",
        "colab": {
          "base_uri": "https://localhost:8080/",
          "height": 551
        }
      },
      "outputs": [
        {
          "output_type": "execute_result",
          "data": {
            "text/plain": [
              "            Make Fuel Type\n",
              "10    Alfa Romeo         Z\n",
              "11    Alfa Romeo         Z\n",
              "12    Alfa Romeo         Z\n",
              "13    Alfa Romeo         Z\n",
              "14  Aston Martin         Z\n",
              "15  Aston Martin         Z\n",
              "16  Aston Martin         Z\n",
              "17  Aston Martin         Z\n",
              "18  Aston Martin         Z\n",
              "19          Audi         X\n",
              "20          Audi         Z\n",
              "21          Audi         Z\n",
              "22          Audi         Z\n",
              "23          Audi         Z\n",
              "24          Audi         Z\n",
              "25          Audi         Z"
            ],
            "text/html": [
              "\n",
              "  <div id=\"df-9f63582c-3ded-4c1b-84c7-64b40b6cd2bf\">\n",
              "    <div class=\"colab-df-container\">\n",
              "      <div>\n",
              "<style scoped>\n",
              "    .dataframe tbody tr th:only-of-type {\n",
              "        vertical-align: middle;\n",
              "    }\n",
              "\n",
              "    .dataframe tbody tr th {\n",
              "        vertical-align: top;\n",
              "    }\n",
              "\n",
              "    .dataframe thead th {\n",
              "        text-align: right;\n",
              "    }\n",
              "</style>\n",
              "<table border=\"1\" class=\"dataframe\">\n",
              "  <thead>\n",
              "    <tr style=\"text-align: right;\">\n",
              "      <th></th>\n",
              "      <th>Make</th>\n",
              "      <th>Fuel Type</th>\n",
              "    </tr>\n",
              "  </thead>\n",
              "  <tbody>\n",
              "    <tr>\n",
              "      <th>10</th>\n",
              "      <td>Alfa Romeo</td>\n",
              "      <td>Z</td>\n",
              "    </tr>\n",
              "    <tr>\n",
              "      <th>11</th>\n",
              "      <td>Alfa Romeo</td>\n",
              "      <td>Z</td>\n",
              "    </tr>\n",
              "    <tr>\n",
              "      <th>12</th>\n",
              "      <td>Alfa Romeo</td>\n",
              "      <td>Z</td>\n",
              "    </tr>\n",
              "    <tr>\n",
              "      <th>13</th>\n",
              "      <td>Alfa Romeo</td>\n",
              "      <td>Z</td>\n",
              "    </tr>\n",
              "    <tr>\n",
              "      <th>14</th>\n",
              "      <td>Aston Martin</td>\n",
              "      <td>Z</td>\n",
              "    </tr>\n",
              "    <tr>\n",
              "      <th>15</th>\n",
              "      <td>Aston Martin</td>\n",
              "      <td>Z</td>\n",
              "    </tr>\n",
              "    <tr>\n",
              "      <th>16</th>\n",
              "      <td>Aston Martin</td>\n",
              "      <td>Z</td>\n",
              "    </tr>\n",
              "    <tr>\n",
              "      <th>17</th>\n",
              "      <td>Aston Martin</td>\n",
              "      <td>Z</td>\n",
              "    </tr>\n",
              "    <tr>\n",
              "      <th>18</th>\n",
              "      <td>Aston Martin</td>\n",
              "      <td>Z</td>\n",
              "    </tr>\n",
              "    <tr>\n",
              "      <th>19</th>\n",
              "      <td>Audi</td>\n",
              "      <td>X</td>\n",
              "    </tr>\n",
              "    <tr>\n",
              "      <th>20</th>\n",
              "      <td>Audi</td>\n",
              "      <td>Z</td>\n",
              "    </tr>\n",
              "    <tr>\n",
              "      <th>21</th>\n",
              "      <td>Audi</td>\n",
              "      <td>Z</td>\n",
              "    </tr>\n",
              "    <tr>\n",
              "      <th>22</th>\n",
              "      <td>Audi</td>\n",
              "      <td>Z</td>\n",
              "    </tr>\n",
              "    <tr>\n",
              "      <th>23</th>\n",
              "      <td>Audi</td>\n",
              "      <td>Z</td>\n",
              "    </tr>\n",
              "    <tr>\n",
              "      <th>24</th>\n",
              "      <td>Audi</td>\n",
              "      <td>Z</td>\n",
              "    </tr>\n",
              "    <tr>\n",
              "      <th>25</th>\n",
              "      <td>Audi</td>\n",
              "      <td>Z</td>\n",
              "    </tr>\n",
              "  </tbody>\n",
              "</table>\n",
              "</div>\n",
              "      <button class=\"colab-df-convert\" onclick=\"convertToInteractive('df-9f63582c-3ded-4c1b-84c7-64b40b6cd2bf')\"\n",
              "              title=\"Convert this dataframe to an interactive table.\"\n",
              "              style=\"display:none;\">\n",
              "        \n",
              "  <svg xmlns=\"http://www.w3.org/2000/svg\" height=\"24px\"viewBox=\"0 0 24 24\"\n",
              "       width=\"24px\">\n",
              "    <path d=\"M0 0h24v24H0V0z\" fill=\"none\"/>\n",
              "    <path d=\"M18.56 5.44l.94 2.06.94-2.06 2.06-.94-2.06-.94-.94-2.06-.94 2.06-2.06.94zm-11 1L8.5 8.5l.94-2.06 2.06-.94-2.06-.94L8.5 2.5l-.94 2.06-2.06.94zm10 10l.94 2.06.94-2.06 2.06-.94-2.06-.94-.94-2.06-.94 2.06-2.06.94z\"/><path d=\"M17.41 7.96l-1.37-1.37c-.4-.4-.92-.59-1.43-.59-.52 0-1.04.2-1.43.59L10.3 9.45l-7.72 7.72c-.78.78-.78 2.05 0 2.83L4 21.41c.39.39.9.59 1.41.59.51 0 1.02-.2 1.41-.59l7.78-7.78 2.81-2.81c.8-.78.8-2.07 0-2.86zM5.41 20L4 18.59l7.72-7.72 1.47 1.35L5.41 20z\"/>\n",
              "  </svg>\n",
              "      </button>\n",
              "      \n",
              "  <style>\n",
              "    .colab-df-container {\n",
              "      display:flex;\n",
              "      flex-wrap:wrap;\n",
              "      gap: 12px;\n",
              "    }\n",
              "\n",
              "    .colab-df-convert {\n",
              "      background-color: #E8F0FE;\n",
              "      border: none;\n",
              "      border-radius: 50%;\n",
              "      cursor: pointer;\n",
              "      display: none;\n",
              "      fill: #1967D2;\n",
              "      height: 32px;\n",
              "      padding: 0 0 0 0;\n",
              "      width: 32px;\n",
              "    }\n",
              "\n",
              "    .colab-df-convert:hover {\n",
              "      background-color: #E2EBFA;\n",
              "      box-shadow: 0px 1px 2px rgba(60, 64, 67, 0.3), 0px 1px 3px 1px rgba(60, 64, 67, 0.15);\n",
              "      fill: #174EA6;\n",
              "    }\n",
              "\n",
              "    [theme=dark] .colab-df-convert {\n",
              "      background-color: #3B4455;\n",
              "      fill: #D2E3FC;\n",
              "    }\n",
              "\n",
              "    [theme=dark] .colab-df-convert:hover {\n",
              "      background-color: #434B5C;\n",
              "      box-shadow: 0px 1px 3px 1px rgba(0, 0, 0, 0.15);\n",
              "      filter: drop-shadow(0px 1px 2px rgba(0, 0, 0, 0.3));\n",
              "      fill: #FFFFFF;\n",
              "    }\n",
              "  </style>\n",
              "\n",
              "      <script>\n",
              "        const buttonEl =\n",
              "          document.querySelector('#df-9f63582c-3ded-4c1b-84c7-64b40b6cd2bf button.colab-df-convert');\n",
              "        buttonEl.style.display =\n",
              "          google.colab.kernel.accessAllowed ? 'block' : 'none';\n",
              "\n",
              "        async function convertToInteractive(key) {\n",
              "          const element = document.querySelector('#df-9f63582c-3ded-4c1b-84c7-64b40b6cd2bf');\n",
              "          const dataTable =\n",
              "            await google.colab.kernel.invokeFunction('convertToInteractive',\n",
              "                                                     [key], {});\n",
              "          if (!dataTable) return;\n",
              "\n",
              "          const docLinkHtml = 'Like what you see? Visit the ' +\n",
              "            '<a target=\"_blank\" href=https://colab.research.google.com/notebooks/data_table.ipynb>data table notebook</a>'\n",
              "            + ' to learn more about interactive tables.';\n",
              "          element.innerHTML = '';\n",
              "          dataTable['output_type'] = 'display_data';\n",
              "          await google.colab.output.renderOutput(dataTable, element);\n",
              "          const docLink = document.createElement('div');\n",
              "          docLink.innerHTML = docLinkHtml;\n",
              "          element.appendChild(docLink);\n",
              "        }\n",
              "      </script>\n",
              "    </div>\n",
              "  </div>\n",
              "  "
            ]
          },
          "metadata": {},
          "execution_count": 11
        }
      ],
      "source": [
        "dataFrame.loc[10:25, ['Make', 'Fuel Type']]"
      ]
    },
    {
      "cell_type": "code",
      "execution_count": 12,
      "id": "76de3b68",
      "metadata": {
        "scrolled": false,
        "id": "76de3b68",
        "outputId": "5c7a6e60-ee7c-4d42-b77b-c7505645d216",
        "colab": {
          "base_uri": "https://localhost:8080/",
          "height": 326
        }
      },
      "outputs": [
        {
          "output_type": "execute_result",
          "data": {
            "text/plain": [
              "     Model Year     Make               Model Vehicle Class  Engine Size (L)  \\\n",
              "131        2022  Bugatti              Chiron    Two-seater              8.0   \n",
              "132        2022  Bugatti    Chiron Pur Sport    Two-seater              8.0   \n",
              "133        2022  Bugatti  Chiron Super Sport    Two-seater              8.0   \n",
              "\n",
              "     Cylinders Transmission Fuel Type  Fuel Consumption City (L/100 km)  \\\n",
              "131         16          AM7         Z                              26.8   \n",
              "132         16          AM7         Z                              30.3   \n",
              "133         16          AM7         Z                              30.3   \n",
              "\n",
              "     Fuel Consumption Hwy (L/100 km)  Fuel Consumption Comb (L/100 km)  \\\n",
              "131                             16.6                              22.2   \n",
              "132                             20.9                              26.1   \n",
              "133                             20.9                              26.1   \n",
              "\n",
              "     Fuel Consumption Comb (mpg)  CO2 Emissions (g/km)  CO2 Rating  \\\n",
              "131                           13                   522           1   \n",
              "132                           11                   608           1   \n",
              "133                           11                   608           1   \n",
              "\n",
              "     Smog Rating  \n",
              "131            1  \n",
              "132            1  \n",
              "133            1  "
            ],
            "text/html": [
              "\n",
              "  <div id=\"df-30fdb15e-7c14-4e1d-ade7-8eb58d12e577\">\n",
              "    <div class=\"colab-df-container\">\n",
              "      <div>\n",
              "<style scoped>\n",
              "    .dataframe tbody tr th:only-of-type {\n",
              "        vertical-align: middle;\n",
              "    }\n",
              "\n",
              "    .dataframe tbody tr th {\n",
              "        vertical-align: top;\n",
              "    }\n",
              "\n",
              "    .dataframe thead th {\n",
              "        text-align: right;\n",
              "    }\n",
              "</style>\n",
              "<table border=\"1\" class=\"dataframe\">\n",
              "  <thead>\n",
              "    <tr style=\"text-align: right;\">\n",
              "      <th></th>\n",
              "      <th>Model Year</th>\n",
              "      <th>Make</th>\n",
              "      <th>Model</th>\n",
              "      <th>Vehicle Class</th>\n",
              "      <th>Engine Size (L)</th>\n",
              "      <th>Cylinders</th>\n",
              "      <th>Transmission</th>\n",
              "      <th>Fuel Type</th>\n",
              "      <th>Fuel Consumption City (L/100 km)</th>\n",
              "      <th>Fuel Consumption Hwy (L/100 km)</th>\n",
              "      <th>Fuel Consumption Comb (L/100 km)</th>\n",
              "      <th>Fuel Consumption Comb (mpg)</th>\n",
              "      <th>CO2 Emissions (g/km)</th>\n",
              "      <th>CO2 Rating</th>\n",
              "      <th>Smog Rating</th>\n",
              "    </tr>\n",
              "  </thead>\n",
              "  <tbody>\n",
              "    <tr>\n",
              "      <th>131</th>\n",
              "      <td>2022</td>\n",
              "      <td>Bugatti</td>\n",
              "      <td>Chiron</td>\n",
              "      <td>Two-seater</td>\n",
              "      <td>8.0</td>\n",
              "      <td>16</td>\n",
              "      <td>AM7</td>\n",
              "      <td>Z</td>\n",
              "      <td>26.8</td>\n",
              "      <td>16.6</td>\n",
              "      <td>22.2</td>\n",
              "      <td>13</td>\n",
              "      <td>522</td>\n",
              "      <td>1</td>\n",
              "      <td>1</td>\n",
              "    </tr>\n",
              "    <tr>\n",
              "      <th>132</th>\n",
              "      <td>2022</td>\n",
              "      <td>Bugatti</td>\n",
              "      <td>Chiron Pur Sport</td>\n",
              "      <td>Two-seater</td>\n",
              "      <td>8.0</td>\n",
              "      <td>16</td>\n",
              "      <td>AM7</td>\n",
              "      <td>Z</td>\n",
              "      <td>30.3</td>\n",
              "      <td>20.9</td>\n",
              "      <td>26.1</td>\n",
              "      <td>11</td>\n",
              "      <td>608</td>\n",
              "      <td>1</td>\n",
              "      <td>1</td>\n",
              "    </tr>\n",
              "    <tr>\n",
              "      <th>133</th>\n",
              "      <td>2022</td>\n",
              "      <td>Bugatti</td>\n",
              "      <td>Chiron Super Sport</td>\n",
              "      <td>Two-seater</td>\n",
              "      <td>8.0</td>\n",
              "      <td>16</td>\n",
              "      <td>AM7</td>\n",
              "      <td>Z</td>\n",
              "      <td>30.3</td>\n",
              "      <td>20.9</td>\n",
              "      <td>26.1</td>\n",
              "      <td>11</td>\n",
              "      <td>608</td>\n",
              "      <td>1</td>\n",
              "      <td>1</td>\n",
              "    </tr>\n",
              "  </tbody>\n",
              "</table>\n",
              "</div>\n",
              "      <button class=\"colab-df-convert\" onclick=\"convertToInteractive('df-30fdb15e-7c14-4e1d-ade7-8eb58d12e577')\"\n",
              "              title=\"Convert this dataframe to an interactive table.\"\n",
              "              style=\"display:none;\">\n",
              "        \n",
              "  <svg xmlns=\"http://www.w3.org/2000/svg\" height=\"24px\"viewBox=\"0 0 24 24\"\n",
              "       width=\"24px\">\n",
              "    <path d=\"M0 0h24v24H0V0z\" fill=\"none\"/>\n",
              "    <path d=\"M18.56 5.44l.94 2.06.94-2.06 2.06-.94-2.06-.94-.94-2.06-.94 2.06-2.06.94zm-11 1L8.5 8.5l.94-2.06 2.06-.94-2.06-.94L8.5 2.5l-.94 2.06-2.06.94zm10 10l.94 2.06.94-2.06 2.06-.94-2.06-.94-.94-2.06-.94 2.06-2.06.94z\"/><path d=\"M17.41 7.96l-1.37-1.37c-.4-.4-.92-.59-1.43-.59-.52 0-1.04.2-1.43.59L10.3 9.45l-7.72 7.72c-.78.78-.78 2.05 0 2.83L4 21.41c.39.39.9.59 1.41.59.51 0 1.02-.2 1.41-.59l7.78-7.78 2.81-2.81c.8-.78.8-2.07 0-2.86zM5.41 20L4 18.59l7.72-7.72 1.47 1.35L5.41 20z\"/>\n",
              "  </svg>\n",
              "      </button>\n",
              "      \n",
              "  <style>\n",
              "    .colab-df-container {\n",
              "      display:flex;\n",
              "      flex-wrap:wrap;\n",
              "      gap: 12px;\n",
              "    }\n",
              "\n",
              "    .colab-df-convert {\n",
              "      background-color: #E8F0FE;\n",
              "      border: none;\n",
              "      border-radius: 50%;\n",
              "      cursor: pointer;\n",
              "      display: none;\n",
              "      fill: #1967D2;\n",
              "      height: 32px;\n",
              "      padding: 0 0 0 0;\n",
              "      width: 32px;\n",
              "    }\n",
              "\n",
              "    .colab-df-convert:hover {\n",
              "      background-color: #E2EBFA;\n",
              "      box-shadow: 0px 1px 2px rgba(60, 64, 67, 0.3), 0px 1px 3px 1px rgba(60, 64, 67, 0.15);\n",
              "      fill: #174EA6;\n",
              "    }\n",
              "\n",
              "    [theme=dark] .colab-df-convert {\n",
              "      background-color: #3B4455;\n",
              "      fill: #D2E3FC;\n",
              "    }\n",
              "\n",
              "    [theme=dark] .colab-df-convert:hover {\n",
              "      background-color: #434B5C;\n",
              "      box-shadow: 0px 1px 3px 1px rgba(0, 0, 0, 0.15);\n",
              "      filter: drop-shadow(0px 1px 2px rgba(0, 0, 0, 0.3));\n",
              "      fill: #FFFFFF;\n",
              "    }\n",
              "  </style>\n",
              "\n",
              "      <script>\n",
              "        const buttonEl =\n",
              "          document.querySelector('#df-30fdb15e-7c14-4e1d-ade7-8eb58d12e577 button.colab-df-convert');\n",
              "        buttonEl.style.display =\n",
              "          google.colab.kernel.accessAllowed ? 'block' : 'none';\n",
              "\n",
              "        async function convertToInteractive(key) {\n",
              "          const element = document.querySelector('#df-30fdb15e-7c14-4e1d-ade7-8eb58d12e577');\n",
              "          const dataTable =\n",
              "            await google.colab.kernel.invokeFunction('convertToInteractive',\n",
              "                                                     [key], {});\n",
              "          if (!dataTable) return;\n",
              "\n",
              "          const docLinkHtml = 'Like what you see? Visit the ' +\n",
              "            '<a target=\"_blank\" href=https://colab.research.google.com/notebooks/data_table.ipynb>data table notebook</a>'\n",
              "            + ' to learn more about interactive tables.';\n",
              "          element.innerHTML = '';\n",
              "          dataTable['output_type'] = 'display_data';\n",
              "          await google.colab.output.renderOutput(dataTable, element);\n",
              "          const docLink = document.createElement('div');\n",
              "          docLink.innerHTML = docLinkHtml;\n",
              "          element.appendChild(docLink);\n",
              "        }\n",
              "      </script>\n",
              "    </div>\n",
              "  </div>\n",
              "  "
            ]
          },
          "metadata": {},
          "execution_count": 12
        }
      ],
      "source": [
        "dataFrame.query('Make == \"Bugatti\"')"
      ]
    },
    {
      "cell_type": "code",
      "execution_count": 13,
      "id": "181504a6",
      "metadata": {
        "id": "181504a6",
        "outputId": "28713d3c-98a1-49f3-99a2-000579e9a03f",
        "colab": {
          "base_uri": "https://localhost:8080/",
          "height": 326
        }
      },
      "outputs": [
        {
          "output_type": "execute_result",
          "data": {
            "text/plain": [
              "     Model Year     Make               Model Vehicle Class  Engine Size (L)  \\\n",
              "131        2022  Bugatti              Chiron    Two-seater              8.0   \n",
              "132        2022  Bugatti    Chiron Pur Sport    Two-seater              8.0   \n",
              "133        2022  Bugatti  Chiron Super Sport    Two-seater              8.0   \n",
              "\n",
              "     Cylinders Transmission Fuel Type  Fuel Consumption City (L/100 km)  \\\n",
              "131         16          AM7         Z                              26.8   \n",
              "132         16          AM7         Z                              30.3   \n",
              "133         16          AM7         Z                              30.3   \n",
              "\n",
              "     Fuel Consumption Hwy (L/100 km)  Fuel Consumption Comb (L/100 km)  \\\n",
              "131                             16.6                              22.2   \n",
              "132                             20.9                              26.1   \n",
              "133                             20.9                              26.1   \n",
              "\n",
              "     Fuel Consumption Comb (mpg)  CO2 Emissions (g/km)  CO2 Rating  \\\n",
              "131                           13                   522           1   \n",
              "132                           11                   608           1   \n",
              "133                           11                   608           1   \n",
              "\n",
              "     Smog Rating  \n",
              "131            1  \n",
              "132            1  \n",
              "133            1  "
            ],
            "text/html": [
              "\n",
              "  <div id=\"df-2c34a831-fbaa-4809-baec-a041b588589a\">\n",
              "    <div class=\"colab-df-container\">\n",
              "      <div>\n",
              "<style scoped>\n",
              "    .dataframe tbody tr th:only-of-type {\n",
              "        vertical-align: middle;\n",
              "    }\n",
              "\n",
              "    .dataframe tbody tr th {\n",
              "        vertical-align: top;\n",
              "    }\n",
              "\n",
              "    .dataframe thead th {\n",
              "        text-align: right;\n",
              "    }\n",
              "</style>\n",
              "<table border=\"1\" class=\"dataframe\">\n",
              "  <thead>\n",
              "    <tr style=\"text-align: right;\">\n",
              "      <th></th>\n",
              "      <th>Model Year</th>\n",
              "      <th>Make</th>\n",
              "      <th>Model</th>\n",
              "      <th>Vehicle Class</th>\n",
              "      <th>Engine Size (L)</th>\n",
              "      <th>Cylinders</th>\n",
              "      <th>Transmission</th>\n",
              "      <th>Fuel Type</th>\n",
              "      <th>Fuel Consumption City (L/100 km)</th>\n",
              "      <th>Fuel Consumption Hwy (L/100 km)</th>\n",
              "      <th>Fuel Consumption Comb (L/100 km)</th>\n",
              "      <th>Fuel Consumption Comb (mpg)</th>\n",
              "      <th>CO2 Emissions (g/km)</th>\n",
              "      <th>CO2 Rating</th>\n",
              "      <th>Smog Rating</th>\n",
              "    </tr>\n",
              "  </thead>\n",
              "  <tbody>\n",
              "    <tr>\n",
              "      <th>131</th>\n",
              "      <td>2022</td>\n",
              "      <td>Bugatti</td>\n",
              "      <td>Chiron</td>\n",
              "      <td>Two-seater</td>\n",
              "      <td>8.0</td>\n",
              "      <td>16</td>\n",
              "      <td>AM7</td>\n",
              "      <td>Z</td>\n",
              "      <td>26.8</td>\n",
              "      <td>16.6</td>\n",
              "      <td>22.2</td>\n",
              "      <td>13</td>\n",
              "      <td>522</td>\n",
              "      <td>1</td>\n",
              "      <td>1</td>\n",
              "    </tr>\n",
              "    <tr>\n",
              "      <th>132</th>\n",
              "      <td>2022</td>\n",
              "      <td>Bugatti</td>\n",
              "      <td>Chiron Pur Sport</td>\n",
              "      <td>Two-seater</td>\n",
              "      <td>8.0</td>\n",
              "      <td>16</td>\n",
              "      <td>AM7</td>\n",
              "      <td>Z</td>\n",
              "      <td>30.3</td>\n",
              "      <td>20.9</td>\n",
              "      <td>26.1</td>\n",
              "      <td>11</td>\n",
              "      <td>608</td>\n",
              "      <td>1</td>\n",
              "      <td>1</td>\n",
              "    </tr>\n",
              "    <tr>\n",
              "      <th>133</th>\n",
              "      <td>2022</td>\n",
              "      <td>Bugatti</td>\n",
              "      <td>Chiron Super Sport</td>\n",
              "      <td>Two-seater</td>\n",
              "      <td>8.0</td>\n",
              "      <td>16</td>\n",
              "      <td>AM7</td>\n",
              "      <td>Z</td>\n",
              "      <td>30.3</td>\n",
              "      <td>20.9</td>\n",
              "      <td>26.1</td>\n",
              "      <td>11</td>\n",
              "      <td>608</td>\n",
              "      <td>1</td>\n",
              "      <td>1</td>\n",
              "    </tr>\n",
              "  </tbody>\n",
              "</table>\n",
              "</div>\n",
              "      <button class=\"colab-df-convert\" onclick=\"convertToInteractive('df-2c34a831-fbaa-4809-baec-a041b588589a')\"\n",
              "              title=\"Convert this dataframe to an interactive table.\"\n",
              "              style=\"display:none;\">\n",
              "        \n",
              "  <svg xmlns=\"http://www.w3.org/2000/svg\" height=\"24px\"viewBox=\"0 0 24 24\"\n",
              "       width=\"24px\">\n",
              "    <path d=\"M0 0h24v24H0V0z\" fill=\"none\"/>\n",
              "    <path d=\"M18.56 5.44l.94 2.06.94-2.06 2.06-.94-2.06-.94-.94-2.06-.94 2.06-2.06.94zm-11 1L8.5 8.5l.94-2.06 2.06-.94-2.06-.94L8.5 2.5l-.94 2.06-2.06.94zm10 10l.94 2.06.94-2.06 2.06-.94-2.06-.94-.94-2.06-.94 2.06-2.06.94z\"/><path d=\"M17.41 7.96l-1.37-1.37c-.4-.4-.92-.59-1.43-.59-.52 0-1.04.2-1.43.59L10.3 9.45l-7.72 7.72c-.78.78-.78 2.05 0 2.83L4 21.41c.39.39.9.59 1.41.59.51 0 1.02-.2 1.41-.59l7.78-7.78 2.81-2.81c.8-.78.8-2.07 0-2.86zM5.41 20L4 18.59l7.72-7.72 1.47 1.35L5.41 20z\"/>\n",
              "  </svg>\n",
              "      </button>\n",
              "      \n",
              "  <style>\n",
              "    .colab-df-container {\n",
              "      display:flex;\n",
              "      flex-wrap:wrap;\n",
              "      gap: 12px;\n",
              "    }\n",
              "\n",
              "    .colab-df-convert {\n",
              "      background-color: #E8F0FE;\n",
              "      border: none;\n",
              "      border-radius: 50%;\n",
              "      cursor: pointer;\n",
              "      display: none;\n",
              "      fill: #1967D2;\n",
              "      height: 32px;\n",
              "      padding: 0 0 0 0;\n",
              "      width: 32px;\n",
              "    }\n",
              "\n",
              "    .colab-df-convert:hover {\n",
              "      background-color: #E2EBFA;\n",
              "      box-shadow: 0px 1px 2px rgba(60, 64, 67, 0.3), 0px 1px 3px 1px rgba(60, 64, 67, 0.15);\n",
              "      fill: #174EA6;\n",
              "    }\n",
              "\n",
              "    [theme=dark] .colab-df-convert {\n",
              "      background-color: #3B4455;\n",
              "      fill: #D2E3FC;\n",
              "    }\n",
              "\n",
              "    [theme=dark] .colab-df-convert:hover {\n",
              "      background-color: #434B5C;\n",
              "      box-shadow: 0px 1px 3px 1px rgba(0, 0, 0, 0.15);\n",
              "      filter: drop-shadow(0px 1px 2px rgba(0, 0, 0, 0.3));\n",
              "      fill: #FFFFFF;\n",
              "    }\n",
              "  </style>\n",
              "\n",
              "      <script>\n",
              "        const buttonEl =\n",
              "          document.querySelector('#df-2c34a831-fbaa-4809-baec-a041b588589a button.colab-df-convert');\n",
              "        buttonEl.style.display =\n",
              "          google.colab.kernel.accessAllowed ? 'block' : 'none';\n",
              "\n",
              "        async function convertToInteractive(key) {\n",
              "          const element = document.querySelector('#df-2c34a831-fbaa-4809-baec-a041b588589a');\n",
              "          const dataTable =\n",
              "            await google.colab.kernel.invokeFunction('convertToInteractive',\n",
              "                                                     [key], {});\n",
              "          if (!dataTable) return;\n",
              "\n",
              "          const docLinkHtml = 'Like what you see? Visit the ' +\n",
              "            '<a target=\"_blank\" href=https://colab.research.google.com/notebooks/data_table.ipynb>data table notebook</a>'\n",
              "            + ' to learn more about interactive tables.';\n",
              "          element.innerHTML = '';\n",
              "          dataTable['output_type'] = 'display_data';\n",
              "          await google.colab.output.renderOutput(dataTable, element);\n",
              "          const docLink = document.createElement('div');\n",
              "          docLink.innerHTML = docLinkHtml;\n",
              "          element.appendChild(docLink);\n",
              "        }\n",
              "      </script>\n",
              "    </div>\n",
              "  </div>\n",
              "  "
            ]
          },
          "metadata": {},
          "execution_count": 13
        }
      ],
      "source": [
        "dataFrame[dataFrame.Make == 'Bugatti']"
      ]
    },
    {
      "cell_type": "markdown",
      "id": "c31887f0",
      "metadata": {
        "id": "c31887f0"
      },
      "source": [
        "### Identificando o domínio de uma coluna"
      ]
    },
    {
      "cell_type": "code",
      "execution_count": 14,
      "id": "e5bdb726",
      "metadata": {
        "id": "e5bdb726",
        "outputId": "d194c25c-78f9-4dea-d4d9-bd18340a4eca",
        "colab": {
          "base_uri": "https://localhost:8080/"
        }
      },
      "outputs": [
        {
          "output_type": "execute_result",
          "data": {
            "text/plain": [
              "array(['Z', 'X', 'D', 'E'], dtype=object)"
            ]
          },
          "metadata": {},
          "execution_count": 14
        }
      ],
      "source": [
        "dataFrame['Fuel Type'].unique()"
      ]
    },
    {
      "cell_type": "code",
      "execution_count": 15,
      "id": "5610cb4f",
      "metadata": {
        "id": "5610cb4f",
        "outputId": "69e4e94e-1619-4781-9080-4fb026013f17",
        "colab": {
          "base_uri": "https://localhost:8080/"
        }
      },
      "outputs": [
        {
          "output_type": "execute_result",
          "data": {
            "text/plain": [
              "Z    457\n",
              "X    446\n",
              "D     28\n",
              "E     14\n",
              "Name: Fuel Type, dtype: int64"
            ]
          },
          "metadata": {},
          "execution_count": 15
        }
      ],
      "source": [
        "dataFrame['Fuel Type'].value_counts()"
      ]
    },
    {
      "cell_type": "markdown",
      "id": "42d11ab6",
      "metadata": {
        "id": "42d11ab6"
      },
      "source": [
        "<H1>Inspeção Visual</H1>"
      ]
    },
    {
      "cell_type": "code",
      "execution_count": 16,
      "id": "e3bff6f9",
      "metadata": {
        "id": "e3bff6f9",
        "outputId": "50818948-f727-4cd7-b9e8-750559ec6098",
        "colab": {
          "base_uri": "https://localhost:8080/",
          "height": 282
        }
      },
      "outputs": [
        {
          "output_type": "execute_result",
          "data": {
            "text/plain": [
              "<matplotlib.axes._subplots.AxesSubplot at 0x7feee7faa6d0>"
            ]
          },
          "metadata": {},
          "execution_count": 16
        },
        {
          "output_type": "display_data",
          "data": {
            "text/plain": [
              "<Figure size 432x288 with 1 Axes>"
            ],
            "image/png": "[encoded data removed]"
          },
          "metadata": {
            "needs_background": "light"
          }
        }
      ],
      "source": [
        "dataFrame['Fuel Consumption Comb (L/100 km)'].plot()"
      ]
    },
    {
      "cell_type": "markdown",
      "id": "16b030a9",
      "metadata": {
        "id": "16b030a9"
      },
      "source": [
        "<h3>Distribuição da Consumo de Combustível</h3>"
      ]
    },
    {
      "cell_type": "code",
      "execution_count": 17,
      "id": "326d5958",
      "metadata": {
        "scrolled": true,
        "id": "326d5958",
        "outputId": "bb6691cc-e24e-4b61-f2b2-0de8f78c271a",
        "colab": {
          "base_uri": "https://localhost:8080/",
          "height": 500
        }
      },
      "outputs": [
        {
          "output_type": "execute_result",
          "data": {
            "text/plain": [
              "<matplotlib.axes._subplots.AxesSubplot at 0x7feee7f38cd0>"
            ]
          },
          "metadata": {},
          "execution_count": 17
        },
        {
          "output_type": "display_data",
          "data": {
            "text/plain": [
              "<Figure size 864x576 with 1 Axes>"
            ],
            "image/png": "[encoded data removed]"
          },
          "metadata": {
            "needs_background": "light"
          }
        }
      ],
      "source": [
        "dataFrame['Fuel Consumption Comb (L/100 km)'].plot(kind='hist', bins=40, figsize=(12,8))"
      ]
    },
    {
      "cell_type": "code",
      "execution_count": 18,
      "id": "84ed0d48",
      "metadata": {
        "id": "84ed0d48",
        "outputId": "94fad61b-e926-4e9e-d980-53b3e7b469a3",
        "colab": {
          "base_uri": "https://localhost:8080/"
        }
      },
      "outputs": [
        {
          "output_type": "execute_result",
          "data": {
            "text/plain": [
              "26.1"
            ]
          },
          "metadata": {},
          "execution_count": 18
        }
      ],
      "source": [
        "dataFrame['Fuel Consumption Comb (L/100 km)'].max()"
      ]
    },
    {
      "cell_type": "code",
      "execution_count": 19,
      "id": "4e41bbdc",
      "metadata": {
        "id": "4e41bbdc",
        "outputId": "a88dc1f3-252a-49cb-d96e-e2329e7cd279",
        "colab": {
          "base_uri": "https://localhost:8080/"
        }
      },
      "outputs": [
        {
          "output_type": "execute_result",
          "data": {
            "text/plain": [
              "Menor Consumo     129\n",
              "Consumo Padrão    494\n",
              "Consumo Alto      237\n",
              "Maior Consumo      85\n",
              "Name: Fuel Consumption Comb (L/100 km), dtype: int64"
            ]
          },
          "metadata": {},
          "execution_count": 19
        }
      ],
      "source": [
        "faixas = [0, 8, 12, 15, 27]\n",
        "labels = ['Menor Consumo', 'Consumo Padrão', 'Consumo Alto', 'Maior Consumo']\n",
        "faixas_consumo = pd.cut(x=dataFrame['Fuel Consumption Comb (L/100 km)'], bins=faixas, include_lowest = True, labels = labels)\n",
        "faixas_consumo.value_counts(sort=False)"
      ]
    },
    {
      "cell_type": "markdown",
      "id": "1ce1224d",
      "metadata": {
        "id": "1ce1224d"
      },
      "source": [
        "## Resumindo os dados"
      ]
    },
    {
      "cell_type": "markdown",
      "id": "40af4d0a",
      "metadata": {
        "id": "40af4d0a"
      },
      "source": [
        "### Medidas de Tendência Central "
      ]
    },
    {
      "cell_type": "code",
      "execution_count": 20,
      "id": "48ccd21a",
      "metadata": {
        "id": "48ccd21a",
        "outputId": "38367782-f51a-4ec7-c2e0-f230a7d5655a",
        "colab": {
          "base_uri": "https://localhost:8080/"
        }
      },
      "outputs": [
        {
          "output_type": "stream",
          "name": "stdout",
          "text": [
            "Media do Consumo de Combustível (L/100Km): 11.1\n",
            "Mediana do Consumo de Combustível (L/100Km): 10.8\n",
            "Moda do Consumo de Combustível (L/100Km): 0     9.1\n",
            "1    10.5\n",
            "2    13.8\n",
            "dtype: float64\n",
            "Moda da Quantidade de Cilindros: 0    4\n",
            "dtype: int64\n"
          ]
        }
      ],
      "source": [
        "media_consumo_combustivel = dataFrame['Fuel Consumption Comb (L/100 km)'].mean()\n",
        "mediana_consumo_combustivel = dataFrame['Fuel Consumption Comb (L/100 km)'].median()\n",
        "moda_consumo_combustivel = dataFrame['Fuel Consumption Comb (L/100 km)'].mode()\n",
        "moda_cilindros = dataFrame.Cylinders.mode()\n",
        "\n",
        "print(f'Media do Consumo de Combustível (L/100Km): {round(media_consumo_combustivel, 2)}')\n",
        "print(f'Mediana do Consumo de Combustível (L/100Km): {round(mediana_consumo_combustivel, 2)}')\n",
        "print(f'Moda do Consumo de Combustível (L/100Km): {round(moda_consumo_combustivel, 2)}')\n",
        "print(f'Moda da Quantidade de Cilindros: {moda_cilindros}')"
      ]
    },
    {
      "cell_type": "markdown",
      "id": "4443cd32",
      "metadata": {
        "id": "4443cd32"
      },
      "source": [
        "### Assimetria e medidas de Tendência Central\n",
        "\n",
        "<img src='https://github.com/inf032/introducaoML/blob/master/img/assimetria.png?raw=1' width='70%'>"
      ]
    },
    {
      "cell_type": "markdown",
      "id": "e2a5901d",
      "metadata": {
        "id": "e2a5901d"
      },
      "source": [
        "### Medidas de Dispersão"
      ]
    },
    {
      "cell_type": "code",
      "execution_count": 21,
      "id": "3fb825dd",
      "metadata": {
        "id": "3fb825dd",
        "outputId": "89a6b428-bee1-473c-e8ca-5276e8311d5c",
        "colab": {
          "base_uri": "https://localhost:8080/"
        }
      },
      "outputs": [
        {
          "output_type": "stream",
          "name": "stdout",
          "text": [
            "Desvio Médio Absoluto do consumo: 2.26\n",
            "Variância do consumo: 8.28\n",
            "Desvio Padrão do consumo: 2.88\n"
          ]
        }
      ],
      "source": [
        "desvio_medio_abs_consumo = dataFrame['Fuel Consumption Comb (L/100 km)'].mad()\n",
        "variancia_consumo = dataFrame['Fuel Consumption Comb (L/100 km)'].var()\n",
        "desvio_padrao_consumo = dataFrame['Fuel Consumption Comb (L/100 km)'].std()\n",
        "\n",
        "print(f'Desvio Médio Absoluto do consumo: {round(desvio_medio_abs_consumo, 2)}')\n",
        "print(f'Variância do consumo: {round(variancia_consumo, 2)}')\n",
        "print(f'Desvio Padrão do consumo: {round(desvio_padrao_consumo, 2)}')"
      ]
    },
    {
      "cell_type": "markdown",
      "id": "fdee26e5",
      "metadata": {
        "id": "fdee26e5"
      },
      "source": [
        "### Medidas Separatrizes:"
      ]
    },
    {
      "cell_type": "code",
      "execution_count": 22,
      "id": "322bf508",
      "metadata": {
        "scrolled": true,
        "id": "322bf508",
        "outputId": "76b1f4e9-166a-4dc2-c0a4-d884e6d3f90a",
        "colab": {
          "base_uri": "https://localhost:8080/"
        }
      },
      "outputs": [
        {
          "output_type": "execute_result",
          "data": {
            "text/plain": [
              "0.25     9.1\n",
              "0.50    10.8\n",
              "0.75    12.9\n",
              "1.00    26.1\n",
              "Name: Fuel Consumption Comb (L/100 km), dtype: float64"
            ]
          },
          "metadata": {},
          "execution_count": 22
        }
      ],
      "source": [
        "dataFrame['Fuel Consumption Comb (L/100 km)'].quantile([0.25, 0.5, 0.75, 1])"
      ]
    },
    {
      "cell_type": "code",
      "execution_count": 23,
      "id": "e86a8bbf",
      "metadata": {
        "id": "e86a8bbf",
        "outputId": "60e2bd97-cb7a-4b24-dc2e-ac482dd52c5c",
        "colab": {
          "base_uri": "https://localhost:8080/"
        }
      },
      "outputs": [
        {
          "output_type": "stream",
          "name": "stdout",
          "text": [
            "Apenas 3% dos carros consomem mais que 16.4 L/100 km\n"
          ]
        }
      ],
      "source": [
        "consumo_95 = dataFrame['Fuel Consumption Comb (L/100 km)'].quantile(0.97)\n",
        "print(f'Apenas 3% dos carros consomem mais que {consumo_95} L/100 km')"
      ]
    },
    {
      "cell_type": "code",
      "execution_count": 24,
      "id": "ff75bfcd",
      "metadata": {
        "scrolled": false,
        "id": "ff75bfcd",
        "outputId": "7dfe9903-830d-47eb-d2ff-220ae250cfce",
        "colab": {
          "base_uri": "https://localhost:8080/"
        }
      },
      "outputs": [
        {
          "output_type": "execute_result",
          "data": {
            "text/plain": [
              "Ford           6\n",
              "Rolls-Royce    5\n",
              "Lamborghini    4\n",
              "Bugatti        3\n",
              "Chevrolet      3\n",
              "GMC            3\n",
              "Bentley        1\n",
              "Jeep           1\n",
              "Ram            1\n",
              "Name: Make, dtype: int64"
            ]
          },
          "metadata": {},
          "execution_count": 24
        }
      ],
      "source": [
        "dataFrame[dataFrame['Fuel Consumption Comb (L/100 km)'] > 16.4]['Make'].value_counts()"
      ]
    },
    {
      "cell_type": "code",
      "execution_count": 25,
      "id": "4f762897",
      "metadata": {
        "id": "4f762897",
        "outputId": "470b754b-3953-46ec-b359-e427d90d1a1a",
        "colab": {
          "base_uri": "https://localhost:8080/",
          "height": 500
        }
      },
      "outputs": [
        {
          "output_type": "execute_result",
          "data": {
            "text/plain": [
              "<matplotlib.axes._subplots.AxesSubplot at 0x7feee79b6f90>"
            ]
          },
          "metadata": {},
          "execution_count": 25
        },
        {
          "output_type": "display_data",
          "data": {
            "text/plain": [
              "<Figure size 720x576 with 1 Axes>"
            ],
            "image/png": "[encoded data removed]"
          },
          "metadata": {
            "needs_background": "light"
          }
        }
      ],
      "source": [
        "dataFrame['Fuel Consumption Comb (L/100 km)'].plot.box(figsize=(10,8))"
      ]
    }
  ],
  "metadata": {
    "kernelspec": {
      "display_name": "Python 3 (ipykernel)",
      "language": "python",
      "name": "python3"
    },
    "language_info": {
      "codemirror_mode": {
        "name": "ipython",
        "version": 3
      },
      "file_extension": ".py",
      "mimetype": "text/x-python",
      "name": "python",
      "nbconvert_exporter": "python",
      "pygments_lexer": "ipython3",
      "version": "3.8.12"
    },
    "colab": {
      "provenance": []
    }
  },
  "nbformat": 4,
  "nbformat_minor": 5
}