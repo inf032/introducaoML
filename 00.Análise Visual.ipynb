{
 "cells": [
  {
   "cell_type": "markdown",
   "id": "333b693f",
   "metadata": {},
   "source": [
    "<h1>Inspecionando o dataframe</h1>"
   ]
  },
  {
   "cell_type": "markdown",
   "id": "cee6851c",
   "metadata": {},
   "source": [
    "<h3> Importando as bibliotecas Pandas e SciKit Learn </h3>"
   ]
  },
  {
   "cell_type": "code",
   "execution_count": 1,
   "id": "90cf3123",
   "metadata": {},
   "outputs": [],
   "source": [
    "import pandas as pd\n",
    "import numpy as np"
   ]
  },
  {
   "cell_type": "markdown",
   "id": "b0a7adf8",
   "metadata": {},
   "source": [
    "**Exploração Inicial**\n",
    "\n",
    "Os dados serão carregados em um dataframe.\n",
    "\n",
    "Um dataframe é a estrutura fundamental do Pandas.\n",
    "\n",
    "É uma estrutura bidimensional homogênea. As linhas representam os indivíduos da minha amostra ou população. As colunas são os atributos destes indivíduos\n",
    "\n",
    "Para explorar os métodos e atributos dos dataframes: https://pandas.pydata.org/pandas-docs/stable/reference/frame.html"
   ]
  },
  {
   "cell_type": "markdown",
   "id": "9f424cee",
   "metadata": {},
   "source": [
    "<h3>Lendo a base de dados com pandas</h3>\n"
   ]
  },
  {
   "cell_type": "code",
   "execution_count": 3,
   "id": "6f1697e3",
   "metadata": {},
   "outputs": [
    {
     "data": {
      "text/html": [
       "<div>\n",
       "<style scoped>\n",
       "    .dataframe tbody tr th:only-of-type {\n",
       "        vertical-align: middle;\n",
       "    }\n",
       "\n",
       "    .dataframe tbody tr th {\n",
       "        vertical-align: top;\n",
       "    }\n",
       "\n",
       "    .dataframe thead th {\n",
       "        text-align: right;\n",
       "    }\n",
       "</style>\n",
       "<table border=\"1\" class=\"dataframe\">\n",
       "  <thead>\n",
       "    <tr style=\"text-align: right;\">\n",
       "      <th></th>\n",
       "      <th>Model Year</th>\n",
       "      <th>Make</th>\n",
       "      <th>Model</th>\n",
       "      <th>Vehicle Class</th>\n",
       "      <th>Engine Size (L)</th>\n",
       "      <th>Cylinders</th>\n",
       "      <th>Transmission</th>\n",
       "      <th>Fuel Type</th>\n",
       "      <th>Fuel Consumption City (L/100 km)</th>\n",
       "      <th>Fuel Consumption Hwy (L/100 km)</th>\n",
       "      <th>Fuel Consumption Comb (L/100 km)</th>\n",
       "      <th>Fuel Consumption Comb (mpg)</th>\n",
       "      <th>CO2 Emissions (g/km)</th>\n",
       "      <th>CO2 Rating</th>\n",
       "      <th>Smog Rating</th>\n",
       "    </tr>\n",
       "  </thead>\n",
       "  <tbody>\n",
       "    <tr>\n",
       "      <th>0</th>\n",
       "      <td>2022</td>\n",
       "      <td>Acura</td>\n",
       "      <td>ILX</td>\n",
       "      <td>Compact</td>\n",
       "      <td>2.4</td>\n",
       "      <td>4</td>\n",
       "      <td>AM8</td>\n",
       "      <td>Z</td>\n",
       "      <td>9.9</td>\n",
       "      <td>7.0</td>\n",
       "      <td>8.6</td>\n",
       "      <td>33</td>\n",
       "      <td>200</td>\n",
       "      <td>6</td>\n",
       "      <td>3</td>\n",
       "    </tr>\n",
       "    <tr>\n",
       "      <th>1</th>\n",
       "      <td>2022</td>\n",
       "      <td>Acura</td>\n",
       "      <td>MDX SH-AWD</td>\n",
       "      <td>SUV: Small</td>\n",
       "      <td>3.5</td>\n",
       "      <td>6</td>\n",
       "      <td>AS10</td>\n",
       "      <td>Z</td>\n",
       "      <td>12.6</td>\n",
       "      <td>9.4</td>\n",
       "      <td>11.2</td>\n",
       "      <td>25</td>\n",
       "      <td>263</td>\n",
       "      <td>4</td>\n",
       "      <td>5</td>\n",
       "    </tr>\n",
       "    <tr>\n",
       "      <th>2</th>\n",
       "      <td>2022</td>\n",
       "      <td>Acura</td>\n",
       "      <td>RDX SH-AWD</td>\n",
       "      <td>SUV: Small</td>\n",
       "      <td>2.0</td>\n",
       "      <td>4</td>\n",
       "      <td>AS10</td>\n",
       "      <td>Z</td>\n",
       "      <td>11.0</td>\n",
       "      <td>8.6</td>\n",
       "      <td>9.9</td>\n",
       "      <td>29</td>\n",
       "      <td>232</td>\n",
       "      <td>5</td>\n",
       "      <td>6</td>\n",
       "    </tr>\n",
       "    <tr>\n",
       "      <th>3</th>\n",
       "      <td>2022</td>\n",
       "      <td>Acura</td>\n",
       "      <td>RDX SH-AWD A-SPEC</td>\n",
       "      <td>SUV: Small</td>\n",
       "      <td>2.0</td>\n",
       "      <td>4</td>\n",
       "      <td>AS10</td>\n",
       "      <td>Z</td>\n",
       "      <td>11.3</td>\n",
       "      <td>9.1</td>\n",
       "      <td>10.3</td>\n",
       "      <td>27</td>\n",
       "      <td>242</td>\n",
       "      <td>5</td>\n",
       "      <td>6</td>\n",
       "    </tr>\n",
       "    <tr>\n",
       "      <th>4</th>\n",
       "      <td>2022</td>\n",
       "      <td>Acura</td>\n",
       "      <td>TLX SH-AWD</td>\n",
       "      <td>Compact</td>\n",
       "      <td>2.0</td>\n",
       "      <td>4</td>\n",
       "      <td>AS10</td>\n",
       "      <td>Z</td>\n",
       "      <td>11.2</td>\n",
       "      <td>8.0</td>\n",
       "      <td>9.8</td>\n",
       "      <td>29</td>\n",
       "      <td>230</td>\n",
       "      <td>5</td>\n",
       "      <td>7</td>\n",
       "    </tr>\n",
       "  </tbody>\n",
       "</table>\n",
       "</div>"
      ],
      "text/plain": [
       "   Model Year   Make              Model Vehicle Class  Engine Size (L)  \\\n",
       "0        2022  Acura                ILX       Compact              2.4   \n",
       "1        2022  Acura         MDX SH-AWD    SUV: Small              3.5   \n",
       "2        2022  Acura         RDX SH-AWD    SUV: Small              2.0   \n",
       "3        2022  Acura  RDX SH-AWD A-SPEC    SUV: Small              2.0   \n",
       "4        2022  Acura         TLX SH-AWD       Compact              2.0   \n",
       "\n",
       "   Cylinders Transmission Fuel Type  Fuel Consumption City (L/100 km)  \\\n",
       "0          4          AM8         Z                               9.9   \n",
       "1          6         AS10         Z                              12.6   \n",
       "2          4         AS10         Z                              11.0   \n",
       "3          4         AS10         Z                              11.3   \n",
       "4          4         AS10         Z                              11.2   \n",
       "\n",
       "   Fuel Consumption Hwy (L/100 km)  Fuel Consumption Comb (L/100 km)  \\\n",
       "0                              7.0                               8.6   \n",
       "1                              9.4                              11.2   \n",
       "2                              8.6                               9.9   \n",
       "3                              9.1                              10.3   \n",
       "4                              8.0                               9.8   \n",
       "\n",
       "   Fuel Consumption Comb (mpg)  CO2 Emissions (g/km)  CO2 Rating  Smog Rating  \n",
       "0                           33                   200           6            3  \n",
       "1                           25                   263           4            5  \n",
       "2                           29                   232           5            6  \n",
       "3                           27                   242           5            6  \n",
       "4                           29                   230           5            7  "
      ]
     },
     "execution_count": 3,
     "metadata": {},
     "output_type": "execute_result"
    }
   ],
   "source": [
    "dataFrame = pd.read_csv('data/FuelConsumption2022.csv')\n",
    "dataFrame.head()"
   ]
  },
  {
   "cell_type": "markdown",
   "id": "7249c28c",
   "metadata": {},
   "source": [
    "<h3>Observando as dimensões do dataframe - linhas e colunas</h3>\n"
   ]
  },
  {
   "cell_type": "code",
   "execution_count": 4,
   "id": "13f50f7d",
   "metadata": {},
   "outputs": [
    {
     "data": {
      "text/plain": [
       "(945, 15)"
      ]
     },
     "execution_count": 4,
     "metadata": {},
     "output_type": "execute_result"
    }
   ],
   "source": [
    "dataFrame.shape"
   ]
  },
  {
   "cell_type": "markdown",
   "id": "09a89a71",
   "metadata": {},
   "source": [
    "<h3>Verificando o nome das colunas</h3>"
   ]
  },
  {
   "cell_type": "code",
   "execution_count": 7,
   "id": "09b81fe8",
   "metadata": {},
   "outputs": [
    {
     "data": {
      "text/plain": [
       "array(['Model Year', 'Make', 'Model', 'Vehicle Class', 'Engine Size (L)',\n",
       "       'Cylinders', 'Transmission', 'Fuel Type',\n",
       "       'Fuel Consumption City (L/100 km)',\n",
       "       'Fuel Consumption Hwy (L/100 km)',\n",
       "       'Fuel Consumption Comb (L/100 km)', 'Fuel Consumption Comb (mpg)',\n",
       "       'CO2 Emissions (g/km)', 'CO2 Rating', 'Smog Rating'], dtype=object)"
      ]
     },
     "execution_count": 7,
     "metadata": {},
     "output_type": "execute_result"
    }
   ],
   "source": [
    "dataFrame.columns.values"
   ]
  },
  {
   "cell_type": "markdown",
   "id": "296f39fa",
   "metadata": {},
   "source": [
    "<h3>Verificando o tipo das colunas</h3>"
   ]
  },
  {
   "cell_type": "code",
   "execution_count": 9,
   "id": "d750ce94",
   "metadata": {},
   "outputs": [
    {
     "data": {
      "text/plain": [
       "Model Year                            int64\n",
       "Make                                 object\n",
       "Model                                object\n",
       "Vehicle Class                        object\n",
       "Engine Size (L)                     float64\n",
       "Cylinders                             int64\n",
       "Transmission                         object\n",
       "Fuel Type                            object\n",
       "Fuel Consumption City (L/100 km)    float64\n",
       "Fuel Consumption Hwy (L/100 km)     float64\n",
       "Fuel Consumption Comb (L/100 km)    float64\n",
       "Fuel Consumption Comb (mpg)           int64\n",
       "CO2 Emissions (g/km)                  int64\n",
       "CO2 Rating                            int64\n",
       "Smog Rating                           int64\n",
       "dtype: object"
      ]
     },
     "execution_count": 9,
     "metadata": {},
     "output_type": "execute_result"
    }
   ],
   "source": [
    "dataFrame.dtypes"
   ]
  },
  {
   "cell_type": "markdown",
   "id": "734854ba",
   "metadata": {},
   "source": [
    "<h3>Verificando um resumo das informações do Dataframe</h3>"
   ]
  },
  {
   "cell_type": "code",
   "execution_count": 5,
   "id": "a507caec",
   "metadata": {},
   "outputs": [
    {
     "name": "stdout",
     "output_type": "stream",
     "text": [
      "<class 'pandas.core.frame.DataFrame'>\n",
      "RangeIndex: 945 entries, 0 to 944\n",
      "Data columns (total 15 columns):\n",
      " #   Column                            Non-Null Count  Dtype  \n",
      "---  ------                            --------------  -----  \n",
      " 0   Model Year                        945 non-null    int64  \n",
      " 1   Make                              945 non-null    object \n",
      " 2   Model                             945 non-null    object \n",
      " 3   Vehicle Class                     945 non-null    object \n",
      " 4   Engine Size (L)                   945 non-null    float64\n",
      " 5   Cylinders                         945 non-null    int64  \n",
      " 6   Transmission                      945 non-null    object \n",
      " 7   Fuel Type                         945 non-null    object \n",
      " 8   Fuel Consumption City (L/100 km)  945 non-null    float64\n",
      " 9   Fuel Consumption Hwy (L/100 km)   945 non-null    float64\n",
      " 10  Fuel Consumption Comb (L/100 km)  945 non-null    float64\n",
      " 11  Fuel Consumption Comb (mpg)       945 non-null    int64  \n",
      " 12  CO2 Emissions (g/km)              945 non-null    int64  \n",
      " 13  CO2 Rating                        945 non-null    int64  \n",
      " 14  Smog Rating                       945 non-null    int64  \n",
      "dtypes: float64(4), int64(6), object(5)\n",
      "memory usage: 110.9+ KB\n"
     ]
    }
   ],
   "source": [
    "dataFrame.info()"
   ]
  },
  {
   "cell_type": "markdown",
   "id": "3de8f456",
   "metadata": {},
   "source": [
    "<h3>Analisando as informações através de um sumário de estatísticas descritivas</h3>"
   ]
  },
  {
   "cell_type": "code",
   "execution_count": 10,
   "id": "3875004c",
   "metadata": {},
   "outputs": [
    {
     "data": {
      "text/html": [
       "<div>\n",
       "<style scoped>\n",
       "    .dataframe tbody tr th:only-of-type {\n",
       "        vertical-align: middle;\n",
       "    }\n",
       "\n",
       "    .dataframe tbody tr th {\n",
       "        vertical-align: top;\n",
       "    }\n",
       "\n",
       "    .dataframe thead th {\n",
       "        text-align: right;\n",
       "    }\n",
       "</style>\n",
       "<table border=\"1\" class=\"dataframe\">\n",
       "  <thead>\n",
       "    <tr style=\"text-align: right;\">\n",
       "      <th></th>\n",
       "      <th>Model Year</th>\n",
       "      <th>Engine Size (L)</th>\n",
       "      <th>Cylinders</th>\n",
       "      <th>Fuel Consumption City (L/100 km)</th>\n",
       "      <th>Fuel Consumption Hwy (L/100 km)</th>\n",
       "      <th>Fuel Consumption Comb (L/100 km)</th>\n",
       "      <th>Fuel Consumption Comb (mpg)</th>\n",
       "      <th>CO2 Emissions (g/km)</th>\n",
       "      <th>CO2 Rating</th>\n",
       "      <th>Smog Rating</th>\n",
       "    </tr>\n",
       "  </thead>\n",
       "  <tbody>\n",
       "    <tr>\n",
       "      <th>count</th>\n",
       "      <td>945.0</td>\n",
       "      <td>945.000000</td>\n",
       "      <td>945.000000</td>\n",
       "      <td>945.000000</td>\n",
       "      <td>945.000000</td>\n",
       "      <td>945.000000</td>\n",
       "      <td>945.000000</td>\n",
       "      <td>945.000000</td>\n",
       "      <td>945.000000</td>\n",
       "      <td>945.000000</td>\n",
       "    </tr>\n",
       "    <tr>\n",
       "      <th>mean</th>\n",
       "      <td>2022.0</td>\n",
       "      <td>3.201058</td>\n",
       "      <td>5.670899</td>\n",
       "      <td>12.515767</td>\n",
       "      <td>9.374603</td>\n",
       "      <td>11.102222</td>\n",
       "      <td>27.222222</td>\n",
       "      <td>259.410582</td>\n",
       "      <td>4.533333</td>\n",
       "      <td>4.951323</td>\n",
       "    </tr>\n",
       "    <tr>\n",
       "      <th>std</th>\n",
       "      <td>0.0</td>\n",
       "      <td>1.374256</td>\n",
       "      <td>1.932837</td>\n",
       "      <td>3.452369</td>\n",
       "      <td>2.290217</td>\n",
       "      <td>2.878074</td>\n",
       "      <td>7.684409</td>\n",
       "      <td>64.486225</td>\n",
       "      <td>1.472632</td>\n",
       "      <td>1.678554</td>\n",
       "    </tr>\n",
       "    <tr>\n",
       "      <th>min</th>\n",
       "      <td>2022.0</td>\n",
       "      <td>1.200000</td>\n",
       "      <td>3.000000</td>\n",
       "      <td>4.000000</td>\n",
       "      <td>3.900000</td>\n",
       "      <td>4.000000</td>\n",
       "      <td>11.000000</td>\n",
       "      <td>94.000000</td>\n",
       "      <td>1.000000</td>\n",
       "      <td>1.000000</td>\n",
       "    </tr>\n",
       "    <tr>\n",
       "      <th>25%</th>\n",
       "      <td>2022.0</td>\n",
       "      <td>2.000000</td>\n",
       "      <td>4.000000</td>\n",
       "      <td>10.200000</td>\n",
       "      <td>7.700000</td>\n",
       "      <td>9.100000</td>\n",
       "      <td>22.000000</td>\n",
       "      <td>214.000000</td>\n",
       "      <td>3.000000</td>\n",
       "      <td>3.000000</td>\n",
       "    </tr>\n",
       "    <tr>\n",
       "      <th>50%</th>\n",
       "      <td>2022.0</td>\n",
       "      <td>3.000000</td>\n",
       "      <td>6.000000</td>\n",
       "      <td>12.200000</td>\n",
       "      <td>9.200000</td>\n",
       "      <td>10.800000</td>\n",
       "      <td>26.000000</td>\n",
       "      <td>258.000000</td>\n",
       "      <td>4.000000</td>\n",
       "      <td>5.000000</td>\n",
       "    </tr>\n",
       "    <tr>\n",
       "      <th>75%</th>\n",
       "      <td>2022.0</td>\n",
       "      <td>3.800000</td>\n",
       "      <td>6.000000</td>\n",
       "      <td>14.700000</td>\n",
       "      <td>10.700000</td>\n",
       "      <td>12.900000</td>\n",
       "      <td>31.000000</td>\n",
       "      <td>301.000000</td>\n",
       "      <td>5.000000</td>\n",
       "      <td>6.000000</td>\n",
       "    </tr>\n",
       "    <tr>\n",
       "      <th>max</th>\n",
       "      <td>2022.0</td>\n",
       "      <td>8.000000</td>\n",
       "      <td>16.000000</td>\n",
       "      <td>30.300000</td>\n",
       "      <td>20.900000</td>\n",
       "      <td>26.100000</td>\n",
       "      <td>71.000000</td>\n",
       "      <td>608.000000</td>\n",
       "      <td>10.000000</td>\n",
       "      <td>7.000000</td>\n",
       "    </tr>\n",
       "  </tbody>\n",
       "</table>\n",
       "</div>"
      ],
      "text/plain": [
       "       Model Year  Engine Size (L)   Cylinders  \\\n",
       "count       945.0       945.000000  945.000000   \n",
       "mean       2022.0         3.201058    5.670899   \n",
       "std           0.0         1.374256    1.932837   \n",
       "min        2022.0         1.200000    3.000000   \n",
       "25%        2022.0         2.000000    4.000000   \n",
       "50%        2022.0         3.000000    6.000000   \n",
       "75%        2022.0         3.800000    6.000000   \n",
       "max        2022.0         8.000000   16.000000   \n",
       "\n",
       "       Fuel Consumption City (L/100 km)  Fuel Consumption Hwy (L/100 km)  \\\n",
       "count                        945.000000                       945.000000   \n",
       "mean                          12.515767                         9.374603   \n",
       "std                            3.452369                         2.290217   \n",
       "min                            4.000000                         3.900000   \n",
       "25%                           10.200000                         7.700000   \n",
       "50%                           12.200000                         9.200000   \n",
       "75%                           14.700000                        10.700000   \n",
       "max                           30.300000                        20.900000   \n",
       "\n",
       "       Fuel Consumption Comb (L/100 km)  Fuel Consumption Comb (mpg)  \\\n",
       "count                        945.000000                   945.000000   \n",
       "mean                          11.102222                    27.222222   \n",
       "std                            2.878074                     7.684409   \n",
       "min                            4.000000                    11.000000   \n",
       "25%                            9.100000                    22.000000   \n",
       "50%                           10.800000                    26.000000   \n",
       "75%                           12.900000                    31.000000   \n",
       "max                           26.100000                    71.000000   \n",
       "\n",
       "       CO2 Emissions (g/km)  CO2 Rating  Smog Rating  \n",
       "count            945.000000  945.000000   945.000000  \n",
       "mean             259.410582    4.533333     4.951323  \n",
       "std               64.486225    1.472632     1.678554  \n",
       "min               94.000000    1.000000     1.000000  \n",
       "25%              214.000000    3.000000     3.000000  \n",
       "50%              258.000000    4.000000     5.000000  \n",
       "75%              301.000000    5.000000     6.000000  \n",
       "max              608.000000   10.000000     7.000000  "
      ]
     },
     "execution_count": 10,
     "metadata": {},
     "output_type": "execute_result"
    }
   ],
   "source": [
    "dataFrame.describe()"
   ]
  },
  {
   "cell_type": "markdown",
   "id": "a195a6c0",
   "metadata": {},
   "source": [
    "## Categorize os seus dados"
   ]
  },
  {
   "cell_type": "markdown",
   "id": "20a407fe",
   "metadata": {},
   "source": [
    "Os nossos atributos podem assumir diversos valores e por isso são chamados de variáveis.\n",
    "\n",
    "As variáveis podem ser classificadas entre:\n",
    "\n",
    "variáveis qualitativas:  qualidade\n",
    "\n",
    "    ordinal - pode-se estabelecer uma ordem entre as categorias: Transmission\n",
    "    \n",
    "    nominal - não é possível hierarquizar as categorias: Make\n",
    "    \n",
    "variáveis quantitativas: contagens e medidas\n",
    "\n",
    "    discretos - contagem discreta formada por inteiros: Cylinders\n",
    "    \n",
    "    contínuos - contagem contínua formada por inteiros: Fuel Consumption Comb (L/100 km)"
   ]
  },
  {
   "cell_type": "markdown",
   "id": "e20e388d",
   "metadata": {},
   "source": [
    "<img src='img/variaveis.png' width='70%'>"
   ]
  },
  {
   "cell_type": "markdown",
   "id": "9a7a2e7e",
   "metadata": {},
   "source": [
    "<h3>Seleção de Subconjuntos</h3>"
   ]
  },
  {
   "cell_type": "code",
   "execution_count": 15,
   "id": "aa8e2186",
   "metadata": {},
   "outputs": [
    {
     "data": {
      "text/plain": [
       "0      Acura\n",
       "1      Acura\n",
       "2      Acura\n",
       "3      Acura\n",
       "4      Acura\n",
       "       ...  \n",
       "940    Volvo\n",
       "941    Volvo\n",
       "942    Volvo\n",
       "943    Volvo\n",
       "944    Volvo\n",
       "Name: Make, Length: 945, dtype: object"
      ]
     },
     "execution_count": 15,
     "metadata": {},
     "output_type": "execute_result"
    }
   ],
   "source": [
    "dataFrame.Make"
   ]
  },
  {
   "cell_type": "code",
   "execution_count": 16,
   "id": "955e7b3a",
   "metadata": {},
   "outputs": [
    {
     "data": {
      "text/html": [
       "<div>\n",
       "<style scoped>\n",
       "    .dataframe tbody tr th:only-of-type {\n",
       "        vertical-align: middle;\n",
       "    }\n",
       "\n",
       "    .dataframe tbody tr th {\n",
       "        vertical-align: top;\n",
       "    }\n",
       "\n",
       "    .dataframe thead th {\n",
       "        text-align: right;\n",
       "    }\n",
       "</style>\n",
       "<table border=\"1\" class=\"dataframe\">\n",
       "  <thead>\n",
       "    <tr style=\"text-align: right;\">\n",
       "      <th></th>\n",
       "      <th>Make</th>\n",
       "      <th>Fuel Type</th>\n",
       "    </tr>\n",
       "  </thead>\n",
       "  <tbody>\n",
       "    <tr>\n",
       "      <th>0</th>\n",
       "      <td>Acura</td>\n",
       "      <td>Z</td>\n",
       "    </tr>\n",
       "    <tr>\n",
       "      <th>1</th>\n",
       "      <td>Acura</td>\n",
       "      <td>Z</td>\n",
       "    </tr>\n",
       "    <tr>\n",
       "      <th>2</th>\n",
       "      <td>Acura</td>\n",
       "      <td>Z</td>\n",
       "    </tr>\n",
       "    <tr>\n",
       "      <th>3</th>\n",
       "      <td>Acura</td>\n",
       "      <td>Z</td>\n",
       "    </tr>\n",
       "    <tr>\n",
       "      <th>4</th>\n",
       "      <td>Acura</td>\n",
       "      <td>Z</td>\n",
       "    </tr>\n",
       "    <tr>\n",
       "      <th>...</th>\n",
       "      <td>...</td>\n",
       "      <td>...</td>\n",
       "    </tr>\n",
       "    <tr>\n",
       "      <th>940</th>\n",
       "      <td>Volvo</td>\n",
       "      <td>Z</td>\n",
       "    </tr>\n",
       "    <tr>\n",
       "      <th>941</th>\n",
       "      <td>Volvo</td>\n",
       "      <td>Z</td>\n",
       "    </tr>\n",
       "    <tr>\n",
       "      <th>942</th>\n",
       "      <td>Volvo</td>\n",
       "      <td>Z</td>\n",
       "    </tr>\n",
       "    <tr>\n",
       "      <th>943</th>\n",
       "      <td>Volvo</td>\n",
       "      <td>Z</td>\n",
       "    </tr>\n",
       "    <tr>\n",
       "      <th>944</th>\n",
       "      <td>Volvo</td>\n",
       "      <td>Z</td>\n",
       "    </tr>\n",
       "  </tbody>\n",
       "</table>\n",
       "<p>945 rows × 2 columns</p>\n",
       "</div>"
      ],
      "text/plain": [
       "      Make Fuel Type\n",
       "0    Acura         Z\n",
       "1    Acura         Z\n",
       "2    Acura         Z\n",
       "3    Acura         Z\n",
       "4    Acura         Z\n",
       "..     ...       ...\n",
       "940  Volvo         Z\n",
       "941  Volvo         Z\n",
       "942  Volvo         Z\n",
       "943  Volvo         Z\n",
       "944  Volvo         Z\n",
       "\n",
       "[945 rows x 2 columns]"
      ]
     },
     "execution_count": 16,
     "metadata": {},
     "output_type": "execute_result"
    }
   ],
   "source": [
    "dataFrame[['Make', 'Fuel Type']]"
   ]
  },
  {
   "cell_type": "code",
   "execution_count": 17,
   "id": "25259ac7",
   "metadata": {},
   "outputs": [
    {
     "data": {
      "text/html": [
       "<div>\n",
       "<style scoped>\n",
       "    .dataframe tbody tr th:only-of-type {\n",
       "        vertical-align: middle;\n",
       "    }\n",
       "\n",
       "    .dataframe tbody tr th {\n",
       "        vertical-align: top;\n",
       "    }\n",
       "\n",
       "    .dataframe thead th {\n",
       "        text-align: right;\n",
       "    }\n",
       "</style>\n",
       "<table border=\"1\" class=\"dataframe\">\n",
       "  <thead>\n",
       "    <tr style=\"text-align: right;\">\n",
       "      <th></th>\n",
       "      <th>Model Year</th>\n",
       "      <th>Make</th>\n",
       "      <th>Model</th>\n",
       "      <th>Vehicle Class</th>\n",
       "      <th>Engine Size (L)</th>\n",
       "      <th>Cylinders</th>\n",
       "      <th>Transmission</th>\n",
       "      <th>Fuel Type</th>\n",
       "      <th>Fuel Consumption City (L/100 km)</th>\n",
       "      <th>Fuel Consumption Hwy (L/100 km)</th>\n",
       "      <th>Fuel Consumption Comb (L/100 km)</th>\n",
       "      <th>Fuel Consumption Comb (mpg)</th>\n",
       "      <th>CO2 Emissions (g/km)</th>\n",
       "      <th>CO2 Rating</th>\n",
       "      <th>Smog Rating</th>\n",
       "    </tr>\n",
       "  </thead>\n",
       "  <tbody>\n",
       "    <tr>\n",
       "      <th>100</th>\n",
       "      <td>2022</td>\n",
       "      <td>BMW</td>\n",
       "      <td>M8 Cabriolet Competition</td>\n",
       "      <td>Subcompact</td>\n",
       "      <td>4.4</td>\n",
       "      <td>8</td>\n",
       "      <td>AS8</td>\n",
       "      <td>Z</td>\n",
       "      <td>16.1</td>\n",
       "      <td>11.0</td>\n",
       "      <td>13.8</td>\n",
       "      <td>20</td>\n",
       "      <td>322</td>\n",
       "      <td>3</td>\n",
       "      <td>3</td>\n",
       "    </tr>\n",
       "    <tr>\n",
       "      <th>101</th>\n",
       "      <td>2022</td>\n",
       "      <td>BMW</td>\n",
       "      <td>M8 Coupe</td>\n",
       "      <td>Subcompact</td>\n",
       "      <td>4.4</td>\n",
       "      <td>8</td>\n",
       "      <td>AS8</td>\n",
       "      <td>Z</td>\n",
       "      <td>16.1</td>\n",
       "      <td>11.0</td>\n",
       "      <td>13.8</td>\n",
       "      <td>20</td>\n",
       "      <td>322</td>\n",
       "      <td>3</td>\n",
       "      <td>3</td>\n",
       "    </tr>\n",
       "    <tr>\n",
       "      <th>102</th>\n",
       "      <td>2022</td>\n",
       "      <td>BMW</td>\n",
       "      <td>M8 Coupe Competition</td>\n",
       "      <td>Subcompact</td>\n",
       "      <td>4.4</td>\n",
       "      <td>8</td>\n",
       "      <td>AS8</td>\n",
       "      <td>Z</td>\n",
       "      <td>16.1</td>\n",
       "      <td>11.0</td>\n",
       "      <td>13.8</td>\n",
       "      <td>20</td>\n",
       "      <td>322</td>\n",
       "      <td>3</td>\n",
       "      <td>3</td>\n",
       "    </tr>\n",
       "    <tr>\n",
       "      <th>103</th>\n",
       "      <td>2022</td>\n",
       "      <td>BMW</td>\n",
       "      <td>M8 Gran Coupe</td>\n",
       "      <td>Mid-size</td>\n",
       "      <td>4.4</td>\n",
       "      <td>8</td>\n",
       "      <td>AS8</td>\n",
       "      <td>Z</td>\n",
       "      <td>16.1</td>\n",
       "      <td>11.0</td>\n",
       "      <td>13.8</td>\n",
       "      <td>20</td>\n",
       "      <td>322</td>\n",
       "      <td>3</td>\n",
       "      <td>3</td>\n",
       "    </tr>\n",
       "    <tr>\n",
       "      <th>104</th>\n",
       "      <td>2022</td>\n",
       "      <td>BMW</td>\n",
       "      <td>M8 Gran Coupe Competition</td>\n",
       "      <td>Mid-size</td>\n",
       "      <td>4.4</td>\n",
       "      <td>8</td>\n",
       "      <td>AS8</td>\n",
       "      <td>Z</td>\n",
       "      <td>16.1</td>\n",
       "      <td>11.0</td>\n",
       "      <td>13.8</td>\n",
       "      <td>20</td>\n",
       "      <td>322</td>\n",
       "      <td>3</td>\n",
       "      <td>3</td>\n",
       "    </tr>\n",
       "  </tbody>\n",
       "</table>\n",
       "</div>"
      ],
      "text/plain": [
       "     Model Year Make                      Model Vehicle Class  \\\n",
       "100        2022  BMW   M8 Cabriolet Competition    Subcompact   \n",
       "101        2022  BMW                   M8 Coupe    Subcompact   \n",
       "102        2022  BMW       M8 Coupe Competition    Subcompact   \n",
       "103        2022  BMW              M8 Gran Coupe      Mid-size   \n",
       "104        2022  BMW  M8 Gran Coupe Competition      Mid-size   \n",
       "\n",
       "     Engine Size (L)  Cylinders Transmission Fuel Type  \\\n",
       "100              4.4          8          AS8         Z   \n",
       "101              4.4          8          AS8         Z   \n",
       "102              4.4          8          AS8         Z   \n",
       "103              4.4          8          AS8         Z   \n",
       "104              4.4          8          AS8         Z   \n",
       "\n",
       "     Fuel Consumption City (L/100 km)  Fuel Consumption Hwy (L/100 km)  \\\n",
       "100                              16.1                             11.0   \n",
       "101                              16.1                             11.0   \n",
       "102                              16.1                             11.0   \n",
       "103                              16.1                             11.0   \n",
       "104                              16.1                             11.0   \n",
       "\n",
       "     Fuel Consumption Comb (L/100 km)  Fuel Consumption Comb (mpg)  \\\n",
       "100                              13.8                           20   \n",
       "101                              13.8                           20   \n",
       "102                              13.8                           20   \n",
       "103                              13.8                           20   \n",
       "104                              13.8                           20   \n",
       "\n",
       "     CO2 Emissions (g/km)  CO2 Rating  Smog Rating  \n",
       "100                   322           3            3  \n",
       "101                   322           3            3  \n",
       "102                   322           3            3  \n",
       "103                   322           3            3  \n",
       "104                   322           3            3  "
      ]
     },
     "execution_count": 17,
     "metadata": {},
     "output_type": "execute_result"
    }
   ],
   "source": [
    "dataFrame[100:105]"
   ]
  },
  {
   "cell_type": "code",
   "execution_count": 19,
   "id": "bb470e0e",
   "metadata": {},
   "outputs": [
    {
     "data": {
      "text/html": [
       "<div>\n",
       "<style scoped>\n",
       "    .dataframe tbody tr th:only-of-type {\n",
       "        vertical-align: middle;\n",
       "    }\n",
       "\n",
       "    .dataframe tbody tr th {\n",
       "        vertical-align: top;\n",
       "    }\n",
       "\n",
       "    .dataframe thead th {\n",
       "        text-align: right;\n",
       "    }\n",
       "</style>\n",
       "<table border=\"1\" class=\"dataframe\">\n",
       "  <thead>\n",
       "    <tr style=\"text-align: right;\">\n",
       "      <th></th>\n",
       "      <th>Make</th>\n",
       "      <th>Fuel Type</th>\n",
       "    </tr>\n",
       "  </thead>\n",
       "  <tbody>\n",
       "    <tr>\n",
       "      <th>10</th>\n",
       "      <td>Alfa Romeo</td>\n",
       "      <td>Z</td>\n",
       "    </tr>\n",
       "    <tr>\n",
       "      <th>11</th>\n",
       "      <td>Alfa Romeo</td>\n",
       "      <td>Z</td>\n",
       "    </tr>\n",
       "    <tr>\n",
       "      <th>12</th>\n",
       "      <td>Alfa Romeo</td>\n",
       "      <td>Z</td>\n",
       "    </tr>\n",
       "    <tr>\n",
       "      <th>13</th>\n",
       "      <td>Alfa Romeo</td>\n",
       "      <td>Z</td>\n",
       "    </tr>\n",
       "    <tr>\n",
       "      <th>14</th>\n",
       "      <td>Aston Martin</td>\n",
       "      <td>Z</td>\n",
       "    </tr>\n",
       "    <tr>\n",
       "      <th>15</th>\n",
       "      <td>Aston Martin</td>\n",
       "      <td>Z</td>\n",
       "    </tr>\n",
       "    <tr>\n",
       "      <th>16</th>\n",
       "      <td>Aston Martin</td>\n",
       "      <td>Z</td>\n",
       "    </tr>\n",
       "    <tr>\n",
       "      <th>17</th>\n",
       "      <td>Aston Martin</td>\n",
       "      <td>Z</td>\n",
       "    </tr>\n",
       "    <tr>\n",
       "      <th>18</th>\n",
       "      <td>Aston Martin</td>\n",
       "      <td>Z</td>\n",
       "    </tr>\n",
       "    <tr>\n",
       "      <th>19</th>\n",
       "      <td>Audi</td>\n",
       "      <td>X</td>\n",
       "    </tr>\n",
       "    <tr>\n",
       "      <th>20</th>\n",
       "      <td>Audi</td>\n",
       "      <td>Z</td>\n",
       "    </tr>\n",
       "    <tr>\n",
       "      <th>21</th>\n",
       "      <td>Audi</td>\n",
       "      <td>Z</td>\n",
       "    </tr>\n",
       "    <tr>\n",
       "      <th>22</th>\n",
       "      <td>Audi</td>\n",
       "      <td>Z</td>\n",
       "    </tr>\n",
       "    <tr>\n",
       "      <th>23</th>\n",
       "      <td>Audi</td>\n",
       "      <td>Z</td>\n",
       "    </tr>\n",
       "    <tr>\n",
       "      <th>24</th>\n",
       "      <td>Audi</td>\n",
       "      <td>Z</td>\n",
       "    </tr>\n",
       "    <tr>\n",
       "      <th>25</th>\n",
       "      <td>Audi</td>\n",
       "      <td>Z</td>\n",
       "    </tr>\n",
       "  </tbody>\n",
       "</table>\n",
       "</div>"
      ],
      "text/plain": [
       "            Make Fuel Type\n",
       "10    Alfa Romeo         Z\n",
       "11    Alfa Romeo         Z\n",
       "12    Alfa Romeo         Z\n",
       "13    Alfa Romeo         Z\n",
       "14  Aston Martin         Z\n",
       "15  Aston Martin         Z\n",
       "16  Aston Martin         Z\n",
       "17  Aston Martin         Z\n",
       "18  Aston Martin         Z\n",
       "19          Audi         X\n",
       "20          Audi         Z\n",
       "21          Audi         Z\n",
       "22          Audi         Z\n",
       "23          Audi         Z\n",
       "24          Audi         Z\n",
       "25          Audi         Z"
      ]
     },
     "execution_count": 19,
     "metadata": {},
     "output_type": "execute_result"
    }
   ],
   "source": [
    "dataFrame.loc[10:25, ['Make', 'Fuel Type']]"
   ]
  },
  {
   "cell_type": "code",
   "execution_count": 22,
   "id": "76de3b68",
   "metadata": {
    "scrolled": false
   },
   "outputs": [
    {
     "data": {
      "text/html": [
       "<div>\n",
       "<style scoped>\n",
       "    .dataframe tbody tr th:only-of-type {\n",
       "        vertical-align: middle;\n",
       "    }\n",
       "\n",
       "    .dataframe tbody tr th {\n",
       "        vertical-align: top;\n",
       "    }\n",
       "\n",
       "    .dataframe thead th {\n",
       "        text-align: right;\n",
       "    }\n",
       "</style>\n",
       "<table border=\"1\" class=\"dataframe\">\n",
       "  <thead>\n",
       "    <tr style=\"text-align: right;\">\n",
       "      <th></th>\n",
       "      <th>Model Year</th>\n",
       "      <th>Make</th>\n",
       "      <th>Model</th>\n",
       "      <th>Vehicle Class</th>\n",
       "      <th>Engine Size (L)</th>\n",
       "      <th>Cylinders</th>\n",
       "      <th>Transmission</th>\n",
       "      <th>Fuel Type</th>\n",
       "      <th>Fuel Consumption City (L/100 km)</th>\n",
       "      <th>Fuel Consumption Hwy (L/100 km)</th>\n",
       "      <th>Fuel Consumption Comb (L/100 km)</th>\n",
       "      <th>Fuel Consumption Comb (mpg)</th>\n",
       "      <th>CO2 Emissions (g/km)</th>\n",
       "      <th>CO2 Rating</th>\n",
       "      <th>Smog Rating</th>\n",
       "    </tr>\n",
       "  </thead>\n",
       "  <tbody>\n",
       "    <tr>\n",
       "      <th>131</th>\n",
       "      <td>2022</td>\n",
       "      <td>Bugatti</td>\n",
       "      <td>Chiron</td>\n",
       "      <td>Two-seater</td>\n",
       "      <td>8.0</td>\n",
       "      <td>16</td>\n",
       "      <td>AM7</td>\n",
       "      <td>Z</td>\n",
       "      <td>26.8</td>\n",
       "      <td>16.6</td>\n",
       "      <td>22.2</td>\n",
       "      <td>13</td>\n",
       "      <td>522</td>\n",
       "      <td>1</td>\n",
       "      <td>1</td>\n",
       "    </tr>\n",
       "    <tr>\n",
       "      <th>132</th>\n",
       "      <td>2022</td>\n",
       "      <td>Bugatti</td>\n",
       "      <td>Chiron Pur Sport</td>\n",
       "      <td>Two-seater</td>\n",
       "      <td>8.0</td>\n",
       "      <td>16</td>\n",
       "      <td>AM7</td>\n",
       "      <td>Z</td>\n",
       "      <td>30.3</td>\n",
       "      <td>20.9</td>\n",
       "      <td>26.1</td>\n",
       "      <td>11</td>\n",
       "      <td>608</td>\n",
       "      <td>1</td>\n",
       "      <td>1</td>\n",
       "    </tr>\n",
       "    <tr>\n",
       "      <th>133</th>\n",
       "      <td>2022</td>\n",
       "      <td>Bugatti</td>\n",
       "      <td>Chiron Super Sport</td>\n",
       "      <td>Two-seater</td>\n",
       "      <td>8.0</td>\n",
       "      <td>16</td>\n",
       "      <td>AM7</td>\n",
       "      <td>Z</td>\n",
       "      <td>30.3</td>\n",
       "      <td>20.9</td>\n",
       "      <td>26.1</td>\n",
       "      <td>11</td>\n",
       "      <td>608</td>\n",
       "      <td>1</td>\n",
       "      <td>1</td>\n",
       "    </tr>\n",
       "  </tbody>\n",
       "</table>\n",
       "</div>"
      ],
      "text/plain": [
       "     Model Year     Make               Model Vehicle Class  Engine Size (L)  \\\n",
       "131        2022  Bugatti              Chiron    Two-seater              8.0   \n",
       "132        2022  Bugatti    Chiron Pur Sport    Two-seater              8.0   \n",
       "133        2022  Bugatti  Chiron Super Sport    Two-seater              8.0   \n",
       "\n",
       "     Cylinders Transmission Fuel Type  Fuel Consumption City (L/100 km)  \\\n",
       "131         16          AM7         Z                              26.8   \n",
       "132         16          AM7         Z                              30.3   \n",
       "133         16          AM7         Z                              30.3   \n",
       "\n",
       "     Fuel Consumption Hwy (L/100 km)  Fuel Consumption Comb (L/100 km)  \\\n",
       "131                             16.6                              22.2   \n",
       "132                             20.9                              26.1   \n",
       "133                             20.9                              26.1   \n",
       "\n",
       "     Fuel Consumption Comb (mpg)  CO2 Emissions (g/km)  CO2 Rating  \\\n",
       "131                           13                   522           1   \n",
       "132                           11                   608           1   \n",
       "133                           11                   608           1   \n",
       "\n",
       "     Smog Rating  \n",
       "131            1  \n",
       "132            1  \n",
       "133            1  "
      ]
     },
     "execution_count": 22,
     "metadata": {},
     "output_type": "execute_result"
    }
   ],
   "source": [
    "dataFrame.query('Make == \"Bugatti\"')"
   ]
  },
  {
   "cell_type": "code",
   "execution_count": 23,
   "id": "181504a6",
   "metadata": {},
   "outputs": [
    {
     "data": {
      "text/html": [
       "<div>\n",
       "<style scoped>\n",
       "    .dataframe tbody tr th:only-of-type {\n",
       "        vertical-align: middle;\n",
       "    }\n",
       "\n",
       "    .dataframe tbody tr th {\n",
       "        vertical-align: top;\n",
       "    }\n",
       "\n",
       "    .dataframe thead th {\n",
       "        text-align: right;\n",
       "    }\n",
       "</style>\n",
       "<table border=\"1\" class=\"dataframe\">\n",
       "  <thead>\n",
       "    <tr style=\"text-align: right;\">\n",
       "      <th></th>\n",
       "      <th>Model Year</th>\n",
       "      <th>Make</th>\n",
       "      <th>Model</th>\n",
       "      <th>Vehicle Class</th>\n",
       "      <th>Engine Size (L)</th>\n",
       "      <th>Cylinders</th>\n",
       "      <th>Transmission</th>\n",
       "      <th>Fuel Type</th>\n",
       "      <th>Fuel Consumption City (L/100 km)</th>\n",
       "      <th>Fuel Consumption Hwy (L/100 km)</th>\n",
       "      <th>Fuel Consumption Comb (L/100 km)</th>\n",
       "      <th>Fuel Consumption Comb (mpg)</th>\n",
       "      <th>CO2 Emissions (g/km)</th>\n",
       "      <th>CO2 Rating</th>\n",
       "      <th>Smog Rating</th>\n",
       "    </tr>\n",
       "  </thead>\n",
       "  <tbody>\n",
       "    <tr>\n",
       "      <th>131</th>\n",
       "      <td>2022</td>\n",
       "      <td>Bugatti</td>\n",
       "      <td>Chiron</td>\n",
       "      <td>Two-seater</td>\n",
       "      <td>8.0</td>\n",
       "      <td>16</td>\n",
       "      <td>AM7</td>\n",
       "      <td>Z</td>\n",
       "      <td>26.8</td>\n",
       "      <td>16.6</td>\n",
       "      <td>22.2</td>\n",
       "      <td>13</td>\n",
       "      <td>522</td>\n",
       "      <td>1</td>\n",
       "      <td>1</td>\n",
       "    </tr>\n",
       "    <tr>\n",
       "      <th>132</th>\n",
       "      <td>2022</td>\n",
       "      <td>Bugatti</td>\n",
       "      <td>Chiron Pur Sport</td>\n",
       "      <td>Two-seater</td>\n",
       "      <td>8.0</td>\n",
       "      <td>16</td>\n",
       "      <td>AM7</td>\n",
       "      <td>Z</td>\n",
       "      <td>30.3</td>\n",
       "      <td>20.9</td>\n",
       "      <td>26.1</td>\n",
       "      <td>11</td>\n",
       "      <td>608</td>\n",
       "      <td>1</td>\n",
       "      <td>1</td>\n",
       "    </tr>\n",
       "    <tr>\n",
       "      <th>133</th>\n",
       "      <td>2022</td>\n",
       "      <td>Bugatti</td>\n",
       "      <td>Chiron Super Sport</td>\n",
       "      <td>Two-seater</td>\n",
       "      <td>8.0</td>\n",
       "      <td>16</td>\n",
       "      <td>AM7</td>\n",
       "      <td>Z</td>\n",
       "      <td>30.3</td>\n",
       "      <td>20.9</td>\n",
       "      <td>26.1</td>\n",
       "      <td>11</td>\n",
       "      <td>608</td>\n",
       "      <td>1</td>\n",
       "      <td>1</td>\n",
       "    </tr>\n",
       "  </tbody>\n",
       "</table>\n",
       "</div>"
      ],
      "text/plain": [
       "     Model Year     Make               Model Vehicle Class  Engine Size (L)  \\\n",
       "131        2022  Bugatti              Chiron    Two-seater              8.0   \n",
       "132        2022  Bugatti    Chiron Pur Sport    Two-seater              8.0   \n",
       "133        2022  Bugatti  Chiron Super Sport    Two-seater              8.0   \n",
       "\n",
       "     Cylinders Transmission Fuel Type  Fuel Consumption City (L/100 km)  \\\n",
       "131         16          AM7         Z                              26.8   \n",
       "132         16          AM7         Z                              30.3   \n",
       "133         16          AM7         Z                              30.3   \n",
       "\n",
       "     Fuel Consumption Hwy (L/100 km)  Fuel Consumption Comb (L/100 km)  \\\n",
       "131                             16.6                              22.2   \n",
       "132                             20.9                              26.1   \n",
       "133                             20.9                              26.1   \n",
       "\n",
       "     Fuel Consumption Comb (mpg)  CO2 Emissions (g/km)  CO2 Rating  \\\n",
       "131                           13                   522           1   \n",
       "132                           11                   608           1   \n",
       "133                           11                   608           1   \n",
       "\n",
       "     Smog Rating  \n",
       "131            1  \n",
       "132            1  \n",
       "133            1  "
      ]
     },
     "execution_count": 23,
     "metadata": {},
     "output_type": "execute_result"
    }
   ],
   "source": [
    "dataFrame[dataFrame.Make == 'Bugatti']"
   ]
  },
  {
   "cell_type": "markdown",
   "id": "c31887f0",
   "metadata": {},
   "source": [
    "### Identificando o domínio de uma coluna"
   ]
  },
  {
   "cell_type": "code",
   "execution_count": 24,
   "id": "e5bdb726",
   "metadata": {},
   "outputs": [
    {
     "data": {
      "text/plain": [
       "array(['Z', 'X', 'D', 'E'], dtype=object)"
      ]
     },
     "execution_count": 24,
     "metadata": {},
     "output_type": "execute_result"
    }
   ],
   "source": [
    "dataFrame['Fuel Type'].unique()"
   ]
  },
  {
   "cell_type": "code",
   "execution_count": 25,
   "id": "5610cb4f",
   "metadata": {},
   "outputs": [
    {
     "data": {
      "text/plain": [
       "Z    457\n",
       "X    446\n",
       "D     28\n",
       "E     14\n",
       "Name: Fuel Type, dtype: int64"
      ]
     },
     "execution_count": 25,
     "metadata": {},
     "output_type": "execute_result"
    }
   ],
   "source": [
    "dataFrame['Fuel Type'].value_counts()"
   ]
  },
  {
   "cell_type": "markdown",
   "id": "42d11ab6",
   "metadata": {},
   "source": [
    "<H1>Inspeção Visual</H1>"
   ]
  },
  {
   "cell_type": "code",
   "execution_count": 29,
   "id": "e3bff6f9",
   "metadata": {},
   "outputs": [
    {
     "data": {
      "text/plain": [
       "<AxesSubplot:>"
      ]
     },
     "execution_count": 29,
     "metadata": {},
     "output_type": "execute_result"
    },
    {
     "data": {
      "image/png": "[encoded data removed]",
      "text/plain": [
       "<Figure size 432x288 with 1 Axes>"
      ]
     },
     "metadata": {
      "needs_background": "light"
     },
     "output_type": "display_data"
    }
   ],
   "source": [
    "dataFrame['Fuel Consumption Comb (L/100 km)'].plot()"
   ]
  },
  {
   "cell_type": "markdown",
   "id": "16b030a9",
   "metadata": {},
   "source": [
    "<h3>Distribuição da Consumo de Combustível</h3>"
   ]
  },
  {
   "cell_type": "code",
   "execution_count": 32,
   "id": "326d5958",
   "metadata": {
    "scrolled": true
   },
   "outputs": [
    {
     "data": {
      "text/plain": [
       "<AxesSubplot:ylabel='Frequency'>"
      ]
     },
     "execution_count": 32,
     "metadata": {},
     "output_type": "execute_result"
    },
    {
     "data": {
      "image/png": "[encoded data removed]",
      "text/plain": [
       "<Figure size 864x576 with 1 Axes>"
      ]
     },
     "metadata": {
      "needs_background": "light"
     },
     "output_type": "display_data"
    }
   ],
   "source": [
    "dataFrame['Fuel Consumption Comb (L/100 km)'].plot(kind='hist', bins=40, figsize=(12,8))"
   ]
  },
  {
   "cell_type": "code",
   "execution_count": 33,
   "id": "84ed0d48",
   "metadata": {},
   "outputs": [
    {
     "data": {
      "text/plain": [
       "26.1"
      ]
     },
     "execution_count": 33,
     "metadata": {},
     "output_type": "execute_result"
    }
   ],
   "source": [
    "dataFrame['Fuel Consumption Comb (L/100 km)'].max()"
   ]
  },
  {
   "cell_type": "code",
   "execution_count": 35,
   "id": "4e41bbdc",
   "metadata": {},
   "outputs": [
    {
     "data": {
      "text/plain": [
       "Menor Consumo     129\n",
       "Consumo Padrão    494\n",
       "Consumo Alto      237\n",
       "Maior Consumo      85\n",
       "Name: Fuel Consumption Comb (L/100 km), dtype: int64"
      ]
     },
     "execution_count": 35,
     "metadata": {},
     "output_type": "execute_result"
    }
   ],
   "source": [
    "faixas = [0, 8, 12, 15, 27]\n",
    "labels = ['Menor Consumo', 'Consumo Padrão', 'Consumo Alto', 'Maior Consumo']\n",
    "faixas_consumo = pd.cut(x=dataFrame['Fuel Consumption Comb (L/100 km)'], bins=faixas, include_lowest = True, labels = labels)\n",
    "faixas_consumo.value_counts(sort=False)"
   ]
  },
  {
   "cell_type": "markdown",
   "id": "1ce1224d",
   "metadata": {},
   "source": [
    "## Resumindo os dados"
   ]
  },
  {
   "cell_type": "markdown",
   "id": "40af4d0a",
   "metadata": {},
   "source": [
    "### Medidas de Tendência Central "
   ]
  },
  {
   "cell_type": "code",
   "execution_count": 49,
   "id": "48ccd21a",
   "metadata": {},
   "outputs": [
    {
     "name": "stdout",
     "output_type": "stream",
     "text": [
      "Media do Consumo de Combustível (L/100Km): 11.1\n",
      "Mediana do Consumo de Combustível (L/100Km): 10.8\n",
      "Moda do Consumo de Combustível (L/100Km): 0     9.1\n",
      "1    10.5\n",
      "2    13.8\n",
      "dtype: float64\n",
      "Moda da Quantidade de Cilindros: 0    4\n",
      "dtype: int64\n"
     ]
    }
   ],
   "source": [
    "media_consumo_combustivel = dataFrame['Fuel Consumption Comb (L/100 km)'].mean()\n",
    "mediana_consumo_combustivel = dataFrame['Fuel Consumption Comb (L/100 km)'].median()\n",
    "moda_consumo_combustivel = dataFrame['Fuel Consumption Comb (L/100 km)'].mode()\n",
    "moda_cilindros = dataFrame.Cylinders.mode()\n",
    "\n",
    "print(f'Media do Consumo de Combustível (L/100Km): {round(media_consumo_combustivel, 2)}')\n",
    "print(f'Mediana do Consumo de Combustível (L/100Km): {round(mediana_consumo_combustivel, 2)}')\n",
    "print(f'Moda do Consumo de Combustível (L/100Km): {round(moda_consumo_combustivel, 2)}')\n",
    "print(f'Moda da Quantidade de Cilindros: {moda_cilindros}')"
   ]
  },
  {
   "cell_type": "markdown",
   "id": "4443cd32",
   "metadata": {},
   "source": [
    "### Assimetria e medidas de Tendência Central\n",
    "\n",
    "<img src='img/assimetria.png' width='70%'>"
   ]
  },
  {
   "cell_type": "markdown",
   "id": "e2a5901d",
   "metadata": {},
   "source": [
    "### Medidas de Dispersão"
   ]
  },
  {
   "cell_type": "code",
   "execution_count": 58,
   "id": "3fb825dd",
   "metadata": {},
   "outputs": [
    {
     "name": "stdout",
     "output_type": "stream",
     "text": [
      "Desvio Médio Absoluto do consumo: 2.26\n",
      "Variância do consumo: 8.28\n",
      "Desvio Padrão do consumo: 2.88\n"
     ]
    }
   ],
   "source": [
    "desvio_medio_abs_consumo = dataFrame['Fuel Consumption Comb (L/100 km)'].mad()\n",
    "variancia_consumo = dataFrame['Fuel Consumption Comb (L/100 km)'].var()\n",
    "desvio_padrao_consumo = dataFrame['Fuel Consumption Comb (L/100 km)'].std()\n",
    "\n",
    "print(f'Desvio Médio Absoluto do consumo: {round(desvio_medio_abs_consumo, 2)}')\n",
    "print(f'Variância do consumo: {round(variancia_consumo, 2)}')\n",
    "print(f'Desvio Padrão do consumo: {round(desvio_padrao_consumo, 2)}')"
   ]
  },
  {
   "cell_type": "markdown",
   "id": "fdee26e5",
   "metadata": {},
   "source": [
    "### Medidas Separatrizes:"
   ]
  },
  {
   "cell_type": "code",
   "execution_count": 52,
   "id": "322bf508",
   "metadata": {
    "scrolled": true
   },
   "outputs": [
    {
     "data": {
      "text/plain": [
       "0.25     9.1\n",
       "0.50    10.8\n",
       "0.75    12.9\n",
       "1.00    26.1\n",
       "Name: Fuel Consumption Comb (L/100 km), dtype: float64"
      ]
     },
     "execution_count": 52,
     "metadata": {},
     "output_type": "execute_result"
    }
   ],
   "source": [
    "dataFrame['Fuel Consumption Comb (L/100 km)'].quantile([0.25, 0.5, 0.75, 1])"
   ]
  },
  {
   "cell_type": "code",
   "execution_count": 60,
   "id": "e86a8bbf",
   "metadata": {},
   "outputs": [
    {
     "name": "stdout",
     "output_type": "stream",
     "text": [
      "Apenas 3% dos carros consomem mais que 16.4 L/100 km\n"
     ]
    }
   ],
   "source": [
    "consumo_95 = dataFrame['Fuel Consumption Comb (L/100 km)'].quantile(0.97)\n",
    "print(f'Apenas 3% dos carros consomem mais que {consumo_95} L/100 km')"
   ]
  },
  {
   "cell_type": "code",
   "execution_count": 63,
   "id": "ff75bfcd",
   "metadata": {
    "scrolled": false
   },
   "outputs": [
    {
     "data": {
      "text/plain": [
       "Ford           6\n",
       "Rolls-Royce    5\n",
       "Lamborghini    4\n",
       "Bugatti        3\n",
       "Chevrolet      3\n",
       "GMC            3\n",
       "Bentley        1\n",
       "Jeep           1\n",
       "Ram            1\n",
       "Name: Make, dtype: int64"
      ]
     },
     "execution_count": 63,
     "metadata": {},
     "output_type": "execute_result"
    }
   ],
   "source": [
    "dataFrame[dataFrame['Fuel Consumption Comb (L/100 km)'] > 16.4]['Make'].value_counts()"
   ]
  },
  {
   "cell_type": "code",
   "execution_count": 64,
   "id": "4f762897",
   "metadata": {},
   "outputs": [
    {
     "data": {
      "text/plain": [
       "<AxesSubplot:>"
      ]
     },
     "execution_count": 64,
     "metadata": {},
     "output_type": "execute_result"
    },
    {
     "data": {
      "image/png": "[encoded data removed]",
      "text/plain": [
       "<Figure size 720x576 with 1 Axes>"
      ]
     },
     "metadata": {
      "needs_background": "light"
     },
     "output_type": "display_data"
    }
   ],
   "source": [
    "dataFrame['Fuel Consumption Comb (L/100 km)'].plot.box(figsize=(10,8))"
   ]
  }
 ],
 "metadata": {
  "kernelspec": {
   "display_name": "Python 3 (ipykernel)",
   "language": "python",
   "name": "python3"
  },
  "language_info": {
   "codemirror_mode": {
    "name": "ipython",
    "version": 3
   },
   "file_extension": ".py",
   "mimetype": "text/x-python",
   "name": "python",
   "nbconvert_exporter": "python",
   "pygments_lexer": "ipython3",
   "version": "3.8.12"
  }
 },
 "nbformat": 4,
 "nbformat_minor": 5
}
