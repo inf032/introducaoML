{
 "cells": [
  {
   "cell_type": "markdown",
   "id": "16c42be7",
   "metadata": {},
   "source": [
    "<h3> Importando as bibliotecas Pandas e SciKit Learn </h3>"
   ]
  },
  {
   "cell_type": "code",
   "execution_count": 1,
   "id": "837c44fc",
   "metadata": {
    "scrolled": true
   },
   "outputs": [],
   "source": [
    "from sklearn.linear_model import LinearRegression\n",
    "import pandas as pd\n",
    "import numpy as np"
   ]
  },
  {
   "cell_type": "markdown",
   "id": "085539bb",
   "metadata": {},
   "source": [
    "<h3>Lendo os dados do modelo - automóveis</h3>"
   ]
  },
  {
   "cell_type": "code",
   "execution_count": 2,
   "id": "b10180a0",
   "metadata": {},
   "outputs": [
    {
     "data": {
      "text/html": [
       "<div>\n",
       "<style scoped>\n",
       "    .dataframe tbody tr th:only-of-type {\n",
       "        vertical-align: middle;\n",
       "    }\n",
       "\n",
       "    .dataframe tbody tr th {\n",
       "        vertical-align: top;\n",
       "    }\n",
       "\n",
       "    .dataframe thead th {\n",
       "        text-align: right;\n",
       "    }\n",
       "</style>\n",
       "<table border=\"1\" class=\"dataframe\">\n",
       "  <thead>\n",
       "    <tr style=\"text-align: right;\">\n",
       "      <th></th>\n",
       "      <th>Id</th>\n",
       "      <th>EngineSize</th>\n",
       "      <th>Cylinders</th>\n",
       "      <th>FuelConsumption</th>\n",
       "      <th>CO2Emissions</th>\n",
       "    </tr>\n",
       "  </thead>\n",
       "  <tbody>\n",
       "    <tr>\n",
       "      <th>0</th>\n",
       "      <td>1</td>\n",
       "      <td>2.0</td>\n",
       "      <td>4</td>\n",
       "      <td>8.5</td>\n",
       "      <td>196</td>\n",
       "    </tr>\n",
       "    <tr>\n",
       "      <th>1</th>\n",
       "      <td>2</td>\n",
       "      <td>2.4</td>\n",
       "      <td>4</td>\n",
       "      <td>9.6</td>\n",
       "      <td>221</td>\n",
       "    </tr>\n",
       "    <tr>\n",
       "      <th>2</th>\n",
       "      <td>3</td>\n",
       "      <td>1.5</td>\n",
       "      <td>4</td>\n",
       "      <td>5.9</td>\n",
       "      <td>136</td>\n",
       "    </tr>\n",
       "    <tr>\n",
       "      <th>3</th>\n",
       "      <td>4</td>\n",
       "      <td>3.5</td>\n",
       "      <td>6</td>\n",
       "      <td>11.1</td>\n",
       "      <td>255</td>\n",
       "    </tr>\n",
       "    <tr>\n",
       "      <th>4</th>\n",
       "      <td>5</td>\n",
       "      <td>3.5</td>\n",
       "      <td>6</td>\n",
       "      <td>10.6</td>\n",
       "      <td>244</td>\n",
       "    </tr>\n",
       "    <tr>\n",
       "      <th>5</th>\n",
       "      <td>6</td>\n",
       "      <td>3.5</td>\n",
       "      <td>6</td>\n",
       "      <td>10.0</td>\n",
       "      <td>230</td>\n",
       "    </tr>\n",
       "    <tr>\n",
       "      <th>6</th>\n",
       "      <td>7</td>\n",
       "      <td>3.5</td>\n",
       "      <td>6</td>\n",
       "      <td>10.1</td>\n",
       "      <td>232</td>\n",
       "    </tr>\n",
       "    <tr>\n",
       "      <th>7</th>\n",
       "      <td>8</td>\n",
       "      <td>3.7</td>\n",
       "      <td>6</td>\n",
       "      <td>11.1</td>\n",
       "      <td>255</td>\n",
       "    </tr>\n",
       "    <tr>\n",
       "      <th>8</th>\n",
       "      <td>9</td>\n",
       "      <td>3.7</td>\n",
       "      <td>6</td>\n",
       "      <td>11.6</td>\n",
       "      <td>267</td>\n",
       "    </tr>\n",
       "  </tbody>\n",
       "</table>\n",
       "</div>"
      ],
      "text/plain": [
       "   Id  EngineSize  Cylinders  FuelConsumption  CO2Emissions\n",
       "0   1         2.0          4              8.5           196\n",
       "1   2         2.4          4              9.6           221\n",
       "2   3         1.5          4              5.9           136\n",
       "3   4         3.5          6             11.1           255\n",
       "4   5         3.5          6             10.6           244\n",
       "5   6         3.5          6             10.0           230\n",
       "6   7         3.5          6             10.1           232\n",
       "7   8         3.7          6             11.1           255\n",
       "8   9         3.7          6             11.6           267"
      ]
     },
     "execution_count": 2,
     "metadata": {},
     "output_type": "execute_result"
    }
   ],
   "source": [
    "dataFrame = pd.read_excel('data/CO2Emissions.xlsx', sheet_name='Carros')\n",
    "dataFrame"
   ]
  },
  {
   "cell_type": "markdown",
   "id": "5feda486",
   "metadata": {},
   "source": [
    "<h3>Excluindo as features que não serão utilizadas</h3>"
   ]
  },
  {
   "cell_type": "code",
   "execution_count": 3,
   "id": "36689b85",
   "metadata": {},
   "outputs": [
    {
     "data": {
      "text/html": [
       "<div>\n",
       "<style scoped>\n",
       "    .dataframe tbody tr th:only-of-type {\n",
       "        vertical-align: middle;\n",
       "    }\n",
       "\n",
       "    .dataframe tbody tr th {\n",
       "        vertical-align: top;\n",
       "    }\n",
       "\n",
       "    .dataframe thead th {\n",
       "        text-align: right;\n",
       "    }\n",
       "</style>\n",
       "<table border=\"1\" class=\"dataframe\">\n",
       "  <thead>\n",
       "    <tr style=\"text-align: right;\">\n",
       "      <th></th>\n",
       "      <th>EngineSize</th>\n",
       "      <th>CO2Emissions</th>\n",
       "    </tr>\n",
       "  </thead>\n",
       "  <tbody>\n",
       "    <tr>\n",
       "      <th>0</th>\n",
       "      <td>2.0</td>\n",
       "      <td>196</td>\n",
       "    </tr>\n",
       "    <tr>\n",
       "      <th>1</th>\n",
       "      <td>2.4</td>\n",
       "      <td>221</td>\n",
       "    </tr>\n",
       "    <tr>\n",
       "      <th>2</th>\n",
       "      <td>1.5</td>\n",
       "      <td>136</td>\n",
       "    </tr>\n",
       "    <tr>\n",
       "      <th>3</th>\n",
       "      <td>3.5</td>\n",
       "      <td>255</td>\n",
       "    </tr>\n",
       "    <tr>\n",
       "      <th>4</th>\n",
       "      <td>3.5</td>\n",
       "      <td>244</td>\n",
       "    </tr>\n",
       "    <tr>\n",
       "      <th>5</th>\n",
       "      <td>3.5</td>\n",
       "      <td>230</td>\n",
       "    </tr>\n",
       "    <tr>\n",
       "      <th>6</th>\n",
       "      <td>3.5</td>\n",
       "      <td>232</td>\n",
       "    </tr>\n",
       "    <tr>\n",
       "      <th>7</th>\n",
       "      <td>3.7</td>\n",
       "      <td>255</td>\n",
       "    </tr>\n",
       "    <tr>\n",
       "      <th>8</th>\n",
       "      <td>3.7</td>\n",
       "      <td>267</td>\n",
       "    </tr>\n",
       "  </tbody>\n",
       "</table>\n",
       "</div>"
      ],
      "text/plain": [
       "   EngineSize  CO2Emissions\n",
       "0         2.0           196\n",
       "1         2.4           221\n",
       "2         1.5           136\n",
       "3         3.5           255\n",
       "4         3.5           244\n",
       "5         3.5           230\n",
       "6         3.5           232\n",
       "7         3.7           255\n",
       "8         3.7           267"
      ]
     },
     "execution_count": 3,
     "metadata": {},
     "output_type": "execute_result"
    }
   ],
   "source": [
    "dataFrame.drop(columns=['Id', 'Cylinders', 'FuelConsumption'], inplace=True)\n",
    "dataFrame"
   ]
  },
  {
   "cell_type": "code",
   "execution_count": 4,
   "id": "9541040b",
   "metadata": {},
   "outputs": [
    {
     "data": {
      "text/plain": [
       "0    2.0\n",
       "1    2.4\n",
       "2    1.5\n",
       "3    3.5\n",
       "4    3.5\n",
       "5    3.5\n",
       "6    3.5\n",
       "7    3.7\n",
       "8    3.7\n",
       "Name: EngineSize, dtype: float64"
      ]
     },
     "execution_count": 4,
     "metadata": {},
     "output_type": "execute_result"
    }
   ],
   "source": [
    "dataFrame.EngineSize"
   ]
  },
  {
   "cell_type": "markdown",
   "id": "2888f456",
   "metadata": {},
   "source": [
    "<h3>Plotando um scatterplot da variável dependente (CO2Emissions) e da variavel independente(EngineSize)</h3>"
   ]
  },
  {
   "cell_type": "code",
   "execution_count": 5,
   "id": "1834200f",
   "metadata": {},
   "outputs": [
    {
     "data": {
      "image/png": "[encoded data removed]",
      "text/plain": [
       "<Figure size 468x468 with 1 Axes>"
      ]
     },
     "metadata": {
      "needs_background": "light"
     },
     "output_type": "display_data"
    }
   ],
   "source": [
    "import seaborn as sns\n",
    "import matplotlib.pyplot as plt\n",
    "\n",
    "f, ax = plt.subplots(figsize=(6.5, 6.5))\n",
    "\n",
    "ax.set_title('Relação entre Tamanho do Motor e Emissão de CO2', fontsize=18)\n",
    "ax.set_ylabel('Emissão de CO2', loc='center', fontsize=10)\n",
    "ax.set_xlabel('Tamanho do Motor (L)', loc='right', fontsize=10)\n",
    "\n",
    "sns.scatterplot(x='EngineSize', y='CO2Emissions',\n",
    "                data=dataFrame, ax=ax)\n",
    "\n",
    "plt.show()"
   ]
  },
  {
   "cell_type": "markdown",
   "id": "2457c962",
   "metadata": {},
   "source": [
    "<h3>Verificando a correlação da variável dependente (CO2Emissions) e da variavel independente(EngineSize)</h3>\n"
   ]
  },
  {
   "cell_type": "code",
   "execution_count": 6,
   "id": "f7b23d30",
   "metadata": {},
   "outputs": [
    {
     "data": {
      "text/html": [
       "<div>\n",
       "<style scoped>\n",
       "    .dataframe tbody tr th:only-of-type {\n",
       "        vertical-align: middle;\n",
       "    }\n",
       "\n",
       "    .dataframe tbody tr th {\n",
       "        vertical-align: top;\n",
       "    }\n",
       "\n",
       "    .dataframe thead th {\n",
       "        text-align: right;\n",
       "    }\n",
       "</style>\n",
       "<table border=\"1\" class=\"dataframe\">\n",
       "  <thead>\n",
       "    <tr style=\"text-align: right;\">\n",
       "      <th></th>\n",
       "      <th>EngineSize</th>\n",
       "      <th>CO2Emissions</th>\n",
       "    </tr>\n",
       "  </thead>\n",
       "  <tbody>\n",
       "    <tr>\n",
       "      <th>EngineSize</th>\n",
       "      <td>1.000000</td>\n",
       "      <td>0.919667</td>\n",
       "    </tr>\n",
       "    <tr>\n",
       "      <th>CO2Emissions</th>\n",
       "      <td>0.919667</td>\n",
       "      <td>1.000000</td>\n",
       "    </tr>\n",
       "  </tbody>\n",
       "</table>\n",
       "</div>"
      ],
      "text/plain": [
       "              EngineSize  CO2Emissions\n",
       "EngineSize      1.000000      0.919667\n",
       "CO2Emissions    0.919667      1.000000"
      ]
     },
     "execution_count": 6,
     "metadata": {},
     "output_type": "execute_result"
    }
   ],
   "source": [
    "dataFrame.corr()"
   ]
  },
  {
   "cell_type": "markdown",
   "id": "36192fb8",
   "metadata": {},
   "source": [
    "<h3>Calculando o coefieciente angular da reta de Regressão Linear</h3>"
   ]
  },
  {
   "cell_type": "code",
   "execution_count": 7,
   "id": "894f4756",
   "metadata": {},
   "outputs": [
    {
     "data": {
      "text/plain": [
       "43.98446833930711"
      ]
     },
     "execution_count": 7,
     "metadata": {},
     "output_type": "execute_result"
    }
   ],
   "source": [
    "dados = pd.DataFrame()\n",
    "dados['X'] = dataFrame['EngineSize']\n",
    "dados['Y'] = dataFrame['CO2Emissions']\n",
    "dados['XY'] = dados.X * dados.Y\n",
    "dados['X2'] = dados.X * dados.X\n",
    "\n",
    "coef = ((dados.shape[0] * dados.XY.sum()) - (dados.X.sum() * dados.Y.sum())) / ((dados.shape[0] * dados.X2.sum()) - (dados.X.sum() ** 2))\n",
    "coef"
   ]
  },
  {
   "cell_type": "markdown",
   "id": "a1c5c807",
   "metadata": {},
   "source": [
    "<h3>Calculando o coefieciente linear da reta de Regressão Linear</h3>"
   ]
  },
  {
   "cell_type": "code",
   "execution_count": 8,
   "id": "577bbadf",
   "metadata": {},
   "outputs": [
    {
     "data": {
      "text/plain": [
       "92.80266825965734"
      ]
     },
     "execution_count": 8,
     "metadata": {},
     "output_type": "execute_result"
    }
   ],
   "source": [
    "intercepto = (dados.Y.sum() - coef * dados.X.sum()) / dados.shape[0]  \n",
    "intercepto"
   ]
  },
  {
   "cell_type": "markdown",
   "id": "2262781b",
   "metadata": {},
   "source": [
    "<h3>Calculando o coeficiente angular da regressão linear</h3>\n"
   ]
  },
  {
   "cell_type": "code",
   "execution_count": 9,
   "id": "24f5b31b",
   "metadata": {},
   "outputs": [],
   "source": [
    "novo_carro_eng_size = 2.4\n",
    "emissao_co2 = coef * novo_carro_eng_size + intercepto"
   ]
  },
  {
   "cell_type": "markdown",
   "id": "9868df26",
   "metadata": {},
   "source": [
    "<h3> Predizendo o valor de Emissão de CO2 para um novo carro com EngineSize igual a 2,4 </h3>"
   ]
  },
  {
   "cell_type": "code",
   "execution_count": 10,
   "id": "3fc8103f",
   "metadata": {},
   "outputs": [
    {
     "name": "stdout",
     "output_type": "stream",
     "text": [
      "Tamanho do motor do novo modelo: 2.4\n",
      "Valor previsto de emissão de CO2: 198.37\n"
     ]
    }
   ],
   "source": [
    "print(f'Tamanho do motor do novo modelo: {novo_carro_eng_size}')\n",
    "print(f'Valor previsto de emissão de CO2: {emissao_co2.round(2)}')"
   ]
  },
  {
   "cell_type": "markdown",
   "id": "1a743e2c",
   "metadata": {},
   "source": [
    "<h3> Criando e utilizando um regressor linear com scikit-learn</h3>"
   ]
  },
  {
   "cell_type": "code",
   "execution_count": 11,
   "id": "4b8941fb",
   "metadata": {},
   "outputs": [
    {
     "name": "stdout",
     "output_type": "stream",
     "text": [
      "Coeficiente Angular: 43.984\n",
      "Coeficiente Linear: 92.803\n",
      "Valor previsto de emissão de CO2: 198.37\n"
     ]
    }
   ],
   "source": [
    "lr = LinearRegression().fit(X=dataFrame[['EngineSize']], y=dataFrame.CO2Emissions)\n",
    "print(f'Coeficiente Angular: {lr.coef_[0].round(3)}')\n",
    "print(f'Coeficiente Linear: {lr.intercept_.round(3)}')\n",
    "\n",
    "novo = pd.DataFrame(np.array([novo_carro_eng_size]), columns=['EngineSize'])\n",
    "\n",
    "emissao_CO2_model = lr.predict(X=novo[['EngineSize']])[0];\n",
    "\n",
    "print(f'Valor previsto de emissão de CO2: {emissao_CO2_model.round(2)}')"
   ]
  },
  {
   "cell_type": "code",
   "execution_count": 12,
   "id": "d74f1125",
   "metadata": {},
   "outputs": [
    {
     "data": {
      "text/html": [
       "<div>\n",
       "<style scoped>\n",
       "    .dataframe tbody tr th:only-of-type {\n",
       "        vertical-align: middle;\n",
       "    }\n",
       "\n",
       "    .dataframe tbody tr th {\n",
       "        vertical-align: top;\n",
       "    }\n",
       "\n",
       "    .dataframe thead th {\n",
       "        text-align: right;\n",
       "    }\n",
       "</style>\n",
       "<table border=\"1\" class=\"dataframe\">\n",
       "  <thead>\n",
       "    <tr style=\"text-align: right;\">\n",
       "      <th></th>\n",
       "      <th>EngineSize</th>\n",
       "      <th>CO2Emissions</th>\n",
       "    </tr>\n",
       "  </thead>\n",
       "  <tbody>\n",
       "    <tr>\n",
       "      <th>0</th>\n",
       "      <td>2.0</td>\n",
       "      <td>196</td>\n",
       "    </tr>\n",
       "    <tr>\n",
       "      <th>1</th>\n",
       "      <td>2.4</td>\n",
       "      <td>221</td>\n",
       "    </tr>\n",
       "    <tr>\n",
       "      <th>2</th>\n",
       "      <td>1.5</td>\n",
       "      <td>136</td>\n",
       "    </tr>\n",
       "    <tr>\n",
       "      <th>3</th>\n",
       "      <td>3.5</td>\n",
       "      <td>255</td>\n",
       "    </tr>\n",
       "    <tr>\n",
       "      <th>4</th>\n",
       "      <td>3.5</td>\n",
       "      <td>244</td>\n",
       "    </tr>\n",
       "    <tr>\n",
       "      <th>5</th>\n",
       "      <td>3.5</td>\n",
       "      <td>230</td>\n",
       "    </tr>\n",
       "    <tr>\n",
       "      <th>6</th>\n",
       "      <td>3.5</td>\n",
       "      <td>232</td>\n",
       "    </tr>\n",
       "    <tr>\n",
       "      <th>7</th>\n",
       "      <td>3.7</td>\n",
       "      <td>255</td>\n",
       "    </tr>\n",
       "    <tr>\n",
       "      <th>8</th>\n",
       "      <td>3.7</td>\n",
       "      <td>267</td>\n",
       "    </tr>\n",
       "  </tbody>\n",
       "</table>\n",
       "</div>"
      ],
      "text/plain": [
       "   EngineSize  CO2Emissions\n",
       "0         2.0           196\n",
       "1         2.4           221\n",
       "2         1.5           136\n",
       "3         3.5           255\n",
       "4         3.5           244\n",
       "5         3.5           230\n",
       "6         3.5           232\n",
       "7         3.7           255\n",
       "8         3.7           267"
      ]
     },
     "execution_count": 12,
     "metadata": {},
     "output_type": "execute_result"
    }
   ],
   "source": [
    "dataFrame"
   ]
  }
 ],
 "metadata": {
  "kernelspec": {
   "display_name": "Python 3 (ipykernel)",
   "language": "python",
   "name": "python3"
  },
  "language_info": {
   "codemirror_mode": {
    "name": "ipython",
    "version": 3
   },
   "file_extension": ".py",
   "mimetype": "text/x-python",
   "name": "python",
   "nbconvert_exporter": "python",
   "pygments_lexer": "ipython3",
   "version": "3.8.12"
  }
 },
 "nbformat": 4,
 "nbformat_minor": 5
}
