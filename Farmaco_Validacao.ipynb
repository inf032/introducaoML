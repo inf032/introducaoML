{
  "nbformat": 4,
  "nbformat_minor": 0,
  "metadata": {
    "colab": {
      "provenance": [],
      "authorship_tag": "ABX9TyPBK+koxVpJB8gEWY6i5RDr",
      "include_colab_link": true
    },
    "kernelspec": {
      "name": "python3",
      "display_name": "Python 3"
    },
    "language_info": {
      "name": "python"
    }
  },
  "cells": [
    {
      "cell_type": "markdown",
      "metadata": {
        "id": "view-in-github",
        "colab_type": "text"
      },
      "source": [
        "<a href=\"https://colab.research.google.com/github/inf032/introducaoML/blob/master/Farmaco_Validacao.ipynb\" target=\"_parent\"><img src=\"https://colab.research.google.com/assets/colab-badge.svg\" alt=\"Open In Colab\"/></a>"
      ]
    },
    {
      "cell_type": "code",
      "execution_count": 1,
      "metadata": {
        "id": "KIRtYg7hRuBx"
      },
      "outputs": [],
      "source": [
        "import numpy as np\n",
        "import pandas as pd\n",
        "import matplotlib.pyplot as plt\n",
        "import seaborn as sns\n",
        "import warnings\n",
        "\n",
        "from sklearn.model_selection import train_test_split \n",
        "\n",
        "from sklearn.svm import SVC\n",
        "from sklearn.tree import DecisionTreeClassifier\n"
      ]
    },
    {
      "cell_type": "markdown",
      "source": [
        "HOLDOUT"
      ],
      "metadata": {
        "id": "-GciIKFdtat1"
      }
    },
    {
      "cell_type": "code",
      "source": [
        "SEED = 1\n",
        "np.random.seed(SEED)\n",
        "warnings.filterwarnings(action='once')\n",
        "\n",
        "df = pd.read_csv('https://raw.githubusercontent.com/inf032/introducaoML/master/data/farmaco_preprocessado.csv', )\n",
        "\n",
        "preditoras = ['IDADE', 'SEXO', 'PA', 'COLESTEROL', 'NA_K']\n",
        "alvo = 'FARMACO'\n",
        "\n",
        "X = df[preditoras]\n",
        "y = df[alvo]\n",
        "\n",
        "X_train, X_test, y_train, y_test = train_test_split(X, y, test_size=0.30, stratify=y, random_state=SEED)\n",
        "\n",
        "print(f'Treinaremos com {X_train.shape[0]} individuos e testaremos com {X_test.shape[0]} individuos')"
      ],
      "metadata": {
        "colab": {
          "base_uri": "https://localhost:8080/"
        },
        "id": "i0yjP64wp4vD",
        "outputId": "716e11bb-b1a5-4f69-cc76-7f20b2b12a85"
      },
      "execution_count": 2,
      "outputs": [
        {
          "output_type": "stream",
          "name": "stdout",
          "text": [
            "Treinaremos com 156 individuos e testaremos com 68 individuos\n"
          ]
        }
      ]
    },
    {
      "cell_type": "code",
      "source": [
        "def report_score(title, model, X_train, y_train, X_test, y_test) :\n",
        "  model.fit(X_train, y_train)\n",
        "  print(f'{title} - Acurácia [Treino: {np.round(model.score(X_train, y_train) *100, 2)}%] - [Teste: {np.round(model.score(X_test, y_test) *100, 2)}%]')  \n",
        "  return model.score(X_train, y_train), model.score(X_test, y_test)"
      ],
      "metadata": {
        "id": "zJ6Fn_X9zXy4"
      },
      "execution_count": 3,
      "outputs": []
    },
    {
      "cell_type": "code",
      "source": [
        "report_score('Decision Tree', DecisionTreeClassifier(random_state=SEED), \n",
        "             X_train, y_train, X_test,y_test)"
      ],
      "metadata": {
        "colab": {
          "base_uri": "https://localhost:8080/"
        },
        "id": "OvJFaCmdt_8O",
        "outputId": "6b151498-8d4d-4f3a-ba7d-593c5aef0e69"
      },
      "execution_count": 4,
      "outputs": [
        {
          "output_type": "stream",
          "name": "stdout",
          "text": [
            "Decision Tree - Acurácia [Treino: 100.0%] - [Teste: 95.59%]\n"
          ]
        },
        {
          "output_type": "execute_result",
          "data": {
            "text/plain": [
              "(1.0, 0.9558823529411765)"
            ]
          },
          "metadata": {},
          "execution_count": 4
        }
      ]
    },
    {
      "cell_type": "code",
      "source": [
        "from sklearn.dummy import DummyClassifier\n",
        "report_score('Dummy', DummyClassifier(strategy='prior'), \n",
        "             X_train, y_train, X_test,y_test)"
      ],
      "metadata": {
        "id": "jRsUbKTI0L-f",
        "outputId": "340c134f-e5e9-4a31-892c-bd6f8bb7fde8",
        "colab": {
          "base_uri": "https://localhost:8080/"
        }
      },
      "execution_count": 5,
      "outputs": [
        {
          "output_type": "stream",
          "name": "stdout",
          "text": [
            "Dummy - Acurácia [Treino: 55.13%] - [Teste: 54.41%]\n"
          ]
        },
        {
          "output_type": "execute_result",
          "data": {
            "text/plain": [
              "(0.5512820512820513, 0.5441176470588235)"
            ]
          },
          "metadata": {},
          "execution_count": 5
        }
      ]
    },
    {
      "cell_type": "code",
      "source": [
        "np.random.seed(seed=None)\n",
        "scores_test = []\n",
        "scores_train = []\n",
        "for i in range(500) :\n",
        "  X_train, X_test, y_train, y_test = train_test_split(X, y, test_size=0.30, stratify=y, random_state=None)\n",
        "  model = DecisionTreeClassifier().fit(X_train, y_train)\n",
        "  scores_test.append(model.score(X_test, y_test))\n",
        "  scores_train.append(model.score(X_train, y_train))\n",
        "print(scores_train)\n",
        "print(scores_test)\n",
        "\n",
        "print(f'Treino: {np.round(np.min(scores_train)*100, 2)}% a {np.round(np.max(scores_train)*100,2)}%')\n",
        "print(f'Teste: {np.round(np.min(scores_test)*100, 2)}% a {np.round(np.max(scores_test)*100, 2)}%')"
      ],
      "metadata": {
        "id": "KC_NpWx10u8w",
        "outputId": "923b70b2-a158-45ab-8458-04eb082ae691",
        "colab": {
          "base_uri": "https://localhost:8080/"
        }
      },
      "execution_count": 6,
      "outputs": [
        {
          "output_type": "stream",
          "name": "stdout",
          "text": [
            "[1.0, 1.0, 1.0, 1.0, 1.0, 1.0, 1.0, 1.0, 1.0, 1.0, 1.0, 1.0, 1.0, 1.0, 1.0, 1.0, 1.0, 1.0, 1.0, 1.0, 1.0, 1.0, 1.0, 1.0, 1.0, 1.0, 1.0, 1.0, 1.0, 1.0, 1.0, 1.0, 1.0, 1.0, 1.0, 1.0, 1.0, 1.0, 1.0, 1.0, 1.0, 1.0, 1.0, 1.0, 1.0, 1.0, 1.0, 1.0, 1.0, 1.0, 1.0, 1.0, 1.0, 1.0, 1.0, 1.0, 1.0, 1.0, 1.0, 1.0, 1.0, 1.0, 1.0, 1.0, 1.0, 1.0, 1.0, 1.0, 1.0, 1.0, 1.0, 1.0, 1.0, 1.0, 1.0, 1.0, 1.0, 1.0, 1.0, 1.0, 1.0, 1.0, 1.0, 1.0, 1.0, 1.0, 1.0, 1.0, 1.0, 1.0, 1.0, 1.0, 1.0, 1.0, 1.0, 1.0, 1.0, 1.0, 1.0, 1.0, 1.0, 1.0, 1.0, 1.0, 1.0, 1.0, 1.0, 1.0, 1.0, 1.0, 1.0, 1.0, 1.0, 1.0, 1.0, 1.0, 1.0, 1.0, 1.0, 1.0, 1.0, 1.0, 1.0, 1.0, 1.0, 1.0, 1.0, 1.0, 1.0, 1.0, 1.0, 1.0, 1.0, 1.0, 1.0, 1.0, 1.0, 1.0, 1.0, 1.0, 1.0, 1.0, 1.0, 1.0, 1.0, 1.0, 1.0, 1.0, 1.0, 1.0, 1.0, 1.0, 1.0, 1.0, 1.0, 1.0, 1.0, 1.0, 1.0, 1.0, 1.0, 1.0, 1.0, 1.0, 1.0, 1.0, 1.0, 1.0, 1.0, 1.0, 1.0, 1.0, 1.0, 1.0, 1.0, 1.0, 1.0, 1.0, 1.0, 1.0, 1.0, 1.0, 1.0, 1.0, 1.0, 1.0, 1.0, 1.0, 1.0, 1.0, 1.0, 1.0, 1.0, 1.0, 1.0, 1.0, 1.0, 1.0, 1.0, 1.0, 1.0, 1.0, 1.0, 1.0, 1.0, 1.0, 1.0, 1.0, 1.0, 1.0, 1.0, 1.0, 1.0, 1.0, 1.0, 1.0, 1.0, 1.0, 1.0, 1.0, 1.0, 1.0, 1.0, 1.0, 1.0, 1.0, 1.0, 1.0, 1.0, 1.0, 1.0, 1.0, 1.0, 1.0, 1.0, 1.0, 1.0, 1.0, 1.0, 1.0, 1.0, 1.0, 1.0, 1.0, 1.0, 1.0, 1.0, 1.0, 1.0, 1.0, 1.0, 1.0, 1.0, 1.0, 1.0, 1.0, 1.0, 1.0, 1.0, 1.0, 1.0, 1.0, 1.0, 1.0, 1.0, 1.0, 1.0, 1.0, 1.0, 1.0, 1.0, 1.0, 1.0, 1.0, 1.0, 1.0, 1.0, 1.0, 1.0, 1.0, 1.0, 1.0, 1.0, 1.0, 1.0, 1.0, 1.0, 1.0, 1.0, 1.0, 1.0, 1.0, 1.0, 1.0, 1.0, 1.0, 1.0, 1.0, 1.0, 1.0, 1.0, 1.0, 1.0, 1.0, 1.0, 1.0, 1.0, 1.0, 1.0, 1.0, 1.0, 1.0, 1.0, 1.0, 1.0, 1.0, 1.0, 1.0, 1.0, 1.0, 1.0, 1.0, 1.0, 1.0, 1.0, 1.0, 1.0, 1.0, 1.0, 1.0, 1.0, 1.0, 1.0, 1.0, 1.0, 1.0, 1.0, 1.0, 1.0, 1.0, 1.0, 1.0, 1.0, 1.0, 1.0, 1.0, 1.0, 1.0, 1.0, 1.0, 1.0, 1.0, 1.0, 1.0, 1.0, 1.0, 1.0, 1.0, 1.0, 1.0, 1.0, 1.0, 1.0, 1.0, 1.0, 1.0, 1.0, 1.0, 1.0, 1.0, 1.0, 1.0, 1.0, 1.0, 1.0, 1.0, 1.0, 1.0, 1.0, 1.0, 1.0, 1.0, 1.0, 1.0, 1.0, 1.0, 1.0, 1.0, 1.0, 1.0, 1.0, 1.0, 1.0, 1.0, 1.0, 1.0, 1.0, 1.0, 1.0, 1.0, 1.0, 1.0, 1.0, 1.0, 1.0, 1.0, 1.0, 1.0, 1.0, 1.0, 1.0, 1.0, 1.0, 1.0, 1.0, 1.0, 1.0, 1.0, 1.0, 1.0, 1.0, 1.0, 1.0, 1.0, 1.0, 1.0, 1.0, 1.0, 1.0, 1.0, 1.0, 1.0, 1.0, 1.0, 1.0, 1.0, 1.0, 1.0, 1.0, 1.0, 1.0, 1.0, 1.0, 1.0, 1.0, 1.0, 1.0, 1.0, 1.0, 1.0, 1.0, 1.0, 1.0, 1.0, 1.0, 1.0, 1.0, 1.0, 1.0, 1.0, 1.0, 1.0, 1.0, 1.0, 1.0, 1.0, 1.0, 1.0, 1.0, 1.0, 1.0, 1.0, 1.0, 1.0, 1.0, 1.0, 1.0, 1.0, 1.0, 1.0, 1.0, 1.0, 1.0, 1.0, 1.0, 1.0, 1.0, 1.0, 1.0, 1.0, 1.0, 1.0, 1.0, 1.0, 1.0, 1.0, 1.0, 1.0, 1.0, 1.0]\n",
            "[0.9558823529411765, 0.9558823529411765, 0.9705882352941176, 0.9558823529411765, 0.9558823529411765, 0.9852941176470589, 1.0, 0.9558823529411765, 0.9705882352941176, 0.9558823529411765, 1.0, 0.9852941176470589, 0.9705882352941176, 1.0, 0.9117647058823529, 0.9852941176470589, 0.9411764705882353, 0.9558823529411765, 0.9705882352941176, 0.9705882352941176, 0.9411764705882353, 0.9558823529411765, 1.0, 0.9705882352941176, 0.9852941176470589, 0.9411764705882353, 0.9705882352941176, 0.9852941176470589, 0.9705882352941176, 0.9852941176470589, 0.9705882352941176, 0.9705882352941176, 0.9264705882352942, 0.9852941176470589, 0.9852941176470589, 0.9852941176470589, 0.9705882352941176, 0.9264705882352942, 0.9852941176470589, 0.9705882352941176, 0.9411764705882353, 0.9705882352941176, 0.9852941176470589, 0.9558823529411765, 0.9852941176470589, 0.9705882352941176, 0.9264705882352942, 0.9852941176470589, 0.9558823529411765, 0.9411764705882353, 0.9705882352941176, 0.9852941176470589, 0.9705882352941176, 0.8676470588235294, 0.9558823529411765, 0.9705882352941176, 0.9852941176470589, 0.8970588235294118, 0.9558823529411765, 0.9264705882352942, 0.9705882352941176, 0.9558823529411765, 0.9705882352941176, 0.9705882352941176, 0.9558823529411765, 0.9117647058823529, 0.9264705882352942, 0.9558823529411765, 1.0, 0.9264705882352942, 0.9411764705882353, 0.9264705882352942, 0.9852941176470589, 0.9705882352941176, 0.9705882352941176, 0.9264705882352942, 0.9852941176470589, 0.9411764705882353, 0.9558823529411765, 0.9411764705882353, 0.9558823529411765, 0.9852941176470589, 0.9852941176470589, 0.9117647058823529, 0.9705882352941176, 0.9558823529411765, 0.9558823529411765, 0.9558823529411765, 0.9117647058823529, 0.9705882352941176, 0.9558823529411765, 0.9411764705882353, 0.9558823529411765, 0.9117647058823529, 1.0, 0.9264705882352942, 0.9117647058823529, 0.9705882352941176, 0.9852941176470589, 0.9852941176470589, 0.9558823529411765, 0.9705882352941176, 0.9558823529411765, 0.9411764705882353, 0.9705882352941176, 0.9411764705882353, 0.9558823529411765, 1.0, 0.9852941176470589, 0.9411764705882353, 0.9705882352941176, 0.9411764705882353, 0.9558823529411765, 0.9411764705882353, 0.9558823529411765, 0.9852941176470589, 0.9705882352941176, 0.9117647058823529, 0.9558823529411765, 0.9705882352941176, 0.9705882352941176, 0.9852941176470589, 0.9558823529411765, 0.8970588235294118, 0.9558823529411765, 0.9705882352941176, 0.9852941176470589, 0.9852941176470589, 0.9558823529411765, 0.9705882352941176, 0.8529411764705882, 1.0, 0.9117647058823529, 0.9558823529411765, 0.9558823529411765, 0.9705882352941176, 0.9558823529411765, 0.9705882352941176, 0.9411764705882353, 0.9705882352941176, 0.9264705882352942, 0.9852941176470589, 0.9852941176470589, 0.9705882352941176, 0.9705882352941176, 0.9852941176470589, 0.9705882352941176, 0.9264705882352942, 0.9411764705882353, 0.9705882352941176, 0.9852941176470589, 0.9852941176470589, 0.9558823529411765, 0.9705882352941176, 0.9411764705882353, 0.9705882352941176, 0.9264705882352942, 0.9264705882352942, 0.9558823529411765, 0.9264705882352942, 0.9117647058823529, 0.9558823529411765, 0.9264705882352942, 0.8970588235294118, 0.9705882352941176, 0.9558823529411765, 0.9558823529411765, 0.9411764705882353, 0.9264705882352942, 0.9558823529411765, 0.9705882352941176, 0.9264705882352942, 0.9411764705882353, 0.9705882352941176, 0.9558823529411765, 0.9264705882352942, 0.9558823529411765, 0.9705882352941176, 1.0, 1.0, 0.9117647058823529, 0.9411764705882353, 0.9411764705882353, 1.0, 0.9852941176470589, 0.8823529411764706, 0.9852941176470589, 0.9558823529411765, 0.9558823529411765, 0.9558823529411765, 0.9852941176470589, 0.9264705882352942, 0.9852941176470589, 0.9705882352941176, 0.9705882352941176, 0.9411764705882353, 0.9558823529411765, 0.9705882352941176, 0.9558823529411765, 0.9411764705882353, 0.9852941176470589, 0.9852941176470589, 0.9411764705882353, 0.9558823529411765, 0.9705882352941176, 0.9558823529411765, 0.9852941176470589, 0.9411764705882353, 0.9264705882352942, 0.8970588235294118, 0.8529411764705882, 0.9411764705882353, 0.9264705882352942, 0.9411764705882353, 0.9411764705882353, 0.9705882352941176, 0.9558823529411765, 0.9411764705882353, 0.9411764705882353, 0.9852941176470589, 0.9705882352941176, 0.9411764705882353, 1.0, 0.9852941176470589, 0.9852941176470589, 0.9852941176470589, 0.9705882352941176, 0.9558823529411765, 0.9705882352941176, 0.9558823529411765, 0.9264705882352942, 0.9411764705882353, 0.9852941176470589, 0.9852941176470589, 0.9558823529411765, 0.9558823529411765, 0.9705882352941176, 0.9705882352941176, 0.9411764705882353, 0.9558823529411765, 0.9264705882352942, 0.9558823529411765, 0.9558823529411765, 0.9411764705882353, 0.9558823529411765, 0.9117647058823529, 0.9558823529411765, 0.9705882352941176, 0.9558823529411765, 0.9705882352941176, 0.9705882352941176, 0.9264705882352942, 1.0, 0.9852941176470589, 0.9852941176470589, 0.9264705882352942, 0.9117647058823529, 0.9852941176470589, 0.9411764705882353, 0.9411764705882353, 0.9264705882352942, 0.9411764705882353, 0.9705882352941176, 0.9852941176470589, 0.9117647058823529, 0.9705882352941176, 0.9705882352941176, 0.9705882352941176, 0.9705882352941176, 0.9852941176470589, 0.9705882352941176, 0.9852941176470589, 0.9852941176470589, 0.9852941176470589, 0.9852941176470589, 0.9264705882352942, 0.9558823529411765, 0.9558823529411765, 0.9264705882352942, 0.9852941176470589, 0.9852941176470589, 0.9558823529411765, 0.9705882352941176, 0.9852941176470589, 0.9558823529411765, 0.9117647058823529, 0.9558823529411765, 0.9852941176470589, 0.9705882352941176, 0.9558823529411765, 0.9705882352941176, 0.9411764705882353, 1.0, 0.9705882352941176, 1.0, 0.9705882352941176, 0.9558823529411765, 0.9411764705882353, 0.9705882352941176, 0.9558823529411765, 0.9852941176470589, 0.9852941176470589, 1.0, 0.9705882352941176, 0.9705882352941176, 0.9558823529411765, 0.9411764705882353, 0.9558823529411765, 0.9264705882352942, 0.9558823529411765, 0.8970588235294118, 0.9852941176470589, 0.9558823529411765, 0.9705882352941176, 0.9705882352941176, 0.9705882352941176, 0.9558823529411765, 0.9852941176470589, 0.9852941176470589, 1.0, 0.9558823529411765, 0.9411764705882353, 0.8823529411764706, 0.9558823529411765, 0.9705882352941176, 0.8823529411764706, 1.0, 0.9558823529411765, 0.9558823529411765, 0.9264705882352942, 0.9705882352941176, 0.9705882352941176, 0.9852941176470589, 0.9411764705882353, 0.9852941176470589, 0.9705882352941176, 0.9852941176470589, 0.9705882352941176, 0.9264705882352942, 0.9558823529411765, 0.9705882352941176, 0.9411764705882353, 0.9264705882352942, 0.9558823529411765, 0.9558823529411765, 0.9852941176470589, 0.9852941176470589, 0.9852941176470589, 0.9558823529411765, 0.9558823529411765, 0.9558823529411765, 0.9705882352941176, 0.9411764705882353, 0.9558823529411765, 0.9705882352941176, 0.9558823529411765, 0.9264705882352942, 0.9411764705882353, 0.9264705882352942, 0.9705882352941176, 0.9411764705882353, 0.9705882352941176, 0.9705882352941176, 0.9852941176470589, 0.9852941176470589, 0.9852941176470589, 0.9117647058823529, 0.9705882352941176, 0.9411764705882353, 0.9852941176470589, 0.9264705882352942, 0.9852941176470589, 0.9852941176470589, 0.9558823529411765, 0.9264705882352942, 0.9558823529411765, 0.9705882352941176, 0.9852941176470589, 0.9558823529411765, 0.9705882352941176, 0.9558823529411765, 0.9705882352941176, 0.9558823529411765, 0.9558823529411765, 0.9705882352941176, 0.9852941176470589, 0.9705882352941176, 1.0, 1.0, 0.9852941176470589, 0.9705882352941176, 0.9411764705882353, 1.0, 0.9558823529411765, 0.9705882352941176, 0.9558823529411765, 0.9558823529411765, 0.9852941176470589, 0.9411764705882353, 0.9411764705882353, 0.9558823529411765, 0.9852941176470589, 0.9705882352941176, 0.9705882352941176, 0.9264705882352942, 0.9852941176470589, 0.9558823529411765, 0.9852941176470589, 0.9558823529411765, 0.9852941176470589, 0.9117647058823529, 1.0, 0.9852941176470589, 0.9705882352941176, 0.9705882352941176, 0.9411764705882353, 0.9264705882352942, 0.9852941176470589, 0.9558823529411765, 0.9558823529411765, 0.9264705882352942, 0.9411764705882353, 1.0, 0.9705882352941176, 0.9705882352941176, 0.9705882352941176, 0.9558823529411765, 0.9705882352941176, 0.9852941176470589, 0.9117647058823529, 0.9411764705882353, 0.9852941176470589, 0.9264705882352942, 0.9852941176470589, 0.9558823529411765, 0.9705882352941176, 0.9852941176470589, 0.9411764705882353, 0.9264705882352942, 0.9558823529411765, 0.9852941176470589, 0.9264705882352942, 0.9852941176470589, 0.9852941176470589, 0.9411764705882353, 0.9705882352941176, 0.9852941176470589, 0.9558823529411765, 0.9852941176470589, 0.9558823529411765, 0.9558823529411765, 0.9117647058823529, 0.9264705882352942, 0.9852941176470589, 0.9558823529411765, 0.9705882352941176, 0.9852941176470589, 0.9558823529411765, 0.9852941176470589, 0.9705882352941176, 0.9852941176470589, 1.0, 0.9705882352941176, 0.9558823529411765, 0.9705882352941176, 1.0, 1.0, 0.9558823529411765, 0.9117647058823529, 0.9264705882352942, 0.9411764705882353, 0.9852941176470589, 0.9558823529411765, 0.9705882352941176, 0.9558823529411765, 0.9411764705882353, 0.9705882352941176, 1.0, 0.9705882352941176, 0.9558823529411765, 0.9264705882352942, 0.9852941176470589, 0.9411764705882353, 0.9558823529411765, 0.9705882352941176, 0.8529411764705882, 0.9852941176470589, 0.9264705882352942, 0.9411764705882353, 0.9852941176470589, 0.9411764705882353, 1.0, 0.9705882352941176, 0.9852941176470589, 0.9852941176470589, 0.9852941176470589, 0.9558823529411765, 1.0, 0.9558823529411765, 0.9411764705882353]\n",
            "Treino: 100.0% a 100.0%\n",
            "Teste: 85.29% a 100.0%\n"
          ]
        }
      ]
    },
    {
      "cell_type": "markdown",
      "source": [],
      "metadata": {
        "id": "-q_yVpbQ6bU7"
      }
    },
    {
      "cell_type": "code",
      "source": [
        "sns.displot(scores_test, kind='hist')"
      ],
      "metadata": {
        "id": "3fZONO8524Fg",
        "outputId": "2a50c8a1-e5c8-4d4b-8bc3-5b7434b3aecc",
        "colab": {
          "base_uri": "https://localhost:8080/",
          "height": 386
        }
      },
      "execution_count": 7,
      "outputs": [
        {
          "output_type": "execute_result",
          "data": {
            "text/plain": [
              "<seaborn.axisgrid.FacetGrid at 0x7fb38c89c750>"
            ]
          },
          "metadata": {},
          "execution_count": 7
        },
        {
          "output_type": "display_data",
          "data": {
            "text/plain": [
              "<Figure size 360x360 with 1 Axes>"
            ],
            "image/png": "[encoded data removed]"
          },
          "metadata": {
            "needs_background": "light"
          }
        }
      ]
    },
    {
      "cell_type": "code",
      "source": [
        "def print_resultado(modelo, mean, std):\n",
        "  if(np.round((mean - 2*std) * 100, 2) > 0) :\n",
        "    minimo = np.round((mean - 2*std) * 100, 2)\n",
        "  else :\n",
        "    minimo = 0\n",
        "  if(np.round((mean + 2*std) * 100, 2) > 100) :\n",
        "    maximo = 100\n",
        "  else :\n",
        "    maximo = np.round((mean + 2*std) * 100, 2)\n",
        "  print(f'{modelo.__class__.__name__}: [{minimo}%, {maximo}%]' )"
      ],
      "metadata": {
        "id": "shDrL9-JzLUo"
      },
      "execution_count": 33,
      "outputs": []
    },
    {
      "cell_type": "code",
      "source": [
        "from sklearn.model_selection import cross_validate\n",
        "\n",
        "modelo = DecisionTreeClassifier(max_depth=2)\n",
        "results = cross_validate(modelo, X_train, y_train, cv = 10)\n",
        "print(results)\n",
        "print_resultado(modelo, results['test_score'].mean(), results['test_score'].std())"
      ],
      "metadata": {
        "id": "9y_bGBWq2nIa",
        "outputId": "58c791ee-2166-4f10-e6c7-0be03bf63bb7",
        "colab": {
          "base_uri": "https://localhost:8080/"
        }
      },
      "execution_count": 73,
      "outputs": [
        {
          "output_type": "stream",
          "name": "stdout",
          "text": [
            "{'fit_time': array([0.0036509 , 0.00302386, 0.00217152, 0.00203681, 0.001894  ,\n",
            "       0.00182128, 0.00182867, 0.00201797, 0.00197506, 0.0019362 ]), 'score_time': array([0.00160646, 0.00161719, 0.0014472 , 0.00142241, 0.00139141,\n",
            "       0.00131702, 0.00142217, 0.00143528, 0.00201797, 0.00136733]), 'test_score': array([0.875     , 1.        , 0.8125    , 0.9375    , 0.9375    ,\n",
            "       0.8125    , 0.73333333, 0.93333333, 0.93333333, 1.        ])}\n",
            "DecisionTreeClassifier: [73.17%, 100%]\n"
          ]
        }
      ]
    }
  ]
}