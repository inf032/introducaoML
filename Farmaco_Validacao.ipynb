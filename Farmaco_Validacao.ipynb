{
  "nbformat": 4,
  "nbformat_minor": 0,
  "metadata": {
    "colab": {
      "provenance": [],
      "authorship_tag": "ABX9TyObPBa30lsul0+NLyq2CtSc",
      "include_colab_link": true
    },
    "kernelspec": {
      "name": "python3",
      "display_name": "Python 3"
    },
    "language_info": {
      "name": "python"
    }
  },
  "cells": [
    {
      "cell_type": "markdown",
      "metadata": {
        "id": "view-in-github",
        "colab_type": "text"
      },
      "source": [
        "<a href=\"https://colab.research.google.com/github/inf032/introducaoML/blob/master/Farmaco_Validacao.ipynb\" target=\"_parent\"><img src=\"https://colab.research.google.com/assets/colab-badge.svg\" alt=\"Open In Colab\"/></a>"
      ]
    },
    {
      "cell_type": "code",
      "execution_count": 104,
      "metadata": {
        "id": "KIRtYg7hRuBx"
      },
      "outputs": [],
      "source": [
        "import numpy as np\n",
        "import pandas as pd\n",
        "import matplotlib.pyplot as plt\n",
        "import seaborn as sns\n",
        "import warnings\n",
        "\n",
        "from sklearn.model_selection import train_test_split \n",
        "\n",
        "from sklearn.svm import SVC\n",
        "from sklearn.tree import DecisionTreeClassifier\n"
      ]
    },
    {
      "cell_type": "markdown",
      "source": [
        "HOLDOUT"
      ],
      "metadata": {
        "id": "-GciIKFdtat1"
      }
    },
    {
      "cell_type": "code",
      "source": [
        "SEED = 1\n",
        "np.random.seed(SEED)\n",
        "warnings.filterwarnings(action='once')\n",
        "\n",
        "df = pd.read_csv('https://raw.githubusercontent.com/inf032/introducaoML/master/data/farmaco_preprocessado.csv', )\n",
        "\n",
        "preditoras = ['IDADE', 'SEXO', 'PA', 'COLESTEROL', 'NA_K']\n",
        "alvo = 'FARMACO'\n",
        "\n",
        "X = df[preditoras]\n",
        "y = df[alvo]\n",
        "\n",
        "X_train, X_test, y_train, y_test = train_test_split(X, y, test_size=0.30, stratify=y, random_state=SEED)\n",
        "\n",
        "print(f'Treinaremos com {X_train.shape[0]} individuos e testaremos com {X_test.shape[0]} individuos')"
      ],
      "metadata": {
        "colab": {
          "base_uri": "https://localhost:8080/"
        },
        "id": "i0yjP64wp4vD",
        "outputId": "4d0b65f8-59a5-4992-8f52-89089e28474b"
      },
      "execution_count": 105,
      "outputs": [
        {
          "output_type": "stream",
          "name": "stdout",
          "text": [
            "Treinaremos com 156 individuos e testaremos com 68 individuos\n"
          ]
        }
      ]
    },
    {
      "cell_type": "code",
      "source": [
        "def report_score(title, model, X_train, y_train, X_test, y_test) :\n",
        "  model.fit(X_train, y_train)\n",
        "  print(f'{title} - Acurácia [Treino: {np.round(model.score(X_train, y_train) *100, 2)}%] - [Teste: {np.round(model.score(X_test, y_test) *100, 2)}%]')  \n",
        "  return model.score(X_train, y_train), model.score(X_test, y_test)"
      ],
      "metadata": {
        "id": "zJ6Fn_X9zXy4"
      },
      "execution_count": 106,
      "outputs": []
    },
    {
      "cell_type": "code",
      "source": [
        "report_score('Decision Tree', DecisionTreeClassifier(random_state=SEED), \n",
        "             X_train, y_train, X_test,y_test)"
      ],
      "metadata": {
        "colab": {
          "base_uri": "https://localhost:8080/"
        },
        "id": "OvJFaCmdt_8O",
        "outputId": "27313227-1200-4451-8887-f8ff160e5cf0"
      },
      "execution_count": 107,
      "outputs": [
        {
          "output_type": "stream",
          "name": "stdout",
          "text": [
            "Decision Tree - Acurácia [Treino: 100.0%] - [Teste: 95.59%]\n"
          ]
        },
        {
          "output_type": "execute_result",
          "data": {
            "text/plain": [
              "(1.0, 0.9558823529411765)"
            ]
          },
          "metadata": {},
          "execution_count": 107
        }
      ]
    },
    {
      "cell_type": "code",
      "source": [
        "from sklearn.dummy import DummyClassifier\n",
        "report_score('Dummy', DummyClassifier(strategy='prior'), \n",
        "             X_train, y_train, X_test,y_test)"
      ],
      "metadata": {
        "id": "jRsUbKTI0L-f",
        "outputId": "1132000a-322f-4c0f-dd26-9e90291e61e6",
        "colab": {
          "base_uri": "https://localhost:8080/"
        }
      },
      "execution_count": 108,
      "outputs": [
        {
          "output_type": "stream",
          "name": "stdout",
          "text": [
            "Dummy - Acurácia [Treino: 55.13%] - [Teste: 54.41%]\n"
          ]
        },
        {
          "output_type": "execute_result",
          "data": {
            "text/plain": [
              "(0.5512820512820513, 0.5441176470588235)"
            ]
          },
          "metadata": {},
          "execution_count": 108
        }
      ]
    },
    {
      "cell_type": "code",
      "source": [
        "np.random.seed(seed=None)\n",
        "scores_test = []\n",
        "scores_train = []\n",
        "for i in range(500) :\n",
        "  X_train, X_test, y_train, y_test = train_test_split(X, y, test_size=0.30, stratify=y, random_state=None)\n",
        "  model = DecisionTreeClassifier().fit(X_train, y_train)\n",
        "  scores_test.append(model.score(X_test, y_test))\n",
        "  scores_train.append(model.score(X_train, y_train))\n",
        "print(scores_train)\n",
        "print(scores_test)\n",
        "\n",
        "print(f'Treino: {np.round(np.min(scores_train)*100, 2)}% a {np.round(np.max(scores_train)*100,2)}%')\n",
        "print(f'Teste: {np.round(np.min(scores_test)*100, 2)}% a {np.round(np.max(scores_test)*100, 2)}%')"
      ],
      "metadata": {
        "id": "KC_NpWx10u8w",
        "outputId": "8b838233-6d47-4855-f9be-08bbcac47e3d",
        "colab": {
          "base_uri": "https://localhost:8080/"
        }
      },
      "execution_count": 109,
      "outputs": [
        {
          "output_type": "stream",
          "name": "stdout",
          "text": [
            "[1.0, 1.0, 1.0, 1.0, 1.0, 1.0, 1.0, 1.0, 1.0, 1.0, 1.0, 1.0, 1.0, 1.0, 1.0, 1.0, 1.0, 1.0, 1.0, 1.0, 1.0, 1.0, 1.0, 1.0, 1.0, 1.0, 1.0, 1.0, 1.0, 1.0, 1.0, 1.0, 1.0, 1.0, 1.0, 1.0, 1.0, 1.0, 1.0, 1.0, 1.0, 1.0, 1.0, 1.0, 1.0, 1.0, 1.0, 1.0, 1.0, 1.0, 1.0, 1.0, 1.0, 1.0, 1.0, 1.0, 1.0, 1.0, 1.0, 1.0, 1.0, 1.0, 1.0, 1.0, 1.0, 1.0, 1.0, 1.0, 1.0, 1.0, 1.0, 1.0, 1.0, 1.0, 1.0, 1.0, 1.0, 1.0, 1.0, 1.0, 1.0, 1.0, 1.0, 1.0, 1.0, 1.0, 1.0, 1.0, 1.0, 1.0, 1.0, 1.0, 1.0, 1.0, 1.0, 1.0, 1.0, 1.0, 1.0, 1.0, 1.0, 1.0, 1.0, 1.0, 1.0, 1.0, 1.0, 1.0, 1.0, 1.0, 1.0, 1.0, 1.0, 1.0, 1.0, 1.0, 1.0, 1.0, 1.0, 1.0, 1.0, 1.0, 1.0, 1.0, 1.0, 1.0, 1.0, 1.0, 1.0, 1.0, 1.0, 1.0, 1.0, 1.0, 1.0, 1.0, 1.0, 1.0, 1.0, 1.0, 1.0, 1.0, 1.0, 1.0, 1.0, 1.0, 1.0, 1.0, 1.0, 1.0, 1.0, 1.0, 1.0, 1.0, 1.0, 1.0, 1.0, 1.0, 1.0, 1.0, 1.0, 1.0, 1.0, 1.0, 1.0, 1.0, 1.0, 1.0, 1.0, 1.0, 1.0, 1.0, 1.0, 1.0, 1.0, 1.0, 1.0, 1.0, 1.0, 1.0, 1.0, 1.0, 1.0, 1.0, 1.0, 1.0, 1.0, 1.0, 1.0, 1.0, 1.0, 1.0, 1.0, 1.0, 1.0, 1.0, 1.0, 1.0, 1.0, 1.0, 1.0, 1.0, 1.0, 1.0, 1.0, 1.0, 1.0, 1.0, 1.0, 1.0, 1.0, 1.0, 1.0, 1.0, 1.0, 1.0, 1.0, 1.0, 1.0, 1.0, 1.0, 1.0, 1.0, 1.0, 1.0, 1.0, 1.0, 1.0, 1.0, 1.0, 1.0, 1.0, 1.0, 1.0, 1.0, 1.0, 1.0, 1.0, 1.0, 1.0, 1.0, 1.0, 1.0, 1.0, 1.0, 1.0, 1.0, 1.0, 1.0, 1.0, 1.0, 1.0, 1.0, 1.0, 1.0, 1.0, 1.0, 1.0, 1.0, 1.0, 1.0, 1.0, 1.0, 1.0, 1.0, 1.0, 1.0, 1.0, 1.0, 1.0, 1.0, 1.0, 1.0, 1.0, 1.0, 1.0, 1.0, 1.0, 1.0, 1.0, 1.0, 1.0, 1.0, 1.0, 1.0, 1.0, 1.0, 1.0, 1.0, 1.0, 1.0, 1.0, 1.0, 1.0, 1.0, 1.0, 1.0, 1.0, 1.0, 1.0, 1.0, 1.0, 1.0, 1.0, 1.0, 1.0, 1.0, 1.0, 1.0, 1.0, 1.0, 1.0, 1.0, 1.0, 1.0, 1.0, 1.0, 1.0, 1.0, 1.0, 1.0, 1.0, 1.0, 1.0, 1.0, 1.0, 1.0, 1.0, 1.0, 1.0, 1.0, 1.0, 1.0, 1.0, 1.0, 1.0, 1.0, 1.0, 1.0, 1.0, 1.0, 1.0, 1.0, 1.0, 1.0, 1.0, 1.0, 1.0, 1.0, 1.0, 1.0, 1.0, 1.0, 1.0, 1.0, 1.0, 1.0, 1.0, 1.0, 1.0, 1.0, 1.0, 1.0, 1.0, 1.0, 1.0, 1.0, 1.0, 1.0, 1.0, 1.0, 1.0, 1.0, 1.0, 1.0, 1.0, 1.0, 1.0, 1.0, 1.0, 1.0, 1.0, 1.0, 1.0, 1.0, 1.0, 1.0, 1.0, 1.0, 1.0, 1.0, 1.0, 1.0, 1.0, 1.0, 1.0, 1.0, 1.0, 1.0, 1.0, 1.0, 1.0, 1.0, 1.0, 1.0, 1.0, 1.0, 1.0, 1.0, 1.0, 1.0, 1.0, 1.0, 1.0, 1.0, 1.0, 1.0, 1.0, 1.0, 1.0, 1.0, 1.0, 1.0, 1.0, 1.0, 1.0, 1.0, 1.0, 1.0, 1.0, 1.0, 1.0, 1.0, 1.0, 1.0, 1.0, 1.0, 1.0, 1.0, 1.0, 1.0, 1.0, 1.0, 1.0, 1.0, 1.0, 1.0, 1.0, 1.0, 1.0, 1.0, 1.0, 1.0, 1.0, 1.0, 1.0, 1.0, 1.0, 1.0, 1.0, 1.0, 1.0, 1.0, 1.0, 1.0, 1.0, 1.0, 1.0, 1.0, 1.0, 1.0, 1.0, 1.0, 1.0, 1.0, 1.0, 1.0, 1.0, 1.0, 1.0, 1.0, 1.0, 1.0, 1.0, 1.0, 1.0, 1.0, 1.0, 1.0, 1.0, 1.0, 1.0, 1.0, 1.0, 1.0, 1.0, 1.0, 1.0, 1.0, 1.0]\n",
            "[0.9558823529411765, 0.9852941176470589, 0.9852941176470589, 0.9264705882352942, 0.9411764705882353, 0.9558823529411765, 0.9852941176470589, 0.9558823529411765, 0.9705882352941176, 0.9705882352941176, 0.9264705882352942, 0.8823529411764706, 0.9852941176470589, 1.0, 0.9852941176470589, 0.9705882352941176, 0.9411764705882353, 0.9558823529411765, 0.9264705882352942, 0.9411764705882353, 0.9852941176470589, 0.9264705882352942, 0.9705882352941176, 0.9852941176470589, 0.9705882352941176, 0.9705882352941176, 0.9705882352941176, 0.9705882352941176, 0.9852941176470589, 0.9558823529411765, 0.9117647058823529, 0.9705882352941176, 0.9411764705882353, 0.9558823529411765, 0.9705882352941176, 0.9264705882352942, 0.9411764705882353, 0.9558823529411765, 0.9705882352941176, 0.9705882352941176, 0.9558823529411765, 1.0, 0.9705882352941176, 0.9558823529411765, 0.9411764705882353, 0.9411764705882353, 0.9411764705882353, 0.9705882352941176, 0.9852941176470589, 0.9852941176470589, 0.9705882352941176, 0.9705882352941176, 0.8823529411764706, 0.9705882352941176, 0.9264705882352942, 0.9852941176470589, 0.9558823529411765, 0.9705882352941176, 0.9852941176470589, 0.9705882352941176, 0.9705882352941176, 0.9852941176470589, 0.9411764705882353, 0.9264705882352942, 0.9852941176470589, 0.9117647058823529, 0.9852941176470589, 0.9411764705882353, 0.9558823529411765, 0.8970588235294118, 0.9264705882352942, 0.9411764705882353, 0.9558823529411765, 0.9558823529411765, 1.0, 0.9264705882352942, 0.9705882352941176, 0.9705882352941176, 1.0, 0.9558823529411765, 0.9411764705882353, 0.9705882352941176, 0.9411764705882353, 0.9852941176470589, 0.9558823529411765, 1.0, 0.9852941176470589, 0.9264705882352942, 0.9411764705882353, 1.0, 0.9705882352941176, 1.0, 0.9705882352941176, 0.9852941176470589, 0.9705882352941176, 0.9705882352941176, 0.9705882352941176, 0.9852941176470589, 0.9705882352941176, 0.9852941176470589, 0.9852941176470589, 0.9264705882352942, 0.9558823529411765, 0.9264705882352942, 0.9411764705882353, 0.9852941176470589, 0.9558823529411765, 1.0, 1.0, 0.9705882352941176, 0.9558823529411765, 0.9558823529411765, 0.9411764705882353, 0.9558823529411765, 0.9411764705882353, 0.9558823529411765, 0.9558823529411765, 1.0, 0.9558823529411765, 0.9852941176470589, 0.9411764705882353, 1.0, 0.9558823529411765, 0.9852941176470589, 0.9558823529411765, 0.9558823529411765, 0.9558823529411765, 0.9264705882352942, 0.9558823529411765, 0.9411764705882353, 0.9852941176470589, 0.9852941176470589, 0.9705882352941176, 0.9264705882352942, 0.9558823529411765, 0.9852941176470589, 0.9705882352941176, 0.9558823529411765, 0.9117647058823529, 0.9705882352941176, 0.9264705882352942, 0.9705882352941176, 0.9558823529411765, 0.9852941176470589, 0.9558823529411765, 0.9852941176470589, 0.9558823529411765, 0.9852941176470589, 0.9705882352941176, 0.9705882352941176, 0.9705882352941176, 0.9264705882352942, 0.9411764705882353, 0.9558823529411765, 0.9264705882352942, 0.9411764705882353, 0.9264705882352942, 0.9411764705882353, 0.9264705882352942, 0.9411764705882353, 0.9558823529411765, 0.9558823529411765, 0.9705882352941176, 0.9852941176470589, 0.9705882352941176, 0.9558823529411765, 0.9852941176470589, 0.9558823529411765, 0.9558823529411765, 0.8382352941176471, 0.9411764705882353, 0.9852941176470589, 0.9852941176470589, 0.9705882352941176, 0.9411764705882353, 0.9852941176470589, 0.9558823529411765, 0.9705882352941176, 0.9558823529411765, 0.9411764705882353, 0.9558823529411765, 1.0, 0.9852941176470589, 0.9705882352941176, 0.9411764705882353, 0.9411764705882353, 0.9705882352941176, 0.9705882352941176, 0.9558823529411765, 0.8676470588235294, 0.9705882352941176, 0.9264705882352942, 0.9411764705882353, 0.9705882352941176, 0.9558823529411765, 0.9558823529411765, 0.9411764705882353, 0.9558823529411765, 0.9264705882352942, 0.9705882352941176, 0.9705882352941176, 0.9264705882352942, 0.9852941176470589, 0.9705882352941176, 1.0, 0.9852941176470589, 0.9852941176470589, 0.9852941176470589, 0.9705882352941176, 0.9705882352941176, 0.9852941176470589, 0.9558823529411765, 0.9558823529411765, 0.9852941176470589, 0.9264705882352942, 0.9852941176470589, 0.9117647058823529, 0.9558823529411765, 0.9852941176470589, 0.9558823529411765, 0.9558823529411765, 0.9852941176470589, 0.9558823529411765, 0.9852941176470589, 0.9705882352941176, 0.9558823529411765, 0.9852941176470589, 0.9852941176470589, 0.9411764705882353, 0.9558823529411765, 0.9558823529411765, 0.9852941176470589, 0.9558823529411765, 0.9558823529411765, 0.9705882352941176, 0.9852941176470589, 0.9852941176470589, 0.9264705882352942, 0.9558823529411765, 0.9705882352941176, 0.9852941176470589, 0.9117647058823529, 0.9411764705882353, 0.9411764705882353, 0.9705882352941176, 0.9558823529411765, 0.9558823529411765, 0.9852941176470589, 0.9558823529411765, 0.9852941176470589, 0.9411764705882353, 0.9411764705882353, 0.9558823529411765, 0.9411764705882353, 0.9852941176470589, 0.9411764705882353, 0.9705882352941176, 0.8970588235294118, 0.9852941176470589, 0.9705882352941176, 0.9558823529411765, 1.0, 0.9705882352941176, 0.9411764705882353, 0.9411764705882353, 0.9264705882352942, 0.9852941176470589, 0.9852941176470589, 0.9558823529411765, 0.9411764705882353, 0.9705882352941176, 0.9558823529411765, 0.9264705882352942, 0.9411764705882353, 0.9852941176470589, 0.9411764705882353, 0.9558823529411765, 0.9705882352941176, 0.9117647058823529, 0.9117647058823529, 0.9411764705882353, 0.9705882352941176, 0.9411764705882353, 0.9705882352941176, 0.9558823529411765, 0.9705882352941176, 0.9705882352941176, 0.9852941176470589, 0.9558823529411765, 0.9705882352941176, 0.9852941176470589, 0.9852941176470589, 0.9264705882352942, 0.9411764705882353, 0.9705882352941176, 0.9558823529411765, 0.9852941176470589, 0.9852941176470589, 0.9852941176470589, 0.9852941176470589, 0.8970588235294118, 0.8970588235294118, 0.9705882352941176, 0.9852941176470589, 0.9705882352941176, 0.9558823529411765, 0.9117647058823529, 0.9558823529411765, 0.9264705882352942, 0.9705882352941176, 0.9558823529411765, 0.9411764705882353, 0.9558823529411765, 0.9558823529411765, 0.9411764705882353, 0.9705882352941176, 0.9558823529411765, 0.9852941176470589, 0.9705882352941176, 0.9705882352941176, 0.9705882352941176, 0.9558823529411765, 0.9558823529411765, 0.9852941176470589, 1.0, 0.9705882352941176, 0.9411764705882353, 0.9852941176470589, 0.9264705882352942, 0.9411764705882353, 0.9411764705882353, 0.9558823529411765, 0.9705882352941176, 0.9705882352941176, 1.0, 0.8529411764705882, 0.9852941176470589, 0.9705882352941176, 0.9705882352941176, 0.9705882352941176, 0.9852941176470589, 0.9705882352941176, 0.9411764705882353, 0.9264705882352942, 0.9558823529411765, 0.9852941176470589, 0.9705882352941176, 0.9264705882352942, 0.9705882352941176, 0.9264705882352942, 0.9705882352941176, 0.9852941176470589, 0.9411764705882353, 0.9411764705882353, 0.9558823529411765, 0.9705882352941176, 0.9411764705882353, 0.9411764705882353, 0.9264705882352942, 0.9411764705882353, 0.9264705882352942, 0.9411764705882353, 0.9558823529411765, 0.9705882352941176, 0.9558823529411765, 0.9705882352941176, 0.9411764705882353, 0.9558823529411765, 0.9558823529411765, 0.8676470588235294, 0.9264705882352942, 0.9117647058823529, 0.9705882352941176, 0.9705882352941176, 0.9558823529411765, 0.9705882352941176, 0.9411764705882353, 1.0, 0.9558823529411765, 1.0, 0.9852941176470589, 0.9558823529411765, 0.9705882352941176, 0.9411764705882353, 0.8970588235294118, 0.9558823529411765, 0.9705882352941176, 0.9411764705882353, 0.9117647058823529, 0.9705882352941176, 0.9411764705882353, 0.9852941176470589, 0.9705882352941176, 0.9852941176470589, 0.9705882352941176, 0.9705882352941176, 0.9264705882352942, 0.9705882352941176, 0.9705882352941176, 0.9705882352941176, 0.9558823529411765, 0.9558823529411765, 0.9852941176470589, 0.9705882352941176, 0.9705882352941176, 0.9264705882352942, 0.9117647058823529, 0.9558823529411765, 0.9558823529411765, 0.9411764705882353, 0.9558823529411765, 0.9411764705882353, 0.9558823529411765, 0.9558823529411765, 0.9705882352941176, 0.9117647058823529, 0.9558823529411765, 0.9411764705882353, 0.9705882352941176, 0.9558823529411765, 0.9558823529411765, 0.9411764705882353, 0.9264705882352942, 0.9558823529411765, 0.9852941176470589, 0.9558823529411765, 1.0, 0.9264705882352942, 0.9558823529411765, 0.9411764705882353, 0.9705882352941176, 0.9264705882352942, 0.9705882352941176, 0.9705882352941176, 0.9852941176470589, 0.9558823529411765, 0.9558823529411765, 0.9264705882352942, 0.9705882352941176, 0.9411764705882353, 0.9558823529411765, 0.9852941176470589, 0.9558823529411765, 0.9558823529411765, 0.9411764705882353, 0.9411764705882353, 0.9558823529411765, 0.9558823529411765, 0.9852941176470589, 0.9852941176470589, 0.9705882352941176, 0.9264705882352942, 0.9852941176470589, 0.9558823529411765, 0.9411764705882353, 0.9705882352941176, 0.9852941176470589, 0.9411764705882353, 0.9705882352941176, 0.9852941176470589, 0.9852941176470589, 0.9852941176470589, 0.9411764705882353, 0.9117647058823529, 0.9411764705882353, 0.9411764705882353, 0.9852941176470589, 0.9117647058823529, 0.9852941176470589, 0.9705882352941176, 0.9264705882352942, 0.9411764705882353, 0.9705882352941176, 0.9117647058823529, 0.9852941176470589, 0.9411764705882353, 0.9411764705882353, 0.9705882352941176, 0.9558823529411765, 0.9852941176470589, 1.0, 0.9558823529411765, 0.9558823529411765, 0.9705882352941176, 0.9411764705882353, 0.8970588235294118, 0.9558823529411765, 1.0, 0.9411764705882353, 0.9558823529411765, 0.9705882352941176, 0.9117647058823529, 0.9705882352941176, 0.9705882352941176, 0.9705882352941176, 0.9705882352941176, 0.9705882352941176, 0.9705882352941176, 0.9705882352941176, 0.9852941176470589]\n",
            "Treino: 100.0% a 100.0%\n",
            "Teste: 83.82% a 100.0%\n"
          ]
        }
      ]
    },
    {
      "cell_type": "markdown",
      "source": [],
      "metadata": {
        "id": "-q_yVpbQ6bU7"
      }
    },
    {
      "cell_type": "code",
      "source": [
        "sns.displot(scores_test, kind='hist')"
      ],
      "metadata": {
        "id": "3fZONO8524Fg",
        "outputId": "51522cc2-73c0-4298-ba83-01f6744c0614",
        "colab": {
          "base_uri": "https://localhost:8080/",
          "height": 386
        }
      },
      "execution_count": 110,
      "outputs": [
        {
          "output_type": "execute_result",
          "data": {
            "text/plain": [
              "<seaborn.axisgrid.FacetGrid at 0x7fcfd882b110>"
            ]
          },
          "metadata": {},
          "execution_count": 110
        },
        {
          "output_type": "display_data",
          "data": {
            "text/plain": [
              "<Figure size 360x360 with 1 Axes>"
            ],
            "image/png": "[encoded data removed]"
          },
          "metadata": {
            "needs_background": "light"
          }
        }
      ]
    },
    {
      "cell_type": "code",
      "source": [
        "def print_resultado(modelo, mean, std):\n",
        "  if(np.round((mean - 2*std) * 100, 2) > 0) :\n",
        "    minimo = np.round((mean - 2*std) * 100, 2)\n",
        "  else :\n",
        "    minimo = 0\n",
        "  if(np.round((mean + 2*std) * 100, 2) > 100) :\n",
        "    maximo = 100\n",
        "  else :\n",
        "    maximo = np.round((mean + 2*std) * 100, 2)\n",
        "  print(f'{modelo.__class__.__name__}: Média {np.round(mean *100, 2)}% - IC 95%: [{minimo}%, {maximo}%]' )"
      ],
      "metadata": {
        "id": "shDrL9-JzLUo"
      },
      "execution_count": 111,
      "outputs": []
    },
    {
      "cell_type": "code",
      "source": [
        "from sklearn.model_selection import cross_validate, KFold\n",
        "\n",
        "np.random.seed(SEED)\n",
        "#np.random.seed(None)\n",
        "\n",
        "X_train, X_test, y_train, y_test = train_test_split(X, y, test_size=0.30, stratify=y, random_state=SEED)\n",
        "\n",
        "modelo = DecisionTreeClassifier(max_depth=2)\n",
        "for i in range(5) :\n",
        "  results = cross_validate(modelo, X_train, y_train, cv = 5)\n",
        "  print(results['test_score'])\n",
        "  print_resultado(modelo, results['test_score'].mean(), results['test_score'].std())"
      ],
      "metadata": {
        "id": "9y_bGBWq2nIa",
        "outputId": "1d684c17-3415-48f8-f58c-c4051cd08872",
        "colab": {
          "base_uri": "https://localhost:8080/"
        }
      },
      "execution_count": 112,
      "outputs": [
        {
          "output_type": "stream",
          "name": "stdout",
          "text": [
            "[0.84375    0.87096774 0.83870968 0.93548387 0.87096774]\n",
            "DecisionTreeClassifier: Média 87.2% - IC 95%: [80.3%, 94.09%]\n",
            "[0.84375    0.87096774 0.83870968 0.93548387 0.87096774]\n",
            "DecisionTreeClassifier: Média 87.2% - IC 95%: [80.3%, 94.09%]\n",
            "[0.84375    0.87096774 0.83870968 0.93548387 0.87096774]\n",
            "DecisionTreeClassifier: Média 87.2% - IC 95%: [80.3%, 94.09%]\n",
            "[0.84375    0.87096774 0.83870968 0.93548387 0.87096774]\n",
            "DecisionTreeClassifier: Média 87.2% - IC 95%: [80.3%, 94.09%]\n",
            "[0.84375    0.87096774 0.83870968 0.93548387 0.87096774]\n",
            "DecisionTreeClassifier: Média 87.2% - IC 95%: [80.3%, 94.09%]\n"
          ]
        }
      ]
    },
    {
      "cell_type": "code",
      "source": [
        "#Aleatoriedade\n",
        "\n",
        "from sklearn.model_selection import cross_validate, KFold\n",
        "SEED = None\n",
        "#SEED = 42\n",
        "np.random.seed(SEED)\n",
        "\n",
        "X_train, X_test, y_train, y_test = train_test_split(X, y, test_size=0.30, stratify=y, random_state=SEED)\n",
        "\n",
        "modelo = DecisionTreeClassifier(max_depth=2)\n",
        "for i in range(5) :\n",
        "  results = cross_validate(modelo, X_train, y_train, cv = KFold(n_splits=5, shuffle=True, random_state=SEED))\n",
        "  print(results['test_score'])\n",
        "  print_resultado(modelo, results['test_score'].mean(), results['test_score'].std())"
      ],
      "metadata": {
        "id": "rETYlMyK3rYS",
        "outputId": "36ffa996-c642-4fc0-b0ae-42a0f88e107d",
        "colab": {
          "base_uri": "https://localhost:8080/"
        }
      },
      "execution_count": 113,
      "outputs": [
        {
          "output_type": "stream",
          "name": "stdout",
          "text": [
            "[0.875      0.74193548 0.77419355 0.83870968 0.93548387]\n",
            "DecisionTreeClassifier: Média 83.31% - IC 95%: [69.44%, 97.18%]\n",
            "[0.875      0.80645161 0.87096774 0.93548387 0.83870968]\n",
            "DecisionTreeClassifier: Média 86.53% - IC 95%: [77.94%, 95.12%]\n",
            "[0.8125     0.96774194 0.90322581 0.93548387 0.93548387]\n",
            "DecisionTreeClassifier: Média 91.09% - IC 95%: [80.44%, 100%]\n",
            "[0.8125     0.87096774 0.90322581 0.87096774 0.96774194]\n",
            "DecisionTreeClassifier: Média 88.51% - IC 95%: [78.38%, 98.64%]\n",
            "[0.90625    0.93548387 0.87096774 0.80645161 0.74193548]\n",
            "DecisionTreeClassifier: Média 85.22% - IC 95%: [71.23%, 99.21%]\n"
          ]
        }
      ]
    },
    {
      "cell_type": "code",
      "source": [
        "#Aleatoriedade\n",
        "\n",
        "from sklearn.model_selection import cross_validate, KFold\n",
        "SEED = None\n",
        "#SEED = 42\n",
        "np.random.seed(SEED)\n",
        "\n",
        "dfSorted = df.copy()\n",
        "dfSorted.sort_values(alvo, ascending=False, inplace=True) \n",
        "dfSorted.index = range(dfSorted.shape[0])\n",
        "\n",
        "X = dfSorted[preditoras]\n",
        "y = dfSorted[alvo]\n",
        "\n",
        "X_train = X.iloc[0:155]\n",
        "y_train = y.iloc[0:155]\n",
        "X_test = X.iloc[156:]\n",
        "y_test = y.iloc[156:]\n",
        "\n",
        "modelo = DecisionTreeClassifier(max_depth=2)\n",
        "for i in range(5) :\n",
        "  results = cross_validate(modelo, X_train, y_train, cv = KFold(n_splits=3, shuffle=False, random_state=SEED))\n",
        "  print(results['test_score'])\n",
        "  print_resultado(modelo, results['test_score'].mean(), results['test_score'].std())"
      ],
      "metadata": {
        "id": "bL1KM2TvKaLQ",
        "outputId": "07817e3e-5e5a-4d15-8b80-556b96835c70",
        "colab": {
          "base_uri": "https://localhost:8080/"
        }
      },
      "execution_count": 114,
      "outputs": [
        {
          "output_type": "stream",
          "name": "stdout",
          "text": [
            "[0.61538462 0.96153846 0.39215686]\n",
            "DecisionTreeClassifier: Média 65.64% - IC 95%: [18.79%, 100%]\n",
            "[0.61538462 0.96153846 0.39215686]\n",
            "DecisionTreeClassifier: Média 65.64% - IC 95%: [18.79%, 100%]\n",
            "[0.61538462 0.96153846 0.39215686]\n",
            "DecisionTreeClassifier: Média 65.64% - IC 95%: [18.79%, 100%]\n",
            "[0.61538462 0.96153846 0.39215686]\n",
            "DecisionTreeClassifier: Média 65.64% - IC 95%: [18.79%, 100%]\n",
            "[0.61538462 0.96153846 0.39215686]\n",
            "DecisionTreeClassifier: Média 65.64% - IC 95%: [18.79%, 100%]\n"
          ]
        }
      ]
    },
    {
      "cell_type": "code",
      "source": [
        "#Aleatoriedade\n",
        "\n",
        "from sklearn.model_selection import cross_validate, KFold, StratifiedKFold\n",
        "SEED = None\n",
        "#SEED = 42\n",
        "np.random.seed(SEED)\n",
        "\n",
        "dfSorted = df.copy()\n",
        "dfSorted.sort_values(alvo, ascending=False, inplace=True) \n",
        "dfSorted.index = range(dfSorted.shape[0])\n",
        "\n",
        "X = dfSorted[preditoras]\n",
        "y = dfSorted[alvo]\n",
        "\n",
        "X_train = X.iloc[0:155]\n",
        "y_train = y.iloc[0:155]\n",
        "X_test = X.iloc[156:]\n",
        "y_test = y.iloc[156:]\n",
        "\n",
        "modelo = DecisionTreeClassifier(max_depth=2)\n",
        "for i in range(5) :\n",
        "  results = cross_validate(modelo, X_train, y_train, cv = StratifiedKFold(n_splits=3, shuffle=False, random_state=SEED))\n",
        "  print(results['test_score'])\n",
        "  print_resultado(modelo, results['test_score'].mean(), results['test_score'].std())"
      ],
      "metadata": {
        "id": "iVFY7Zc7Ot1Q",
        "outputId": "ff53bc19-974a-4351-c698-789f58068db1",
        "colab": {
          "base_uri": "https://localhost:8080/"
        }
      },
      "execution_count": 115,
      "outputs": [
        {
          "output_type": "stream",
          "name": "stdout",
          "text": [
            "[0.96153846 0.94230769 0.82352941]\n",
            "DecisionTreeClassifier: Média 90.91% - IC 95%: [78.71%, 100%]\n",
            "[0.96153846 0.94230769 0.82352941]\n",
            "DecisionTreeClassifier: Média 90.91% - IC 95%: [78.71%, 100%]\n",
            "[0.96153846 0.94230769 0.82352941]\n",
            "DecisionTreeClassifier: Média 90.91% - IC 95%: [78.71%, 100%]\n",
            "[0.96153846 0.94230769 0.82352941]\n",
            "DecisionTreeClassifier: Média 90.91% - IC 95%: [78.71%, 100%]\n",
            "[0.96153846 0.94230769 0.82352941]\n",
            "DecisionTreeClassifier: Média 90.91% - IC 95%: [78.71%, 100%]\n"
          ]
        }
      ]
    },
    {
      "cell_type": "code",
      "source": [
        "from sklearn.model_selection import cross_validate, LeaveOneOut\n",
        "\n",
        "np.random.seed(SEED)\n",
        "#np.random.seed(None)\n",
        "\n",
        "X_train, X_test, y_train, y_test = train_test_split(X, y, test_size=0.30, stratify=y, random_state=SEED)\n",
        "\n",
        "modelo = DecisionTreeClassifier(max_depth=2)\n",
        "for i in range(5) :\n",
        "  results = cross_validate(modelo, X_train, y_train, cv = LeaveOneOut())\n",
        "  print(results['test_score'])\n",
        "  print_resultado(modelo, results['test_score'].mean(), results['test_score'].std())"
      ],
      "metadata": {
        "id": "9UoxN9gxYnMB",
        "outputId": "fc5d8d5c-d8c7-4585-f4f3-988c37967b8a",
        "colab": {
          "base_uri": "https://localhost:8080/"
        }
      },
      "execution_count": 116,
      "outputs": [
        {
          "output_type": "stream",
          "name": "stdout",
          "text": [
            "[1. 1. 1. 1. 1. 1. 1. 1. 0. 1. 1. 1. 1. 1. 1. 1. 1. 1. 1. 1. 1. 1. 1. 0.\n",
            " 1. 1. 1. 1. 1. 1. 1. 1. 0. 1. 1. 1. 0. 0. 1. 1. 1. 1. 1. 1. 1. 1. 1. 1.\n",
            " 1. 1. 1. 0. 1. 1. 1. 0. 1. 1. 1. 1. 1. 1. 1. 1. 1. 1. 0. 1. 1. 0. 1. 1.\n",
            " 1. 1. 1. 1. 1. 1. 1. 1. 1. 1. 1. 1. 1. 1. 1. 1. 1. 1. 1. 1. 1. 1. 1. 1.\n",
            " 0. 1. 1. 1. 1. 1. 1. 1. 1. 1. 1. 1. 1. 1. 0. 1. 1. 1. 1. 1. 1. 1. 1. 1.\n",
            " 1. 1. 1. 1. 1. 1. 1. 1. 1. 1. 1. 1. 1. 1. 1. 1. 1. 1. 0. 1. 1. 1. 1. 1.\n",
            " 1. 1. 1. 1. 1. 1. 1. 1. 1. 1. 1. 0.]\n",
            "DecisionTreeClassifier: Média 91.67% - IC 95%: [36.39%, 100%]\n",
            "[1. 1. 1. 1. 1. 1. 1. 1. 0. 1. 1. 1. 1. 1. 1. 1. 1. 1. 1. 1. 1. 1. 1. 0.\n",
            " 1. 1. 1. 1. 1. 1. 1. 1. 0. 1. 1. 1. 0. 0. 1. 1. 1. 1. 1. 1. 1. 1. 1. 1.\n",
            " 1. 1. 1. 0. 1. 1. 1. 0. 1. 1. 1. 1. 1. 1. 1. 1. 1. 1. 0. 1. 1. 0. 1. 1.\n",
            " 1. 1. 1. 1. 1. 1. 1. 1. 1. 1. 1. 1. 1. 1. 1. 1. 1. 1. 1. 1. 1. 1. 1. 1.\n",
            " 0. 1. 1. 1. 1. 1. 1. 1. 1. 1. 1. 1. 1. 1. 0. 1. 1. 1. 1. 1. 1. 1. 1. 1.\n",
            " 1. 1. 1. 1. 1. 1. 1. 1. 1. 1. 1. 1. 1. 1. 1. 1. 1. 1. 0. 1. 1. 1. 1. 1.\n",
            " 1. 1. 1. 1. 1. 1. 1. 1. 1. 1. 1. 0.]\n",
            "DecisionTreeClassifier: Média 91.67% - IC 95%: [36.39%, 100%]\n",
            "[1. 1. 1. 1. 1. 1. 1. 1. 0. 1. 1. 1. 1. 1. 1. 1. 1. 1. 1. 1. 1. 1. 1. 0.\n",
            " 1. 1. 1. 1. 1. 1. 1. 1. 0. 1. 1. 1. 0. 0. 1. 1. 1. 1. 1. 1. 1. 1. 1. 1.\n",
            " 1. 1. 1. 0. 1. 1. 1. 0. 1. 1. 1. 1. 1. 1. 1. 1. 1. 1. 0. 1. 1. 0. 1. 1.\n",
            " 1. 1. 1. 1. 1. 1. 1. 1. 1. 1. 1. 1. 1. 1. 1. 1. 1. 1. 1. 1. 1. 1. 1. 1.\n",
            " 0. 1. 1. 1. 1. 1. 1. 1. 1. 1. 1. 1. 1. 1. 0. 1. 1. 1. 1. 1. 1. 1. 1. 1.\n",
            " 1. 1. 1. 1. 1. 1. 1. 1. 1. 1. 1. 1. 1. 1. 1. 1. 1. 1. 0. 1. 1. 1. 1. 1.\n",
            " 1. 1. 1. 1. 1. 1. 1. 1. 1. 1. 1. 0.]\n",
            "DecisionTreeClassifier: Média 91.67% - IC 95%: [36.39%, 100%]\n",
            "[1. 1. 1. 1. 1. 1. 1. 1. 0. 1. 1. 1. 1. 1. 1. 1. 1. 1. 1. 1. 1. 1. 1. 0.\n",
            " 1. 1. 1. 1. 1. 1. 1. 1. 0. 1. 1. 1. 0. 0. 1. 1. 1. 1. 1. 1. 1. 1. 1. 1.\n",
            " 1. 1. 1. 0. 1. 1. 1. 0. 1. 1. 1. 1. 1. 1. 1. 1. 1. 1. 0. 1. 1. 0. 1. 1.\n",
            " 1. 1. 1. 1. 1. 1. 1. 1. 1. 1. 1. 1. 1. 1. 1. 1. 1. 1. 1. 1. 1. 1. 1. 1.\n",
            " 0. 1. 1. 1. 1. 1. 1. 1. 1. 1. 1. 1. 1. 1. 0. 1. 1. 1. 1. 1. 1. 1. 1. 1.\n",
            " 1. 1. 1. 1. 1. 1. 1. 1. 1. 1. 1. 1. 1. 1. 1. 1. 1. 1. 0. 1. 1. 1. 1. 1.\n",
            " 1. 1. 1. 1. 1. 1. 1. 1. 1. 1. 1. 0.]\n",
            "DecisionTreeClassifier: Média 91.67% - IC 95%: [36.39%, 100%]\n",
            "[1. 1. 1. 1. 1. 1. 1. 1. 0. 1. 1. 1. 1. 1. 1. 1. 1. 1. 1. 1. 1. 1. 1. 0.\n",
            " 1. 1. 1. 1. 1. 1. 1. 1. 0. 1. 1. 1. 0. 0. 1. 1. 1. 1. 1. 1. 1. 1. 1. 1.\n",
            " 1. 1. 1. 0. 1. 1. 1. 0. 1. 1. 1. 1. 1. 1. 1. 1. 1. 1. 0. 1. 1. 0. 1. 1.\n",
            " 1. 1. 1. 1. 1. 1. 1. 1. 1. 1. 1. 1. 1. 1. 1. 1. 1. 1. 1. 1. 1. 1. 1. 1.\n",
            " 0. 1. 1. 1. 1. 1. 1. 1. 1. 1. 1. 1. 1. 1. 0. 1. 1. 1. 1. 1. 1. 1. 1. 1.\n",
            " 1. 1. 1. 1. 1. 1. 1. 1. 1. 1. 1. 1. 1. 1. 1. 1. 1. 1. 0. 1. 1. 1. 1. 1.\n",
            " 1. 1. 1. 1. 1. 1. 1. 1. 1. 1. 1. 0.]\n",
            "DecisionTreeClassifier: Média 91.67% - IC 95%: [36.39%, 100%]\n"
          ]
        }
      ]
    }
  ]
}