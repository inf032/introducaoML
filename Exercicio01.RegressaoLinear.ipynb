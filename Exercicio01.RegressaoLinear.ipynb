{
 "cells": [
  {
   "cell_type": "code",
   "execution_count": 19,
   "id": "09125ff1",
   "metadata": {},
   "outputs": [],
   "source": [
    "from sklearn.linear_model import LinearRegression\n",
    "import pandas as pd\n",
    "import numpy as np\n",
    "import seaborn as sns\n",
    "from matplotlib.gridspec import GridSpec\n",
    "import matplotlib.pyplot as plt\n",
    "from sklearn.model_selection import train_test_split\n",
    "from sklearn.metrics import  mean_squared_error, r2_score"
   ]
  },
  {
   "cell_type": "code",
   "execution_count": 20,
   "id": "68a73151",
   "metadata": {},
   "outputs": [],
   "source": [
    "dataFrame = pd.read_csv('data/global-food.csv')"
   ]
  },
  {
   "cell_type": "code",
   "execution_count": 21,
   "id": "e29ac76a",
   "metadata": {},
   "outputs": [
    {
     "data": {
      "text/html": [
       "<div>\n",
       "<style scoped>\n",
       "    .dataframe tbody tr th:only-of-type {\n",
       "        vertical-align: middle;\n",
       "    }\n",
       "\n",
       "    .dataframe tbody tr th {\n",
       "        vertical-align: top;\n",
       "    }\n",
       "\n",
       "    .dataframe thead th {\n",
       "        text-align: right;\n",
       "    }\n",
       "</style>\n",
       "<table border=\"1\" class=\"dataframe\">\n",
       "  <thead>\n",
       "    <tr style=\"text-align: right;\">\n",
       "      <th></th>\n",
       "      <th>Country</th>\n",
       "      <th>Protein</th>\n",
       "      <th>Calories</th>\n",
       "    </tr>\n",
       "  </thead>\n",
       "  <tbody>\n",
       "    <tr>\n",
       "      <th>0</th>\n",
       "      <td>Afghanistan</td>\n",
       "      <td>55.520000</td>\n",
       "      <td>2040.000000</td>\n",
       "    </tr>\n",
       "    <tr>\n",
       "      <th>1</th>\n",
       "      <td>Africa</td>\n",
       "      <td>68.112344</td>\n",
       "      <td>2604.253905</td>\n",
       "    </tr>\n",
       "    <tr>\n",
       "      <th>2</th>\n",
       "      <td>Albania</td>\n",
       "      <td>115.739998</td>\n",
       "      <td>3360.000000</td>\n",
       "    </tr>\n",
       "    <tr>\n",
       "      <th>3</th>\n",
       "      <td>Algeria</td>\n",
       "      <td>91.830002</td>\n",
       "      <td>3322.000000</td>\n",
       "    </tr>\n",
       "    <tr>\n",
       "      <th>4</th>\n",
       "      <td>Angola</td>\n",
       "      <td>53.049999</td>\n",
       "      <td>2385.000000</td>\n",
       "    </tr>\n",
       "    <tr>\n",
       "      <th>...</th>\n",
       "      <td>...</td>\n",
       "      <td>...</td>\n",
       "      <td>...</td>\n",
       "    </tr>\n",
       "    <tr>\n",
       "      <th>180</th>\n",
       "      <td>Vietnam</td>\n",
       "      <td>98.580002</td>\n",
       "      <td>3025.000000</td>\n",
       "    </tr>\n",
       "    <tr>\n",
       "      <th>181</th>\n",
       "      <td>World</td>\n",
       "      <td>82.865269</td>\n",
       "      <td>2928.399523</td>\n",
       "    </tr>\n",
       "    <tr>\n",
       "      <th>182</th>\n",
       "      <td>Yemen</td>\n",
       "      <td>54.520000</td>\n",
       "      <td>2154.000000</td>\n",
       "    </tr>\n",
       "    <tr>\n",
       "      <th>183</th>\n",
       "      <td>Zambia</td>\n",
       "      <td>60.529999</td>\n",
       "      <td>2002.000000</td>\n",
       "    </tr>\n",
       "    <tr>\n",
       "      <th>184</th>\n",
       "      <td>Zimbabwe</td>\n",
       "      <td>44.150002</td>\n",
       "      <td>1908.000000</td>\n",
       "    </tr>\n",
       "  </tbody>\n",
       "</table>\n",
       "<p>185 rows × 3 columns</p>\n",
       "</div>"
      ],
      "text/plain": [
       "         Country     Protein     Calories\n",
       "0    Afghanistan   55.520000  2040.000000\n",
       "1         Africa   68.112344  2604.253905\n",
       "2        Albania  115.739998  3360.000000\n",
       "3        Algeria   91.830002  3322.000000\n",
       "4         Angola   53.049999  2385.000000\n",
       "..           ...         ...          ...\n",
       "180      Vietnam   98.580002  3025.000000\n",
       "181        World   82.865269  2928.399523\n",
       "182        Yemen   54.520000  2154.000000\n",
       "183       Zambia   60.529999  2002.000000\n",
       "184     Zimbabwe   44.150002  1908.000000\n",
       "\n",
       "[185 rows x 3 columns]"
      ]
     },
     "execution_count": 21,
     "metadata": {},
     "output_type": "execute_result"
    }
   ],
   "source": [
    "dfFood = dataFrame.query('Year==2018')[['Country', 'Food supply (Protein g per capita per day)', 'Food supply (kcal per capita per day)']]\n",
    "dfFood.index = range(dfFood.shape[0])\n",
    "dfFood.columns = ['Country', 'Protein', 'Calories']\n",
    "dfFood"
   ]
  },
  {
   "cell_type": "code",
   "execution_count": 22,
   "id": "234872c9",
   "metadata": {},
   "outputs": [],
   "source": [
    "dataFrame = pd.read_csv('data/gdp-per-capita.csv',)\n",
    "\n",
    "dfGDP = dataFrame.query('Year==2018')[['Entity', 'GDP per capita, PPP (constant 2017 international $)']]\n",
    "dfGDP.columns = ['Country', 'GDP']\n",
    "dfGDP.index = range(dfGDP.shape[0])\n",
    "\n"
   ]
  },
  {
   "cell_type": "code",
   "execution_count": 23,
   "id": "dc9cc85c",
   "metadata": {},
   "outputs": [
    {
     "data": {
      "text/html": [
       "<div>\n",
       "<style scoped>\n",
       "    .dataframe tbody tr th:only-of-type {\n",
       "        vertical-align: middle;\n",
       "    }\n",
       "\n",
       "    .dataframe tbody tr th {\n",
       "        vertical-align: top;\n",
       "    }\n",
       "\n",
       "    .dataframe thead th {\n",
       "        text-align: right;\n",
       "    }\n",
       "</style>\n",
       "<table border=\"1\" class=\"dataframe\">\n",
       "  <thead>\n",
       "    <tr style=\"text-align: right;\">\n",
       "      <th></th>\n",
       "      <th>Country</th>\n",
       "      <th>GDP</th>\n",
       "      <th>Protein</th>\n",
       "      <th>Calories</th>\n",
       "    </tr>\n",
       "  </thead>\n",
       "  <tbody>\n",
       "    <tr>\n",
       "      <th>0</th>\n",
       "      <td>Afghanistan</td>\n",
       "      <td>2033.804443</td>\n",
       "      <td>55.520000</td>\n",
       "      <td>2040.000000</td>\n",
       "    </tr>\n",
       "    <tr>\n",
       "      <th>1</th>\n",
       "      <td>Albania</td>\n",
       "      <td>13317.092773</td>\n",
       "      <td>115.739998</td>\n",
       "      <td>3360.000000</td>\n",
       "    </tr>\n",
       "    <tr>\n",
       "      <th>2</th>\n",
       "      <td>Algeria</td>\n",
       "      <td>11630.679688</td>\n",
       "      <td>91.830002</td>\n",
       "      <td>3322.000000</td>\n",
       "    </tr>\n",
       "    <tr>\n",
       "      <th>3</th>\n",
       "      <td>Angola</td>\n",
       "      <td>6933.500000</td>\n",
       "      <td>53.049999</td>\n",
       "      <td>2385.000000</td>\n",
       "    </tr>\n",
       "    <tr>\n",
       "      <th>4</th>\n",
       "      <td>Antigua and Barbuda</td>\n",
       "      <td>21017.263672</td>\n",
       "      <td>80.190002</td>\n",
       "      <td>2445.000000</td>\n",
       "    </tr>\n",
       "    <tr>\n",
       "      <th>...</th>\n",
       "      <td>...</td>\n",
       "      <td>...</td>\n",
       "      <td>...</td>\n",
       "      <td>...</td>\n",
       "    </tr>\n",
       "    <tr>\n",
       "      <th>203</th>\n",
       "      <td>Vanuatu</td>\n",
       "      <td>3093.461426</td>\n",
       "      <td>63.950001</td>\n",
       "      <td>2607.000000</td>\n",
       "    </tr>\n",
       "    <tr>\n",
       "      <th>204</th>\n",
       "      <td>Vietnam</td>\n",
       "      <td>7585.943359</td>\n",
       "      <td>98.580002</td>\n",
       "      <td>3025.000000</td>\n",
       "    </tr>\n",
       "    <tr>\n",
       "      <th>205</th>\n",
       "      <td>World</td>\n",
       "      <td>16607.765625</td>\n",
       "      <td>82.865269</td>\n",
       "      <td>2928.399523</td>\n",
       "    </tr>\n",
       "    <tr>\n",
       "      <th>206</th>\n",
       "      <td>Zambia</td>\n",
       "      <td>3521.545898</td>\n",
       "      <td>60.529999</td>\n",
       "      <td>2002.000000</td>\n",
       "    </tr>\n",
       "    <tr>\n",
       "      <th>207</th>\n",
       "      <td>Zimbabwe</td>\n",
       "      <td>3923.030518</td>\n",
       "      <td>44.150002</td>\n",
       "      <td>1908.000000</td>\n",
       "    </tr>\n",
       "  </tbody>\n",
       "</table>\n",
       "<p>208 rows × 4 columns</p>\n",
       "</div>"
      ],
      "text/plain": [
       "                 Country           GDP     Protein     Calories\n",
       "0            Afghanistan   2033.804443   55.520000  2040.000000\n",
       "1                Albania  13317.092773  115.739998  3360.000000\n",
       "2                Algeria  11630.679688   91.830002  3322.000000\n",
       "3                 Angola   6933.500000   53.049999  2385.000000\n",
       "4    Antigua and Barbuda  21017.263672   80.190002  2445.000000\n",
       "..                   ...           ...         ...          ...\n",
       "203              Vanuatu   3093.461426   63.950001  2607.000000\n",
       "204              Vietnam   7585.943359   98.580002  3025.000000\n",
       "205                World  16607.765625   82.865269  2928.399523\n",
       "206               Zambia   3521.545898   60.529999  2002.000000\n",
       "207             Zimbabwe   3923.030518   44.150002  1908.000000\n",
       "\n",
       "[208 rows x 4 columns]"
      ]
     },
     "execution_count": 23,
     "metadata": {},
     "output_type": "execute_result"
    }
   ],
   "source": [
    "dataFrame = dfGDP.join(dfFood.set_index('Country'), on='Country')\n",
    "dataFrame"
   ]
  },
  {
   "cell_type": "code",
   "execution_count": 24,
   "id": "16dada31",
   "metadata": {
    "scrolled": false
   },
   "outputs": [
    {
     "data": {
      "image/png": "[encoded data removed]",
      "text/plain": [
       "<Figure size 468x468 with 1 Axes>"
      ]
     },
     "metadata": {
      "needs_background": "light"
     },
     "output_type": "display_data"
    }
   ],
   "source": [
    "f, ax = plt.subplots(figsize=(6.5, 6.5))\n",
    "\n",
    "ax.set_title('Relação entre Consumo de Proteínas e Calorias Ingeridas', fontsize=18)\n",
    "ax.set_xlabel('Proteina por pessoa por dia', loc='right', fontsize=10)\n",
    "ax.set_ylabel('Caloria por pessoa por dia', loc='center', fontsize=10)\n",
    "\n",
    "ax.set_xlim(xmin=0, xmax=(dataFrame.Protein.max() * 1.1))\n",
    "ax.set_ylim(ymin=0, ymax=(dataFrame.Calories.max() * 1.1))\n",
    "\n",
    "sns.scatterplot(data=dataFrame, x='Protein', y='Calories', ax=ax)\n",
    "\n",
    "plt.show()"
   ]
  },
  {
   "cell_type": "markdown",
   "id": "d44a5007",
   "metadata": {},
   "source": [
    "<h3>Treino e Teste no mesmo dataset</h3>\n"
   ]
  },
  {
   "cell_type": "code",
   "execution_count": 25,
   "id": "d16a8661",
   "metadata": {},
   "outputs": [
    {
     "data": {
      "text/html": [
       "<div>\n",
       "<style scoped>\n",
       "    .dataframe tbody tr th:only-of-type {\n",
       "        vertical-align: middle;\n",
       "    }\n",
       "\n",
       "    .dataframe tbody tr th {\n",
       "        vertical-align: top;\n",
       "    }\n",
       "\n",
       "    .dataframe thead th {\n",
       "        text-align: right;\n",
       "    }\n",
       "</style>\n",
       "<table border=\"1\" class=\"dataframe\">\n",
       "  <thead>\n",
       "    <tr style=\"text-align: right;\">\n",
       "      <th></th>\n",
       "      <th>Country</th>\n",
       "      <th>GDP</th>\n",
       "      <th>Protein</th>\n",
       "      <th>Calories</th>\n",
       "    </tr>\n",
       "  </thead>\n",
       "  <tbody>\n",
       "    <tr>\n",
       "      <th>0</th>\n",
       "      <td>Afghanistan</td>\n",
       "      <td>2033.804443</td>\n",
       "      <td>55.520000</td>\n",
       "      <td>2040.000000</td>\n",
       "    </tr>\n",
       "    <tr>\n",
       "      <th>1</th>\n",
       "      <td>Albania</td>\n",
       "      <td>13317.092773</td>\n",
       "      <td>115.739998</td>\n",
       "      <td>3360.000000</td>\n",
       "    </tr>\n",
       "    <tr>\n",
       "      <th>2</th>\n",
       "      <td>Algeria</td>\n",
       "      <td>11630.679688</td>\n",
       "      <td>91.830002</td>\n",
       "      <td>3322.000000</td>\n",
       "    </tr>\n",
       "    <tr>\n",
       "      <th>3</th>\n",
       "      <td>Angola</td>\n",
       "      <td>6933.500000</td>\n",
       "      <td>53.049999</td>\n",
       "      <td>2385.000000</td>\n",
       "    </tr>\n",
       "    <tr>\n",
       "      <th>4</th>\n",
       "      <td>Antigua and Barbuda</td>\n",
       "      <td>21017.263672</td>\n",
       "      <td>80.190002</td>\n",
       "      <td>2445.000000</td>\n",
       "    </tr>\n",
       "    <tr>\n",
       "      <th>...</th>\n",
       "      <td>...</td>\n",
       "      <td>...</td>\n",
       "      <td>...</td>\n",
       "      <td>...</td>\n",
       "    </tr>\n",
       "    <tr>\n",
       "      <th>162</th>\n",
       "      <td>Vanuatu</td>\n",
       "      <td>3093.461426</td>\n",
       "      <td>63.950001</td>\n",
       "      <td>2607.000000</td>\n",
       "    </tr>\n",
       "    <tr>\n",
       "      <th>163</th>\n",
       "      <td>Vietnam</td>\n",
       "      <td>7585.943359</td>\n",
       "      <td>98.580002</td>\n",
       "      <td>3025.000000</td>\n",
       "    </tr>\n",
       "    <tr>\n",
       "      <th>164</th>\n",
       "      <td>World</td>\n",
       "      <td>16607.765625</td>\n",
       "      <td>82.865269</td>\n",
       "      <td>2928.399523</td>\n",
       "    </tr>\n",
       "    <tr>\n",
       "      <th>165</th>\n",
       "      <td>Zambia</td>\n",
       "      <td>3521.545898</td>\n",
       "      <td>60.529999</td>\n",
       "      <td>2002.000000</td>\n",
       "    </tr>\n",
       "    <tr>\n",
       "      <th>166</th>\n",
       "      <td>Zimbabwe</td>\n",
       "      <td>3923.030518</td>\n",
       "      <td>44.150002</td>\n",
       "      <td>1908.000000</td>\n",
       "    </tr>\n",
       "  </tbody>\n",
       "</table>\n",
       "<p>167 rows × 4 columns</p>\n",
       "</div>"
      ],
      "text/plain": [
       "                 Country           GDP     Protein     Calories\n",
       "0            Afghanistan   2033.804443   55.520000  2040.000000\n",
       "1                Albania  13317.092773  115.739998  3360.000000\n",
       "2                Algeria  11630.679688   91.830002  3322.000000\n",
       "3                 Angola   6933.500000   53.049999  2385.000000\n",
       "4    Antigua and Barbuda  21017.263672   80.190002  2445.000000\n",
       "..                   ...           ...         ...          ...\n",
       "162              Vanuatu   3093.461426   63.950001  2607.000000\n",
       "163              Vietnam   7585.943359   98.580002  3025.000000\n",
       "164                World  16607.765625   82.865269  2928.399523\n",
       "165               Zambia   3521.545898   60.529999  2002.000000\n",
       "166             Zimbabwe   3923.030518   44.150002  1908.000000\n",
       "\n",
       "[167 rows x 4 columns]"
      ]
     },
     "execution_count": 25,
     "metadata": {},
     "output_type": "execute_result"
    }
   ],
   "source": [
    "dataFrame[dataFrame.Protein.isna() == True]\n",
    "dataFrame.dropna(axis='index', inplace=True)\n",
    "dataFrame.index = range(dataFrame.shape[0])\n",
    "dataFrame"
   ]
  },
  {
   "cell_type": "code",
   "execution_count": 26,
   "id": "226f5656",
   "metadata": {},
   "outputs": [
    {
     "name": "stdout",
     "output_type": "stream",
     "text": [
      "Coeficiente Angular: 19.334\n",
      "Coeficiente Linear: 1293.247\n"
     ]
    }
   ],
   "source": [
    "lr = LinearRegression().fit(X=dataFrame[['Protein']], y=dataFrame.Calories)\n",
    "print(f'Coeficiente Angular: {lr.coef_[0].round(3)}')\n",
    "print(f'Coeficiente Linear: {lr.intercept_.round(3)}')\n"
   ]
  },
  {
   "cell_type": "code",
   "execution_count": 27,
   "id": "88d0df95",
   "metadata": {
    "scrolled": false
   },
   "outputs": [
    {
     "data": {
      "image/png": "[encoded data removed]",
      "text/plain": [
       "<Figure size 468x468 with 1 Axes>"
      ]
     },
     "metadata": {
      "needs_background": "light"
     },
     "output_type": "display_data"
    }
   ],
   "source": [
    "f, ax = plt.subplots(figsize=(6.5, 6.5))\n",
    "\n",
    "ax.set_title('Relação entre Consumo de Proteínas e Calorias Ingeridas', fontsize=18)\n",
    "ax.set_xlabel('Proteina por pessoa por dia', loc='right', fontsize=10)\n",
    "ax.set_ylabel('Caloria por pessoa por dia', loc='center', fontsize=10)\n",
    "\n",
    "ax.set_xlim(xmin=0, xmax=(dataFrame.Protein.max() * 1.1))\n",
    "ax.set_ylim(ymin=0, ymax=(dataFrame.Calories.max() * 1.1))\n",
    "\n",
    "sns.scatterplot(data=dataFrame, x='Protein', y='Calories', ax=ax)\n",
    "sns.lineplot(x=dataFrame.Protein, y = lr.predict(dataFrame[['Protein']]), color=\"red\")\n",
    "\n",
    "\n",
    "plt.show()"
   ]
  },
  {
   "cell_type": "code",
   "execution_count": 28,
   "id": "2f06c1bd",
   "metadata": {},
   "outputs": [
    {
     "name": "stdout",
     "output_type": "stream",
     "text": [
      "Coeficiente de Determinação :0.79.\n",
      "Erro médio quadrático : 40288.99.\n",
      "Raiz do Erro médio quadrático : 200.72.\n",
      "Media do consumo de Calorias: 2834.42\n",
      "Erro percentual do preditor: 7.08%\n"
     ]
    }
   ],
   "source": [
    "X_train, X_test, y_train, y_test = train_test_split(dataFrame[['Protein']], dataFrame.Calories, test_size=0.33, random_state=1234)\n",
    "\n",
    "cal_pred = lr.predict(X_test)\n",
    "cal_real = y_test\n",
    "\n",
    "\n",
    "\n",
    "print(f'Coeficiente de Determinação :{r2_score(cal_real, cal_pred).round(2)}.')\n",
    "print(f'Erro médio quadrático : {mean_squared_error(cal_real, cal_pred).round(2)}.')\n",
    "print(f'Raiz do Erro médio quadrático : {np.sqrt(mean_squared_error(cal_real, cal_pred)).round(2)}.')\n",
    "print(f'Media do consumo de Calorias: {np.round(np.mean(cal_real), 2)}')\n",
    "print(f'Erro percentual do preditor: {np.round(np.sqrt(mean_squared_error(cal_real, cal_pred)) / np.mean(cal_real) * 100, 2)}%')\n",
    "\n"
   ]
  },
  {
   "cell_type": "code",
   "execution_count": 29,
   "id": "5d64b147",
   "metadata": {},
   "outputs": [
    {
     "name": "stdout",
     "output_type": "stream",
     "text": [
      "Coeficiente Angular: 19.189\n",
      "Coeficiente Linear: 1315.425\n"
     ]
    }
   ],
   "source": [
    "X_train, X_test, y_train, y_test = train_test_split(dataFrame[['Protein']], dataFrame.Calories, test_size=0.33, random_state=1234)\n",
    "\n",
    "lr = LinearRegression().fit(X=X_train, y=y_train)\n",
    "print(f'Coeficiente Angular: {lr.coef_[0].round(3)}')\n",
    "print(f'Coeficiente Linear: {lr.intercept_.round(3)}')"
   ]
  },
  {
   "cell_type": "code",
   "execution_count": 30,
   "id": "85d6c87d",
   "metadata": {},
   "outputs": [
    {
     "data": {
      "image/png": "[encoded data removed]",
      "text/plain": [
       "<Figure size 468x468 with 1 Axes>"
      ]
     },
     "metadata": {
      "needs_background": "light"
     },
     "output_type": "display_data"
    }
   ],
   "source": [
    "f, ax = plt.subplots(figsize=(6.5, 6.5))\n",
    "\n",
    "ax.set_title('Relação entre Consumo de Proteínas e Calorias Ingeridas', fontsize=18)\n",
    "ax.set_xlabel('Proteina por pessoa por dia', loc='right', fontsize=10)\n",
    "ax.set_ylabel('Caloria por pessoa por dia', loc='center', fontsize=10)\n",
    "\n",
    "sns.scatterplot(x=X_train.Protein, y=y_train, ax=ax)\n",
    "\n",
    "sns.lineplot(x=X_train.Protein, y = lr.predict(X_train), color=\"red\")\n",
    "\n",
    "plt.show()"
   ]
  },
  {
   "cell_type": "code",
   "execution_count": 31,
   "id": "b930ab91",
   "metadata": {},
   "outputs": [
    {
     "name": "stdout",
     "output_type": "stream",
     "text": [
      "Coeficiente de Determinação :0.78.\n",
      "Erro médio quadrático : 40848.09.\n",
      "Raiz do Erro médio quadrático : 202.11.\n",
      "Media do consumo de Calorias: 2834.42\n",
      "Erro percentual do preditor: 7.13%\n"
     ]
    }
   ],
   "source": [
    "cal_pred = lr.predict(X_test)\n",
    "cal_real = y_test\n",
    "\n",
    "\n",
    "print(f'Coeficiente de Determinação :{r2_score(cal_real, cal_pred).round(2)}.')\n",
    "print(f'Erro médio quadrático : {mean_squared_error(cal_real, cal_pred).round(2)}.')\n",
    "print(f'Raiz do Erro médio quadrático : {np.sqrt(mean_squared_error(cal_real, cal_pred)).round(2)}.')\n",
    "print(f'Media do consumo de Calorias: {np.round(np.mean(cal_real), 2)}')\n",
    "print(f'Erro percentual do preditor: {np.round(np.sqrt(mean_squared_error(cal_real, cal_pred)) / np.mean(cal_real) * 100, 2)}%')\n"
   ]
  },
  {
   "cell_type": "code",
   "execution_count": 32,
   "id": "cce26f8b",
   "metadata": {},
   "outputs": [
    {
     "data": {
      "text/html": [
       "<div>\n",
       "<style scoped>\n",
       "    .dataframe tbody tr th:only-of-type {\n",
       "        vertical-align: middle;\n",
       "    }\n",
       "\n",
       "    .dataframe tbody tr th {\n",
       "        vertical-align: top;\n",
       "    }\n",
       "\n",
       "    .dataframe thead th {\n",
       "        text-align: right;\n",
       "    }\n",
       "</style>\n",
       "<table border=\"1\" class=\"dataframe\">\n",
       "  <thead>\n",
       "    <tr style=\"text-align: right;\">\n",
       "      <th></th>\n",
       "      <th>Protein</th>\n",
       "      <th>Cal_Real</th>\n",
       "      <th>Cal_Predict</th>\n",
       "      <th>Error</th>\n",
       "    </tr>\n",
       "  </thead>\n",
       "  <tbody>\n",
       "    <tr>\n",
       "      <th>0</th>\n",
       "      <td>58.160000</td>\n",
       "      <td>2285.0</td>\n",
       "      <td>2431.448384</td>\n",
       "      <td>-146.448384</td>\n",
       "    </tr>\n",
       "    <tr>\n",
       "      <th>1</th>\n",
       "      <td>59.130001</td>\n",
       "      <td>2188.0</td>\n",
       "      <td>2450.061587</td>\n",
       "      <td>-262.061587</td>\n",
       "    </tr>\n",
       "    <tr>\n",
       "      <th>2</th>\n",
       "      <td>81.290001</td>\n",
       "      <td>2235.0</td>\n",
       "      <td>2875.286399</td>\n",
       "      <td>-640.286399</td>\n",
       "    </tr>\n",
       "    <tr>\n",
       "      <th>3</th>\n",
       "      <td>106.559998</td>\n",
       "      <td>3503.0</td>\n",
       "      <td>3360.188459</td>\n",
       "      <td>142.811541</td>\n",
       "    </tr>\n",
       "    <tr>\n",
       "      <th>4</th>\n",
       "      <td>72.980003</td>\n",
       "      <td>2578.0</td>\n",
       "      <td>2715.827141</td>\n",
       "      <td>-137.827141</td>\n",
       "    </tr>\n",
       "  </tbody>\n",
       "</table>\n",
       "</div>"
      ],
      "text/plain": [
       "      Protein  Cal_Real  Cal_Predict       Error\n",
       "0   58.160000    2285.0  2431.448384 -146.448384\n",
       "1   59.130001    2188.0  2450.061587 -262.061587\n",
       "2   81.290001    2235.0  2875.286399 -640.286399\n",
       "3  106.559998    3503.0  3360.188459  142.811541\n",
       "4   72.980003    2578.0  2715.827141 -137.827141"
      ]
     },
     "execution_count": 32,
     "metadata": {},
     "output_type": "execute_result"
    }
   ],
   "source": [
    "dataError= pd.DataFrame(X_test)\n",
    "dataError['Cal_Real'] = y_test\n",
    "dataError['Cal_Predict'] = cal_pred\n",
    "\n",
    "dataError['Error'] = dataError['Cal_Real'] - dataError['Cal_Predict']\n",
    "\n",
    "dataError.index = range(dataError.shape[0])\n",
    "\n",
    "dataError.head()"
   ]
  },
  {
   "cell_type": "code",
   "execution_count": 34,
   "id": "6cb6695d",
   "metadata": {},
   "outputs": [
    {
     "data": {
      "image/png": "[encoded data removed]",
      "text/plain": [
       "<Figure size 720x360 with 2 Axes>"
      ]
     },
     "metadata": {
      "needs_background": "light"
     },
     "output_type": "display_data"
    }
   ],
   "source": [
    "fig = plt.figure(constrained_layout=True)\n",
    "gs = GridSpec(1, 2, figure=fig)\n",
    "fig.set_size_inches(10,5)\n",
    "\n",
    "ax0 = fig.add_subplot(gs[0, 0])\n",
    "ax1 = fig.add_subplot(gs[0, 1])\n",
    "\n",
    "ax0.set_title('Erro de Predição x Caloria', fontsize=12)\n",
    "ax0.set_xlabel('Caloria por pessoa por dia', loc='right', fontsize=10)\n",
    "ax0.set_ylabel('Erro', loc='center', fontsize=10)\n",
    "ax0.set_ylim(ymin=-650, ymax=650)\n",
    "ax0.tick_params(labelsize=8)\n",
    "\n",
    "ax0 = sns.scatterplot(x=dataError.Cal_Real, y= dataError.Error, ax=ax0)\n",
    "ax0.axhline(0)\n",
    "\n",
    "\n",
    "ax1.set_title('Distribuição do Erro de Predição', fontsize=12)\n",
    "ax1.set_xlabel('Erro', loc='right', fontsize=10)\n",
    "ax1.set_ylabel('Quantidade', loc='center', fontsize=10)\n",
    "ax1.set_xlim(xmin=-650, xmax=650)\n",
    "ax1.tick_params(labelsize=8)\n",
    "\n",
    "sns.histplot(data=dataError, x=\"Error\", bins=10, ax=ax1)\n",
    "\n",
    "plt.show()"
   ]
  },
  {
   "cell_type": "code",
   "execution_count": null,
   "id": "b402975a",
   "metadata": {},
   "outputs": [],
   "source": []
  }
 ],
 "metadata": {
  "kernelspec": {
   "display_name": "Python 3 (ipykernel)",
   "language": "python",
   "name": "python3"
  },
  "language_info": {
   "codemirror_mode": {
    "name": "ipython",
    "version": 3
   },
   "file_extension": ".py",
   "mimetype": "text/x-python",
   "name": "python",
   "nbconvert_exporter": "python",
   "pygments_lexer": "ipython3",
   "version": "3.8.12"
  }
 },
 "nbformat": 4,
 "nbformat_minor": 5
}
