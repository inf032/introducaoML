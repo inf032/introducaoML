{
  "nbformat": 4,
  "nbformat_minor": 0,
  "metadata": {
    "colab": {
      "provenance": [],
      "authorship_tag": "ABX9TyMnsDhJJoz2kN/TdxFhGe5A",
      "include_colab_link": true
    },
    "kernelspec": {
      "name": "python3",
      "display_name": "Python 3"
    },
    "language_info": {
      "name": "python"
    }
  },
  "cells": [
    {
      "cell_type": "markdown",
      "metadata": {
        "id": "view-in-github",
        "colab_type": "text"
      },
      "source": [
        "<a href=\"https://colab.research.google.com/github/inf032/introducaoML/blob/master/ENEM.ipynb\" target=\"_parent\"><img src=\"https://colab.research.google.com/assets/colab-badge.svg\" alt=\"Open In Colab\"/></a>"
      ]
    },
    {
      "cell_type": "code",
      "execution_count": 1,
      "metadata": {
        "id": "eT1YS-boBYFo"
      },
      "outputs": [],
      "source": [
        "import pandas as pd\n",
        "import numpy as np\n",
        "from sklearn.base import BaseEstimator, TransformerMixin\n",
        "from sklearn.impute import KNNImputer\n",
        "from sklearn.impute._base import _BaseImputer\n",
        "from sklearn.model_selection import train_test_split\n",
        "from sklearn.pipeline import Pipeline\n",
        "from sklearn.compose import ColumnTransformer\n",
        "from sklearn.preprocessing import OneHotEncoder\n",
        "from sklearn.preprocessing import OrdinalEncoder\n",
        "from sklearn.preprocessing import StandardScaler\n",
        "from sklearn.impute import SimpleImputer\n",
        "import warnings"
      ]
    },
    {
      "cell_type": "code",
      "source": [
        "class ImputerWithMissingMark (BaseEstimator, TransformerMixin):\n",
        "\n",
        "    def transformColunas_IMPUTED(self, X) -> pd.DataFrame :\n",
        "      copia = X.copy()\n",
        "      for col in self.col_name_with_nan :\n",
        "          copia[f'{col}{self.postfix}'] = copia[col].isna().astype(int)\n",
        "      return copia      \n",
        "\n",
        "    def col_with_nan(self, X) -> list:\n",
        "      list_col_with_nan = []\n",
        "      copia = X.copy()\n",
        "      for col in copia.columns :\n",
        "        if(copia[col].isna().sum() > 0) :\n",
        "          list_col_with_nan.append(col)\n",
        "      return list_col_with_nan\n",
        "\n",
        "    def col_num_with_nan(self, X) -> list:\n",
        "      cols = X.shape[1]\n",
        "      list_col_with_nan = []\n",
        "      for col in range(cols):    \n",
        "          if(np.count_nonzero(np.isnan(X[:,col])) > 0) :  \n",
        "              list_col_with_nan.append(col)\n",
        "      return list_col_with_nan        \n",
        "\n",
        "    def __init__(self, imputer=KNNImputer(), postfix = '_IMPUTED'):\n",
        "      self.imputer = imputer\n",
        "      self.col_name = None\n",
        "      self.fitted = False\n",
        "      self.col_name_with_nan = None\n",
        "      self.col_number_with_nan = None\n",
        "      self.postfix = postfix\n",
        "\n",
        "    def fit_DF(self, X):\n",
        "      self.col_name = X.columns.values\n",
        "      self.col_name_with_nan = self.col_with_nan(X)\n",
        "\n",
        "    def fit_NP(self, X):\n",
        "      self.col_number_with_nan = self.col_num_with_nan(X)\n",
        "\n",
        "    def transform_DF(self, X):\n",
        "      copia = self.transformColunas_IMPUTED(X)\n",
        "      transformed = pd.DataFrame(self.imputer.transform(copia[self.col_name]))\n",
        "      transformed.columns = X.columns\n",
        "      transformed.index = X.index\n",
        "      for col in self.col_name_with_nan :\n",
        "        transformed[f'{col}{self.postfix}'] = copia[f'{col}{self.postfix}']\n",
        "      return transformed\n",
        "\n",
        "    def transform_NP(self, X):\n",
        "      transformed = np.copy(X)\n",
        "      vazio = np.zeros(shape=(X.shape[0], len(self.col_number_with_nan)))\n",
        "      for col in self.col_number_with_nan:\n",
        "        a_nan = [1 if np.isnan(x) else 0 for x in transformed[:,col]]\n",
        "        vazio = np.append(vazio, np.c_[a_nan], axis = 1)\n",
        "      transformed = self.imputer.transform(transformed)  \n",
        "      for col in range(vazio.shape[1]) :\n",
        "        transformed = np.append(transformed, np.c_[vazio[:, col]], axis = 1)\n",
        "      return transformed      \n",
        "\n",
        "    def fit(self, X, y=None):\n",
        "      if(self.fitted == False) :\n",
        "        self.fitted = True\n",
        "        if(type(X) == pd.DataFrame) :\n",
        "          self.fit_DF(X)\n",
        "        else :\n",
        "          self.fit_NP(X)  \n",
        "        self.imputer.fit(X)\n",
        "      return self\n",
        "\n",
        "    def transform(self, X, y=None):\n",
        "      if(self.fitted == True) :\n",
        "        if(self.col_name is not None) :\n",
        "          transformed = self.transform_DF(X)    \n",
        "        else :\n",
        "          transformed = self.transform_NP(X)    \n",
        "        return transformed\n",
        "      else :\n",
        "        return X\n",
        "\n",
        "    def get_params(self, deep=True):\n",
        "      # retorna um dicionário com os atributos e seus respectivos valores\n",
        "      return {\"imputer\": self.imputer, \n",
        "              \"postfix\": self.postfix}\n",
        "      \n",
        "    def set_params(self, **parameters):\n",
        "      # iterando pelos elementos passados e definindo-os na classe\n",
        "      for parameter, value in parameters.items():\n",
        "        setattr(self, parameter, value)\n",
        "      return self "
      ],
      "metadata": {
        "id": "us1p0nI3DAwD"
      },
      "execution_count": 2,
      "outputs": []
    },
    {
      "cell_type": "code",
      "source": [
        "def parse_codigo(codigo) :\n",
        "  if codigo is None :\n",
        "    return np.NaN, np.NaN, np.NaN\n",
        "  regiao = codigo // 1000000\n",
        "  uf = codigo // 100000\n",
        "  municipio = (codigo % 100000) // 10\n",
        "  return regiao, uf, municipio"
      ],
      "metadata": {
        "id": "oDfoPLc1zvAG"
      },
      "execution_count": 3,
      "outputs": []
    },
    {
      "cell_type": "markdown",
      "source": [
        "**Excluindo dados futuros** "
      ],
      "metadata": {
        "id": "l4SP3Y_Yuycr"
      }
    },
    {
      "cell_type": "code",
      "source": [
        "SEED = 48\n",
        "np.random.seed(SEED)\n",
        "warnings.filterwarnings(action='once')\n",
        "\n",
        "dados = pd.read_csv('https://raw.githubusercontent.com/inf032/introducaoML/master/data/microdados_sample.csv')\n",
        "dados['NU_NOTA'] = dados.NU_NOTA_CN + dados.NU_NOTA_CH + dados.NU_NOTA_LC +  dados.NU_NOTA_MT + dados.NU_NOTA_REDACAO\n",
        "\n",
        "dados.drop(columns=['CO_PROVA_CN', 'CO_PROVA_CH', 'CO_PROVA_LC', 'CO_PROVA_MT',\n",
        "                    'TX_RESPOSTAS_CN', 'TX_RESPOSTAS_CH', 'TX_RESPOSTAS_LC',\n",
        "                    'TX_RESPOSTAS_MT', 'TX_GABARITO_CN', 'TX_GABARITO_CH',\n",
        "                    'TX_GABARITO_LC', 'TX_GABARITO_MT',\n",
        "                    'NU_NOTA_COMP1', 'NU_NOTA_COMP2', 'NU_NOTA_COMP3',\n",
        "                    'NU_NOTA_COMP4', 'NU_NOTA_COMP5', 'NU_NOTA_CN', 'NU_NOTA_CH',\n",
        "                    'TP_PRESENCA_CN', 'TP_PRESENCA_CH', 'TP_PRESENCA_LC', 'TP_PRESENCA_MT',\n",
        "                    'NU_NOTA_LC', 'NU_NOTA_MT', 'NU_NOTA_REDACAO', 'TP_STATUS_REDACAO'], inplace=True)\n",
        "\n",
        "dados.dropna(axis='index', subset=['NU_NOTA'], inplace=True)"
      ],
      "metadata": {
        "id": "c-Iuz8R4BZqx"
      },
      "execution_count": 4,
      "outputs": []
    },
    {
      "cell_type": "code",
      "source": [
        "preditoras = ['NU_INSCRICAO', 'NU_ANO', 'CO_MUNICIPIO_RESIDENCIA',\n",
        "              'NO_MUNICIPIO_RESIDENCIA', 'CO_UF_RESIDENCIA', 'SG_UF_RESIDENCIA',\n",
        "              'NU_IDADE', 'TP_SEXO', 'TP_ESTADO_CIVIL', 'TP_COR_RACA', 'TP_NACIONALIDADE',\n",
        "              'CO_MUNICIPIO_NASCIMENTO', 'NO_MUNICIPIO_NASCIMENTO', 'CO_UF_NASCIMENTO',\n",
        "              'SG_UF_NASCIMENTO', 'TP_ST_CONCLUSAO', 'TP_ANO_CONCLUIU', 'TP_ESCOLA',\n",
        "              'TP_ENSINO', 'IN_TREINEIRO', 'CO_ESCOLA', 'CO_MUNICIPIO_ESC',\n",
        "              'NO_MUNICIPIO_ESC', 'CO_UF_ESC', 'SG_UF_ESC', 'TP_DEPENDENCIA_ADM_ESC',\n",
        "              'TP_LOCALIZACAO_ESC', 'TP_SIT_FUNC_ESC', 'IN_BAIXA_VISAO', 'IN_CEGUEIRA',\n",
        "              'IN_SURDEZ', 'IN_DEFICIENCIA_AUDITIVA', 'IN_SURDO_CEGUEIRA',\n",
        "              'IN_DEFICIENCIA_FISICA', 'IN_DEFICIENCIA_MENTAL', 'IN_DEFICIT_ATENCAO',\n",
        "              'IN_DISLEXIA', 'IN_DISCALCULIA', 'IN_AUTISMO', 'IN_VISAO_MONOCULAR',\n",
        "              'IN_OUTRA_DEF', 'IN_GESTANTE', 'IN_LACTANTE', 'IN_IDOSO',\n",
        "              'IN_ESTUDA_CLASSE_HOSPITALAR', 'IN_SEM_RECURSO', 'IN_BRAILLE',\n",
        "              'IN_AMPLIADA_24', 'IN_AMPLIADA_18', 'IN_LEDOR', 'IN_ACESSO', 'IN_TRANSCRICAO',\n",
        "              'IN_LIBRAS', 'IN_TEMPO_ADICIONAL', 'IN_LEITURA_LABIAL',\n",
        "              'IN_MESA_CADEIRA_RODAS', 'IN_MESA_CADEIRA_SEPARADA', 'IN_APOIO_PERNA',\n",
        "              'IN_GUIA_INTERPRETE', 'IN_COMPUTADOR', 'IN_CADEIRA_ESPECIAL',\n",
        "              'IN_CADEIRA_CANHOTO', 'IN_CADEIRA_ACOLCHOADA', 'IN_PROVA_DEITADO',\n",
        "              'IN_MOBILIARIO_OBESO', 'IN_LAMINA_OVERLAY', 'IN_PROTETOR_AURICULAR',\n",
        "              'IN_MEDIDOR_GLICOSE', 'IN_MAQUINA_BRAILE', 'IN_SOROBAN', 'IN_MARCA_PASSO',\n",
        "              'IN_SONDA', 'IN_MEDICAMENTOS', 'IN_SALA_INDIVIDUAL', 'IN_SALA_ESPECIAL',\n",
        "              'IN_SALA_ACOMPANHANTE', 'IN_MOBILIARIO_ESPECIFICO',\n",
        "              'IN_MATERIAL_ESPECIFICO', 'IN_NOME_SOCIAL', 'CO_MUNICIPIO_PROVA',\n",
        "              'NO_MUNICIPIO_PROVA', 'CO_UF_PROVA', 'SG_UF_PROVA', 'TP_LINGUA',\n",
        "              'Q001', 'Q002', 'Q003', 'Q004', 'Q005', 'Q006', 'Q007', 'Q008',\n",
        "              'Q009', 'Q010', 'Q011', 'Q012', 'Q013', 'Q014', 'Q015', 'Q016',\n",
        "              'Q017', 'Q018', 'Q019', 'Q020', 'Q021', 'Q022', 'Q023', 'Q024',\n",
        "              'Q025']\n",
        "\n",
        "alvo = 'NU_NOTA'              "
      ],
      "metadata": {
        "id": "tvtECmTJHg-R"
      },
      "execution_count": 5,
      "outputs": []
    },
    {
      "cell_type": "code",
      "source": [
        "X = dados[preditoras]\n",
        "y = dados[alvo]\n",
        "\n",
        "X_train, X_test, y_train, y_test = train_test_split(X, y, test_size=0.20, random_state=SEED)\n",
        "\n",
        "print(f'Holdout: {X_train.shape[0]} individuos em treino. {X_test.shape[0]} individuos em teste.')\n",
        "\n"
      ],
      "metadata": {
        "id": "59khr0xrs6J7",
        "outputId": "f720542f-779c-4aca-95c5-8d1a887379fc",
        "colab": {
          "base_uri": "https://localhost:8080/"
        }
      },
      "execution_count": 6,
      "outputs": [
        {
          "output_type": "stream",
          "name": "stdout",
          "text": [
            "Holdout: 74031 individuos em treino. 18508 individuos em teste.\n"
          ]
        }
      ]
    },
    {
      "cell_type": "code",
      "source": [
        "def processa_preditoras(preditoras) :\n",
        "    dados = preditoras.copy()\n",
        "    dados.drop(columns=['NU_INSCRICAO', 'NU_ANO'], inplace=True)\n",
        "    dados.drop(columns=['CO_MUNICIPIO_ESC', 'NO_MUNICIPIO_ESC', 'CO_UF_ESC', 'SG_UF_ESC'] , inplace=True)\n",
        "    dados.drop(columns=['CO_ESCOLA', 'TP_DEPENDENCIA_ADM_ESC', 'TP_LOCALIZACAO_ESC', 'TP_SIT_FUNC_ESC', 'TP_ENSINO'], inplace=True)\n",
        "    dados['REGIAO_RESIDENCIA'], dados['UF_RESIDENCIA'], _ = parse_codigo(dados.CO_MUNICIPIO_RESIDENCIA)\n",
        "    dados['REGIAO_NASCIMENTO'], dados['UF_NASCIMENTO'], _ = parse_codigo(dados.CO_MUNICIPIO_NASCIMENTO)\n",
        "    dados['REGIAO_PROVA'], dados['UF_PROVA'], _ = parse_codigo(dados.CO_MUNICIPIO_PROVA)\n",
        "    dados.drop(columns=['CO_MUNICIPIO_RESIDENCIA', 'NO_MUNICIPIO_RESIDENCIA', \n",
        "                        'CO_UF_RESIDENCIA', 'SG_UF_RESIDENCIA', \n",
        "                        'CO_MUNICIPIO_NASCIMENTO', 'NO_MUNICIPIO_NASCIMENTO', \n",
        "                        'CO_UF_NASCIMENTO', 'SG_UF_NASCIMENTO',  \n",
        "                        'CO_MUNICIPIO_PROVA', 'NO_MUNICIPIO_PROVA', 'CO_UF_PROVA',\n",
        "                        'SG_UF_PROVA'], inplace=True)\n",
        "    dados['TP_ANO_CONCLUIU'].map({'0':np.nan}, na_action=None)    \n",
        "    dados['Q001'].replace('H', np.nan, inplace = True)\n",
        "    dados['Q002'].replace('H', np.nan, inplace = True)\n",
        "    return dados"
      ],
      "metadata": {
        "id": "-XwQDweXGgJQ"
      },
      "execution_count": 7,
      "outputs": []
    },
    {
      "cell_type": "markdown",
      "source": [
        "**Excluindo dados com baixissima/altissima variância**"
      ],
      "metadata": {
        "id": "sx_wHWvku7Jj"
      }
    },
    {
      "cell_type": "code",
      "source": [
        "X_train_processada = processa_preditoras(X_train)"
      ],
      "metadata": {
        "id": "U0lndrkeF9cb"
      },
      "execution_count": 8,
      "outputs": []
    },
    {
      "cell_type": "code",
      "source": [
        "X_train_processada[X_train_processada.columns[X_train_processada.isna().sum() > 0]].isna().sum() / X_train_processada.shape[0] * 100"
      ],
      "metadata": {
        "id": "4elaj2qctIlL",
        "outputId": "35b54655-4307-49b4-9a54-685fbdd61ee5",
        "colab": {
          "base_uri": "https://localhost:8080/"
        }
      },
      "execution_count": 9,
      "outputs": [
        {
          "output_type": "execute_result",
          "data": {
            "text/plain": [
              "Q001                 8.277613\n",
              "Q002                 2.684011\n",
              "REGIAO_NASCIMENTO    2.913644\n",
              "UF_NASCIMENTO        2.913644\n",
              "dtype: float64"
            ]
          },
          "metadata": {},
          "execution_count": 9
        }
      ]
    },
    {
      "cell_type": "code",
      "source": [
        "X_train_processada.Q002.value_counts()"
      ],
      "metadata": {
        "colab": {
          "base_uri": "https://localhost:8080/"
        },
        "id": "_iPhrvMWo0HD",
        "outputId": "4e1e3d62-a8d8-4178-a19c-5206e5310f2e"
      },
      "execution_count": 10,
      "outputs": [
        {
          "output_type": "execute_result",
          "data": {
            "text/plain": [
              "E    24627\n",
              "B    11041\n",
              "D     9502\n",
              "C     9388\n",
              "F     8310\n",
              "G     6748\n",
              "A     2428\n",
              "Name: Q002, dtype: int64"
            ]
          },
          "metadata": {},
          "execution_count": 10
        }
      ]
    },
    {
      "cell_type": "code",
      "source": [
        "X_train_processada.columns.values"
      ],
      "metadata": {
        "colab": {
          "base_uri": "https://localhost:8080/"
        },
        "id": "Rj9fWr81YMfF",
        "outputId": "344c9cff-30a2-45e8-b104-bc16637bf200"
      },
      "execution_count": 11,
      "outputs": [
        {
          "output_type": "execute_result",
          "data": {
            "text/plain": [
              "array(['NU_IDADE', 'TP_SEXO', 'TP_ESTADO_CIVIL', 'TP_COR_RACA',\n",
              "       'TP_NACIONALIDADE', 'TP_ST_CONCLUSAO', 'TP_ANO_CONCLUIU',\n",
              "       'TP_ESCOLA', 'IN_TREINEIRO', 'IN_BAIXA_VISAO', 'IN_CEGUEIRA',\n",
              "       'IN_SURDEZ', 'IN_DEFICIENCIA_AUDITIVA', 'IN_SURDO_CEGUEIRA',\n",
              "       'IN_DEFICIENCIA_FISICA', 'IN_DEFICIENCIA_MENTAL',\n",
              "       'IN_DEFICIT_ATENCAO', 'IN_DISLEXIA', 'IN_DISCALCULIA',\n",
              "       'IN_AUTISMO', 'IN_VISAO_MONOCULAR', 'IN_OUTRA_DEF', 'IN_GESTANTE',\n",
              "       'IN_LACTANTE', 'IN_IDOSO', 'IN_ESTUDA_CLASSE_HOSPITALAR',\n",
              "       'IN_SEM_RECURSO', 'IN_BRAILLE', 'IN_AMPLIADA_24', 'IN_AMPLIADA_18',\n",
              "       'IN_LEDOR', 'IN_ACESSO', 'IN_TRANSCRICAO', 'IN_LIBRAS',\n",
              "       'IN_TEMPO_ADICIONAL', 'IN_LEITURA_LABIAL', 'IN_MESA_CADEIRA_RODAS',\n",
              "       'IN_MESA_CADEIRA_SEPARADA', 'IN_APOIO_PERNA', 'IN_GUIA_INTERPRETE',\n",
              "       'IN_COMPUTADOR', 'IN_CADEIRA_ESPECIAL', 'IN_CADEIRA_CANHOTO',\n",
              "       'IN_CADEIRA_ACOLCHOADA', 'IN_PROVA_DEITADO', 'IN_MOBILIARIO_OBESO',\n",
              "       'IN_LAMINA_OVERLAY', 'IN_PROTETOR_AURICULAR', 'IN_MEDIDOR_GLICOSE',\n",
              "       'IN_MAQUINA_BRAILE', 'IN_SOROBAN', 'IN_MARCA_PASSO', 'IN_SONDA',\n",
              "       'IN_MEDICAMENTOS', 'IN_SALA_INDIVIDUAL', 'IN_SALA_ESPECIAL',\n",
              "       'IN_SALA_ACOMPANHANTE', 'IN_MOBILIARIO_ESPECIFICO',\n",
              "       'IN_MATERIAL_ESPECIFICO', 'IN_NOME_SOCIAL', 'TP_LINGUA', 'Q001',\n",
              "       'Q002', 'Q003', 'Q004', 'Q005', 'Q006', 'Q007', 'Q008', 'Q009',\n",
              "       'Q010', 'Q011', 'Q012', 'Q013', 'Q014', 'Q015', 'Q016', 'Q017',\n",
              "       'Q018', 'Q019', 'Q020', 'Q021', 'Q022', 'Q023', 'Q024', 'Q025',\n",
              "       'REGIAO_RESIDENCIA', 'UF_RESIDENCIA', 'REGIAO_NASCIMENTO',\n",
              "       'UF_NASCIMENTO', 'REGIAO_PROVA', 'UF_PROVA'], dtype=object)"
            ]
          },
          "metadata": {},
          "execution_count": 11
        }
      ]
    },
    {
      "cell_type": "code",
      "source": [],
      "metadata": {
        "id": "g0pWYdjBx5V-"
      },
      "execution_count": 11,
      "outputs": []
    },
    {
      "cell_type": "code",
      "source": [
        "from sklearn.ensemble import RandomForestRegressor\n",
        "\n",
        "onehot_MF_transformer = Pipeline(steps=[('one_hot_encoder',  OneHotEncoder(drop='if_binary', sparse=False))])\n",
        "onehot_num04_transformer = Pipeline(steps=[('one_hot_num04_encoder', OneHotEncoder(drop='if_binary', sparse=False))])\n",
        "onehot_num05_transformer = Pipeline(steps=[('one_hot_num05_encoder', OneHotEncoder(drop='if_binary', sparse=False))])\n",
        "onehot_num14_transformer = Pipeline(steps=[('one_hot_num14_encoder', OneHotEncoder(drop='if_binary', sparse=False))])\n",
        "\n",
        "onehot_charAF_transformer = Pipeline(steps=[('onehot_charAF_transformer', OneHotEncoder(drop='if_binary', sparse=False))])\n",
        "oe_charAG_transfomer =  Pipeline(steps=[('oe_charAG_enconder', OrdinalEncoder(categories=[['A', 'B', 'C', 'D', 'E', 'F', 'G']], \n",
        "                                         handle_unknown= 'use_encoded_value', unknown_value=np.nan))])\n",
        "\n",
        "oe_charAQ_transfomer =  Pipeline(steps=[('oe_charAQ_enconder', OrdinalEncoder(categories=[['A', 'B', 'C', 'D', 'E', 'F', 'G', 'H', 'I', 'J', 'K', 'L', 'M', 'N', 'O', 'P', 'Q']], \n",
        "                                         handle_unknown= 'use_encoded_value', unknown_value=np.nan))])\n",
        "\n",
        "oe_charAD_transfomer =  Pipeline(steps=[('oe_charAD_enconder', OrdinalEncoder(categories=[['A', 'B', 'C', 'D']], \n",
        "                                         handle_unknown= 'use_encoded_value', unknown_value=np.nan))])\n",
        "\n",
        "oe_charAE_transfomer =  Pipeline(steps=[('oe_charAE_enconder', OrdinalEncoder(categories=[['A', 'B', 'C', 'D', 'E']], \n",
        "                                         handle_unknown= 'use_encoded_value', unknown_value=np.nan))])\n",
        "\n",
        "onehot_AB_transformer = Pipeline(steps=[('one_hot_AB_encoder',  OneHotEncoder(drop='if_binary', sparse=False))])\n",
        "\n",
        "oe_REGION_transfomer =  Pipeline(steps=[('oe_region_enconder', OrdinalEncoder(handle_unknown= 'use_encoded_value', unknown_value=np.nan))])\n",
        "oe_UF_transfomer =  Pipeline(steps=[('oe_uf_enconder', OrdinalEncoder(handle_unknown= 'use_encoded_value', unknown_value=np.nan))])\n",
        "\n",
        "\n",
        "col_transformer = ColumnTransformer(transformers=[('sexo', onehot_MF_transformer, ['TP_SEXO']),\n",
        "                                                  ('num04', onehot_num04_transformer, ['TP_ESTADO_CIVIL', 'TP_NACIONALIDADE']),\n",
        "                                                  ('num05', onehot_num05_transformer, ['TP_COR_RACA']),\n",
        "                                                  ('num14', onehot_num14_transformer, ['TP_ST_CONCLUSAO', 'TP_ESCOLA']),\n",
        "                                                  ('charAG1', oe_charAG_transfomer, ['Q001']),\n",
        "                                                  ('charAG2', oe_charAG_transfomer, ['Q002']),\n",
        "                                                  ('charAQ6', oe_charAQ_transfomer, ['Q006']),\n",
        "                                                  ('charAD7', oe_charAD_transfomer, ['Q007']),\n",
        "                                                  ('charAF3_4', onehot_charAF_transformer, ['Q003', 'Q004']),\n",
        "                                                  ('charAE8', oe_charAE_transfomer, ['Q008']),\n",
        "                                                  ('charAE9', oe_charAE_transfomer, ['Q009']),\n",
        "                                                  ('charAE10', oe_charAE_transfomer, ['Q010']),\n",
        "                                                  ('charAE11', oe_charAE_transfomer, ['Q011']),\n",
        "                                                  ('charAE12', oe_charAE_transfomer, ['Q012']),\n",
        "                                                  ('charAE13', oe_charAE_transfomer, ['Q013']),\n",
        "                                                  ('charAE14', oe_charAE_transfomer, ['Q014']),\n",
        "                                                  ('charAE15', oe_charAE_transfomer, ['Q015']),\n",
        "                                                  ('charAE16', oe_charAE_transfomer, ['Q016']),\n",
        "                                                  ('charAE17', oe_charAE_transfomer, ['Q017']),\n",
        "                                                  ('charAE19', oe_charAE_transfomer, ['Q019']),\n",
        "                                                  ('charAE22', oe_charAE_transfomer, ['Q022']),\n",
        "                                                  ('charAE24', oe_charAE_transfomer, ['Q024']),\n",
        "                                                  ('charAB18', onehot_AB_transformer, ['Q018']),\n",
        "                                                  ('charAB20', onehot_AB_transformer, ['Q020']),\n",
        "                                                  ('charAB21', onehot_AB_transformer, ['Q021']),\n",
        "                                                  ('charAB23', onehot_AB_transformer, ['Q023']),\n",
        "                                                  ('charAB25', onehot_AB_transformer, ['Q025']),\n",
        "                                                  ('region_residencia', oe_REGION_transfomer, ['REGIAO_RESIDENCIA']),\n",
        "                                                  ('region_nascimento', oe_REGION_transfomer, ['REGIAO_NASCIMENTO']),\n",
        "                                                  ('region_prova', oe_REGION_transfomer, ['REGIAO_PROVA']),\n",
        "                                                  ('uf_residencia', oe_REGION_transfomer, ['UF_RESIDENCIA']),\n",
        "                                                  ('uf_nascimento', oe_REGION_transfomer, ['UF_NASCIMENTO']),\n",
        "                                                  ('uf_prova', oe_REGION_transfomer, ['UF_PROVA'])\n",
        "                                                  ],\n",
        "                                    remainder='passthrough')\n",
        "\n",
        "modelo = Pipeline(steps=[('step_one', col_transformer), ('ss',  StandardScaler()),\n",
        "                         ('imputer', ImputerWithMissingMark(imputer=SimpleImputer())),\n",
        "                         ('estimador',  RandomForestRegressor())\n",
        "                         ]).fit(X_train_processada, y_train)\n",
        "\n",
        "\n",
        "modelo.score(X_train_processada, y_train)"
      ],
      "metadata": {
        "id": "y6NNFpwaMXOV",
        "colab": {
          "base_uri": "https://localhost:8080/"
        },
        "outputId": "bc60d141-d9a1-4ea4-b755-d760072df845"
      },
      "execution_count": 12,
      "outputs": [
        {
          "output_type": "execute_result",
          "data": {
            "text/plain": [
              "0.9102190891093414"
            ]
          },
          "metadata": {},
          "execution_count": 12
        }
      ]
    },
    {
      "cell_type": "code",
      "source": [
        "X_test_processada = processa_preditoras(X_test)\n",
        "modelo.score(X_test_processada, y_test)"
      ],
      "metadata": {
        "id": "YHQNV_AAAOkr",
        "outputId": "366eefd2-80bd-4421-8756-251e2c961db6",
        "colab": {
          "base_uri": "https://localhost:8080/"
        }
      },
      "execution_count": 13,
      "outputs": [
        {
          "output_type": "execute_result",
          "data": {
            "text/plain": [
              "0.3613639060433702"
            ]
          },
          "metadata": {},
          "execution_count": 13
        }
      ]
    },
    {
      "cell_type": "code",
      "source": [
        "from yellowbrick.model_selection import ValidationCurve\n",
        "\n",
        "vc = ValidationCurve(RandomForestRegressor(), param_name='n_estimators', \n",
        "                     param_range=[10, 20, 30, 40, 50, 60, 70, 80, 90, 100], cv=5)\n",
        "\n",
        "modelo = Pipeline(steps=[('step_one', col_transformer), ('ss',  StandardScaler()),\n",
        "                         ('imputer', ImputerWithMissingMark(imputer=SimpleImputer())),\n",
        "                         ('vc',  vc)]).fit(X_train_processada, y_train)\n",
        "\n",
        "vc.show()"
      ],
      "metadata": {
        "id": "CV5P5G_9DEHL"
      },
      "execution_count": null,
      "outputs": []
    },
    {
      "cell_type": "code",
      "source": [],
      "metadata": {
        "id": "bkqImsEsDklL"
      },
      "execution_count": null,
      "outputs": []
    }
  ]
}