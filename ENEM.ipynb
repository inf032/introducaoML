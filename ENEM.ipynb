{
  "nbformat": 4,
  "nbformat_minor": 0,
  "metadata": {
    "colab": {
      "provenance": [],
      "authorship_tag": "ABX9TyN2W/FwDApiVRpcecX9+4NN",
      "include_colab_link": true
    },
    "kernelspec": {
      "name": "python3",
      "display_name": "Python 3"
    },
    "language_info": {
      "name": "python"
    }
  },
  "cells": [
    {
      "cell_type": "markdown",
      "metadata": {
        "id": "view-in-github",
        "colab_type": "text"
      },
      "source": [
        "<a href=\"https://colab.research.google.com/github/inf032/introducaoML/blob/master/ENEM.ipynb\" target=\"_parent\"><img src=\"https://colab.research.google.com/assets/colab-badge.svg\" alt=\"Open In Colab\"/></a>"
      ]
    },
    {
      "cell_type": "code",
      "execution_count": 8,
      "metadata": {
        "id": "eT1YS-boBYFo"
      },
      "outputs": [],
      "source": [
        "import pandas as pd\n",
        "import numpy as np\n",
        "from sklearn.base import BaseEstimator, TransformerMixin\n",
        "from sklearn.impute import KNNImputer\n",
        "from sklearn.impute._base import _BaseImputer\n",
        "from sklearn.model_selection import train_test_split\n",
        "from sklearn.pipeline import Pipeline\n",
        "from sklearn.compose import ColumnTransformer\n",
        "from sklearn.preprocessing import OneHotEncoder\n",
        "from sklearn.preprocessing import OrdinalEncoder\n",
        "from sklearn.preprocessing import StandardScaler\n",
        "from sklearn.impute import SimpleImputer\n",
        "\n",
        "\n",
        "import warnings"
      ]
    },
    {
      "cell_type": "code",
      "source": [
        "class ImputerWithMissingMark (BaseEstimator, TransformerMixin):\n",
        "\n",
        "    def transformColunas_IMPUTED(self, X) -> pd.DataFrame :\n",
        "      copia = X.copy()\n",
        "      for col in self.col_name_with_nan :\n",
        "          copia[f'{col}{self.postfix}'] = copia[col].isna().astype(int)\n",
        "      return copia      \n",
        "\n",
        "    def col_with_nan(self, X) -> list:\n",
        "      list_col_with_nan = []\n",
        "      copia = X.copy()\n",
        "      for col in copia.columns :\n",
        "        if(copia[col].isna().sum() > 0) :\n",
        "          list_col_with_nan.append(col)\n",
        "      return list_col_with_nan\n",
        "\n",
        "    def col_num_with_nan(self, X) -> list:\n",
        "      cols = X.shape[1]\n",
        "      list_col_with_nan = []\n",
        "      for col in range(cols):    \n",
        "          if(np.count_nonzero(np.isnan(X[:,col])) > 0) :  \n",
        "              list_col_with_nan.append(col)\n",
        "      return list_col_with_nan        \n",
        "\n",
        "    def __init__(self, imputer=KNNImputer(), postfix = '_IMPUTED'):\n",
        "      self.imputer = imputer\n",
        "      self.col_name = None\n",
        "      self.fitted = False\n",
        "      self.col_name_with_nan = None\n",
        "      self.col_number_with_nan = None\n",
        "      self.postfix = postfix\n",
        "\n",
        "    def fit_DF(self, X):\n",
        "      self.col_name = X.columns.values\n",
        "      self.col_name_with_nan = self.col_with_nan(X)\n",
        "\n",
        "    def fit_NP(self, X):\n",
        "      self.col_number_with_nan = self.col_num_with_nan(X)\n",
        "\n",
        "    def transform_DF(self, X):\n",
        "      copia = self.transformColunas_IMPUTED(X)\n",
        "      transformed = pd.DataFrame(self.imputer.transform(copia[self.col_name]))\n",
        "      transformed.columns = X.columns\n",
        "      transformed.index = X.index\n",
        "      for col in self.col_name_with_nan :\n",
        "        transformed[f'{col}{self.postfix}'] = copia[f'{col}{self.postfix}']\n",
        "      return transformed\n",
        "\n",
        "    def transform_NP(self, X):\n",
        "      transformed = np.copy(X)\n",
        "      vazio = np.zeros(shape=(X.shape[0], len(self.col_number_with_nan)))\n",
        "      for col in self.col_number_with_nan:\n",
        "        a_nan = [1 if np.isnan(x) else 0 for x in transformed[:,col]]\n",
        "        vazio = np.append(vazio, np.c_[a_nan], axis = 1)\n",
        "      transformed = self.imputer.transform(transformed)  \n",
        "      for col in range(vazio.shape[1]) :\n",
        "        transformed = np.append(transformed, np.c_[vazio[:, col]], axis = 1)\n",
        "      return transformed      \n",
        "\n",
        "    def fit(self, X, y=None):\n",
        "      if(self.fitted == False) :\n",
        "        self.fitted = True\n",
        "        if(type(X) == pd.DataFrame) :\n",
        "          self.fit_DF(X)\n",
        "        else :\n",
        "          self.fit_NP(X)  \n",
        "        self.imputer.fit(X)\n",
        "      return self\n",
        "\n",
        "    def transform(self, X, y=None):\n",
        "      if(self.fitted == True) :\n",
        "        if(self.col_name is not None) :\n",
        "          transformed = self.transform_DF(X)    \n",
        "        else :\n",
        "          transformed = self.transform_NP(X)    \n",
        "        return transformed\n",
        "      else :\n",
        "        return X\n",
        "\n",
        "    def get_params(self, deep=True):\n",
        "      # retorna um dicionário com os atributos e seus respectivos valores\n",
        "      return {\"imputer\": self.imputer, \n",
        "              \"postfix\": self.postfix}\n",
        "      \n",
        "    def set_params(self, **parameters):\n",
        "      # iterando pelos elementos passados e definindo-os na classe\n",
        "      for parameter, value in parameters.items():\n",
        "        setattr(self, parameter, value)\n",
        "      return self "
      ],
      "metadata": {
        "id": "us1p0nI3DAwD"
      },
      "execution_count": 9,
      "outputs": []
    },
    {
      "cell_type": "code",
      "source": [
        "def parse_codigo(codigo) :\n",
        "  if codigo is None :\n",
        "    return np.NaN, np.NaN, np.NaN\n",
        "  regiao = codigo // 1000000\n",
        "  uf = codigo // 100000\n",
        "  municipio = (codigo % 100000) // 10\n",
        "  return regiao, uf, municipio"
      ],
      "metadata": {
        "id": "oDfoPLc1zvAG"
      },
      "execution_count": 10,
      "outputs": []
    },
    {
      "cell_type": "markdown",
      "source": [
        "**Excluindo dados futuros** "
      ],
      "metadata": {
        "id": "l4SP3Y_Yuycr"
      }
    },
    {
      "cell_type": "code",
      "source": [
        "SEED = 48\n",
        "np.random.seed(SEED)\n",
        "warnings.filterwarnings(action='once')\n",
        "\n",
        "#dados = pd.read_csv('https://raw.githubusercontent.com/inf032/introducaoML/master/data/microdados_sample.csv')\n",
        "dados = pd.read_csv('https://raw.githubusercontent.com/inf032/introducaoML/master/data/sample_14.csv', sep=';', encoding='ISO-8859-1')\n",
        "dados['NU_NOTA'] = dados.NU_NOTA_CN + dados.NU_NOTA_CH + dados.NU_NOTA_LC +  dados.NU_NOTA_MT + dados.NU_NOTA_REDACAO\n",
        "\n",
        "dados.drop(columns=['CO_PROVA_CN', 'CO_PROVA_CH', 'CO_PROVA_LC', 'CO_PROVA_MT',\n",
        "                    'TX_RESPOSTAS_CN', 'TX_RESPOSTAS_CH', 'TX_RESPOSTAS_LC',\n",
        "                    'TX_RESPOSTAS_MT', 'TX_GABARITO_CN', 'TX_GABARITO_CH',\n",
        "                    'TX_GABARITO_LC', 'TX_GABARITO_MT',\n",
        "                    'NU_NOTA_COMP1', 'NU_NOTA_COMP2', 'NU_NOTA_COMP3',\n",
        "                    'NU_NOTA_COMP4', 'NU_NOTA_COMP5', 'NU_NOTA_CN', 'NU_NOTA_CH',\n",
        "                    'TP_PRESENCA_CN', 'TP_PRESENCA_CH', 'TP_PRESENCA_LC', 'TP_PRESENCA_MT',\n",
        "                    'NU_NOTA_LC', 'NU_NOTA_MT', 'NU_NOTA_REDACAO', 'TP_STATUS_REDACAO'], inplace=True)\n",
        "\n",
        "dados.dropna(axis='index', subset=['NU_NOTA'], inplace=True)"
      ],
      "metadata": {
        "id": "c-Iuz8R4BZqx"
      },
      "execution_count": 11,
      "outputs": []
    },
    {
      "cell_type": "code",
      "source": [
        "preditoras = ['NU_INSCRICAO', 'NU_ANO', 'CO_MUNICIPIO_RESIDENCIA',\n",
        "              'NO_MUNICIPIO_RESIDENCIA', 'CO_UF_RESIDENCIA', 'SG_UF_RESIDENCIA',\n",
        "              'NU_IDADE', 'TP_SEXO', 'TP_ESTADO_CIVIL', 'TP_COR_RACA', 'TP_NACIONALIDADE',\n",
        "              'CO_MUNICIPIO_NASCIMENTO', 'NO_MUNICIPIO_NASCIMENTO', 'CO_UF_NASCIMENTO',\n",
        "              'SG_UF_NASCIMENTO', 'TP_ST_CONCLUSAO', 'TP_ANO_CONCLUIU', 'TP_ESCOLA',\n",
        "              'TP_ENSINO', 'IN_TREINEIRO', 'CO_ESCOLA', 'CO_MUNICIPIO_ESC',\n",
        "              'NO_MUNICIPIO_ESC', 'CO_UF_ESC', 'SG_UF_ESC', 'TP_DEPENDENCIA_ADM_ESC',\n",
        "              'TP_LOCALIZACAO_ESC', 'TP_SIT_FUNC_ESC', 'IN_BAIXA_VISAO', 'IN_CEGUEIRA',\n",
        "              'IN_SURDEZ', 'IN_DEFICIENCIA_AUDITIVA', 'IN_SURDO_CEGUEIRA',\n",
        "              'IN_DEFICIENCIA_FISICA', 'IN_DEFICIENCIA_MENTAL', 'IN_DEFICIT_ATENCAO',\n",
        "              'IN_DISLEXIA', 'IN_DISCALCULIA', 'IN_AUTISMO', 'IN_VISAO_MONOCULAR',\n",
        "              'IN_OUTRA_DEF', 'IN_GESTANTE', 'IN_LACTANTE', 'IN_IDOSO',\n",
        "              'IN_ESTUDA_CLASSE_HOSPITALAR', 'IN_SEM_RECURSO', 'IN_BRAILLE',\n",
        "              'IN_AMPLIADA_24', 'IN_AMPLIADA_18', 'IN_LEDOR', 'IN_ACESSO', 'IN_TRANSCRICAO',\n",
        "              'IN_LIBRAS', 'IN_TEMPO_ADICIONAL', 'IN_LEITURA_LABIAL',\n",
        "              'IN_MESA_CADEIRA_RODAS', 'IN_MESA_CADEIRA_SEPARADA', 'IN_APOIO_PERNA',\n",
        "              'IN_GUIA_INTERPRETE', 'IN_COMPUTADOR', 'IN_CADEIRA_ESPECIAL',\n",
        "              'IN_CADEIRA_CANHOTO', 'IN_CADEIRA_ACOLCHOADA', 'IN_PROVA_DEITADO',\n",
        "              'IN_MOBILIARIO_OBESO', 'IN_LAMINA_OVERLAY', 'IN_PROTETOR_AURICULAR',\n",
        "              'IN_MEDIDOR_GLICOSE', 'IN_MAQUINA_BRAILE', 'IN_SOROBAN', 'IN_MARCA_PASSO',\n",
        "              'IN_SONDA', 'IN_MEDICAMENTOS', 'IN_SALA_INDIVIDUAL', 'IN_SALA_ESPECIAL',\n",
        "              'IN_SALA_ACOMPANHANTE', 'IN_MOBILIARIO_ESPECIFICO',\n",
        "              'IN_MATERIAL_ESPECIFICO', 'IN_NOME_SOCIAL', 'CO_MUNICIPIO_PROVA',\n",
        "              'NO_MUNICIPIO_PROVA', 'CO_UF_PROVA', 'SG_UF_PROVA', 'TP_LINGUA',\n",
        "              'Q001', 'Q002', 'Q003', 'Q004', 'Q005', 'Q006', 'Q007', 'Q008',\n",
        "              'Q009', 'Q010', 'Q011', 'Q012', 'Q013', 'Q014', 'Q015', 'Q016',\n",
        "              'Q017', 'Q018', 'Q019', 'Q020', 'Q021', 'Q022', 'Q023', 'Q024',\n",
        "              'Q025']\n",
        "\n",
        "alvo = 'NU_NOTA'              "
      ],
      "metadata": {
        "id": "tvtECmTJHg-R"
      },
      "execution_count": 12,
      "outputs": []
    },
    {
      "cell_type": "code",
      "source": [
        "X = dados[preditoras]\n",
        "y = dados[alvo]\n",
        "\n",
        "X_train, X_test, y_train, y_test = train_test_split(X, y, test_size=0.20, random_state=SEED)\n",
        "\n",
        "print(f'Holdout: {X_train.shape[0]} individuos em treino. {X_test.shape[0]} individuos em teste.')\n",
        "\n"
      ],
      "metadata": {
        "id": "59khr0xrs6J7",
        "outputId": "122412f5-f4f6-4273-dc73-bbf39f36327e",
        "colab": {
          "base_uri": "https://localhost:8080/"
        }
      },
      "execution_count": 13,
      "outputs": [
        {
          "output_type": "stream",
          "name": "stdout",
          "text": [
            "Holdout: 3586 individuos em treino. 897 individuos em teste.\n"
          ]
        }
      ]
    },
    {
      "cell_type": "code",
      "source": [
        "def processa_preditoras(preditoras) :\n",
        "    dados = preditoras.copy()\n",
        "    dados.drop(columns=['NU_INSCRICAO', 'NU_ANO'], inplace=True)\n",
        "    dados.drop(columns=['CO_MUNICIPIO_ESC', 'NO_MUNICIPIO_ESC', 'CO_UF_ESC', 'SG_UF_ESC'] , inplace=True)\n",
        "    dados.drop(columns=['CO_ESCOLA', 'TP_DEPENDENCIA_ADM_ESC', 'TP_LOCALIZACAO_ESC', 'TP_SIT_FUNC_ESC', 'TP_ENSINO'], inplace=True)\n",
        "    dados['REGIAO_RESIDENCIA'], dados['UF_RESIDENCIA'], _ = parse_codigo(dados.CO_MUNICIPIO_RESIDENCIA)\n",
        "    dados['REGIAO_NASCIMENTO'], dados['UF_NASCIMENTO'], _ = parse_codigo(dados.CO_MUNICIPIO_NASCIMENTO)\n",
        "    dados['REGIAO_PROVA'], dados['UF_PROVA'], _ = parse_codigo(dados.CO_MUNICIPIO_PROVA)\n",
        "    dados.drop(columns=['CO_MUNICIPIO_RESIDENCIA', 'NO_MUNICIPIO_RESIDENCIA', \n",
        "                        'CO_UF_RESIDENCIA', 'SG_UF_RESIDENCIA', \n",
        "                        'CO_MUNICIPIO_NASCIMENTO', 'NO_MUNICIPIO_NASCIMENTO', \n",
        "                        'CO_UF_NASCIMENTO', 'SG_UF_NASCIMENTO',  \n",
        "                        'CO_MUNICIPIO_PROVA', 'NO_MUNICIPIO_PROVA', 'CO_UF_PROVA',\n",
        "                        'SG_UF_PROVA'], inplace=True)\n",
        "    dados['TP_ANO_CONCLUIU'].map({'0':np.nan}, na_action=None)    \n",
        "    dados['Q001'].replace('H', np.nan, inplace = True)\n",
        "    dados['Q002'].replace('H', np.nan, inplace = True)\n",
        "    return dados"
      ],
      "metadata": {
        "id": "-XwQDweXGgJQ"
      },
      "execution_count": 14,
      "outputs": []
    },
    {
      "cell_type": "markdown",
      "source": [
        "**Excluindo dados com baixissima/altissima variância**"
      ],
      "metadata": {
        "id": "sx_wHWvku7Jj"
      }
    },
    {
      "cell_type": "code",
      "source": [
        "X_train_processada = processa_preditoras(X_train)"
      ],
      "metadata": {
        "id": "U0lndrkeF9cb"
      },
      "execution_count": 15,
      "outputs": []
    },
    {
      "cell_type": "code",
      "source": [
        "X_train_processada[X_train_processada.columns[X_train_processada.isna().sum() > 0]].isna().sum() / X_train_processada.shape[0] * 100"
      ],
      "metadata": {
        "id": "4elaj2qctIlL",
        "outputId": "47fb0233-4cfd-47e7-960b-03ec3b95710e",
        "colab": {
          "base_uri": "https://localhost:8080/"
        }
      },
      "execution_count": 16,
      "outputs": [
        {
          "output_type": "execute_result",
          "data": {
            "text/plain": [
              "Q001                 4.322365\n",
              "Q002                 1.617401\n",
              "REGIAO_NASCIMENTO    3.179030\n",
              "UF_NASCIMENTO        3.179030\n",
              "dtype: float64"
            ]
          },
          "metadata": {},
          "execution_count": 16
        }
      ]
    },
    {
      "cell_type": "code",
      "source": [
        "X_train_processada.Q002.value_counts()"
      ],
      "metadata": {
        "colab": {
          "base_uri": "https://localhost:8080/"
        },
        "id": "_iPhrvMWo0HD",
        "outputId": "449ff750-c031-44ce-a347-60b995d512e2"
      },
      "execution_count": 17,
      "outputs": [
        {
          "output_type": "execute_result",
          "data": {
            "text/plain": [
              "E    1176\n",
              "G    1103\n",
              "F     854\n",
              "D     201\n",
              "C     119\n",
              "B      67\n",
              "A       8\n",
              "Name: Q002, dtype: int64"
            ]
          },
          "metadata": {},
          "execution_count": 17
        }
      ]
    },
    {
      "cell_type": "code",
      "source": [
        "X_train_processada.columns.values"
      ],
      "metadata": {
        "colab": {
          "base_uri": "https://localhost:8080/"
        },
        "id": "Rj9fWr81YMfF",
        "outputId": "d4e1e289-07ce-4447-f6d5-8d2a5f24e2df"
      },
      "execution_count": 18,
      "outputs": [
        {
          "output_type": "execute_result",
          "data": {
            "text/plain": [
              "array(['NU_IDADE', 'TP_SEXO', 'TP_ESTADO_CIVIL', 'TP_COR_RACA',\n",
              "       'TP_NACIONALIDADE', 'TP_ST_CONCLUSAO', 'TP_ANO_CONCLUIU',\n",
              "       'TP_ESCOLA', 'IN_TREINEIRO', 'IN_BAIXA_VISAO', 'IN_CEGUEIRA',\n",
              "       'IN_SURDEZ', 'IN_DEFICIENCIA_AUDITIVA', 'IN_SURDO_CEGUEIRA',\n",
              "       'IN_DEFICIENCIA_FISICA', 'IN_DEFICIENCIA_MENTAL',\n",
              "       'IN_DEFICIT_ATENCAO', 'IN_DISLEXIA', 'IN_DISCALCULIA',\n",
              "       'IN_AUTISMO', 'IN_VISAO_MONOCULAR', 'IN_OUTRA_DEF', 'IN_GESTANTE',\n",
              "       'IN_LACTANTE', 'IN_IDOSO', 'IN_ESTUDA_CLASSE_HOSPITALAR',\n",
              "       'IN_SEM_RECURSO', 'IN_BRAILLE', 'IN_AMPLIADA_24', 'IN_AMPLIADA_18',\n",
              "       'IN_LEDOR', 'IN_ACESSO', 'IN_TRANSCRICAO', 'IN_LIBRAS',\n",
              "       'IN_TEMPO_ADICIONAL', 'IN_LEITURA_LABIAL', 'IN_MESA_CADEIRA_RODAS',\n",
              "       'IN_MESA_CADEIRA_SEPARADA', 'IN_APOIO_PERNA', 'IN_GUIA_INTERPRETE',\n",
              "       'IN_COMPUTADOR', 'IN_CADEIRA_ESPECIAL', 'IN_CADEIRA_CANHOTO',\n",
              "       'IN_CADEIRA_ACOLCHOADA', 'IN_PROVA_DEITADO', 'IN_MOBILIARIO_OBESO',\n",
              "       'IN_LAMINA_OVERLAY', 'IN_PROTETOR_AURICULAR', 'IN_MEDIDOR_GLICOSE',\n",
              "       'IN_MAQUINA_BRAILE', 'IN_SOROBAN', 'IN_MARCA_PASSO', 'IN_SONDA',\n",
              "       'IN_MEDICAMENTOS', 'IN_SALA_INDIVIDUAL', 'IN_SALA_ESPECIAL',\n",
              "       'IN_SALA_ACOMPANHANTE', 'IN_MOBILIARIO_ESPECIFICO',\n",
              "       'IN_MATERIAL_ESPECIFICO', 'IN_NOME_SOCIAL', 'TP_LINGUA', 'Q001',\n",
              "       'Q002', 'Q003', 'Q004', 'Q005', 'Q006', 'Q007', 'Q008', 'Q009',\n",
              "       'Q010', 'Q011', 'Q012', 'Q013', 'Q014', 'Q015', 'Q016', 'Q017',\n",
              "       'Q018', 'Q019', 'Q020', 'Q021', 'Q022', 'Q023', 'Q024', 'Q025',\n",
              "       'REGIAO_RESIDENCIA', 'UF_RESIDENCIA', 'REGIAO_NASCIMENTO',\n",
              "       'UF_NASCIMENTO', 'REGIAO_PROVA', 'UF_PROVA'], dtype=object)"
            ]
          },
          "metadata": {},
          "execution_count": 18
        }
      ]
    },
    {
      "cell_type": "code",
      "source": [],
      "metadata": {
        "id": "g0pWYdjBx5V-"
      },
      "execution_count": 18,
      "outputs": []
    },
    {
      "cell_type": "code",
      "source": [
        "from sklearn.ensemble import RandomForestRegressor\n",
        "from xgboost import XGBRegressor\n",
        "from sklearn.metrics import mean_squared_error\n",
        "\n",
        "onehot_MF_transformer = Pipeline(steps=[('one_hot_encoder',  OneHotEncoder(drop='if_binary', sparse=False))])\n",
        "onehot_num04_transformer = Pipeline(steps=[('one_hot_num04_encoder', OneHotEncoder(drop='if_binary', sparse=False))])\n",
        "onehot_num05_transformer = Pipeline(steps=[('one_hot_num05_encoder', OneHotEncoder(drop='if_binary', sparse=False))])\n",
        "onehot_num14_transformer = Pipeline(steps=[('one_hot_num14_encoder', OneHotEncoder(drop='if_binary', sparse=False))])\n",
        "\n",
        "onehot_charAF_transformer = Pipeline(steps=[('onehot_charAF_transformer', OneHotEncoder(drop='if_binary', sparse=False))])\n",
        "oe_charAG_transfomer =  Pipeline(steps=[('oe_charAG_enconder', OrdinalEncoder(categories=[['A', 'B', 'C', 'D', 'E', 'F', 'G']], \n",
        "                                         handle_unknown= 'use_encoded_value', unknown_value=np.nan))])\n",
        "\n",
        "oe_charAQ_transfomer =  Pipeline(steps=[('oe_charAQ_enconder', OrdinalEncoder(categories=[['A', 'B', 'C', 'D', 'E', 'F', 'G', 'H', 'I', 'J', 'K', 'L', 'M', 'N', 'O', 'P', 'Q']], \n",
        "                                         handle_unknown= 'use_encoded_value', unknown_value=np.nan))])\n",
        "\n",
        "oe_charAD_transfomer =  Pipeline(steps=[('oe_charAD_enconder', OrdinalEncoder(categories=[['A', 'B', 'C', 'D']], \n",
        "                                         handle_unknown= 'use_encoded_value', unknown_value=np.nan))])\n",
        "\n",
        "oe_charAE_transfomer =  Pipeline(steps=[('oe_charAE_enconder', OrdinalEncoder(categories=[['A', 'B', 'C', 'D', 'E']], \n",
        "                                         handle_unknown= 'use_encoded_value', unknown_value=np.nan))])\n",
        "\n",
        "onehot_AB_transformer = Pipeline(steps=[('one_hot_AB_encoder',  OneHotEncoder(drop='if_binary', sparse=False))])\n",
        "\n",
        "oe_REGION_transfomer =  Pipeline(steps=[('oe_region_enconder', OrdinalEncoder(handle_unknown= 'use_encoded_value', unknown_value=np.nan))])\n",
        "oe_UF_transfomer =  Pipeline(steps=[('oe_uf_enconder', OrdinalEncoder(handle_unknown= 'use_encoded_value', unknown_value=np.nan))])\n",
        "\n",
        "\n",
        "col_transformer = ColumnTransformer(transformers=[('sexo', onehot_MF_transformer, ['TP_SEXO']),\n",
        "                                                  ('num04', onehot_num04_transformer, ['TP_ESTADO_CIVIL', 'TP_NACIONALIDADE']),\n",
        "                                                  ('num05', onehot_num05_transformer, ['TP_COR_RACA']),\n",
        "                                                  ('num14', onehot_num14_transformer, ['TP_ST_CONCLUSAO', 'TP_ESCOLA']),\n",
        "                                                  ('charAG1', oe_charAG_transfomer, ['Q001']),\n",
        "                                                  ('charAG2', oe_charAG_transfomer, ['Q002']),\n",
        "                                                  ('charAQ6', oe_charAQ_transfomer, ['Q006']),\n",
        "                                                  ('charAD7', oe_charAD_transfomer, ['Q007']),\n",
        "                                                  ('charAF3_4', onehot_charAF_transformer, ['Q003', 'Q004']),\n",
        "                                                  ('charAE8', oe_charAE_transfomer, ['Q008']),\n",
        "                                                  ('charAE9', oe_charAE_transfomer, ['Q009']),\n",
        "                                                  ('charAE10', oe_charAE_transfomer, ['Q010']),\n",
        "                                                  ('charAE11', oe_charAE_transfomer, ['Q011']),\n",
        "                                                  ('charAE12', oe_charAE_transfomer, ['Q012']),\n",
        "                                                  ('charAE13', oe_charAE_transfomer, ['Q013']),\n",
        "                                                  ('charAE14', oe_charAE_transfomer, ['Q014']),\n",
        "                                                  ('charAE15', oe_charAE_transfomer, ['Q015']),\n",
        "                                                  ('charAE16', oe_charAE_transfomer, ['Q016']),\n",
        "                                                  ('charAE17', oe_charAE_transfomer, ['Q017']),\n",
        "                                                  ('charAE19', oe_charAE_transfomer, ['Q019']),\n",
        "                                                  ('charAE22', oe_charAE_transfomer, ['Q022']),\n",
        "                                                  ('charAE24', oe_charAE_transfomer, ['Q024']),\n",
        "                                                  ('charAB18', onehot_AB_transformer, ['Q018']),\n",
        "                                                  ('charAB20', onehot_AB_transformer, ['Q020']),\n",
        "                                                  ('charAB21', onehot_AB_transformer, ['Q021']),\n",
        "                                                  ('charAB23', onehot_AB_transformer, ['Q023']),\n",
        "                                                  ('charAB25', onehot_AB_transformer, ['Q025']),\n",
        "                                                  ('region_residencia', oe_REGION_transfomer, ['REGIAO_RESIDENCIA']),\n",
        "                                                  ('region_nascimento', oe_REGION_transfomer, ['REGIAO_NASCIMENTO']),\n",
        "                                                  ('region_prova', oe_REGION_transfomer, ['REGIAO_PROVA']),\n",
        "                                                  ('uf_residencia', oe_REGION_transfomer, ['UF_RESIDENCIA']),\n",
        "                                                  ('uf_nascimento', oe_REGION_transfomer, ['UF_NASCIMENTO']),\n",
        "                                                  ('uf_prova', oe_REGION_transfomer, ['UF_PROVA'])\n",
        "                                                  ],\n",
        "                                    remainder='passthrough')\n",
        "\n",
        "modelo = Pipeline(steps=[('step_one', col_transformer), ('ss',  StandardScaler()),\n",
        "                         ('imputer', ImputerWithMissingMark(imputer=SimpleImputer())),\n",
        "                         ('estimador',  XGBRegressor(objective='reg:squarederror'))\n",
        "                         ]).fit(X_train_processada, y_train)\n",
        "\n",
        "\n",
        "X_test_processada = processa_preditoras(X_test)\n",
        "\n",
        "\n",
        "print(np.sqrt(mean_squared_error(y_test, modelo.predict(X_test_processada))))\n",
        "print(modelo.score(X_test_processada, y_test))\n"
      ],
      "metadata": {
        "id": "y6NNFpwaMXOV",
        "colab": {
          "base_uri": "https://localhost:8080/"
        },
        "outputId": "3a00ae64-f7f7-45ec-8163-cef1e9baba04"
      },
      "execution_count": 19,
      "outputs": [
        {
          "output_type": "stream",
          "name": "stdout",
          "text": [
            "326.3359655924374\n",
            "0.18872055518244213\n"
          ]
        }
      ]
    },
    {
      "cell_type": "code",
      "source": [
        "#modelo.score(X_test_processada, y_test)"
      ],
      "metadata": {
        "id": "YHQNV_AAAOkr"
      },
      "execution_count": 20,
      "outputs": []
    },
    {
      "cell_type": "code",
      "source": [
        "from yellowbrick.model_selection import LearningCurve\n",
        "\n",
        "model = XGBRegressor(objective='reg:squarederror', max_depth = 6)\n",
        "\n",
        "#train_sizes = [500, 1000, 10000, 25000, 55000]\n",
        "train_sizes = [50, 150, 500, 1000, 1500, 2500]\n",
        "\n",
        "vc = LearningCurve(model, cv=5, scoring='r2', train_sizes=train_sizes)\n",
        "\n",
        "modelo = Pipeline(steps=[('step_one', col_transformer), ('ss',  StandardScaler()),\n",
        "                         ('imputer', ImputerWithMissingMark(imputer=SimpleImputer())),\n",
        "                         ('vc',  vc)]).fit(X_train_processada, y_train)\n",
        "\n",
        "\n",
        "\n"
      ],
      "metadata": {
        "colab": {
          "base_uri": "https://localhost:8080/",
          "height": 347
        },
        "id": "bkqImsEsDklL",
        "outputId": "dc435f3a-7f59-494c-aa84-ca3a85461cd2"
      },
      "execution_count": 23,
      "outputs": [
        {
          "output_type": "display_data",
          "data": {
            "text/plain": [
              "<Figure size 576x396 with 1 Axes>"
            ],
            "image/png": "[encoded data removed]"
          },
          "metadata": {}
        }
      ]
    },
    {
      "cell_type": "code",
      "source": [
        "from yellowbrick.model_selection import ValidationCurve\n",
        "\n",
        "vc = ValidationCurve(XGBRegressor(objective='reg:squarederror'), param_name='max_depth', \n",
        "                     param_range=[5, 6, 7, 10, 15, 20], cv=5)\n",
        "\n",
        "modelo = Pipeline(steps=[('step_one', col_transformer), ('ss',  StandardScaler()),\n",
        "                         ('imputer', ImputerWithMissingMark(imputer=SimpleImputer())),\n",
        "                         ('vc',  vc)]).fit(X_train_processada, y_train)\n",
        "\n",
        "vc.show()"
      ],
      "metadata": {
        "id": "CV5P5G_9DEHL",
        "colab": {
          "base_uri": "https://localhost:8080/",
          "height": 393
        },
        "outputId": "97e6af41-6073-41b3-9afd-c0b44a5ae266"
      },
      "execution_count": 27,
      "outputs": [
        {
          "output_type": "display_data",
          "data": {
            "text/plain": [
              "<Figure size 576x396 with 1 Axes>"
            ],
            "image/png": "[encoded data removed]"
          },
          "metadata": {}
        },
        {
          "output_type": "execute_result",
          "data": {
            "text/plain": [
              "<matplotlib.axes._subplots.AxesSubplot at 0x7fb59f1f8f90>"
            ]
          },
          "metadata": {},
          "execution_count": 27
        }
      ]
    },
    {
      "cell_type": "code",
      "source": [
        "\n",
        "from sklearn.model_selection import GridSearchCV, RandomizedSearchCV\n",
        "from scipy.stats import uniform \n",
        "from sklearn.model_selection import KFold\n",
        "\n",
        "espaco_de_parametros = {\n",
        "    'classificador__objective':['reg:squarederror'],\n",
        "    'classificador__max_depth': np.arange(1,16),\n",
        "    'classificador__colsample_bylevel': uniform.rvs(loc=0, scale=0.1, size=10000),\n",
        "    'classificador__learning_rate': uniform.rvs(loc=0, scale=0.01, size=100000),\n",
        "}\n",
        "\n",
        "cv = KFold(n_splits = 5, shuffle=True, random_state=327)\n",
        "\n",
        "\n",
        "modelo = Pipeline(steps=[('step_one', col_transformer), ('ss',  StandardScaler()), \n",
        "                         ('imputer', ImputerWithMissingMark()), ('classificador', XGBRegressor())])\n",
        "\n",
        "search = RandomizedSearchCV(modelo,\n",
        "                    espaco_de_parametros, \n",
        "                    n_iter = 30,\n",
        "                    cv = cv,\n",
        "                    random_state = SEED)\n",
        "\n",
        "\n",
        "search.fit(X_train_processada, y_train)\n",
        "resultados = pd.DataFrame(search.cv_results_)\n",
        "resultados.head()\n",
        "\n"
      ],
      "metadata": {
        "id": "1Ed8XNrKjzc3",
        "outputId": "d9079c86-f6d5-4c1a-9aff-366d12ae3fa8",
        "colab": {
          "base_uri": "https://localhost:8080/",
          "height": 357
        }
      },
      "execution_count": 29,
      "outputs": [
        {
          "output_type": "execute_result",
          "data": {
            "text/plain": [
              "   mean_fit_time  std_fit_time  mean_score_time  std_score_time  \\\n",
              "0       0.927716      0.194579         0.173811        0.075638   \n",
              "1       0.646310      0.006254         0.129803        0.013059   \n",
              "2       0.582222      0.009835         0.129461        0.012825   \n",
              "3       0.597663      0.010905         0.128769        0.014314   \n",
              "4       0.586417      0.010193         0.124658        0.010939   \n",
              "\n",
              "  param_classificador__objective param_classificador__max_depth  \\\n",
              "0               reg:squarederror                              7   \n",
              "1               reg:squarederror                              3   \n",
              "2               reg:squarederror                             15   \n",
              "3               reg:squarederror                              8   \n",
              "4               reg:squarederror                             14   \n",
              "\n",
              "  param_classificador__learning_rate param_classificador__colsample_bylevel  \\\n",
              "0                           0.000647                               0.024422   \n",
              "1                           0.005034                               0.083564   \n",
              "2                           0.000904                               0.019753   \n",
              "3                           0.002467                               0.029183   \n",
              "4                           0.004049                               0.004617   \n",
              "\n",
              "                                              params  split0_test_score  \\\n",
              "0  {'classificador__objective': 'reg:squarederror...         -40.374423   \n",
              "1  {'classificador__objective': 'reg:squarederror...         -16.684255   \n",
              "2  {'classificador__objective': 'reg:squarederror...         -38.345466   \n",
              "3  {'classificador__objective': 'reg:squarederror...         -28.009267   \n",
              "4  {'classificador__objective': 'reg:squarederror...         -20.375366   \n",
              "\n",
              "   split1_test_score  split2_test_score  split3_test_score  split4_test_score  \\\n",
              "0         -43.839823         -38.264276         -39.076730         -43.749661   \n",
              "1         -17.995025         -15.960769         -16.280752         -18.001913   \n",
              "2         -41.623963         -36.364015         -37.134815         -41.541605   \n",
              "3         -30.341696         -26.659956         -27.220346         -30.304899   \n",
              "4         -22.015090         -19.485799         -19.894857         -22.005307   \n",
              "\n",
              "   mean_test_score  std_test_score  rank_test_score  \n",
              "0       -41.060983        2.331572               29  \n",
              "1       -16.984543        0.859037               18  \n",
              "2       -39.001973        2.200030               25  \n",
              "3       -28.507233        1.543589               24  \n",
              "4       -20.755284        1.062632               20  "
            ],
            "text/html": [
              "\n",
              "  <div id=\"df-c2fce3d2-669e-4ab6-a627-331c3f85e2e7\">\n",
              "    <div class=\"colab-df-container\">\n",
              "      <div>\n",
              "<style scoped>\n",
              "    .dataframe tbody tr th:only-of-type {\n",
              "        vertical-align: middle;\n",
              "    }\n",
              "\n",
              "    .dataframe tbody tr th {\n",
              "        vertical-align: top;\n",
              "    }\n",
              "\n",
              "    .dataframe thead th {\n",
              "        text-align: right;\n",
              "    }\n",
              "</style>\n",
              "<table border=\"1\" class=\"dataframe\">\n",
              "  <thead>\n",
              "    <tr style=\"text-align: right;\">\n",
              "      <th></th>\n",
              "      <th>mean_fit_time</th>\n",
              "      <th>std_fit_time</th>\n",
              "      <th>mean_score_time</th>\n",
              "      <th>std_score_time</th>\n",
              "      <th>param_classificador__objective</th>\n",
              "      <th>param_classificador__max_depth</th>\n",
              "      <th>param_classificador__learning_rate</th>\n",
              "      <th>param_classificador__colsample_bylevel</th>\n",
              "      <th>params</th>\n",
              "      <th>split0_test_score</th>\n",
              "      <th>split1_test_score</th>\n",
              "      <th>split2_test_score</th>\n",
              "      <th>split3_test_score</th>\n",
              "      <th>split4_test_score</th>\n",
              "      <th>mean_test_score</th>\n",
              "      <th>std_test_score</th>\n",
              "      <th>rank_test_score</th>\n",
              "    </tr>\n",
              "  </thead>\n",
              "  <tbody>\n",
              "    <tr>\n",
              "      <th>0</th>\n",
              "      <td>0.927716</td>\n",
              "      <td>0.194579</td>\n",
              "      <td>0.173811</td>\n",
              "      <td>0.075638</td>\n",
              "      <td>reg:squarederror</td>\n",
              "      <td>7</td>\n",
              "      <td>0.000647</td>\n",
              "      <td>0.024422</td>\n",
              "      <td>{'classificador__objective': 'reg:squarederror...</td>\n",
              "      <td>-40.374423</td>\n",
              "      <td>-43.839823</td>\n",
              "      <td>-38.264276</td>\n",
              "      <td>-39.076730</td>\n",
              "      <td>-43.749661</td>\n",
              "      <td>-41.060983</td>\n",
              "      <td>2.331572</td>\n",
              "      <td>29</td>\n",
              "    </tr>\n",
              "    <tr>\n",
              "      <th>1</th>\n",
              "      <td>0.646310</td>\n",
              "      <td>0.006254</td>\n",
              "      <td>0.129803</td>\n",
              "      <td>0.013059</td>\n",
              "      <td>reg:squarederror</td>\n",
              "      <td>3</td>\n",
              "      <td>0.005034</td>\n",
              "      <td>0.083564</td>\n",
              "      <td>{'classificador__objective': 'reg:squarederror...</td>\n",
              "      <td>-16.684255</td>\n",
              "      <td>-17.995025</td>\n",
              "      <td>-15.960769</td>\n",
              "      <td>-16.280752</td>\n",
              "      <td>-18.001913</td>\n",
              "      <td>-16.984543</td>\n",
              "      <td>0.859037</td>\n",
              "      <td>18</td>\n",
              "    </tr>\n",
              "    <tr>\n",
              "      <th>2</th>\n",
              "      <td>0.582222</td>\n",
              "      <td>0.009835</td>\n",
              "      <td>0.129461</td>\n",
              "      <td>0.012825</td>\n",
              "      <td>reg:squarederror</td>\n",
              "      <td>15</td>\n",
              "      <td>0.000904</td>\n",
              "      <td>0.019753</td>\n",
              "      <td>{'classificador__objective': 'reg:squarederror...</td>\n",
              "      <td>-38.345466</td>\n",
              "      <td>-41.623963</td>\n",
              "      <td>-36.364015</td>\n",
              "      <td>-37.134815</td>\n",
              "      <td>-41.541605</td>\n",
              "      <td>-39.001973</td>\n",
              "      <td>2.200030</td>\n",
              "      <td>25</td>\n",
              "    </tr>\n",
              "    <tr>\n",
              "      <th>3</th>\n",
              "      <td>0.597663</td>\n",
              "      <td>0.010905</td>\n",
              "      <td>0.128769</td>\n",
              "      <td>0.014314</td>\n",
              "      <td>reg:squarederror</td>\n",
              "      <td>8</td>\n",
              "      <td>0.002467</td>\n",
              "      <td>0.029183</td>\n",
              "      <td>{'classificador__objective': 'reg:squarederror...</td>\n",
              "      <td>-28.009267</td>\n",
              "      <td>-30.341696</td>\n",
              "      <td>-26.659956</td>\n",
              "      <td>-27.220346</td>\n",
              "      <td>-30.304899</td>\n",
              "      <td>-28.507233</td>\n",
              "      <td>1.543589</td>\n",
              "      <td>24</td>\n",
              "    </tr>\n",
              "    <tr>\n",
              "      <th>4</th>\n",
              "      <td>0.586417</td>\n",
              "      <td>0.010193</td>\n",
              "      <td>0.124658</td>\n",
              "      <td>0.010939</td>\n",
              "      <td>reg:squarederror</td>\n",
              "      <td>14</td>\n",
              "      <td>0.004049</td>\n",
              "      <td>0.004617</td>\n",
              "      <td>{'classificador__objective': 'reg:squarederror...</td>\n",
              "      <td>-20.375366</td>\n",
              "      <td>-22.015090</td>\n",
              "      <td>-19.485799</td>\n",
              "      <td>-19.894857</td>\n",
              "      <td>-22.005307</td>\n",
              "      <td>-20.755284</td>\n",
              "      <td>1.062632</td>\n",
              "      <td>20</td>\n",
              "    </tr>\n",
              "  </tbody>\n",
              "</table>\n",
              "</div>\n",
              "      <button class=\"colab-df-convert\" onclick=\"convertToInteractive('df-c2fce3d2-669e-4ab6-a627-331c3f85e2e7')\"\n",
              "              title=\"Convert this dataframe to an interactive table.\"\n",
              "              style=\"display:none;\">\n",
              "        \n",
              "  <svg xmlns=\"http://www.w3.org/2000/svg\" height=\"24px\"viewBox=\"0 0 24 24\"\n",
              "       width=\"24px\">\n",
              "    <path d=\"M0 0h24v24H0V0z\" fill=\"none\"/>\n",
              "    <path d=\"M18.56 5.44l.94 2.06.94-2.06 2.06-.94-2.06-.94-.94-2.06-.94 2.06-2.06.94zm-11 1L8.5 8.5l.94-2.06 2.06-.94-2.06-.94L8.5 2.5l-.94 2.06-2.06.94zm10 10l.94 2.06.94-2.06 2.06-.94-2.06-.94-.94-2.06-.94 2.06-2.06.94z\"/><path d=\"M17.41 7.96l-1.37-1.37c-.4-.4-.92-.59-1.43-.59-.52 0-1.04.2-1.43.59L10.3 9.45l-7.72 7.72c-.78.78-.78 2.05 0 2.83L4 21.41c.39.39.9.59 1.41.59.51 0 1.02-.2 1.41-.59l7.78-7.78 2.81-2.81c.8-.78.8-2.07 0-2.86zM5.41 20L4 18.59l7.72-7.72 1.47 1.35L5.41 20z\"/>\n",
              "  </svg>\n",
              "      </button>\n",
              "      \n",
              "  <style>\n",
              "    .colab-df-container {\n",
              "      display:flex;\n",
              "      flex-wrap:wrap;\n",
              "      gap: 12px;\n",
              "    }\n",
              "\n",
              "    .colab-df-convert {\n",
              "      background-color: #E8F0FE;\n",
              "      border: none;\n",
              "      border-radius: 50%;\n",
              "      cursor: pointer;\n",
              "      display: none;\n",
              "      fill: #1967D2;\n",
              "      height: 32px;\n",
              "      padding: 0 0 0 0;\n",
              "      width: 32px;\n",
              "    }\n",
              "\n",
              "    .colab-df-convert:hover {\n",
              "      background-color: #E2EBFA;\n",
              "      box-shadow: 0px 1px 2px rgba(60, 64, 67, 0.3), 0px 1px 3px 1px rgba(60, 64, 67, 0.15);\n",
              "      fill: #174EA6;\n",
              "    }\n",
              "\n",
              "    [theme=dark] .colab-df-convert {\n",
              "      background-color: #3B4455;\n",
              "      fill: #D2E3FC;\n",
              "    }\n",
              "\n",
              "    [theme=dark] .colab-df-convert:hover {\n",
              "      background-color: #434B5C;\n",
              "      box-shadow: 0px 1px 3px 1px rgba(0, 0, 0, 0.15);\n",
              "      filter: drop-shadow(0px 1px 2px rgba(0, 0, 0, 0.3));\n",
              "      fill: #FFFFFF;\n",
              "    }\n",
              "  </style>\n",
              "\n",
              "      <script>\n",
              "        const buttonEl =\n",
              "          document.querySelector('#df-c2fce3d2-669e-4ab6-a627-331c3f85e2e7 button.colab-df-convert');\n",
              "        buttonEl.style.display =\n",
              "          google.colab.kernel.accessAllowed ? 'block' : 'none';\n",
              "\n",
              "        async function convertToInteractive(key) {\n",
              "          const element = document.querySelector('#df-c2fce3d2-669e-4ab6-a627-331c3f85e2e7');\n",
              "          const dataTable =\n",
              "            await google.colab.kernel.invokeFunction('convertToInteractive',\n",
              "                                                     [key], {});\n",
              "          if (!dataTable) return;\n",
              "\n",
              "          const docLinkHtml = 'Like what you see? Visit the ' +\n",
              "            '<a target=\"_blank\" href=https://colab.research.google.com/notebooks/data_table.ipynb>data table notebook</a>'\n",
              "            + ' to learn more about interactive tables.';\n",
              "          element.innerHTML = '';\n",
              "          dataTable['output_type'] = 'display_data';\n",
              "          await google.colab.output.renderOutput(dataTable, element);\n",
              "          const docLink = document.createElement('div');\n",
              "          docLink.innerHTML = docLinkHtml;\n",
              "          element.appendChild(docLink);\n",
              "        }\n",
              "      </script>\n",
              "    </div>\n",
              "  </div>\n",
              "  "
            ]
          },
          "metadata": {},
          "execution_count": 29
        }
      ]
    },
    {
      "cell_type": "code",
      "source": [
        "resultados[['mean_test_score', 'params']].sort_values(by='mean_test_score', ascending=False).head(5)"
      ],
      "metadata": {
        "id": "3fF4sTUVVBQs",
        "outputId": "1542758e-4dd9-4f28-d8e3-afb3afa17b14",
        "colab": {
          "base_uri": "https://localhost:8080/",
          "height": 206
        }
      },
      "execution_count": 32,
      "outputs": [
        {
          "output_type": "execute_result",
          "data": {
            "text/plain": [
              "    mean_test_score                                             params\n",
              "26        -6.207668  {'classificador__objective': 'reg:squarederror...\n",
              "28        -6.564946  {'classificador__objective': 'reg:squarederror...\n",
              "17        -7.222949  {'classificador__objective': 'reg:squarederror...\n",
              "25        -7.235662  {'classificador__objective': 'reg:squarederror...\n",
              "15        -8.390394  {'classificador__objective': 'reg:squarederror..."
            ],
            "text/html": [
              "\n",
              "  <div id=\"df-4fba431f-b6b7-457c-8f4f-89d21a19f7fc\">\n",
              "    <div class=\"colab-df-container\">\n",
              "      <div>\n",
              "<style scoped>\n",
              "    .dataframe tbody tr th:only-of-type {\n",
              "        vertical-align: middle;\n",
              "    }\n",
              "\n",
              "    .dataframe tbody tr th {\n",
              "        vertical-align: top;\n",
              "    }\n",
              "\n",
              "    .dataframe thead th {\n",
              "        text-align: right;\n",
              "    }\n",
              "</style>\n",
              "<table border=\"1\" class=\"dataframe\">\n",
              "  <thead>\n",
              "    <tr style=\"text-align: right;\">\n",
              "      <th></th>\n",
              "      <th>mean_test_score</th>\n",
              "      <th>params</th>\n",
              "    </tr>\n",
              "  </thead>\n",
              "  <tbody>\n",
              "    <tr>\n",
              "      <th>26</th>\n",
              "      <td>-6.207668</td>\n",
              "      <td>{'classificador__objective': 'reg:squarederror...</td>\n",
              "    </tr>\n",
              "    <tr>\n",
              "      <th>28</th>\n",
              "      <td>-6.564946</td>\n",
              "      <td>{'classificador__objective': 'reg:squarederror...</td>\n",
              "    </tr>\n",
              "    <tr>\n",
              "      <th>17</th>\n",
              "      <td>-7.222949</td>\n",
              "      <td>{'classificador__objective': 'reg:squarederror...</td>\n",
              "    </tr>\n",
              "    <tr>\n",
              "      <th>25</th>\n",
              "      <td>-7.235662</td>\n",
              "      <td>{'classificador__objective': 'reg:squarederror...</td>\n",
              "    </tr>\n",
              "    <tr>\n",
              "      <th>15</th>\n",
              "      <td>-8.390394</td>\n",
              "      <td>{'classificador__objective': 'reg:squarederror...</td>\n",
              "    </tr>\n",
              "  </tbody>\n",
              "</table>\n",
              "</div>\n",
              "      <button class=\"colab-df-convert\" onclick=\"convertToInteractive('df-4fba431f-b6b7-457c-8f4f-89d21a19f7fc')\"\n",
              "              title=\"Convert this dataframe to an interactive table.\"\n",
              "              style=\"display:none;\">\n",
              "        \n",
              "  <svg xmlns=\"http://www.w3.org/2000/svg\" height=\"24px\"viewBox=\"0 0 24 24\"\n",
              "       width=\"24px\">\n",
              "    <path d=\"M0 0h24v24H0V0z\" fill=\"none\"/>\n",
              "    <path d=\"M18.56 5.44l.94 2.06.94-2.06 2.06-.94-2.06-.94-.94-2.06-.94 2.06-2.06.94zm-11 1L8.5 8.5l.94-2.06 2.06-.94-2.06-.94L8.5 2.5l-.94 2.06-2.06.94zm10 10l.94 2.06.94-2.06 2.06-.94-2.06-.94-.94-2.06-.94 2.06-2.06.94z\"/><path d=\"M17.41 7.96l-1.37-1.37c-.4-.4-.92-.59-1.43-.59-.52 0-1.04.2-1.43.59L10.3 9.45l-7.72 7.72c-.78.78-.78 2.05 0 2.83L4 21.41c.39.39.9.59 1.41.59.51 0 1.02-.2 1.41-.59l7.78-7.78 2.81-2.81c.8-.78.8-2.07 0-2.86zM5.41 20L4 18.59l7.72-7.72 1.47 1.35L5.41 20z\"/>\n",
              "  </svg>\n",
              "      </button>\n",
              "      \n",
              "  <style>\n",
              "    .colab-df-container {\n",
              "      display:flex;\n",
              "      flex-wrap:wrap;\n",
              "      gap: 12px;\n",
              "    }\n",
              "\n",
              "    .colab-df-convert {\n",
              "      background-color: #E8F0FE;\n",
              "      border: none;\n",
              "      border-radius: 50%;\n",
              "      cursor: pointer;\n",
              "      display: none;\n",
              "      fill: #1967D2;\n",
              "      height: 32px;\n",
              "      padding: 0 0 0 0;\n",
              "      width: 32px;\n",
              "    }\n",
              "\n",
              "    .colab-df-convert:hover {\n",
              "      background-color: #E2EBFA;\n",
              "      box-shadow: 0px 1px 2px rgba(60, 64, 67, 0.3), 0px 1px 3px 1px rgba(60, 64, 67, 0.15);\n",
              "      fill: #174EA6;\n",
              "    }\n",
              "\n",
              "    [theme=dark] .colab-df-convert {\n",
              "      background-color: #3B4455;\n",
              "      fill: #D2E3FC;\n",
              "    }\n",
              "\n",
              "    [theme=dark] .colab-df-convert:hover {\n",
              "      background-color: #434B5C;\n",
              "      box-shadow: 0px 1px 3px 1px rgba(0, 0, 0, 0.15);\n",
              "      filter: drop-shadow(0px 1px 2px rgba(0, 0, 0, 0.3));\n",
              "      fill: #FFFFFF;\n",
              "    }\n",
              "  </style>\n",
              "\n",
              "      <script>\n",
              "        const buttonEl =\n",
              "          document.querySelector('#df-4fba431f-b6b7-457c-8f4f-89d21a19f7fc button.colab-df-convert');\n",
              "        buttonEl.style.display =\n",
              "          google.colab.kernel.accessAllowed ? 'block' : 'none';\n",
              "\n",
              "        async function convertToInteractive(key) {\n",
              "          const element = document.querySelector('#df-4fba431f-b6b7-457c-8f4f-89d21a19f7fc');\n",
              "          const dataTable =\n",
              "            await google.colab.kernel.invokeFunction('convertToInteractive',\n",
              "                                                     [key], {});\n",
              "          if (!dataTable) return;\n",
              "\n",
              "          const docLinkHtml = 'Like what you see? Visit the ' +\n",
              "            '<a target=\"_blank\" href=https://colab.research.google.com/notebooks/data_table.ipynb>data table notebook</a>'\n",
              "            + ' to learn more about interactive tables.';\n",
              "          element.innerHTML = '';\n",
              "          dataTable['output_type'] = 'display_data';\n",
              "          await google.colab.output.renderOutput(dataTable, element);\n",
              "          const docLink = document.createElement('div');\n",
              "          docLink.innerHTML = docLinkHtml;\n",
              "          element.appendChild(docLink);\n",
              "        }\n",
              "      </script>\n",
              "    </div>\n",
              "  </div>\n",
              "  "
            ]
          },
          "metadata": {},
          "execution_count": 32
        }
      ]
    },
    {
      "cell_type": "code",
      "source": [
        "search.best_estimator_"
      ],
      "metadata": {
        "id": "_LyJ0SZCVxV7",
        "outputId": "11e1d449-5b1d-494d-b2c0-563d6cf5bbce",
        "colab": {
          "base_uri": "https://localhost:8080/"
        }
      },
      "execution_count": 33,
      "outputs": [
        {
          "output_type": "execute_result",
          "data": {
            "text/plain": [
              "Pipeline(steps=[('step_one',\n",
              "                 ColumnTransformer(remainder='passthrough',\n",
              "                                   transformers=[('sexo',\n",
              "                                                  Pipeline(steps=[('one_hot_encoder',\n",
              "                                                                   OneHotEncoder(drop='if_binary',\n",
              "                                                                                 sparse=False))]),\n",
              "                                                  ['TP_SEXO']),\n",
              "                                                 ('num04',\n",
              "                                                  Pipeline(steps=[('one_hot_num04_encoder',\n",
              "                                                                   OneHotEncoder(drop='if_binary',\n",
              "                                                                                 sparse=False))]),\n",
              "                                                  ['TP_ESTADO_CIVIL',\n",
              "                                                   'TP_NACIONALIDADE']),\n",
              "                                                 ('num05',\n",
              "                                                  Pipeline(steps=...\n",
              "                                                 ('region_prova',\n",
              "                                                  Pipeline(steps=[('oe_region_enconder',\n",
              "                                                                   OrdinalEncoder(handle_unknown='use_encoded_value',\n",
              "                                                                                  unknown_value=nan))]),\n",
              "                                                  ['REGIAO_PROVA']), ...])),\n",
              "                ('ss', StandardScaler()), ('imputer', ImputerWithMissingMark()),\n",
              "                ('classificador',\n",
              "                 XGBRegressor(colsample_bylevel=0.056466121062642496,\n",
              "                              learning_rate=0.009974372374457282, max_depth=2,\n",
              "                              objective='reg:squarederror'))])"
            ]
          },
          "metadata": {},
          "execution_count": 33
        }
      ]
    }
  ]
}