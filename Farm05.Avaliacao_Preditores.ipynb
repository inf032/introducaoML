{
  "cells": [
    {
      "cell_type": "markdown",
      "metadata": {
        "id": "view-in-github",
        "colab_type": "text"
      },
      "source": [
        "<a href=\"https://colab.research.google.com/github/inf032/introducaoML/blob/master/Farm05.Avaliacao_Preditores.ipynb\" target=\"_parent\"><img src=\"https://colab.research.google.com/assets/colab-badge.svg\" alt=\"Open In Colab\"/></a>"
      ]
    },
    {
      "cell_type": "code",
      "source": [
        "!pip install -q shap # Run this if you do not have shap installed"
      ],
      "metadata": {
        "id": "v-rYnzxYSCCK"
      },
      "id": "v-rYnzxYSCCK",
      "execution_count": 29,
      "outputs": []
    },
    {
      "cell_type": "markdown",
      "source": [
        "**Importação de Bibliotecas**"
      ],
      "metadata": {
        "id": "LVQbvlgf4RPv"
      },
      "id": "LVQbvlgf4RPv"
    },
    {
      "cell_type": "code",
      "execution_count": 30,
      "id": "ae43dca8",
      "metadata": {
        "id": "ae43dca8"
      },
      "outputs": [],
      "source": [
        "import numpy as np\n",
        "import pandas as pd\n",
        "import matplotlib.pyplot as plt\n",
        "import seaborn as sns\n",
        "import warnings\n",
        "import plotly.express as px\n",
        "\n",
        "from sklearn.preprocessing import LabelEncoder\n",
        "from sklearn.preprocessing import OrdinalEncoder\n",
        "from sklearn.preprocessing import OneHotEncoder\n",
        "from sklearn.preprocessing import StandardScaler\n",
        "from sklearn.pipeline import Pipeline\n",
        "from sklearn.compose import ColumnTransformer\n",
        "from sklearn.preprocessing import LabelEncoder\n",
        "\n",
        "from sklearn.model_selection import train_test_split \n",
        "from sklearn.ensemble import RandomForestClassifier\n",
        "from sklearn.metrics  import mean_squared_error\n",
        "from sklearn.dummy import DummyRegressor\n",
        "\n",
        "from sklearn.base import BaseEstimator, TransformerMixin\n",
        "from sklearn.impute import KNNImputer\n",
        "from sklearn.impute._base import _BaseImputer\n",
        "\n",
        "from sklearn.tree import DecisionTreeClassifier\n",
        "\n",
        "warnings.filterwarnings('once')"
      ]
    },
    {
      "cell_type": "markdown",
      "source": [
        "**Classe para imputação e coluna de missing**"
      ],
      "metadata": {
        "id": "sCL5-NCX4VnW"
      },
      "id": "sCL5-NCX4VnW"
    },
    {
      "cell_type": "code",
      "source": [
        "class ImputerWithMissingMark (BaseEstimator, TransformerMixin):\n",
        "\n",
        "    def transformColunas_IMPUTED(self, X) -> pd.DataFrame :\n",
        "      copia = X.copy()\n",
        "      for col in self.col_name_with_nan :\n",
        "          copia[f'{col}{self.postfix}'] = copia[col].isna().astype(int)\n",
        "      return copia      \n",
        "\n",
        "    def col_with_nan(self, X) -> list:\n",
        "      list_col_with_nan = []\n",
        "      copia = X.copy()\n",
        "      for col in copia.columns :\n",
        "        if(copia[col].isna().sum() > 0) :\n",
        "          list_col_with_nan.append(col)\n",
        "      return list_col_with_nan\n",
        "\n",
        "    def col_num_with_nan(self, X) -> list:\n",
        "      cols = X.shape[1]\n",
        "      list_col_with_nan = []\n",
        "      for col in range(cols):    \n",
        "          if(np.count_nonzero(np.isnan(X[:,col])) > 0) :  \n",
        "              list_col_with_nan.append(col)\n",
        "      return list_col_with_nan        \n",
        "\n",
        "    def __init__(self, imputer=KNNImputer(), postfix = '_IMPUTED'):\n",
        "      self.imputer = imputer\n",
        "      self.col_name = None\n",
        "      self.fitted = False\n",
        "      self.col_name_with_nan = None\n",
        "      self.col_number_with_nan = None\n",
        "      self.postfix = postfix\n",
        "\n",
        "    def fit_DF(self, X):\n",
        "      self.col_name = X.columns.values\n",
        "      self.col_name_with_nan = self.col_with_nan(X)\n",
        "\n",
        "    def fit_NP(self, X):\n",
        "      self.col_number_with_nan = self.col_num_with_nan(X)\n",
        "\n",
        "    def transform_DF(self, X):\n",
        "      copia = self.transformColunas_IMPUTED(X)\n",
        "      transformed = pd.DataFrame(self.imputer.transform(copia[self.col_name]))\n",
        "      transformed.columns = X.columns\n",
        "      transformed.index = X.index\n",
        "      for col in self.col_name_with_nan :\n",
        "        transformed[f'{col}{self.postfix}'] = copia[f'{col}{self.postfix}']\n",
        "      return transformed\n",
        "\n",
        "    def transform_NP(self, X):\n",
        "      transformed = np.copy(X)\n",
        "      vazio = np.zeros(shape=(X.shape[0], 0))\n",
        "      for col in self.col_number_with_nan:\n",
        "        a_nan = [1 if np.isnan(x) else 0 for x in transformed[:,col]]\n",
        "        vazio = np.append(vazio, np.c_[a_nan], axis = 1)\n",
        "      transformed = self.imputer.transform(transformed)  \n",
        "      for col in range(vazio.shape[1]) :\n",
        "        transformed = np.append(transformed, np.c_[vazio[:, col]], axis = 1)\n",
        "      return transformed      \n",
        "\n",
        "    def fit(self, X, y=None):\n",
        "      if(self.fitted == False) :\n",
        "        self.fitted = True\n",
        "        if(type(X) == pd.DataFrame) :\n",
        "          self.fit_DF(X)\n",
        "        else :\n",
        "          self.fit_NP(X)  \n",
        "        self.imputer.fit(X)\n",
        "      return self\n",
        "\n",
        "    def transform(self, X, y=None):\n",
        "      if(self.fitted == True) :\n",
        "        if(self.col_name is not None) :\n",
        "          transformed = self.transform_DF(X)    \n",
        "        else :\n",
        "          transformed = self.transform_NP(X)    \n",
        "        return transformed\n",
        "      else :\n",
        "        return X\n",
        "\n",
        "    def get_params(self, deep=True):\n",
        "      # retorna um dicionário com os atributos e seus respectivos valores\n",
        "      return {\"imputer\": self.imputer, \n",
        "              \"postfix\": self.postfix}\n",
        "      \n",
        "    def set_params(self, **parameters):\n",
        "      # iterando pelos elementos passados e definindo-os na classe\n",
        "      for parameter, value in parameters.items():\n",
        "        setattr(self, parameter, value)\n",
        "      return self "
      ],
      "metadata": {
        "id": "_50KC6LolTY_"
      },
      "id": "_50KC6LolTY_",
      "execution_count": 31,
      "outputs": []
    },
    {
      "cell_type": "markdown",
      "source": [
        "**Leitura dos Dados**\n"
      ],
      "metadata": {
        "id": "WlFfqtdgtLdj"
      },
      "id": "WlFfqtdgtLdj"
    },
    {
      "cell_type": "code",
      "execution_count": 32,
      "id": "91409b52",
      "metadata": {
        "id": "91409b52",
        "outputId": "4d6215d3-be55-4cd1-8450-9117d9ecda7c",
        "colab": {
          "base_uri": "https://localhost:8080/"
        }
      },
      "outputs": [
        {
          "output_type": "stream",
          "name": "stdout",
          "text": [
            "Holdout: 168 individuos em treino. 57 individuos em teste.\n"
          ]
        }
      ],
      "source": [
        "SEED = 48\n",
        "np.random.seed(SEED)\n",
        "warnings.filterwarnings(action='once')\n",
        "\n",
        "df = pd.read_csv('https://raw.githubusercontent.com/inf032/introducaoML/master/data/farmaco.csv')\n",
        "df.columns = ['IDADE', 'SEXO', 'PA', 'COLESTEROL', 'NA_K', 'FARMACO']\n",
        "preditoras = ['IDADE', 'SEXO', 'PA', 'COLESTEROL', 'NA_K']\n",
        "alvo = 'FARMACO'\n",
        "\n",
        "X = df[preditoras]\n",
        "y = df[alvo]\n",
        "\n",
        "X_train, X_test, y_train, y_test = train_test_split(X, y, test_size=0.25, stratify=y, random_state=SEED)\n",
        "\n",
        "\n",
        "print(f'Holdout: {X_train.shape[0]} individuos em treino. {X_test.shape[0]} individuos em teste.')"
      ]
    },
    {
      "cell_type": "markdown",
      "source": [
        "**Definindo pré-processamento e transformadores**"
      ],
      "metadata": {
        "id": "EgLF_OhL6G8v"
      },
      "id": "EgLF_OhL6G8v"
    },
    {
      "cell_type": "code",
      "source": [
        "feature_list = ['PA', 'COLESTEROL', 'SEXO', 'IDADE', 'NA_K', 'IDADE_IMPUTED', 'PA_IMPUTED', 'COLESTEROL_IMPUTED', 'NA_K_IMPUTED']\n",
        "\n",
        "ordinal_transformer = Pipeline(steps=[('ordinal_encoder', OrdinalEncoder(categories=[['LOW', 'NORMAL', 'HIGH'], \n",
        "                                                                                     ['LOW', 'NORMAL', 'HIGH']], \n",
        "                                                                          handle_unknown='use_encoded_value',\n",
        "                                                                          unknown_value=np.nan))\n",
        "                                     ])\n",
        "onehot_transformer = Pipeline(steps=[('one_hot_encoder',  OneHotEncoder(drop='if_binary', sparse=False))])\n",
        "\n",
        "\n",
        "col_transformer = ColumnTransformer(transformers=[('pa_colesterol', ordinal_transformer, ['PA', 'COLESTEROL']),\n",
        "                                                  ('sex', onehot_transformer, ['SEXO'])],\n",
        "                                    remainder='passthrough')\n",
        "\n",
        "\n",
        "transformer = Pipeline(steps=[('step_one', col_transformer), ('ss',  StandardScaler()),\n",
        "                              ('imputer', ImputerWithMissingMark())])\n",
        "\n",
        "le = LabelEncoder()"
      ],
      "metadata": {
        "id": "-PPHanbrEfDs"
      },
      "id": "-PPHanbrEfDs",
      "execution_count": 33,
      "outputs": []
    },
    {
      "cell_type": "markdown",
      "source": [
        "**Ajustando pré-processadores**"
      ],
      "metadata": {
        "id": "Zmjn5p0F6xy3"
      },
      "id": "Zmjn5p0F6xy3"
    },
    {
      "cell_type": "code",
      "source": [
        "le.fit(y_train)\n",
        "\n",
        "tree = DecisionTreeClassifier(criterion='gini', max_depth=10, \n",
        "                              min_samples_leaf = 2, min_samples_split = 3, \n",
        "                              random_state=SEED)\n",
        "\n",
        "modelo = Pipeline(steps=[('transformer', transformer),\n",
        "                         ('classificador',  tree)])  \n",
        "\n",
        "modelo.fit(X_train, le.transform(y_train))"
      ],
      "metadata": {
        "id": "jOdqMWXOGBsN",
        "colab": {
          "base_uri": "https://localhost:8080/"
        },
        "outputId": "fba52fca-6d67-430f-b43c-ba19f56e2520"
      },
      "id": "jOdqMWXOGBsN",
      "execution_count": 34,
      "outputs": [
        {
          "output_type": "execute_result",
          "data": {
            "text/plain": [
              "Pipeline(steps=[('transformer',\n",
              "                 Pipeline(steps=[('step_one',\n",
              "                                  ColumnTransformer(remainder='passthrough',\n",
              "                                                    transformers=[('pa_colesterol',\n",
              "                                                                   Pipeline(steps=[('ordinal_encoder',\n",
              "                                                                                    OrdinalEncoder(categories=[['LOW',\n",
              "                                                                                                                'NORMAL',\n",
              "                                                                                                                'HIGH'],\n",
              "                                                                                                               ['LOW',\n",
              "                                                                                                                'NORMAL',\n",
              "                                                                                                                'HIGH']],\n",
              "                                                                                                   handle_unknown='use_encoded_value',\n",
              "                                                                                                   unknown_value=nan))]),\n",
              "                                                                   ['PA',\n",
              "                                                                    'COLESTEROL']),\n",
              "                                                                  ('sex',\n",
              "                                                                   Pipeline(steps=[('one_hot_encoder',\n",
              "                                                                                    OneHotEncoder(drop='if_binary',\n",
              "                                                                                                  sparse=False))]),\n",
              "                                                                   ['SEXO'])])),\n",
              "                                 ('ss', StandardScaler()),\n",
              "                                 ('imputer', ImputerWithMissingMark())])),\n",
              "                ('classificador',\n",
              "                 DecisionTreeClassifier(max_depth=10, min_samples_leaf=2,\n",
              "                                        min_samples_split=3,\n",
              "                                        random_state=48))])"
            ]
          },
          "metadata": {},
          "execution_count": 34
        }
      ]
    },
    {
      "cell_type": "markdown",
      "source": [
        "**Calculando o score do modelo original (com todas as features)**\n"
      ],
      "metadata": {
        "id": "LMYRvCgz7a9Z"
      },
      "id": "LMYRvCgz7a9Z"
    },
    {
      "cell_type": "code",
      "source": [
        "def score_modelo(X_train, y_train, X_test, y_test) :\n",
        "  tree = DecisionTreeClassifier(criterion='gini', max_depth=10, \n",
        "                                min_samples_leaf = 2, min_samples_split = 3, \n",
        "                                random_state=SEED)\n",
        "  le = LabelEncoder()\n",
        "  le.fit(y_train)\n",
        "  tree.fit(X_train, le.transform(y_train))\n",
        "  score_original = tree.score(X_test, le.transform(y_test))\n",
        "  return X_train.shape[1], score_original"
      ],
      "metadata": {
        "id": "SevYPyP77brJ"
      },
      "id": "SevYPyP77brJ",
      "execution_count": 35,
      "outputs": []
    },
    {
      "cell_type": "code",
      "source": [
        "X_train_transformed = transformer.fit_transform(X_train)\n",
        "X_test_transformed = transformer.transform(X_test)\n",
        "qtde_var_original, score_original = score_modelo(X_train_transformed, y_train, X_test_transformed, y_test)\n",
        "print(f'Score do modelo com {qtde_var_original} entradas: {np.round(score_original * 100, 5)}%')"
      ],
      "metadata": {
        "colab": {
          "base_uri": "https://localhost:8080/"
        },
        "id": "5xQXte4xfvzD",
        "outputId": "736025b9-f9e2-4613-c899-f8d63d3b80d5"
      },
      "id": "5xQXte4xfvzD",
      "execution_count": 36,
      "outputs": [
        {
          "output_type": "stream",
          "name": "stdout",
          "text": [
            "Score do modelo com 9 entradas: 96.49123%\n"
          ]
        }
      ]
    },
    {
      "cell_type": "markdown",
      "source": [
        "**Função de Predição**\n",
        "\n"
      ],
      "metadata": {
        "id": "HZi3YynPDpb8"
      },
      "id": "HZi3YynPDpb8"
    },
    {
      "cell_type": "code",
      "source": [
        "def predicao_valor(modelo, idade, pa, colesterol, na_k, sexo) :\n",
        "  dados_paciente = {'IDADE': [idade], 'PA': [pa] , 'COLESTEROL' : [colesterol], 'NA_K' : [na_k], 'SEXO' : [sexo]}\n",
        "  dataFrame_paciente = pd.DataFrame(data = dados_paciente)\n",
        "  predicao = modelo.predict(dataFrame_paciente)[0]\n",
        "  return predicao\n",
        "\n",
        "def predicao(modelo, le, idade, pa, colesterol, na_k, sexo) :\n",
        "  return le.inverse_transform([predicao_valor(modelo, idade, pa, colesterol, na_k, sexo)])[0]\n",
        "\n",
        "def predicao_prob(modelo, le, idade, pa, colesterol, na_k, sexo) :\n",
        "  dados_paciente = {'IDADE': [idade], 'PA': [pa] , 'COLESTEROL' : [colesterol], 'NA_K' : [na_k], 'SEXO' : [sexo]}\n",
        "  dataFrame_paciente = pd.DataFrame(data = dados_paciente)\n",
        "  predicao = modelo.predict_proba(dataFrame_paciente)[0]\n",
        "  return predicao[0], predicao[1]"
      ],
      "metadata": {
        "id": "p1MdvRhQDpDN"
      },
      "id": "p1MdvRhQDpDN",
      "execution_count": 37,
      "outputs": []
    },
    {
      "cell_type": "markdown",
      "source": [
        "**Exercitando a Função de Probabilidade de Predição**"
      ],
      "metadata": {
        "id": "tI2RFGKDHCu0"
      },
      "id": "tI2RFGKDHCu0"
    },
    {
      "cell_type": "code",
      "source": [
        "classe_medA, classe_medB = predicao_prob(modelo, le, 51, 'HIGH', 'NORMAL', 10, 'M')\n",
        "print(classe_medA, classe_medB )"
      ],
      "metadata": {
        "colab": {
          "base_uri": "https://localhost:8080/"
        },
        "id": "ttrZiNeEENvk",
        "outputId": "4422f3b9-7bab-46af-d5e5-0bfd10deca28"
      },
      "id": "ttrZiNeEENvk",
      "execution_count": 38,
      "outputs": [
        {
          "output_type": "stream",
          "name": "stdout",
          "text": [
            "1.0 0.0\n"
          ]
        }
      ]
    },
    {
      "cell_type": "markdown",
      "source": [
        "**Exercitando a Função de Predição**"
      ],
      "metadata": {
        "id": "-ApJxqM_JgXM"
      },
      "id": "-ApJxqM_JgXM"
    },
    {
      "cell_type": "code",
      "source": [
        "print(predicao(modelo, le, 51, 'HIGH', 'NORMAL', 10, 'M'))\n",
        "print(predicao(modelo, le, 50, 'HIGH', 'NORMAL', 10, 'M'))"
      ],
      "metadata": {
        "colab": {
          "base_uri": "https://localhost:8080/"
        },
        "id": "oZmvPPQyEpSD",
        "outputId": "f3b51c3b-18fc-48f2-af27-c1db7606c61c"
      },
      "id": "oZmvPPQyEpSD",
      "execution_count": 39,
      "outputs": [
        {
          "output_type": "stream",
          "name": "stdout",
          "text": [
            "MEDA\n",
            "MEDB\n"
          ]
        }
      ]
    },
    {
      "cell_type": "markdown",
      "source": [
        "**Avaliação não agnóstica, dependente do modelo**"
      ],
      "metadata": {
        "id": "JIj63VOHyPb1"
      },
      "id": "JIj63VOHyPb1"
    },
    {
      "cell_type": "code",
      "source": [
        "importances = modelo['classificador'].feature_importances_\n",
        "indices = np.argsort(importances)\n",
        "plt.figure(figsize=(10,5))\n",
        "plt.title('Features +importante')\n",
        "plt.barh(range(len(indices)), importances[indices], color='g', align='center',linestyle=\"solid\",alpha=0.8)\n",
        "plt.yticks(range(len(indices)), [feature_list[i] for i in indices])\n",
        "plt.xlabel('Importância')\n",
        "plt.show()"
      ],
      "metadata": {
        "id": "BSW4YBwe1VV1",
        "outputId": "edd49ce8-c764-4167-e5bf-32ddec34f6eb",
        "colab": {
          "base_uri": "https://localhost:8080/",
          "height": 350
        }
      },
      "id": "BSW4YBwe1VV1",
      "execution_count": 50,
      "outputs": [
        {
          "output_type": "display_data",
          "data": {
            "text/plain": [
              "<Figure size 720x360 with 1 Axes>"
            ],
            "image/png": "[encoded data removed]"
          },
          "metadata": {
            "needs_background": "light"
          }
        }
      ]
    },
    {
      "cell_type": "markdown",
      "source": [
        "**Inicializando a biblioteca de [SHAP](https://shap.readthedocs.io/en/latest/index.html) Value**"
      ],
      "metadata": {
        "id": "s0NnY_z58PMg"
      },
      "id": "s0NnY_z58PMg"
    },
    {
      "cell_type": "code",
      "source": [
        "import shap\n",
        "shap.initjs() \n",
        "\n",
        "explainer = shap.TreeExplainer(model=modelo['classificador'],\n",
        "                               feature_names=feature_list)\n",
        "shap_values = explainer.shap_values(X_train_transformed)\n"
      ],
      "metadata": {
        "id": "2sj25bxvRwW5"
      },
      "id": "2sj25bxvRwW5",
      "execution_count": null,
      "outputs": []
    },
    {
      "cell_type": "markdown",
      "source": [
        "**Esperança de uma instância ser calculada como MEDA e como MEDB**\n",
        "\n",
        "> Valor que o modelo escolhe para MEDA / MEDB se não souber nada sobre o paciente\n",
        "\n"
      ],
      "metadata": {
        "id": "Qs3CbckS_PkN"
      },
      "id": "Qs3CbckS_PkN"
    },
    {
      "cell_type": "code",
      "source": [
        "explainer.expected_value"
      ],
      "metadata": {
        "id": "sHNvfqQn-1wf"
      },
      "id": "sHNvfqQn-1wf",
      "execution_count": null,
      "outputs": []
    },
    {
      "cell_type": "markdown",
      "source": [
        "**Analisando as predições do conjunto de treinamento**"
      ],
      "metadata": {
        "id": "gwEmKflRVhB7"
      },
      "id": "gwEmKflRVhB7"
    },
    {
      "cell_type": "code",
      "source": [
        "valor = 0\n",
        "shap.initjs() \n",
        "shap_values = explainer.shap_values(X_train_transformed)\n",
        "shap.force_plot(explainer.expected_value[valor], \n",
        "                shap_values[valor], X_train_transformed, \n",
        "                feature_names=feature_list)\n"
      ],
      "metadata": {
        "id": "8WqQ2aWrVUwL"
      },
      "id": "8WqQ2aWrVUwL",
      "execution_count": null,
      "outputs": []
    },
    {
      "cell_type": "markdown",
      "source": [
        "**Explicando uma predição**"
      ],
      "metadata": {
        "id": "b5sv_BkkP1d6"
      },
      "id": "b5sv_BkkP1d6"
    },
    {
      "cell_type": "code",
      "source": [
        "idade = 24\n",
        "pa = 'LOW'\n",
        "colesterol = 'LOW'\n",
        "na_k = 30\n",
        "sexo = 'M'\n",
        "dados_paciente = {'IDADE': [idade], 'PA': [pa] , 'COLESTEROL' : [colesterol], 'NA_K' : [na_k], 'SEXO' : [sexo]}\n",
        "dataFrame_paciente = pd.DataFrame(data = dados_paciente)\n",
        "predicao_valor = modelo.predict(dataFrame_paciente)[0]\n",
        "data_paciente_transformed = modelo['transformer'].transform(dataFrame_paciente)\n",
        "print(f'Predição: {le.inverse_transform(modelo.predict(dataFrame_paciente))}')"
      ],
      "metadata": {
        "id": "fdJsIgqwQk0j"
      },
      "id": "fdJsIgqwQk0j",
      "execution_count": null,
      "outputs": []
    },
    {
      "cell_type": "code",
      "source": [
        "shap.initjs() \n",
        "shap_values = explainer.shap_values(data_paciente_transformed)\n",
        "shap.force_plot(explainer.expected_value[predicao_valor], shap_values[predicao_valor][0,:], data_paciente_transformed[0,:], feature_names=feature_list)\n"
      ],
      "metadata": {
        "id": "TOsOPyKhN9F5"
      },
      "id": "TOsOPyKhN9F5",
      "execution_count": null,
      "outputs": []
    },
    {
      "cell_type": "code",
      "source": [
        "shap.plots._waterfall.waterfall_legacy(expected_value=explainer.expected_value[predicao_valor],\n",
        "                                       shap_values=shap_values[predicao_valor][0,:], show=True, feature_names=feature_list)"
      ],
      "metadata": {
        "id": "sDNfKiX8ggvj"
      },
      "id": "sDNfKiX8ggvj",
      "execution_count": null,
      "outputs": []
    },
    {
      "cell_type": "markdown",
      "source": [
        "**Gráfico Resumo indicando as features com maior SHAP Value**"
      ],
      "metadata": {
        "id": "_RkzvVQpUBZx"
      },
      "id": "_RkzvVQpUBZx"
    },
    {
      "cell_type": "code",
      "source": [
        "shap.summary_plot(shap_values, features=X_train_transformed, feature_names=feature_list, plot_type='bar', plot_size=(10,8))"
      ],
      "metadata": {
        "id": "T6_9ypK2PvaY"
      },
      "id": "T6_9ypK2PvaY",
      "execution_count": null,
      "outputs": []
    },
    {
      "cell_type": "markdown",
      "source": [
        "**Avaliando a contribuição das features pra predição de MEDA**"
      ],
      "metadata": {
        "id": "S7mJ8mTIYmWA"
      },
      "id": "S7mJ8mTIYmWA"
    },
    {
      "cell_type": "code",
      "source": [
        "shap_values = explainer.shap_values(X_train_transformed)\n",
        "shap.summary_plot(shap_values[0], X_train_transformed, feature_names=feature_list, plot_type=\"dot\", plot_size=(10,8));"
      ],
      "metadata": {
        "id": "EoDYmAgdCsRj"
      },
      "id": "EoDYmAgdCsRj",
      "execution_count": null,
      "outputs": []
    },
    {
      "cell_type": "markdown",
      "source": [
        "**Avaliando a contribuição de uma feature pra predição de MEDA**"
      ],
      "metadata": {
        "id": "79-4UTyXhWoH"
      },
      "id": "79-4UTyXhWoH"
    },
    {
      "cell_type": "code",
      "source": [
        "shap.dependence_plot(feature_list.index('NA_K'), shap_values[0], X_train_transformed, interaction_index=None)"
      ],
      "metadata": {
        "id": "dlGYXN15anOR"
      },
      "id": "dlGYXN15anOR",
      "execution_count": null,
      "outputs": []
    },
    {
      "cell_type": "markdown",
      "source": [
        "**Avaliando a contribuição e correlação de mais de uma feature pra predição de MEDA**"
      ],
      "metadata": {
        "id": "PY3qcPxehdJg"
      },
      "id": "PY3qcPxehdJg"
    },
    {
      "cell_type": "code",
      "source": [
        "shap.dependence_plot(feature_list.index('NA_K'), shap_values[0], X_train_transformed, interaction_index=feature_list.index('PA'))"
      ],
      "metadata": {
        "id": "vwD351T7eRen"
      },
      "id": "vwD351T7eRen",
      "execution_count": null,
      "outputs": []
    }
  ],
  "metadata": {
    "kernelspec": {
      "display_name": "Python 3 (ipykernel)",
      "language": "python",
      "name": "python3"
    },
    "language_info": {
      "codemirror_mode": {
        "name": "ipython",
        "version": 3
      },
      "file_extension": ".py",
      "mimetype": "text/x-python",
      "name": "python",
      "nbconvert_exporter": "python",
      "pygments_lexer": "ipython3",
      "version": "3.9.7"
    },
    "colab": {
      "provenance": [],
      "include_colab_link": true
    }
  },
  "nbformat": 4,
  "nbformat_minor": 5
}