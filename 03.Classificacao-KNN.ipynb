{
  "cells": [
    {
      "cell_type": "markdown",
      "id": "73d45a39",
      "metadata": {
        "id": "73d45a39"
      },
      "source": [
        "<h3> Importando as bibliotecas Pandas, Seaborn e SciKit Learn </h3>\n"
      ]
    },
    {
      "cell_type": "code",
      "execution_count": 1,
      "id": "5044637e",
      "metadata": {
        "id": "5044637e"
      },
      "outputs": [],
      "source": [
        "import numpy as np\n",
        "import pandas as pd\n",
        "import matplotlib.pyplot as plt\n",
        "import seaborn as sns\n",
        "import warnings\n",
        "from sklearn.model_selection import train_test_split"
      ]
    },
    {
      "cell_type": "code",
      "execution_count": 2,
      "id": "17c05c24",
      "metadata": {
        "id": "17c05c24"
      },
      "outputs": [],
      "source": [
        "np.random.seed(42)\n",
        "warnings.filterwarnings(action='once')"
      ]
    },
    {
      "cell_type": "markdown",
      "id": "b3a95c1f",
      "metadata": {
        "id": "b3a95c1f"
      },
      "source": [
        "<h3>Lendo dados dos individuos (X1 e X2) e preparando o indivíduo (PONTO) a ser classificado</h3>"
      ]
    },
    {
      "cell_type": "code",
      "execution_count": 4,
      "id": "cadf2129",
      "metadata": {
        "id": "cadf2129",
        "outputId": "fba86873-136e-4ebf-90e9-263125be3a19",
        "colab": {
          "base_uri": "https://localhost:8080/",
          "height": 363
        }
      },
      "outputs": [
        {
          "output_type": "execute_result",
          "data": {
            "text/plain": [
              "    X1   X2  TIPO\n",
              "0  5.0  1.0     1\n",
              "1  3.0  2.0     1\n",
              "2  5.5  2.5     1\n",
              "3  4.0  3.0     1\n",
              "4  6.0  3.5     1\n",
              "5  2.5  4.0     2\n",
              "6  3.0  4.5     2\n",
              "7  2.0  6.0     2\n",
              "8  2.0  7.0     2\n",
              "9  3.0  7.0     2"
            ],
            "text/html": [
              "\n",
              "  <div id=\"df-f06a2085-c781-4f2b-8eee-9d444b452647\">\n",
              "    <div class=\"colab-df-container\">\n",
              "      <div>\n",
              "<style scoped>\n",
              "    .dataframe tbody tr th:only-of-type {\n",
              "        vertical-align: middle;\n",
              "    }\n",
              "\n",
              "    .dataframe tbody tr th {\n",
              "        vertical-align: top;\n",
              "    }\n",
              "\n",
              "    .dataframe thead th {\n",
              "        text-align: right;\n",
              "    }\n",
              "</style>\n",
              "<table border=\"1\" class=\"dataframe\">\n",
              "  <thead>\n",
              "    <tr style=\"text-align: right;\">\n",
              "      <th></th>\n",
              "      <th>X1</th>\n",
              "      <th>X2</th>\n",
              "      <th>TIPO</th>\n",
              "    </tr>\n",
              "  </thead>\n",
              "  <tbody>\n",
              "    <tr>\n",
              "      <th>0</th>\n",
              "      <td>5.0</td>\n",
              "      <td>1.0</td>\n",
              "      <td>1</td>\n",
              "    </tr>\n",
              "    <tr>\n",
              "      <th>1</th>\n",
              "      <td>3.0</td>\n",
              "      <td>2.0</td>\n",
              "      <td>1</td>\n",
              "    </tr>\n",
              "    <tr>\n",
              "      <th>2</th>\n",
              "      <td>5.5</td>\n",
              "      <td>2.5</td>\n",
              "      <td>1</td>\n",
              "    </tr>\n",
              "    <tr>\n",
              "      <th>3</th>\n",
              "      <td>4.0</td>\n",
              "      <td>3.0</td>\n",
              "      <td>1</td>\n",
              "    </tr>\n",
              "    <tr>\n",
              "      <th>4</th>\n",
              "      <td>6.0</td>\n",
              "      <td>3.5</td>\n",
              "      <td>1</td>\n",
              "    </tr>\n",
              "    <tr>\n",
              "      <th>5</th>\n",
              "      <td>2.5</td>\n",
              "      <td>4.0</td>\n",
              "      <td>2</td>\n",
              "    </tr>\n",
              "    <tr>\n",
              "      <th>6</th>\n",
              "      <td>3.0</td>\n",
              "      <td>4.5</td>\n",
              "      <td>2</td>\n",
              "    </tr>\n",
              "    <tr>\n",
              "      <th>7</th>\n",
              "      <td>2.0</td>\n",
              "      <td>6.0</td>\n",
              "      <td>2</td>\n",
              "    </tr>\n",
              "    <tr>\n",
              "      <th>8</th>\n",
              "      <td>2.0</td>\n",
              "      <td>7.0</td>\n",
              "      <td>2</td>\n",
              "    </tr>\n",
              "    <tr>\n",
              "      <th>9</th>\n",
              "      <td>3.0</td>\n",
              "      <td>7.0</td>\n",
              "      <td>2</td>\n",
              "    </tr>\n",
              "  </tbody>\n",
              "</table>\n",
              "</div>\n",
              "      <button class=\"colab-df-convert\" onclick=\"convertToInteractive('df-f06a2085-c781-4f2b-8eee-9d444b452647')\"\n",
              "              title=\"Convert this dataframe to an interactive table.\"\n",
              "              style=\"display:none;\">\n",
              "        \n",
              "  <svg xmlns=\"http://www.w3.org/2000/svg\" height=\"24px\"viewBox=\"0 0 24 24\"\n",
              "       width=\"24px\">\n",
              "    <path d=\"M0 0h24v24H0V0z\" fill=\"none\"/>\n",
              "    <path d=\"M18.56 5.44l.94 2.06.94-2.06 2.06-.94-2.06-.94-.94-2.06-.94 2.06-2.06.94zm-11 1L8.5 8.5l.94-2.06 2.06-.94-2.06-.94L8.5 2.5l-.94 2.06-2.06.94zm10 10l.94 2.06.94-2.06 2.06-.94-2.06-.94-.94-2.06-.94 2.06-2.06.94z\"/><path d=\"M17.41 7.96l-1.37-1.37c-.4-.4-.92-.59-1.43-.59-.52 0-1.04.2-1.43.59L10.3 9.45l-7.72 7.72c-.78.78-.78 2.05 0 2.83L4 21.41c.39.39.9.59 1.41.59.51 0 1.02-.2 1.41-.59l7.78-7.78 2.81-2.81c.8-.78.8-2.07 0-2.86zM5.41 20L4 18.59l7.72-7.72 1.47 1.35L5.41 20z\"/>\n",
              "  </svg>\n",
              "      </button>\n",
              "      \n",
              "  <style>\n",
              "    .colab-df-container {\n",
              "      display:flex;\n",
              "      flex-wrap:wrap;\n",
              "      gap: 12px;\n",
              "    }\n",
              "\n",
              "    .colab-df-convert {\n",
              "      background-color: #E8F0FE;\n",
              "      border: none;\n",
              "      border-radius: 50%;\n",
              "      cursor: pointer;\n",
              "      display: none;\n",
              "      fill: #1967D2;\n",
              "      height: 32px;\n",
              "      padding: 0 0 0 0;\n",
              "      width: 32px;\n",
              "    }\n",
              "\n",
              "    .colab-df-convert:hover {\n",
              "      background-color: #E2EBFA;\n",
              "      box-shadow: 0px 1px 2px rgba(60, 64, 67, 0.3), 0px 1px 3px 1px rgba(60, 64, 67, 0.15);\n",
              "      fill: #174EA6;\n",
              "    }\n",
              "\n",
              "    [theme=dark] .colab-df-convert {\n",
              "      background-color: #3B4455;\n",
              "      fill: #D2E3FC;\n",
              "    }\n",
              "\n",
              "    [theme=dark] .colab-df-convert:hover {\n",
              "      background-color: #434B5C;\n",
              "      box-shadow: 0px 1px 3px 1px rgba(0, 0, 0, 0.15);\n",
              "      filter: drop-shadow(0px 1px 2px rgba(0, 0, 0, 0.3));\n",
              "      fill: #FFFFFF;\n",
              "    }\n",
              "  </style>\n",
              "\n",
              "      <script>\n",
              "        const buttonEl =\n",
              "          document.querySelector('#df-f06a2085-c781-4f2b-8eee-9d444b452647 button.colab-df-convert');\n",
              "        buttonEl.style.display =\n",
              "          google.colab.kernel.accessAllowed ? 'block' : 'none';\n",
              "\n",
              "        async function convertToInteractive(key) {\n",
              "          const element = document.querySelector('#df-f06a2085-c781-4f2b-8eee-9d444b452647');\n",
              "          const dataTable =\n",
              "            await google.colab.kernel.invokeFunction('convertToInteractive',\n",
              "                                                     [key], {});\n",
              "          if (!dataTable) return;\n",
              "\n",
              "          const docLinkHtml = 'Like what you see? Visit the ' +\n",
              "            '<a target=\"_blank\" href=https://colab.research.google.com/notebooks/data_table.ipynb>data table notebook</a>'\n",
              "            + ' to learn more about interactive tables.';\n",
              "          element.innerHTML = '';\n",
              "          dataTable['output_type'] = 'display_data';\n",
              "          await google.colab.output.renderOutput(dataTable, element);\n",
              "          const docLink = document.createElement('div');\n",
              "          docLink.innerHTML = docLinkHtml;\n",
              "          element.appendChild(docLink);\n",
              "        }\n",
              "      </script>\n",
              "    </div>\n",
              "  </div>\n",
              "  "
            ]
          },
          "metadata": {},
          "execution_count": 4
        }
      ],
      "source": [
        "ponto = (3.5, 3.5)\n",
        "dataFrame = pd.read_csv('https://raw.githubusercontent.com/inf032/introducaoML/master/data/x1_x2.csv')\n",
        "dataFrame"
      ]
    },
    {
      "cell_type": "markdown",
      "id": "74ff00c4",
      "metadata": {
        "id": "74ff00c4"
      },
      "source": [
        "<h3>Representando os indivíduos graficamente</h3>"
      ]
    },
    {
      "cell_type": "code",
      "execution_count": 5,
      "id": "f683592d",
      "metadata": {
        "scrolled": false,
        "id": "f683592d",
        "outputId": "de1d621d-7804-4e5f-e673-7da18eef01f1",
        "colab": {
          "base_uri": "https://localhost:8080/",
          "height": 525
        }
      },
      "outputs": [
        {
          "output_type": "display_data",
          "data": {
            "text/plain": [
              "<Figure size 576x576 with 1 Axes>"
            ],
            "image/png": "[encoded data removed]"
          },
          "metadata": {
            "needs_background": "light"
          }
        }
      ],
      "source": [
        "f, ax = plt.subplots(figsize=(8, 8))\n",
        "ax.set_title('Scatterplot dos Indivíduos e seus atributos X1 e X2 (Tipos)', fontsize=22)\n",
        "\n",
        "sns.scatterplot(x='X1', y='X2', data=dataFrame, ax=ax, hue=dataFrame.TIPO, style=dataFrame.TIPO, \n",
        "                palette = \"BrBG\", s=60)\n",
        "ax.set_ylabel('X1', fontsize=16)\n",
        "ax.set_xlabel('X2', fontsize=16)\n",
        "\n",
        "ax.set_xlim(xmin=0, xmax=8)\n",
        "ax.set_ylim(ymin=0, ymax=8)\n",
        "\n",
        "plt.scatter(ponto[0], ponto[1], s=60)\n",
        "\n",
        "\n",
        "plt.show()"
      ]
    },
    {
      "cell_type": "markdown",
      "id": "f2e5c4b7",
      "metadata": {
        "id": "f2e5c4b7"
      },
      "source": [
        "<h3>Classificando o ponto com um classificador k-nearest neighbors (KNN)</h3>"
      ]
    },
    {
      "cell_type": "code",
      "execution_count": 6,
      "id": "77227297",
      "metadata": {
        "id": "77227297",
        "outputId": "a173e093-ae88-487b-d422-b3a15b7645ff",
        "colab": {
          "base_uri": "https://localhost:8080/"
        }
      },
      "outputs": [
        {
          "output_type": "stream",
          "name": "stdout",
          "text": [
            "Tipo do ponto: 1\n"
          ]
        }
      ],
      "source": [
        "from sklearn.neighbors import KNeighborsClassifier\n",
        "\n",
        "neighbours = 1\n",
        "\n",
        "knn = KNeighborsClassifier(n_neighbors=neighbours).fit(dataFrame[['X1', 'X2']], dataFrame.TIPO)\n",
        "pontoNovo = {'X1' : ponto[0],  'X2' :ponto[1]}\n",
        "dfPontoNovo = pd.DataFrame.from_dict(data = pontoNovo, orient='index').T\n",
        "tipo = knn.predict(dfPontoNovo)[0]\n",
        "print(f'Tipo do ponto: {tipo}')"
      ]
    },
    {
      "cell_type": "markdown",
      "id": "622c8d4e",
      "metadata": {
        "id": "622c8d4e"
      },
      "source": [
        "<h3>Variação do valor de N</h3>"
      ]
    },
    {
      "cell_type": "code",
      "execution_count": 9,
      "id": "b75829fd",
      "metadata": {
        "id": "b75829fd",
        "outputId": "8b979182-d3b3-450c-98fa-de68d6a4c6fd",
        "colab": {
          "base_uri": "https://localhost:8080/"
        }
      },
      "outputs": [
        {
          "output_type": "stream",
          "name": "stdout",
          "text": [
            "Tipo do ponto: 1 considerando 1 neighbors\n",
            "Tipo do ponto: 1 considerando 2 neighbors\n",
            "Tipo do ponto: 2 considerando 3 neighbors\n",
            "Tipo do ponto: 1 considerando 4 neighbors\n"
          ]
        }
      ],
      "source": [
        "for n in range(1, 5):\n",
        "  knn = KNeighborsClassifier(n_neighbors=n).fit(dataFrame[['X1', 'X2']], dataFrame.TIPO)\n",
        "  dfPontoNovo = pd.DataFrame.from_dict(data = pontoNovo, orient='index').T\n",
        "  tipo = knn.predict(dfPontoNovo)[0]\n",
        "  print(f'Tipo do ponto: {tipo} considerando {n} neighbors')\n"
      ]
    }
  ],
  "metadata": {
    "kernelspec": {
      "display_name": "Python 3 (ipykernel)",
      "language": "python",
      "name": "python3"
    },
    "language_info": {
      "codemirror_mode": {
        "name": "ipython",
        "version": 3
      },
      "file_extension": ".py",
      "mimetype": "text/x-python",
      "name": "python",
      "nbconvert_exporter": "python",
      "pygments_lexer": "ipython3",
      "version": "3.8.12"
    },
    "colab": {
      "name": "03.Classificacao-KNN.ipynb",
      "provenance": []
    }
  },
  "nbformat": 4,
  "nbformat_minor": 5
}