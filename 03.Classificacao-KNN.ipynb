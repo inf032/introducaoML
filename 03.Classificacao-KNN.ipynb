{
 "cells": [
  {
   "cell_type": "markdown",
   "id": "73d45a39",
   "metadata": {},
   "source": [
    "<h3> Importando as bibliotecas Pandas, Seaborn e SciKit Learn </h3>\n"
   ]
  },
  {
   "cell_type": "code",
   "execution_count": 1,
   "id": "5044637e",
   "metadata": {},
   "outputs": [],
   "source": [
    "import numpy as np\n",
    "import pandas as pd\n",
    "import matplotlib.pyplot as plt\n",
    "import seaborn as sns\n",
    "import warnings\n",
    "from sklearn.model_selection import train_test_split"
   ]
  },
  {
   "cell_type": "code",
   "execution_count": 2,
   "id": "17c05c24",
   "metadata": {},
   "outputs": [],
   "source": [
    "np.random.seed(42)\n",
    "warnings.filterwarnings(action='once')"
   ]
  },
  {
   "cell_type": "markdown",
   "id": "b3a95c1f",
   "metadata": {},
   "source": [
    "<h3>Lendo dados dos individuos (X1 e X2) e preparando o indivíduo (PONTO) a ser classificado</h3>"
   ]
  },
  {
   "cell_type": "code",
   "execution_count": 3,
   "id": "cadf2129",
   "metadata": {},
   "outputs": [
    {
     "data": {
      "text/html": [
       "<div>\n",
       "<style scoped>\n",
       "    .dataframe tbody tr th:only-of-type {\n",
       "        vertical-align: middle;\n",
       "    }\n",
       "\n",
       "    .dataframe tbody tr th {\n",
       "        vertical-align: top;\n",
       "    }\n",
       "\n",
       "    .dataframe thead th {\n",
       "        text-align: right;\n",
       "    }\n",
       "</style>\n",
       "<table border=\"1\" class=\"dataframe\">\n",
       "  <thead>\n",
       "    <tr style=\"text-align: right;\">\n",
       "      <th></th>\n",
       "      <th>X1</th>\n",
       "      <th>X2</th>\n",
       "      <th>TIPO</th>\n",
       "    </tr>\n",
       "  </thead>\n",
       "  <tbody>\n",
       "    <tr>\n",
       "      <th>0</th>\n",
       "      <td>5.0</td>\n",
       "      <td>1.0</td>\n",
       "      <td>1</td>\n",
       "    </tr>\n",
       "    <tr>\n",
       "      <th>1</th>\n",
       "      <td>3.0</td>\n",
       "      <td>2.0</td>\n",
       "      <td>1</td>\n",
       "    </tr>\n",
       "    <tr>\n",
       "      <th>2</th>\n",
       "      <td>5.5</td>\n",
       "      <td>2.5</td>\n",
       "      <td>1</td>\n",
       "    </tr>\n",
       "    <tr>\n",
       "      <th>3</th>\n",
       "      <td>4.0</td>\n",
       "      <td>3.0</td>\n",
       "      <td>1</td>\n",
       "    </tr>\n",
       "    <tr>\n",
       "      <th>4</th>\n",
       "      <td>6.0</td>\n",
       "      <td>3.5</td>\n",
       "      <td>1</td>\n",
       "    </tr>\n",
       "    <tr>\n",
       "      <th>5</th>\n",
       "      <td>2.5</td>\n",
       "      <td>4.0</td>\n",
       "      <td>2</td>\n",
       "    </tr>\n",
       "    <tr>\n",
       "      <th>6</th>\n",
       "      <td>3.0</td>\n",
       "      <td>4.5</td>\n",
       "      <td>2</td>\n",
       "    </tr>\n",
       "    <tr>\n",
       "      <th>7</th>\n",
       "      <td>2.0</td>\n",
       "      <td>6.0</td>\n",
       "      <td>2</td>\n",
       "    </tr>\n",
       "    <tr>\n",
       "      <th>8</th>\n",
       "      <td>2.0</td>\n",
       "      <td>7.0</td>\n",
       "      <td>2</td>\n",
       "    </tr>\n",
       "    <tr>\n",
       "      <th>9</th>\n",
       "      <td>3.0</td>\n",
       "      <td>7.0</td>\n",
       "      <td>2</td>\n",
       "    </tr>\n",
       "  </tbody>\n",
       "</table>\n",
       "</div>"
      ],
      "text/plain": [
       "    X1   X2  TIPO\n",
       "0  5.0  1.0     1\n",
       "1  3.0  2.0     1\n",
       "2  5.5  2.5     1\n",
       "3  4.0  3.0     1\n",
       "4  6.0  3.5     1\n",
       "5  2.5  4.0     2\n",
       "6  3.0  4.5     2\n",
       "7  2.0  6.0     2\n",
       "8  2.0  7.0     2\n",
       "9  3.0  7.0     2"
      ]
     },
     "execution_count": 3,
     "metadata": {},
     "output_type": "execute_result"
    }
   ],
   "source": [
    "ponto = (3.5, 3.5)\n",
    "dataFrame = pd.read_csv('data/x1_x2.csv')\n",
    "dataFrame"
   ]
  },
  {
   "cell_type": "markdown",
   "id": "74ff00c4",
   "metadata": {},
   "source": [
    "<h3>Representando os indivíduos graficamente</h3>"
   ]
  },
  {
   "cell_type": "code",
   "execution_count": 4,
   "id": "f683592d",
   "metadata": {
    "scrolled": false
   },
   "outputs": [
    {
     "data": {
      "image/png": "[encoded data removed]",
      "text/plain": [
       "<Figure size 576x576 with 1 Axes>"
      ]
     },
     "metadata": {
      "needs_background": "light"
     },
     "output_type": "display_data"
    }
   ],
   "source": [
    "f, ax = plt.subplots(figsize=(8, 8))\n",
    "ax.set_title('Scatterplot dos Indivíduos e seus atributos X1 e X2 (Tipos)', fontsize=22)\n",
    "\n",
    "sns.scatterplot(x='X1', y='X2', data=dataFrame, ax=ax, hue=dataFrame.TIPO, style=dataFrame.TIPO, \n",
    "                palette = \"BrBG\", s=60)\n",
    "ax.set_ylabel('X1', fontsize=16)\n",
    "ax.set_xlabel('X2', fontsize=16)\n",
    "\n",
    "ax.set_xlim(xmin=0, xmax=8)\n",
    "ax.set_ylim(ymin=0, ymax=8)\n",
    "\n",
    "plt.scatter(ponto[0], ponto[1], s=60)\n",
    "\n",
    "\n",
    "plt.show()"
   ]
  },
  {
   "cell_type": "markdown",
   "id": "f2e5c4b7",
   "metadata": {},
   "source": [
    "<h3>Classificando o ponto com um classificador k-nearest neighbors (KNN)</h3>"
   ]
  },
  {
   "cell_type": "code",
   "execution_count": 5,
   "id": "77227297",
   "metadata": {},
   "outputs": [
    {
     "name": "stdout",
     "output_type": "stream",
     "text": [
      "Tipo do ponto: 1\n"
     ]
    }
   ],
   "source": [
    "from sklearn.neighbors import KNeighborsClassifier\n",
    "\n",
    "neighbours = 1\n",
    "\n",
    "knn = KNeighborsClassifier(n_neighbors=neighbours).fit(dataFrame[['X1', 'X2']], dataFrame.TIPO)\n",
    "pontoNovo = {'X1' : ponto[0],  'X2' :ponto[1]}\n",
    "dfPontoNovo = pd.DataFrame.from_dict(data = pontoNovo, orient='index').T\n",
    "tipo = knn.predict(dfPontoNovo)[0]\n",
    "print(f'Tipo do ponto: {tipo}')"
   ]
  },
  {
   "cell_type": "markdown",
   "id": "622c8d4e",
   "metadata": {},
   "source": [
    "<h3>Inspeção e preparação da base</h3>"
   ]
  },
  {
   "cell_type": "code",
   "execution_count": 13,
   "id": "391d7fbe",
   "metadata": {},
   "outputs": [
    {
     "data": {
      "text/plain": [
       "Index(['ph', 'Hardness', 'Solids', 'Chloramines', 'Sulfate', 'Conductivity',\n",
       "       'Organic_carbon', 'Trihalomethanes', 'Turbidity', 'Potability'],\n",
       "      dtype='object')"
      ]
     },
     "execution_count": 13,
     "metadata": {},
     "output_type": "execute_result"
    }
   ],
   "source": [
    "\n"
   ]
  },
  {
   "cell_type": "code",
   "execution_count": null,
   "id": "b75829fd",
   "metadata": {},
   "outputs": [],
   "source": []
  }
 ],
 "metadata": {
  "kernelspec": {
   "display_name": "Python 3 (ipykernel)",
   "language": "python",
   "name": "python3"
  },
  "language_info": {
   "codemirror_mode": {
    "name": "ipython",
    "version": 3
   },
   "file_extension": ".py",
   "mimetype": "text/x-python",
   "name": "python",
   "nbconvert_exporter": "python",
   "pygments_lexer": "ipython3",
   "version": "3.8.12"
  }
 },
 "nbformat": 4,
 "nbformat_minor": 5
}
